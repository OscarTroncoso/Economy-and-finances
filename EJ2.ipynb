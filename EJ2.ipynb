{
 "cells": [
  {
   "cell_type": "code",
   "execution_count": 50,
   "metadata": {
    "vscode": {
     "languageId": "r"
    }
   },
   "outputs": [],
   "source": [
    "# Llamado de librerias\n",
    "import numpy as np\n",
    "import math as mt\n",
    "import os"
   ]
  },
  {
   "attachments": {},
   "cell_type": "markdown",
   "metadata": {},
   "source": [
    "## 1. Automatizar el proceso para determinar -decir sí o no- un número a es exactamente divisible por b."
   ]
  },
  {
   "cell_type": "code",
   "execution_count": 6,
   "metadata": {
    "vscode": {
     "languageId": "r"
    }
   },
   "outputs": [
    {
     "name": "stdout",
     "output_type": "stream",
     "text": [
      "7.0 no es perfectamente divisible entre 9.0.\n"
     ]
    }
   ],
   "source": [
    "Num = float(input('Digite el numeRadicandoor: '))\n",
    "Den = float(input('Digite el denominador: '))\n",
    "\n",
    "if ((Num % Den) == 0):\n",
    "    print('{} es perfectamente divisible entre {}.' .format(Num, Den))\n",
    "else: \n",
    "    print('{} no es perfectamente divisible entre {}.' .format(Num, Den))"
   ]
  },
  {
   "attachments": {},
   "cell_type": "markdown",
   "metadata": {},
   "source": [
    "## 2. Automatizar el proceso para decir –si o no- la mitad del cubo de un número dado n está comprendida dentro de un intervalo de límites a y b."
   ]
  },
  {
   "cell_type": "code",
   "execution_count": 15,
   "metadata": {
    "vscode": {
     "languageId": "r"
    }
   },
   "outputs": [
    {
     "name": "stdout",
     "output_type": "stream",
     "text": [
      "El número se encuentra dentro del intervalo.\n"
     ]
    }
   ],
   "source": [
    "Inferior = float(input('Digite el límite inferior del intervalo: '))\n",
    "Superior = float(input('Digite el límite superior del intervalo: '))\n",
    "Num = float(input('Digite el numero: '))\n",
    "\n",
    "if (((Num ** 3) / (2)) >= Inferior and ((Num ** 3) / (2)) <= Superior):\n",
    "    print('El número se encuentra dentro del intervalo.')\n",
    "else:\n",
    "    print('El número no se encuentra dentro del intervalo.')"
   ]
  },
  {
   "attachments": {},
   "cell_type": "markdown",
   "metadata": {},
   "source": [
    "## 3. Automatizar el proceso para una máquina Traganúmeros que pide un número y verifica que sea entero, si no lo es dice “Solo como enteros!!”, si lo es y es par dice “Me comí un número PAR”, si es impar dice “Me comí un número IMPAR”. Resolverlo con anidamiento."
   ]
  },
  {
   "cell_type": "code",
   "execution_count": 19,
   "metadata": {
    "vscode": {
     "languageId": "r"
    }
   },
   "outputs": [
    {
     "name": "stdout",
     "output_type": "stream",
     "text": [
      "Solo como enteros.\n"
     ]
    }
   ],
   "source": [
    "Num = float(input('Digite el numero: '))\n",
    "\n",
    "if(Num == int(Num)):\n",
    "    if(Num % 2 == 0):\n",
    "        print('Me comi un par.')\n",
    "    else:\n",
    "        print('Me comi un impar.')\n",
    "else:\n",
    "    print('Solo como enteros.')"
   ]
  },
  {
   "attachments": {},
   "cell_type": "markdown",
   "metadata": {},
   "source": [
    "## 4. Automatizar el proceso para determinar la raíz n de una cierta cantidad m. Considere todos los casos para n y m. Resolverlo con anidamiento."
   ]
  },
  {
   "cell_type": "code",
   "execution_count": 2,
   "metadata": {
    "vscode": {
     "languageId": "r"
    }
   },
   "outputs": [
    {
     "name": "stdout",
     "output_type": "stream",
     "text": [
      "La Raiz es 1.7320508075688772.\n"
     ]
    }
   ],
   "source": [
    "Indice = float(input('Digite el Indice: '))\n",
    "Radicando = float(input('Digite el Radicando: '))\n",
    "\n",
    "if (Indice == 0):\n",
    "    print('El Indice no puede ser 0.')\n",
    "\n",
    "Raiz = Radicando ** (1 / Indice)\n",
    "\n",
    "if (Indice < 0 and Radicando > 0):    \n",
    "    print('La Raiz es {}.' .format(Raiz))\n",
    "elif (Indice and Radicando > 0):\n",
    "    print('La Raiz es {}.' .format(Raiz))\n",
    "elif(Radicando == 0 and Indice != 0):\n",
    "    print('La Raiz es {}.' .format(Raiz))\n",
    "elif (Indice > 0 and Radicando < 0):\n",
    "    print('Raiz real = {} y Raiz imaginaria = {}' .format(round(Raiz.real, 4), round(Raiz.imag, 4)))\n",
    "elif (Indice and Radicando < 0):\n",
    "    print('Raiz Real = {} y Raiz imaginaria = {}' .format(round(Raiz.real, 4), round(Raiz.imag, 4)))\n"
   ]
  },
  {
   "attachments": {},
   "cell_type": "markdown",
   "metadata": {},
   "source": [
    "## 5. Automatizar el proceso para una máquina que toma tres números enteros diferentes, en cualquier orden y, halla y muestra el mayor de ellos. Resolverlo con anidamiento."
   ]
  },
  {
   "cell_type": "code",
   "execution_count": 59,
   "metadata": {
    "vscode": {
     "languageId": "r"
    }
   },
   "outputs": [
    {
     "name": "stdout",
     "output_type": "stream",
     "text": [
      "El número más grande es: 3\n"
     ]
    }
   ],
   "source": [
    "Numero1 = int(input('Digite el primer número: '))\n",
    "Numero2 = int(input('Digite el segundo número: '))\n",
    "Numero3 = int(input('Digite el tercer número: '))\n",
    "\n",
    "Azar = [Numero1, Numero2, Numero3]\n",
    "Azar.sort(reverse = True)\n",
    "\n",
    "print('El número más grande es: {}' .format(Azar[0]))"
   ]
  },
  {
   "attachments": {},
   "cell_type": "markdown",
   "metadata": {},
   "source": [
    "## 6. Automatizar el proceso para leer los valores de los ángulos a, b, c de un triángulo (Validar que sea triángulo) y clasificarlo en rectángulo, obtusángulo o acutángulo. Resolverlo con anidamiento."
   ]
  },
  {
   "cell_type": "code",
   "execution_count": 63,
   "metadata": {
    "vscode": {
     "languageId": "r"
    }
   },
   "outputs": [
    {
     "name": "stdout",
     "output_type": "stream",
     "text": [
      "Es un triángulo rectángulo.\n"
     ]
    }
   ],
   "source": [
    "Angulo1 = float(input('Digite el primer ángulo: '))\n",
    "Angulo2 = float(input('Digite el segundo ángulo: '))\n",
    "Angulo3 = float(input('Digite el tercer ángulo: '))\n",
    "\n",
    "if ((Angulo1 + Angulo2 + Angulo3) == 180):\n",
    "    if (Angulo1 or Angulo2 or Angulo3 == 90):\n",
    "        print('Es un triángulo rectángulo.')\n",
    "    elif(Angulo1 or Angulo2 or Angulo3 > 90):\n",
    "        print('Es un triángulo obtusángulo.')\n",
    "    elif(Angulo1 and Angulo2 and Angulo3 < 90):\n",
    "        print('Es un triángulo acutángulo.')\n",
    "else:\n",
    "    print('Error! No es un triangulo.')"
   ]
  },
  {
   "attachments": {},
   "cell_type": "markdown",
   "metadata": {},
   "source": [
    "## 7. Automatizar el proceso de lanzar un misil con una velocidad inicial Vo, formando un ángulo θo con la horizontal, colocando un blanco a una distancia d. Que determine si el misil dá o no en el blanco. Si no dá en el blanco decir a qué distancia del blanco cayó y si cayó atrás o adelante del blanco. Omitir los decimales en el cálculo del alcance máximo. Resolverlo con anidamiento."
   ]
  },
  {
   "cell_type": "code",
   "execution_count": 68,
   "metadata": {
    "vscode": {
     "languageId": "r"
    }
   },
   "outputs": [
    {
     "name": "stdout",
     "output_type": "stream",
     "text": [
      "No dió en el blanco, cayo adelante por 25.0  metros. Con una distancia de 37 metros y un angulo de 76.0 grados\n"
     ]
    }
   ],
   "source": [
    "Vo = float(input(\"Digite la velocidad inicial: \"))\n",
    "Angulo = float(input(\"Digite el angulo: \"))\n",
    "d = float(input(\"Digite la distancia del tiro al blanco: \"))\n",
    "\n",
    "Angulo1 = mt.sin(mt.radians(Angulo*2))\n",
    "Velocidad = Vo * Vo\n",
    "G = 9.81\n",
    "X = mt.floor((Velocidad/G)*Angulo1)\n",
    "Dif = X - d\n",
    "if(X == d):\n",
    "    print(\"Dió en el blanco\")\n",
    "elif(X > d):\n",
    "    print(\"No dió en el blanco, cayo adelante por {}  metros. Con una distancia de {} metros y un angulo de {} grados\" .format(Dif,X,Angulo))\n",
    "elif(X < d):\n",
    "    print(\"No dió en el blanco, cayo atrás por {} metros. Con una distancia de {} metros y un angulo de {} grados \" .format(-Dif,X, Angulo))\n",
    "\n"
   ]
  },
  {
   "attachments": {},
   "cell_type": "markdown",
   "metadata": {},
   "source": [
    "## 8. Automatizar el proceso para decir que tipo de recta es: Creciente, decreciente, vertical u horizontal de acuerdo con el cálculo de la pendiente. Para esto, el usuario debe ingresar dos puntos, cada uno con coordenadas (x, y). Resolverlo con anidamiento."
   ]
  },
  {
   "cell_type": "code",
   "execution_count": 47,
   "metadata": {
    "vscode": {
     "languageId": "r"
    }
   },
   "outputs": [
    {
     "name": "stdout",
     "output_type": "stream",
     "text": [
      "La pendiente es 1.0 por lo tanto la recta es creciente.\n"
     ]
    }
   ],
   "source": [
    "X1 = float(input(\"Digite la coordenada X1 : \"))\n",
    "Y1 = float(input(\"Digite la coordenada Y1: \"))\n",
    "X2 = float(input(\"Digite la coordenada X2 : \"))\n",
    "Y2 = float(input(\"Digite la coordenada Y2: \"))\n",
    "\n",
    "# Cálculos y salidas\n",
    "\n",
    "if((X2 - X1) == 0):\n",
    "    print(\"La pendiente es indeterminada por lo tanto la recta es vertical.\")\n",
    "else:\n",
    "    m = (Y2-Y1)/(X2-X1) \n",
    "    if(m == 0):\n",
    "        print(\"La pendiente es {} por lo tanto la recta es horizontal.\".format(m))\n",
    "    elif(m < 0):\n",
    "        print(\"La pendiente es {} por lo tanto la recta es decreciente.\".format(m))\n",
    "    elif(m > 0):\n",
    "        print(\"La pendiente es {} por lo tanto la recta es creciente.\".format(m))\n",
    "       "
   ]
  },
  {
   "attachments": {},
   "cell_type": "markdown",
   "metadata": {},
   "source": [
    "## 9.Automatizar el proceso para calcular las raíces de una ecuación cuadrática de la forma ax2 + bx +c = 0 el usuario digita los coeficientes a, b, c. No olvide considerar todas las posibilidades. Resolverlo con anidamiento."
   ]
  },
  {
   "cell_type": "code",
   "execution_count": 28,
   "metadata": {
    "vscode": {
     "languageId": "r"
    }
   },
   "outputs": [
    {
     "name": "stdout",
     "output_type": "stream",
     "text": [
      "X1 =-1507.5 + 2378.0914090925944 i + X2 = -1507.5 - 2378.0914090925944i\n"
     ]
    }
   ],
   "source": [
    "a = float(input('Digite el coeficiente a: '))\n",
    "b = float(input('Digite el coeficiente b: '))\n",
    "c = float(input('Digite el coeficiente c: '))\n",
    "if (a != 0):\n",
    "    d = (b ** 2) -4 * a * c\n",
    "    if (d > 0):\n",
    "      X1 = float((-b + mt.sqrt(d))/2 * a)\n",
    "      X2 = float((-b - mt.sqrt(d))/2 * a) \n",
    "      print(\"X1 = {} X2 = {}\".format(X1 , X2))      \n",
    "    else:\n",
    "        if(d==0):\n",
    "            X1 = -b/ 2 * a\n",
    "            print(\"X1 = {}\".format(X1))\n",
    "        else:\n",
    "            d = -d;\n",
    "            pr = -b/2 * a;\n",
    "            pi = float(mt.sqrt(d)/2 * a);\n",
    "            print(\"X1 ={} + {} i + X2 = {} - {}i\".format(pr,pi, pr, pi))\n",
    "else:\n",
    "     X1 = -c / b\n",
    "     print(\"X1= {}\".format(X1))\n",
    "\n"
   ]
  },
  {
   "cell_type": "code",
   "execution_count": null,
   "metadata": {
    "vscode": {
     "languageId": "r"
    }
   },
   "outputs": [],
   "source": []
  }
 ],
 "metadata": {
  "kernelspec": {
   "display_name": "R",
   "language": "R",
   "name": "ir"
  },
  "language_info": {
   "codemirror_mode": {
    "name": "ipython",
    "version": 3
   },
   "file_extension": ".py",
   "mimetype": "text/x-python",
   "name": "R",
   "nbconvert_exporter": "python",
   "pygments_lexer": "ipythoNumero3",
   "version": "3.8.8"
  },
  "orig_nbformat": 4,
  "vscode": {
   "interpreter": {
    "hash": "b9119c6ad29103b25df296fc855d795ea61c2d34258047d980b5afdebed6f36c"
   }
  }
 },
 "nbformat": 4,
 "nbformat_minor": 2
}
