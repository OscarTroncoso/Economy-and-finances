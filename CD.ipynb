{
 "cells": [
  {
   "cell_type": "code",
   "execution_count": 25,
   "metadata": {
    "vscode": {
     "languageId": "r"
    }
   },
   "outputs": [],
   "source": [
    "# Llamado de librerias\n",
    "library(dplyr)\n",
    "library(ggplot2)\n",
    "library(lmtest)\n",
    "library(gtools)\n",
    "library(shiny)"
   ]
  },
  {
   "cell_type": "code",
   "execution_count": 33,
   "metadata": {
    "vscode": {
     "languageId": "r"
    }
   },
   "outputs": [
    {
     "data": {
      "text/html": [
       "<table class=\"dataframe\">\n",
       "<caption>A data.frame: 6 × 120</caption>\n",
       "<thead>\n",
       "\t<tr><th></th><th scope=col>rate</th><th scope=col>aguazul</th><th scope=col>apartado</th><th scope=col>arauca</th><th scope=col>armenia</th><th scope=col>barbosa</th><th scope=col>barrancabermeja</th><th scope=col>barranquilla</th><th scope=col>bello</th><th scope=col>BogotáDC</th><th scope=col>⋯</th><th scope=col>circulante_predio1</th><th scope=col>circulante_predio2</th><th scope=col>circulante_predio3</th><th scope=col>circulante_predio4</th><th scope=col>circulante_predio5</th><th scope=col>ano_contr1</th><th scope=col>ano_contr2</th><th scope=col>ano_contr3</th><th scope=col>ano_contr4</th><th scope=col>ano_contr5</th></tr>\n",
       "\t<tr><th></th><th scope=col>&lt;dbl&gt;</th><th scope=col>&lt;int&gt;</th><th scope=col>&lt;int&gt;</th><th scope=col>&lt;int&gt;</th><th scope=col>&lt;int&gt;</th><th scope=col>&lt;int&gt;</th><th scope=col>&lt;int&gt;</th><th scope=col>&lt;int&gt;</th><th scope=col>&lt;int&gt;</th><th scope=col>&lt;int&gt;</th><th scope=col>⋯</th><th scope=col>&lt;int&gt;</th><th scope=col>&lt;int&gt;</th><th scope=col>&lt;int&gt;</th><th scope=col>&lt;int&gt;</th><th scope=col>&lt;int&gt;</th><th scope=col>&lt;int&gt;</th><th scope=col>&lt;int&gt;</th><th scope=col>&lt;int&gt;</th><th scope=col>&lt;int&gt;</th><th scope=col>&lt;int&gt;</th></tr>\n",
       "</thead>\n",
       "<tbody>\n",
       "\t<tr><th scope=row>1</th><td>6.97</td><td>1</td><td>0</td><td>0</td><td>0</td><td>0</td><td>0</td><td>0</td><td>0</td><td>0</td><td>⋯</td><td>0</td><td>0</td><td>1</td><td>0</td><td>0</td><td>0</td><td>0</td><td>0</td><td>0</td><td>1</td></tr>\n",
       "\t<tr><th scope=row>2</th><td>6.26</td><td>1</td><td>0</td><td>0</td><td>0</td><td>0</td><td>0</td><td>0</td><td>0</td><td>0</td><td>⋯</td><td>0</td><td>0</td><td>1</td><td>0</td><td>0</td><td>0</td><td>1</td><td>0</td><td>0</td><td>0</td></tr>\n",
       "\t<tr><th scope=row>3</th><td>6.91</td><td>0</td><td>1</td><td>0</td><td>0</td><td>0</td><td>0</td><td>0</td><td>0</td><td>0</td><td>⋯</td><td>0</td><td>0</td><td>1</td><td>0</td><td>0</td><td>0</td><td>0</td><td>0</td><td>1</td><td>0</td></tr>\n",
       "\t<tr><th scope=row>4</th><td>6.95</td><td>0</td><td>1</td><td>0</td><td>0</td><td>0</td><td>0</td><td>0</td><td>0</td><td>0</td><td>⋯</td><td>0</td><td>0</td><td>0</td><td>1</td><td>0</td><td>0</td><td>0</td><td>0</td><td>0</td><td>1</td></tr>\n",
       "\t<tr><th scope=row>5</th><td>6.69</td><td>0</td><td>0</td><td>1</td><td>0</td><td>0</td><td>0</td><td>0</td><td>0</td><td>0</td><td>⋯</td><td>1</td><td>0</td><td>0</td><td>0</td><td>0</td><td>0</td><td>0</td><td>0</td><td>0</td><td>1</td></tr>\n",
       "\t<tr><th scope=row>6</th><td>6.42</td><td>0</td><td>0</td><td>0</td><td>1</td><td>0</td><td>0</td><td>0</td><td>0</td><td>0</td><td>⋯</td><td>1</td><td>0</td><td>0</td><td>0</td><td>0</td><td>0</td><td>0</td><td>0</td><td>0</td><td>1</td></tr>\n",
       "</tbody>\n",
       "</table>\n"
      ],
      "text/latex": [
       "A data.frame: 6 × 120\n",
       "\\begin{tabular}{r|lllllllllllllllllllll}\n",
       "  & rate & aguazul & apartado & arauca & armenia & barbosa & barrancabermeja & barranquilla & bello & BogotáDC & ⋯ & circulante\\_predio1 & circulante\\_predio2 & circulante\\_predio3 & circulante\\_predio4 & circulante\\_predio5 & ano\\_contr1 & ano\\_contr2 & ano\\_contr3 & ano\\_contr4 & ano\\_contr5\\\\\n",
       "  & <dbl> & <int> & <int> & <int> & <int> & <int> & <int> & <int> & <int> & <int> & ⋯ & <int> & <int> & <int> & <int> & <int> & <int> & <int> & <int> & <int> & <int>\\\\\n",
       "\\hline\n",
       "\t1 & 6.97 & 1 & 0 & 0 & 0 & 0 & 0 & 0 & 0 & 0 & ⋯ & 0 & 0 & 1 & 0 & 0 & 0 & 0 & 0 & 0 & 1\\\\\n",
       "\t2 & 6.26 & 1 & 0 & 0 & 0 & 0 & 0 & 0 & 0 & 0 & ⋯ & 0 & 0 & 1 & 0 & 0 & 0 & 1 & 0 & 0 & 0\\\\\n",
       "\t3 & 6.91 & 0 & 1 & 0 & 0 & 0 & 0 & 0 & 0 & 0 & ⋯ & 0 & 0 & 1 & 0 & 0 & 0 & 0 & 0 & 1 & 0\\\\\n",
       "\t4 & 6.95 & 0 & 1 & 0 & 0 & 0 & 0 & 0 & 0 & 0 & ⋯ & 0 & 0 & 0 & 1 & 0 & 0 & 0 & 0 & 0 & 1\\\\\n",
       "\t5 & 6.69 & 0 & 0 & 1 & 0 & 0 & 0 & 0 & 0 & 0 & ⋯ & 1 & 0 & 0 & 0 & 0 & 0 & 0 & 0 & 0 & 1\\\\\n",
       "\t6 & 6.42 & 0 & 0 & 0 & 1 & 0 & 0 & 0 & 0 & 0 & ⋯ & 1 & 0 & 0 & 0 & 0 & 0 & 0 & 0 & 0 & 1\\\\\n",
       "\\end{tabular}\n"
      ],
      "text/markdown": [
       "\n",
       "A data.frame: 6 × 120\n",
       "\n",
       "| <!--/--> | rate &lt;dbl&gt; | aguazul &lt;int&gt; | apartado &lt;int&gt; | arauca &lt;int&gt; | armenia &lt;int&gt; | barbosa &lt;int&gt; | barrancabermeja &lt;int&gt; | barranquilla &lt;int&gt; | bello &lt;int&gt; | BogotáDC &lt;int&gt; | ⋯ ⋯ | circulante_predio1 &lt;int&gt; | circulante_predio2 &lt;int&gt; | circulante_predio3 &lt;int&gt; | circulante_predio4 &lt;int&gt; | circulante_predio5 &lt;int&gt; | ano_contr1 &lt;int&gt; | ano_contr2 &lt;int&gt; | ano_contr3 &lt;int&gt; | ano_contr4 &lt;int&gt; | ano_contr5 &lt;int&gt; |\n",
       "|---|---|---|---|---|---|---|---|---|---|---|---|---|---|---|---|---|---|---|---|---|---|\n",
       "| 1 | 6.97 | 1 | 0 | 0 | 0 | 0 | 0 | 0 | 0 | 0 | ⋯ | 0 | 0 | 1 | 0 | 0 | 0 | 0 | 0 | 0 | 1 |\n",
       "| 2 | 6.26 | 1 | 0 | 0 | 0 | 0 | 0 | 0 | 0 | 0 | ⋯ | 0 | 0 | 1 | 0 | 0 | 0 | 1 | 0 | 0 | 0 |\n",
       "| 3 | 6.91 | 0 | 1 | 0 | 0 | 0 | 0 | 0 | 0 | 0 | ⋯ | 0 | 0 | 1 | 0 | 0 | 0 | 0 | 0 | 1 | 0 |\n",
       "| 4 | 6.95 | 0 | 1 | 0 | 0 | 0 | 0 | 0 | 0 | 0 | ⋯ | 0 | 0 | 0 | 1 | 0 | 0 | 0 | 0 | 0 | 1 |\n",
       "| 5 | 6.69 | 0 | 0 | 1 | 0 | 0 | 0 | 0 | 0 | 0 | ⋯ | 1 | 0 | 0 | 0 | 0 | 0 | 0 | 0 | 0 | 1 |\n",
       "| 6 | 6.42 | 0 | 0 | 0 | 1 | 0 | 0 | 0 | 0 | 0 | ⋯ | 1 | 0 | 0 | 0 | 0 | 0 | 0 | 0 | 0 | 1 |\n",
       "\n"
      ],
      "text/plain": [
       "  rate aguazul apartado arauca armenia barbosa barrancabermeja barranquilla\n",
       "1 6.97 1       0        0      0       0       0               0           \n",
       "2 6.26 1       0        0      0       0       0               0           \n",
       "3 6.91 0       1        0      0       0       0               0           \n",
       "4 6.95 0       1        0      0       0       0               0           \n",
       "5 6.69 0       0        1      0       0       0               0           \n",
       "6 6.42 0       0        0      1       0       0               0           \n",
       "  bello BogotáDC ⋯ circulante_predio1 circulante_predio2 circulante_predio3\n",
       "1 0     0        ⋯ 0                  0                  1                 \n",
       "2 0     0        ⋯ 0                  0                  1                 \n",
       "3 0     0        ⋯ 0                  0                  1                 \n",
       "4 0     0        ⋯ 0                  0                  0                 \n",
       "5 0     0        ⋯ 1                  0                  0                 \n",
       "6 0     0        ⋯ 1                  0                  0                 \n",
       "  circulante_predio4 circulante_predio5 ano_contr1 ano_contr2 ano_contr3\n",
       "1 0                  0                  0          0          0         \n",
       "2 0                  0                  0          1          0         \n",
       "3 0                  0                  0          0          0         \n",
       "4 1                  0                  0          0          0         \n",
       "5 0                  0                  0          0          0         \n",
       "6 0                  0                  0          0          0         \n",
       "  ano_contr4 ano_contr5\n",
       "1 0          1         \n",
       "2 0          0         \n",
       "3 1          0         \n",
       "4 0          1         \n",
       "5 0          1         \n",
       "6 0          1         "
      ]
     },
     "metadata": {},
     "output_type": "display_data"
    },
    {
     "data": {
      "text/html": [
       "<style>\n",
       ".list-inline {list-style: none; margin:0; padding: 0}\n",
       ".list-inline>li {display: inline-block}\n",
       ".list-inline>li:not(:last-child)::after {content: \"\\00b7\"; padding: 0 .5ex}\n",
       "</style>\n",
       "<ol class=list-inline><li>475</li><li>120</li></ol>\n"
      ],
      "text/latex": [
       "\\begin{enumerate*}\n",
       "\\item 475\n",
       "\\item 120\n",
       "\\end{enumerate*}\n"
      ],
      "text/markdown": [
       "1. 475\n",
       "2. 120\n",
       "\n",
       "\n"
      ],
      "text/plain": [
       "[1] 475 120"
      ]
     },
     "metadata": {},
     "output_type": "display_data"
    }
   ],
   "source": [
    "# Importando archivo .csv\n",
    "File = read.csv(file = ('../Finales/CD.csv'), skip = 0, header = TRUE)\n",
    "head(File)\n",
    "dim(File)"
   ]
  },
  {
   "cell_type": "code",
   "execution_count": 36,
   "metadata": {
    "vscode": {
     "languageId": "r"
    }
   },
   "outputs": [
    {
     "data": {
      "text/plain": [
       "\n",
       "Call:\n",
       "lm(formula = rate ~ . + 0, data = File)\n",
       "\n",
       "Residuals:\n",
       "    Min      1Q  Median      3Q     Max \n",
       "-0.8443 -0.1522  0.0000  0.1611  0.9456 \n",
       "\n",
       "Coefficients: (16 not defined because of singularities)\n",
       "                    Estimate Std. Error t value Pr(>|t|)    \n",
       "aguazul             5.166514   0.656390   7.871 3.90e-14 ***\n",
       "apartado            5.123524   0.610459   8.393 1.01e-15 ***\n",
       "arauca              4.757073   0.668323   7.118 5.71e-12 ***\n",
       "armenia             4.691949   0.607465   7.724 1.06e-13 ***\n",
       "barbosa             4.608325   0.610290   7.551 3.39e-13 ***\n",
       "barrancabermeja     4.604431   0.622014   7.402 9.05e-13 ***\n",
       "barranquilla        5.109473   0.601423   8.496 4.83e-16 ***\n",
       "bello               4.927331   0.625045   7.883 3.59e-14 ***\n",
       "BogotáDC            4.943299   0.598539   8.259 2.62e-15 ***\n",
       "bucaramanga         4.723468   0.602533   7.839 4.85e-14 ***\n",
       "buenaventura        5.301378   0.598640   8.856  < 2e-16 ***\n",
       "buga                4.916515   0.616231   7.978 1.87e-14 ***\n",
       "caldas              5.227901   0.662871   7.887 3.51e-14 ***\n",
       "cali                4.980301   0.593218   8.395 9.93e-16 ***\n",
       "cartagena           4.976792   0.605669   8.217 3.52e-15 ***\n",
       "cartago             4.552125   0.628252   7.246 2.51e-12 ***\n",
       "cota                4.894544   0.653763   7.487 5.19e-13 ***\n",
       "Cúcuta              4.901662   0.607380   8.070 9.86e-15 ***\n",
       "dosquebradas        4.759915   0.611269   7.787 6.93e-14 ***\n",
       "envigado            4.846396   0.657876   7.367 1.14e-12 ***\n",
       "espinal             5.065761   0.605578   8.365 1.23e-15 ***\n",
       "funza               4.813376   0.604557   7.962 2.09e-14 ***\n",
       "giron               5.025896   0.612228   8.209 3.72e-15 ***\n",
       "granada             5.076825   0.623345   8.144 5.87e-15 ***\n",
       "Ibagué              4.506538   0.622539   7.239 2.62e-12 ***\n",
       "ipiales             5.184693   0.618157   8.387 1.05e-15 ***\n",
       "Itagüí              4.618042   0.598016   7.722 1.07e-13 ***\n",
       "laestrella          4.845587   0.617901   7.842 4.76e-14 ***\n",
       "madrid              4.825706   0.620165   7.781 7.20e-14 ***\n",
       "manizales           4.784776   0.604005   7.922 2.76e-14 ***\n",
       "Medellín            4.748258   0.600533   7.907 3.06e-14 ***\n",
       "Montelíbano         4.588239   0.676830   6.779 4.78e-11 ***\n",
       "Montería            5.198027   0.616819   8.427 7.91e-16 ***\n",
       "mosquera            4.863952   0.625032   7.782 7.17e-14 ***\n",
       "neiva               4.643783   0.613795   7.566 3.07e-13 ***\n",
       "Ocaña               4.813160   0.675678   7.123 5.51e-12 ***\n",
       "palmira             5.299420   0.600045   8.832  < 2e-16 ***\n",
       "pasto               5.021928   0.618873   8.115 7.23e-15 ***\n",
       "pereira             4.511963   0.610395   7.392 9.70e-13 ***\n",
       "Popayán             5.308207   0.662344   8.014 1.45e-14 ***\n",
       "riohacha            4.957844   0.664173   7.465 6.01e-13 ***\n",
       "rionegro            5.036161   0.604356   8.333 1.55e-15 ***\n",
       "sabaneta            4.857419   0.613694   7.915 2.89e-14 ***\n",
       "santamarta          5.051210   0.605483   8.342 1.45e-15 ***\n",
       "sincelejo           4.851839   0.609058   7.966 2.03e-14 ***\n",
       "tauramena           5.393477   0.617128   8.740  < 2e-16 ***\n",
       "tenjo               4.468121   0.655375   6.818 3.76e-11 ***\n",
       "tocancipa           4.725130   0.592523   7.975 1.91e-14 ***\n",
       "Tuluá               5.083910   0.662879   7.669 1.53e-13 ***\n",
       "tumaco              5.113462   0.661562   7.729 1.02e-13 ***\n",
       "turbo               5.396021   0.625237   8.630  < 2e-16 ***\n",
       "valledupar          4.822136   0.610226   7.902 3.15e-14 ***\n",
       "villavicencio       4.933513   0.608166   8.112 7.36e-15 ***\n",
       "yopal               5.066733   0.606522   8.354 1.34e-15 ***\n",
       "yumbo               5.126401   0.596937   8.588 2.48e-16 ***\n",
       "activa              0.006785   0.035069   0.193 0.846688    \n",
       "tipo_propiedad     -0.043374   0.037794  -1.148 0.251850    \n",
       "tipo_zona           0.033077   0.091699   0.361 0.718520    \n",
       "Año_construccion    0.069359   0.054720   1.268 0.205765    \n",
       "ref_est            -0.002612   0.056171  -0.046 0.962937    \n",
       "mat_sop             0.164259   0.070204   2.340 0.019826 *  \n",
       "alm_pat            -0.036552   0.068521  -0.533 0.594047    \n",
       "prd_cer             0.001597   0.106240   0.015 0.988014    \n",
       "mat_cer             0.011026   0.091000   0.121 0.903626    \n",
       "rev_per             0.040220   0.061090   0.658 0.510706    \n",
       "ver_id              0.093807   0.055770   1.682 0.093405 .  \n",
       "cctv                0.063956   0.039889   1.603 0.109706    \n",
       "imp_vhc             0.036208   0.036859   0.982 0.326579    \n",
       "out                 0.129691   0.103371   1.255 0.210406    \n",
       "sup_out             0.130437   0.050124   2.602 0.009631 ** \n",
       "bomb                0.075358   0.057903   1.301 0.193917    \n",
       "bomb_pro            0.034457   0.036941   0.933 0.351551    \n",
       "carga               0.170966   0.042275   4.044 6.39e-05 ***\n",
       "imdg               -0.047713   0.041558  -1.148 0.251669    \n",
       "alm                 0.047934   0.053980   0.888 0.375118    \n",
       "inv                -0.014095   0.053928  -0.261 0.793954    \n",
       "circ_pre            0.202885   0.063281   3.206 0.001462 ** \n",
       "admin              -0.044858   0.048446  -0.926 0.355079    \n",
       "ind                 0.005869   0.053635   0.109 0.912918    \n",
       "temp               -0.009607   0.049180  -0.195 0.845235    \n",
       "so_pre              0.103113   0.038696   2.665 0.008043 ** \n",
       "rem_pre            -0.016812   0.034682  -0.485 0.628135    \n",
       "tipo_pro1                 NA         NA      NA       NA    \n",
       "tipo_pro2                 NA         NA      NA       NA    \n",
       "zona1               0.085347   0.346440   0.246 0.805545    \n",
       "zona2              -0.062361   0.258171  -0.242 0.809262    \n",
       "zona3              -0.109153   0.172377  -0.633 0.526978    \n",
       "zona4                     NA         NA      NA       NA    \n",
       "zona5                     NA         NA      NA       NA    \n",
       "materia_soporte1    0.858565   0.300717   2.855 0.004545 ** \n",
       "materia_soporte2    0.204963   0.181121   1.132 0.258518    \n",
       "materia_soporte3    0.015896   0.099384   0.160 0.873014    \n",
       "materia_soporte4          NA         NA      NA       NA    \n",
       "materia_soporte5          NA         NA      NA       NA    \n",
       "almacenpatio1       0.118129   0.267533   0.442 0.659071    \n",
       "almacenpatio2      -0.274919   0.173975  -1.580 0.114910    \n",
       "almacenpatio3      -0.098648   0.088484  -1.115 0.265629    \n",
       "almacenpatio4             NA         NA      NA       NA    \n",
       "almacenpatio5             NA         NA      NA       NA    \n",
       "material_cerca1    -0.005716   0.330032  -0.017 0.986192    \n",
       "material_cerca2     0.075408   0.231937   0.325 0.745272    \n",
       "material_cerca3    -0.105880   0.105514  -1.003 0.316289    \n",
       "material_cerca4           NA         NA      NA       NA    \n",
       "material_cerca5           NA         NA      NA       NA    \n",
       "outso1              0.513415   0.330127   1.555 0.120750    \n",
       "outso2              0.104156   0.226687   0.459 0.646167    \n",
       "outso3              0.049878   0.115785   0.431 0.666879    \n",
       "outso4                    NA         NA      NA       NA    \n",
       "outso5                    NA         NA      NA       NA    \n",
       "circulante_predio1  0.711868   0.212301   3.353 0.000881 ***\n",
       "circulante_predio2 -0.157895   0.186879  -0.845 0.398708    \n",
       "circulante_predio3 -0.022776   0.080992  -0.281 0.778703    \n",
       "circulante_predio4        NA         NA      NA       NA    \n",
       "circulante_predio5        NA         NA      NA       NA    \n",
       "ano_contr1          0.094293   0.204443   0.461 0.644913    \n",
       "ano_contr2          0.067236   0.150966   0.445 0.656309    \n",
       "ano_contr3          0.032530   0.101102   0.322 0.747821    \n",
       "ano_contr4                NA         NA      NA       NA    \n",
       "ano_contr5                NA         NA      NA       NA    \n",
       "---\n",
       "Signif. codes:  0 '***' 0.001 '**' 0.01 '*' 0.05 '.' 0.1 ' ' 1\n",
       "\n",
       "Residual standard error: 0.2815 on 371 degrees of freedom\n",
       "  (1 observation deleted due to missingness)\n",
       "Multiple R-squared:  0.9985,\tAdjusted R-squared:  0.9981 \n",
       "F-statistic:  2410 on 103 and 371 DF,  p-value: < 2.2e-16\n"
      ]
     },
     "metadata": {},
     "output_type": "display_data"
    }
   ],
   "source": [
    "# Modelo Lineal\n",
    "Probit = lm(rate ~. + 0 , data = File)\n",
    "summary(Probit)\n",
    "\n"
   ]
  }
 ],
 "metadata": {
  "kernelspec": {
   "display_name": "R",
   "language": "R",
   "name": "ir"
  },
  "language_info": {
   "codemirror_mode": "r",
   "file_extension": ".r",
   "mimetype": "text/x-r-source",
   "name": "R",
   "pygments_lexer": "r",
   "version": "4.2.1"
  },
  "orig_nbformat": 4
 },
 "nbformat": 4,
 "nbformat_minor": 2
}
