{
 "cells": [
  {
   "cell_type": "code",
   "execution_count": 34,
   "metadata": {
    "vscode": {
     "languageId": "r"
    }
   },
   "outputs": [],
   "source": [
    "# Llamado de librerias\n",
    "library(dplyr)\n",
    "library(ggplot2)\n",
    "library(patchwork)"
   ]
  },
  {
   "cell_type": "code",
   "execution_count": 98,
   "metadata": {
    "vscode": {
     "languageId": "r"
    }
   },
   "outputs": [],
   "source": [
    "# Semilla de datos\n",
    "set.seed(1234)"
   ]
  },
  {
   "cell_type": "markdown",
   "metadata": {},
   "source": [
    "# ARMA[2, 2]"
   ]
  },
  {
   "cell_type": "code",
   "execution_count": 99,
   "metadata": {
    "vscode": {
     "languageId": "r"
    }
   },
   "outputs": [],
   "source": [
    "# Parámetros\n",
    "sigma_a = 1\n",
    "Phi = c(-0.09, 0.1312)\n",
    "Theta = c(0.03, -0.258)\n",
    "A = c(0.6706322, 0.3293678)\n",
    "K = 120                                         # Observaciones"
   ]
  },
  {
   "cell_type": "code",
   "execution_count": 100,
   "metadata": {
    "vscode": {
     "languageId": "r"
    }
   },
   "outputs": [
    {
     "data": {
      "text/html": [
       "<table class=\"dataframe\">\n",
       "<caption>A matrix: 6 × 2 of type dbl</caption>\n",
       "<tbody>\n",
       "\t<tr><td> 0.6706322</td><td>0.6706322</td></tr>\n",
       "\t<tr><td> 0.3293678</td><td>0.3293678</td></tr>\n",
       "\t<tr><td> 0.8230392</td><td>0.6706322</td></tr>\n",
       "\t<tr><td>-2.3375147</td><td>0.3293678</td></tr>\n",
       "\t<tr><td> 1.0976405</td><td>0.6706322</td></tr>\n",
       "\t<tr><td>-0.5174774</td><td>0.3293678</td></tr>\n",
       "</tbody>\n",
       "</table>\n"
      ],
      "text/latex": [
       "A matrix: 6 × 2 of type dbl\n",
       "\\begin{tabular}{ll}\n",
       "\t  0.6706322 & 0.6706322\\\\\n",
       "\t  0.3293678 & 0.3293678\\\\\n",
       "\t  0.8230392 & 0.6706322\\\\\n",
       "\t -2.3375147 & 0.3293678\\\\\n",
       "\t  1.0976405 & 0.6706322\\\\\n",
       "\t -0.5174774 & 0.3293678\\\\\n",
       "\\end{tabular}\n"
      ],
      "text/markdown": [
       "\n",
       "A matrix: 6 × 2 of type dbl\n",
       "\n",
       "|  0.6706322 | 0.6706322 |\n",
       "|  0.3293678 | 0.3293678 |\n",
       "|  0.8230392 | 0.6706322 |\n",
       "| -2.3375147 | 0.3293678 |\n",
       "|  1.0976405 | 0.6706322 |\n",
       "| -0.5174774 | 0.3293678 |\n",
       "\n"
      ],
      "text/plain": [
       "     [,1]       [,2]     \n",
       "[1,]  0.6706322 0.6706322\n",
       "[2,]  0.3293678 0.3293678\n",
       "[3,]  0.8230392 0.6706322\n",
       "[4,] -2.3375147 0.3293678\n",
       "[5,]  1.0976405 0.6706322\n",
       "[6,] -0.5174774 0.3293678"
      ]
     },
     "metadata": {},
     "output_type": "display_data"
    }
   ],
   "source": [
    "Zt = matrix(data = c(A), nrow = K, ncol = (sigma_a + 1))\n",
    "a = rnorm(N, mean = 0, sd = j)\n",
    "for (j in 0 : sigma_a){\n",
    "    \n",
    "    for (i in (length(A) + 1) : K){\n",
    "        Zt[i, j] = Phi[1] * Zt[(i - 1)] + Phi[2] * Zt[(i - 2)] + a[i] - Theta[1] * a[(i - 1)] - Theta[2] * a[(i - 2)]\n",
    "    }\n",
    "}\n",
    "\n",
    "\n",
    "head(Zt)"
   ]
  },
  {
   "cell_type": "code",
   "execution_count": 101,
   "metadata": {
    "vscode": {
     "languageId": "r"
    }
   },
   "outputs": [
    {
     "data": {
      "image/png": "[encoded data removed]",
      "text/plain": [
       "Plot with title \"Series  Zt[, i]\""
      ]
     },
     "metadata": {
      "image/png": {
       "height": 420,
       "width": 420
      }
     },
     "output_type": "display_data"
    }
   ],
   "source": [
    "par (mfrow = c((sigma_a + 1), 2))\n",
    "for (i in 1 : (sigma_a + 1)){\n",
    "    acf(Zt[, i])\n",
    "    pacf(Zt[, i])\n",
    "}\n"
   ]
  },
  {
   "cell_type": "markdown",
   "metadata": {},
   "source": [
    "# ARMA[5, 3]"
   ]
  },
  {
   "cell_type": "code",
   "execution_count": 102,
   "metadata": {
    "vscode": {
     "languageId": "r"
    }
   },
   "outputs": [],
   "source": [
    "# Parámetros\n",
    "sigma_a = 1\n",
    "Phi = c(-0.09, 0.1312, 0.095, 0.000000000000006, 0.2)\n",
    "Theta = c(0.03, 0.004, -0.03)\n",
    "A = c(0.6706322, 0.3293678, 0.036, 0.756, 0.45)\n",
    "K = 120        "
   ]
  },
  {
   "cell_type": "code",
   "execution_count": 103,
   "metadata": {
    "vscode": {
     "languageId": "r"
    }
   },
   "outputs": [
    {
     "data": {
      "text/html": [
       "<table class=\"dataframe\">\n",
       "<caption>A matrix: 6 × 2 of type dbl</caption>\n",
       "<tbody>\n",
       "\t<tr><td>0.6706322</td><td>0.6706322</td></tr>\n",
       "\t<tr><td>0.3293678</td><td>0.3293678</td></tr>\n",
       "\t<tr><td>0.0360000</td><td>0.0360000</td></tr>\n",
       "\t<tr><td>0.7560000</td><td>0.7560000</td></tr>\n",
       "\t<tr><td>0.4500000</td><td>0.4500000</td></tr>\n",
       "\t<tr><td>0.2803099</td><td>0.6706322</td></tr>\n",
       "</tbody>\n",
       "</table>\n"
      ],
      "text/latex": [
       "A matrix: 6 × 2 of type dbl\n",
       "\\begin{tabular}{ll}\n",
       "\t 0.6706322 & 0.6706322\\\\\n",
       "\t 0.3293678 & 0.3293678\\\\\n",
       "\t 0.0360000 & 0.0360000\\\\\n",
       "\t 0.7560000 & 0.7560000\\\\\n",
       "\t 0.4500000 & 0.4500000\\\\\n",
       "\t 0.2803099 & 0.6706322\\\\\n",
       "\\end{tabular}\n"
      ],
      "text/markdown": [
       "\n",
       "A matrix: 6 × 2 of type dbl\n",
       "\n",
       "| 0.6706322 | 0.6706322 |\n",
       "| 0.3293678 | 0.3293678 |\n",
       "| 0.0360000 | 0.0360000 |\n",
       "| 0.7560000 | 0.7560000 |\n",
       "| 0.4500000 | 0.4500000 |\n",
       "| 0.2803099 | 0.6706322 |\n",
       "\n"
      ],
      "text/plain": [
       "     [,1]      [,2]     \n",
       "[1,] 0.6706322 0.6706322\n",
       "[2,] 0.3293678 0.3293678\n",
       "[3,] 0.0360000 0.0360000\n",
       "[4,] 0.7560000 0.7560000\n",
       "[5,] 0.4500000 0.4500000\n",
       "[6,] 0.2803099 0.6706322"
      ]
     },
     "metadata": {},
     "output_type": "display_data"
    }
   ],
   "source": [
    "Zt = matrix(data = c(A), nrow = K, ncol = (sigma_a + 1))\n",
    "for (j in 0 : sigma_a){\n",
    "    a = rnorm(120, mean = 0, sd = j)\n",
    "    for (i in (length(A) + 1) : K){\n",
    "        Zt[i, j] = Phi[1] * Zt[(i - 1)] + Phi[2] * Zt[(i - 2)] + Phi[3] * Zt[(i - 3)] + Phi[4] * Zt[(i - 4)] + Phi[5] * Zt[(i - 5)]  + a[i] - Theta[1] * a[(i - 1)] - Theta[2] * a[(i - 2)] - Theta[3] * a[(i - 3)]\n",
    "    }\n",
    "}\n",
    "\n",
    "\n",
    "head(Zt)"
   ]
  },
  {
   "cell_type": "code",
   "execution_count": 104,
   "metadata": {
    "vscode": {
     "languageId": "r"
    }
   },
   "outputs": [
    {
     "data": {
      "image/png": "[encoded data removed]",
      "text/plain": [
       "Plot with title \"Series  Zt[, i]\""
      ]
     },
     "metadata": {
      "image/png": {
       "height": 420,
       "width": 420
      }
     },
     "output_type": "display_data"
    }
   ],
   "source": [
    "par (mfrow = c((sigma_a + 1), 2))\n",
    "for (i in 1 : (sigma_a + 1)){\n",
    "    acf(Zt[, i])\n",
    "    pacf(Zt[, i])\n",
    "}"
   ]
  },
  {
   "cell_type": "markdown",
   "metadata": {},
   "source": [
    "# ARMA[3, 12]"
   ]
  },
  {
   "cell_type": "code",
   "execution_count": 105,
   "metadata": {
    "vscode": {
     "languageId": "r"
    }
   },
   "outputs": [],
   "source": [
    "# Parámetros\n",
    "sigma_a = 1\n",
    "Phi = c(-0.09, 0.1312, 0.095)\n",
    "Theta = c(0.03, 0.004, -0.03, 0, 0, 0, 0, 0, 0, 0.34, 0.020, 062)\n",
    "A = c(0.6706322, 0.3293678, 0.036)\n",
    "K = 120        "
   ]
  },
  {
   "cell_type": "code",
   "execution_count": 106,
   "metadata": {
    "vscode": {
     "languageId": "r"
    }
   },
   "outputs": [
    {
     "data": {
      "text/html": [
       "<table class=\"dataframe\">\n",
       "<caption>A matrix: 6 × 2 of type dbl</caption>\n",
       "<tbody>\n",
       "\t<tr><td>0.6706322</td><td>0.6706322</td></tr>\n",
       "\t<tr><td>0.3293678</td><td>0.3293678</td></tr>\n",
       "\t<tr><td>0.0360000</td><td>0.0360000</td></tr>\n",
       "\t<tr><td>0.6706322</td><td>0.6706322</td></tr>\n",
       "\t<tr><td>0.3293678</td><td>0.3293678</td></tr>\n",
       "\t<tr><td>0.0360000</td><td>0.0360000</td></tr>\n",
       "</tbody>\n",
       "</table>\n"
      ],
      "text/latex": [
       "A matrix: 6 × 2 of type dbl\n",
       "\\begin{tabular}{ll}\n",
       "\t 0.6706322 & 0.6706322\\\\\n",
       "\t 0.3293678 & 0.3293678\\\\\n",
       "\t 0.0360000 & 0.0360000\\\\\n",
       "\t 0.6706322 & 0.6706322\\\\\n",
       "\t 0.3293678 & 0.3293678\\\\\n",
       "\t 0.0360000 & 0.0360000\\\\\n",
       "\\end{tabular}\n"
      ],
      "text/markdown": [
       "\n",
       "A matrix: 6 × 2 of type dbl\n",
       "\n",
       "| 0.6706322 | 0.6706322 |\n",
       "| 0.3293678 | 0.3293678 |\n",
       "| 0.0360000 | 0.0360000 |\n",
       "| 0.6706322 | 0.6706322 |\n",
       "| 0.3293678 | 0.3293678 |\n",
       "| 0.0360000 | 0.0360000 |\n",
       "\n"
      ],
      "text/plain": [
       "     [,1]      [,2]     \n",
       "[1,] 0.6706322 0.6706322\n",
       "[2,] 0.3293678 0.3293678\n",
       "[3,] 0.0360000 0.0360000\n",
       "[4,] 0.6706322 0.6706322\n",
       "[5,] 0.3293678 0.3293678\n",
       "[6,] 0.0360000 0.0360000"
      ]
     },
     "metadata": {},
     "output_type": "display_data"
    }
   ],
   "source": [
    "Zt = matrix(data = c(A), nrow = K, ncol = (sigma_a + 1))\n",
    "Num_T = length(Theta)\n",
    "for (j in 0 : sigma_a){\n",
    "    a = rnorm(K, mean = 0, sd = j)\n",
    "    for (i in (length(Theta) + 1) : K){\n",
    "        Zt[i, j] = Phi[1] * Zt[(i - 12)] + Phi[2] * Zt[(i - 11)] + Phi[3] * Zt[(i - 10)] + a[i] - Theta[1] * a[(i - 1)] - Theta[2] * a[(i - 2)] - Theta[3] * a[(i - 3)] - Theta[10] * a[(i - 10)] - Theta[11] * a[(i - 11)] - Theta[12] * a[(i - 12)]\n",
    "    }\n",
    "}\n",
    "\n",
    "head(Zt)"
   ]
  },
  {
   "cell_type": "code",
   "execution_count": 107,
   "metadata": {
    "vscode": {
     "languageId": "r"
    }
   },
   "outputs": [
    {
     "data": {
      "image/png": "[encoded data removed]",
      "text/plain": [
       "Plot with title \"Series  Zt[, i]\""
      ]
     },
     "metadata": {
      "image/png": {
       "height": 420,
       "width": 420
      }
     },
     "output_type": "display_data"
    }
   ],
   "source": [
    "par (mfrow = c((sigma_a + 1), 2))\n",
    "for (i in 1 : (sigma_a + 1)){\n",
    "    acf(Zt[, i])\n",
    "    pacf(Zt[, i])\n",
    "}"
   ]
  },
  {
   "cell_type": "code",
   "execution_count": 23,
   "metadata": {
    "vscode": {
     "languageId": "r"
    }
   },
   "outputs": [],
   "source": [
    "At = (1:500)\n",
    "T = length(At)\n",
    "K = 120\n",
    "t = 2\n",
    "J_opt = 0\n",
    "AR_P = 1\n",
    "alpha = 0.05\n",
    "MA_Q = 1"
   ]
  },
  {
   "cell_type": "code",
   "execution_count": 25,
   "metadata": {
    "vscode": {
     "languageId": "r"
    }
   },
   "outputs": [
    {
     "name": "stdout",
     "output_type": "stream",
     "text": [
      "[1] \"Hay suficiente evidencia para rechazar independencia en los erorres con un alpha de 0.05\"\n",
      "[1] \"Q' = 129.366943877923\"\n"
     ]
    },
    {
     "data": {
      "text/html": [
       "93.9182873593501"
      ],
      "text/latex": [
       "93.9182873593501"
      ],
      "text/markdown": [
       "93.9182873593501"
      ],
      "text/plain": [
       "[1] 93.91829"
      ]
     },
     "metadata": {},
     "output_type": "display_data"
    }
   ],
   "source": [
    "Rho_at = matrix(data = NA, nrow = (T - K), ncol = 1)\n",
    "for (i in 1 : (T - K)){\n",
    "    Rho_at[i] = sum(At[i] * At[(i + t)]) / sum(At ** 2)\n",
    "}\n",
    "\n",
    "# Prueba de Ljung - Box\n",
    "Q = (T - J_opt - AR_P) * (T - J_opt - AR_P + 2) * sum((sum(Rho_at) ** 2) / (T - J_opt - AR_P - K)) \n",
    "Vc = qchisq(p = alpha, df = (K - AR_P - MA_Q))\n",
    "\n",
    "# Salida\n",
    "if (Q < Vc){\n",
    "    print(sprintf('No hay suficiente evidencia para rechazar independencia en los erorres con un alpha de %s', alpha))\n",
    "} else {\n",
    "    print(sprintf('Hay suficiente evidencia para rechazar independencia en los erorres con un alpha de %s', alpha))\n",
    "} \n",
    "\n",
    "print(sprintf(\"Q' = %s\", Q))\n",
    "Vc"
   ]
  },
  {
   "cell_type": "code",
   "execution_count": null,
   "metadata": {
    "vscode": {
     "languageId": "r"
    }
   },
   "outputs": [],
   "source": []
  }
 ],
 "metadata": {
  "kernelspec": {
   "display_name": "R",
   "language": "R",
   "name": "ir"
  },
  "language_info": {
   "codemirror_mode": "r",
   "file_extension": ".r",
   "mimetype": "text/x-r-source",
   "name": "R",
   "pygments_lexer": "r",
   "version": "4.2.1"
  },
  "orig_nbformat": 4
 },
 "nbformat": 4,
 "nbformat_minor": 2
}
