{
 "cells": [
  {
   "cell_type": "code",
   "execution_count": 3,
   "metadata": {
    "vscode": {
     "languageId": "r"
    }
   },
   "outputs": [],
   "source": [
    "# Llamado de librerias\n",
    "library(dplyr)\n",
    "library(ggplot2)\n",
    "library(patchwork)\n",
    "library(forecast)\n",
    "library(tseries)\n",
    "library(scales)\n",
    "library(gridExtra)\n",
    "library(reshape)\n",
    "library(matlib)"
   ]
  },
  {
   "cell_type": "code",
   "execution_count": 53,
   "metadata": {
    "vscode": {
     "languageId": "r"
    }
   },
   "outputs": [
    {
     "data": {
      "text/html": [
       "<table class=\"dataframe\">\n",
       "<caption>A data.frame: 6 × 3</caption>\n",
       "<thead>\n",
       "\t<tr><th></th><th scope=col>TIEMPO</th><th scope=col>Inflacion</th><th scope=col>Atipicos</th></tr>\n",
       "\t<tr><th></th><th scope=col>&lt;chr&gt;</th><th scope=col>&lt;dbl&gt;</th><th scope=col>&lt;int&gt;</th></tr>\n",
       "</thead>\n",
       "<tbody>\n",
       "\t<tr><th scope=row>1</th><td>1/31/2001</td><td>16.62</td><td>0</td></tr>\n",
       "\t<tr><th scope=row>2</th><td>2/28/2001</td><td>17.43</td><td>0</td></tr>\n",
       "\t<tr><th scope=row>3</th><td>3/31/2001</td><td>15.81</td><td>0</td></tr>\n",
       "\t<tr><th scope=row>4</th><td>4/30/2001</td><td>14.52</td><td>0</td></tr>\n",
       "\t<tr><th scope=row>5</th><td>5/31/2001</td><td>14.04</td><td>0</td></tr>\n",
       "\t<tr><th scope=row>6</th><td>6/30/2001</td><td>15.31</td><td>0</td></tr>\n",
       "</tbody>\n",
       "</table>\n"
      ],
      "text/latex": [
       "A data.frame: 6 × 3\n",
       "\\begin{tabular}{r|lll}\n",
       "  & TIEMPO & Inflacion & Atipicos\\\\\n",
       "  & <chr> & <dbl> & <int>\\\\\n",
       "\\hline\n",
       "\t1 & 1/31/2001 & 16.62 & 0\\\\\n",
       "\t2 & 2/28/2001 & 17.43 & 0\\\\\n",
       "\t3 & 3/31/2001 & 15.81 & 0\\\\\n",
       "\t4 & 4/30/2001 & 14.52 & 0\\\\\n",
       "\t5 & 5/31/2001 & 14.04 & 0\\\\\n",
       "\t6 & 6/30/2001 & 15.31 & 0\\\\\n",
       "\\end{tabular}\n"
      ],
      "text/markdown": [
       "\n",
       "A data.frame: 6 × 3\n",
       "\n",
       "| <!--/--> | TIEMPO &lt;chr&gt; | Inflacion &lt;dbl&gt; | Atipicos &lt;int&gt; |\n",
       "|---|---|---|---|\n",
       "| 1 | 1/31/2001 | 16.62 | 0 |\n",
       "| 2 | 2/28/2001 | 17.43 | 0 |\n",
       "| 3 | 3/31/2001 | 15.81 | 0 |\n",
       "| 4 | 4/30/2001 | 14.52 | 0 |\n",
       "| 5 | 5/31/2001 | 14.04 | 0 |\n",
       "| 6 | 6/30/2001 | 15.31 | 0 |\n",
       "\n"
      ],
      "text/plain": [
       "  TIEMPO    Inflacion Atipicos\n",
       "1 1/31/2001 16.62     0       \n",
       "2 2/28/2001 17.43     0       \n",
       "3 3/31/2001 15.81     0       \n",
       "4 4/30/2001 14.52     0       \n",
       "5 5/31/2001 14.04     0       \n",
       "6 6/30/2001 15.31     0       "
      ]
     },
     "metadata": {},
     "output_type": "display_data"
    },
    {
     "data": {
      "text/html": [
       "'El número de observaciones son: 252'"
      ],
      "text/latex": [
       "'El número de observaciones son: 252'"
      ],
      "text/markdown": [
       "'El número de observaciones son: 252'"
      ],
      "text/plain": [
       "[1] \"El número de observaciones son: 252\""
      ]
     },
     "metadata": {},
     "output_type": "display_data"
    }
   ],
   "source": [
    "# Importando archivo .csv\n",
    "File = read.csv(file = ('../Ejercicio inflación/DESEMPLEO.csv'), skip = 0, header = TRUE)\n",
    "head(File)\n",
    "sprintf('El número de observaciones son: %s', length(File[, 1]))"
   ]
  },
  {
   "cell_type": "markdown",
   "metadata": {},
   "source": [
    "## Inputs"
   ]
  },
  {
   "cell_type": "code",
   "execution_count": 54,
   "metadata": {
    "vscode": {
     "languageId": "r"
    }
   },
   "outputs": [],
   "source": [
    "# Inputs \n",
    "K = T / 4                                       # 'Truncado' para (T / 4), si no ingrese el valor numérico\n",
    "alpha = 0.05                                    # Nivel de significancia\n",
    "\n",
    "# Desestacionalización\n",
    "k = 12                                          # Coeficiente de medias moviles y estacionalidad\n",
    "\n",
    "# Estabilización de la varianza\n",
    "R = 12                                          # Total de observaciones por grupo o división\n",
    "Lambdas = c(-2, -1, -0.5, 0, 0.5, 1, 2)                # Vector de Lambdas c(2, 1, 0.5, 0, -0.5, -1, -2)   \n",
    "\n",
    "# Esabilización de nivel\n",
    "K.Dif = 3                                       # Diferenciación de la estabilización de nivel, normalmente no se requiere diferenciaciones (rezago) de grado más alto\n",
    "\n",
    "# Parámetros y transformaciones lineales\n",
    "X = File$Inflacion\n",
    "\n",
    "# Datos a pronosticar\n",
    "P = 24"
   ]
  },
  {
   "cell_type": "markdown",
   "metadata": {},
   "source": [
    "## Variables y condicionales"
   ]
  },
  {
   "cell_type": "code",
   "execution_count": 56,
   "metadata": {
    "vscode": {
     "languageId": "r"
    }
   },
   "outputs": [
    {
     "data": {
      "text/html": [
       "<table class=\"dataframe\">\n",
       "<caption>A data.frame: 6 × 2</caption>\n",
       "<thead>\n",
       "\t<tr><th></th><th scope=col>K</th><th scope=col>X</th></tr>\n",
       "\t<tr><th></th><th scope=col>&lt;date&gt;</th><th scope=col>&lt;dbl&gt;</th></tr>\n",
       "</thead>\n",
       "<tbody>\n",
       "\t<tr><th scope=row>1</th><td>2001-01-31</td><td>16.62</td></tr>\n",
       "\t<tr><th scope=row>2</th><td>2001-02-28</td><td>17.43</td></tr>\n",
       "\t<tr><th scope=row>3</th><td>2001-03-31</td><td>15.81</td></tr>\n",
       "\t<tr><th scope=row>4</th><td>2001-04-30</td><td>14.52</td></tr>\n",
       "\t<tr><th scope=row>5</th><td>2001-05-31</td><td>14.04</td></tr>\n",
       "\t<tr><th scope=row>6</th><td>2001-06-30</td><td>15.31</td></tr>\n",
       "</tbody>\n",
       "</table>\n"
      ],
      "text/latex": [
       "A data.frame: 6 × 2\n",
       "\\begin{tabular}{r|ll}\n",
       "  & K & X\\\\\n",
       "  & <date> & <dbl>\\\\\n",
       "\\hline\n",
       "\t1 & 2001-01-31 & 16.62\\\\\n",
       "\t2 & 2001-02-28 & 17.43\\\\\n",
       "\t3 & 2001-03-31 & 15.81\\\\\n",
       "\t4 & 2001-04-30 & 14.52\\\\\n",
       "\t5 & 2001-05-31 & 14.04\\\\\n",
       "\t6 & 2001-06-30 & 15.31\\\\\n",
       "\\end{tabular}\n"
      ],
      "text/markdown": [
       "\n",
       "A data.frame: 6 × 2\n",
       "\n",
       "| <!--/--> | K &lt;date&gt; | X &lt;dbl&gt; |\n",
       "|---|---|---|\n",
       "| 1 | 2001-01-31 | 16.62 |\n",
       "| 2 | 2001-02-28 | 17.43 |\n",
       "| 3 | 2001-03-31 | 15.81 |\n",
       "| 4 | 2001-04-30 | 14.52 |\n",
       "| 5 | 2001-05-31 | 14.04 |\n",
       "| 6 | 2001-06-30 | 15.31 |\n",
       "\n"
      ],
      "text/plain": [
       "  K          X    \n",
       "1 2001-01-31 16.62\n",
       "2 2001-02-28 17.43\n",
       "3 2001-03-31 15.81\n",
       "4 2001-04-30 14.52\n",
       "5 2001-05-31 14.04\n",
       "6 2001-06-30 15.31"
      ]
     },
     "metadata": {},
     "output_type": "display_data"
    },
    {
     "data": {
      "image/png": "[encoded data removed]",
      "text/plain": [
       "plot without title"
      ]
     },
     "metadata": {
      "image/png": {
       "height": 420,
       "width": 420
      }
     },
     "output_type": "display_data"
    }
   ],
   "source": [
    "# Construcción de los vectores y parámetros\n",
    "X = cbind(X)\n",
    "T = length(X)\n",
    "\n",
    "# Condición de K\n",
    "if (K == 'Truncado'){\n",
    "    K = length(File[, 1]) / 4\n",
    "} else {\n",
    "    K = K\n",
    "}\n",
    "\n",
    "# Función para verificar si un número es entero o no\n",
    "is.wholenumber <- function(x, tol = .Machine$double.eps ** 0.5)abs(x - round(x)) < tol             # TRUE = Entero, FALSE = Decimal\n",
    "\n",
    "# Redefinición de los datos\n",
    "X.r = matrix(data = X, nrow = k)\n",
    "if (is.wholenumber(T / R) == 'FALSE'){\n",
    "  H = floor(T / R)\n",
    "  if (T > (H * R)){                                     # Llenar de NA los datos que se repiten al no ser múltiplo de R la matriz\n",
    "    l = T - (H * R)\n",
    "    X.r[((l + 1) : R), (H + 1)] = NA\n",
    "  }\n",
    "} else if (is.wholenumber(T / R) == 'TRUE'){\n",
    "  H = T / R\n",
    "  X.r = matrix(data = X, nrow = k)\n",
    "}\n",
    "\n",
    "# Fechas\n",
    "Dates = as.matrix(File[, 1])\n",
    "Dates1 = as.Date(Dates, '%m/%d/%Y')\n",
    "\n",
    "\n",
    "# Gráfica de los datos\n",
    "XI = data.frame(matrix(data = NA, nrow = K, ncol = 2))  \n",
    "colnames(XI) = c('K', 'X')\n",
    "XI[, 1] = Dates1[1 : K]\n",
    "XI[, 2] = X[1 : K]\n",
    "XI = with(XI, data.frame(K, X))\n",
    "\n",
    "G_X <- ggplot(data = XI, mapping = aes(x = K, y = X)) +\n",
    "  geom_line(colour = '#0044ff', size = 1) +\n",
    "  labs(title = 'X [Inflación]')\n",
    "        \n",
    "# Salidas \n",
    "head(XI)\n",
    "G_X"
   ]
  },
  {
   "cell_type": "markdown",
   "metadata": {},
   "source": [
    "## DGP's"
   ]
  },
  {
   "cell_type": "markdown",
   "metadata": {},
   "source": [
    "### DGP[1]"
   ]
  },
  {
   "cell_type": "code",
   "execution_count": 75,
   "metadata": {
    "vscode": {
     "languageId": "r"
    }
   },
   "outputs": [
    {
     "data": {
      "text/html": [
       "<table class=\"dataframe\">\n",
       "<caption>A data.frame: 6 × 100</caption>\n",
       "<thead>\n",
       "\t<tr><th></th><th scope=col>X1</th><th scope=col>X2</th><th scope=col>X3</th><th scope=col>X4</th><th scope=col>X5</th><th scope=col>X6</th><th scope=col>X7</th><th scope=col>X8</th><th scope=col>X9</th><th scope=col>X10</th><th scope=col>⋯</th><th scope=col>X91</th><th scope=col>X92</th><th scope=col>X93</th><th scope=col>X94</th><th scope=col>X95</th><th scope=col>X96</th><th scope=col>X97</th><th scope=col>X98</th><th scope=col>X99</th><th scope=col>X100</th></tr>\n",
       "\t<tr><th></th><th scope=col>&lt;dbl&gt;</th><th scope=col>&lt;dbl&gt;</th><th scope=col>&lt;dbl&gt;</th><th scope=col>&lt;dbl&gt;</th><th scope=col>&lt;dbl&gt;</th><th scope=col>&lt;dbl&gt;</th><th scope=col>&lt;dbl&gt;</th><th scope=col>&lt;dbl&gt;</th><th scope=col>&lt;dbl&gt;</th><th scope=col>&lt;dbl&gt;</th><th scope=col>⋯</th><th scope=col>&lt;dbl&gt;</th><th scope=col>&lt;dbl&gt;</th><th scope=col>&lt;dbl&gt;</th><th scope=col>&lt;dbl&gt;</th><th scope=col>&lt;dbl&gt;</th><th scope=col>&lt;dbl&gt;</th><th scope=col>&lt;dbl&gt;</th><th scope=col>&lt;dbl&gt;</th><th scope=col>&lt;dbl&gt;</th><th scope=col>&lt;dbl&gt;</th></tr>\n",
       "</thead>\n",
       "<tbody>\n",
       "\t<tr><th scope=row>1</th><td>1.000000</td><td>1.000000</td><td>1.000000</td><td>1.000000</td><td>1.000000</td><td>1.000000</td><td>1.000000</td><td>1.000000</td><td>1.000000</td><td>1.000000</td><td>⋯</td><td>1.000000</td><td>1.000000</td><td>1.000000</td><td>1.000000</td><td>1.000000</td><td>1.000000</td><td>1.000000</td><td>1.000000</td><td>1.000000</td><td>1.000000</td></tr>\n",
       "\t<tr><th scope=row>2</th><td>1.387546</td><td>1.387727</td><td>1.316121</td><td>1.278626</td><td>1.567654</td><td>1.265502</td><td>1.180484</td><td>1.486060</td><td>1.237531</td><td>1.332362</td><td>⋯</td><td>1.363228</td><td>1.285375</td><td>1.259774</td><td>1.411939</td><td>1.117671</td><td>1.571297</td><td>1.669895</td><td>1.294685</td><td>1.431949</td><td>1.379730</td></tr>\n",
       "\t<tr><th scope=row>3</th><td>1.374172</td><td>1.737759</td><td>1.512622</td><td>1.593977</td><td>1.376032</td><td>1.585880</td><td>1.320830</td><td>1.465459</td><td>1.424281</td><td>1.273951</td><td>⋯</td><td>1.767344</td><td>1.602285</td><td>1.561649</td><td>1.282432</td><td>1.398180</td><td>1.842975</td><td>1.747851</td><td>1.363804</td><td>1.528676</td><td>1.484865</td></tr>\n",
       "\t<tr><th scope=row>4</th><td>1.733994</td><td>1.456037</td><td>1.371724</td><td>1.663229</td><td>1.505893</td><td>1.829996</td><td>1.413655</td><td>1.444940</td><td>1.471100</td><td>1.368747</td><td>⋯</td><td>2.006885</td><td>1.398589</td><td>1.701979</td><td>1.649879</td><td>1.455176</td><td>1.867358</td><td>1.902643</td><td>1.206051</td><td>1.616902</td><td>1.667569</td></tr>\n",
       "\t<tr><th scope=row>5</th><td>1.673664</td><td>1.512135</td><td>1.523188</td><td>1.844105</td><td>1.798838</td><td>1.662427</td><td>1.363315</td><td>1.630584</td><td>1.595042</td><td>1.536931</td><td>⋯</td><td>1.586422</td><td>1.241696</td><td>1.738729</td><td>1.410331</td><td>1.805919</td><td>1.651094</td><td>1.604284</td><td>1.521571</td><td>1.527659</td><td>1.617871</td></tr>\n",
       "\t<tr><th scope=row>6</th><td>1.479449</td><td>1.564232</td><td>1.552866</td><td>1.767269</td><td>1.557145</td><td>1.653677</td><td>1.348701</td><td>1.570828</td><td>1.396184</td><td>1.611764</td><td>⋯</td><td>1.876076</td><td>1.299775</td><td>1.451916</td><td>1.487206</td><td>1.754652</td><td>1.384825</td><td>1.574082</td><td>1.709366</td><td>1.568358</td><td>1.630228</td></tr>\n",
       "</tbody>\n",
       "</table>\n"
      ],
      "text/latex": [
       "A data.frame: 6 × 100\n",
       "\\begin{tabular}{r|lllllllllllllllllllll}\n",
       "  & X1 & X2 & X3 & X4 & X5 & X6 & X7 & X8 & X9 & X10 & ⋯ & X91 & X92 & X93 & X94 & X95 & X96 & X97 & X98 & X99 & X100\\\\\n",
       "  & <dbl> & <dbl> & <dbl> & <dbl> & <dbl> & <dbl> & <dbl> & <dbl> & <dbl> & <dbl> & ⋯ & <dbl> & <dbl> & <dbl> & <dbl> & <dbl> & <dbl> & <dbl> & <dbl> & <dbl> & <dbl>\\\\\n",
       "\\hline\n",
       "\t1 & 1.000000 & 1.000000 & 1.000000 & 1.000000 & 1.000000 & 1.000000 & 1.000000 & 1.000000 & 1.000000 & 1.000000 & ⋯ & 1.000000 & 1.000000 & 1.000000 & 1.000000 & 1.000000 & 1.000000 & 1.000000 & 1.000000 & 1.000000 & 1.000000\\\\\n",
       "\t2 & 1.387546 & 1.387727 & 1.316121 & 1.278626 & 1.567654 & 1.265502 & 1.180484 & 1.486060 & 1.237531 & 1.332362 & ⋯ & 1.363228 & 1.285375 & 1.259774 & 1.411939 & 1.117671 & 1.571297 & 1.669895 & 1.294685 & 1.431949 & 1.379730\\\\\n",
       "\t3 & 1.374172 & 1.737759 & 1.512622 & 1.593977 & 1.376032 & 1.585880 & 1.320830 & 1.465459 & 1.424281 & 1.273951 & ⋯ & 1.767344 & 1.602285 & 1.561649 & 1.282432 & 1.398180 & 1.842975 & 1.747851 & 1.363804 & 1.528676 & 1.484865\\\\\n",
       "\t4 & 1.733994 & 1.456037 & 1.371724 & 1.663229 & 1.505893 & 1.829996 & 1.413655 & 1.444940 & 1.471100 & 1.368747 & ⋯ & 2.006885 & 1.398589 & 1.701979 & 1.649879 & 1.455176 & 1.867358 & 1.902643 & 1.206051 & 1.616902 & 1.667569\\\\\n",
       "\t5 & 1.673664 & 1.512135 & 1.523188 & 1.844105 & 1.798838 & 1.662427 & 1.363315 & 1.630584 & 1.595042 & 1.536931 & ⋯ & 1.586422 & 1.241696 & 1.738729 & 1.410331 & 1.805919 & 1.651094 & 1.604284 & 1.521571 & 1.527659 & 1.617871\\\\\n",
       "\t6 & 1.479449 & 1.564232 & 1.552866 & 1.767269 & 1.557145 & 1.653677 & 1.348701 & 1.570828 & 1.396184 & 1.611764 & ⋯ & 1.876076 & 1.299775 & 1.451916 & 1.487206 & 1.754652 & 1.384825 & 1.574082 & 1.709366 & 1.568358 & 1.630228\\\\\n",
       "\\end{tabular}\n"
      ],
      "text/markdown": [
       "\n",
       "A data.frame: 6 × 100\n",
       "\n",
       "| <!--/--> | X1 &lt;dbl&gt; | X2 &lt;dbl&gt; | X3 &lt;dbl&gt; | X4 &lt;dbl&gt; | X5 &lt;dbl&gt; | X6 &lt;dbl&gt; | X7 &lt;dbl&gt; | X8 &lt;dbl&gt; | X9 &lt;dbl&gt; | X10 &lt;dbl&gt; | ⋯ ⋯ | X91 &lt;dbl&gt; | X92 &lt;dbl&gt; | X93 &lt;dbl&gt; | X94 &lt;dbl&gt; | X95 &lt;dbl&gt; | X96 &lt;dbl&gt; | X97 &lt;dbl&gt; | X98 &lt;dbl&gt; | X99 &lt;dbl&gt; | X100 &lt;dbl&gt; |\n",
       "|---|---|---|---|---|---|---|---|---|---|---|---|---|---|---|---|---|---|---|---|---|---|\n",
       "| 1 | 1.000000 | 1.000000 | 1.000000 | 1.000000 | 1.000000 | 1.000000 | 1.000000 | 1.000000 | 1.000000 | 1.000000 | ⋯ | 1.000000 | 1.000000 | 1.000000 | 1.000000 | 1.000000 | 1.000000 | 1.000000 | 1.000000 | 1.000000 | 1.000000 |\n",
       "| 2 | 1.387546 | 1.387727 | 1.316121 | 1.278626 | 1.567654 | 1.265502 | 1.180484 | 1.486060 | 1.237531 | 1.332362 | ⋯ | 1.363228 | 1.285375 | 1.259774 | 1.411939 | 1.117671 | 1.571297 | 1.669895 | 1.294685 | 1.431949 | 1.379730 |\n",
       "| 3 | 1.374172 | 1.737759 | 1.512622 | 1.593977 | 1.376032 | 1.585880 | 1.320830 | 1.465459 | 1.424281 | 1.273951 | ⋯ | 1.767344 | 1.602285 | 1.561649 | 1.282432 | 1.398180 | 1.842975 | 1.747851 | 1.363804 | 1.528676 | 1.484865 |\n",
       "| 4 | 1.733994 | 1.456037 | 1.371724 | 1.663229 | 1.505893 | 1.829996 | 1.413655 | 1.444940 | 1.471100 | 1.368747 | ⋯ | 2.006885 | 1.398589 | 1.701979 | 1.649879 | 1.455176 | 1.867358 | 1.902643 | 1.206051 | 1.616902 | 1.667569 |\n",
       "| 5 | 1.673664 | 1.512135 | 1.523188 | 1.844105 | 1.798838 | 1.662427 | 1.363315 | 1.630584 | 1.595042 | 1.536931 | ⋯ | 1.586422 | 1.241696 | 1.738729 | 1.410331 | 1.805919 | 1.651094 | 1.604284 | 1.521571 | 1.527659 | 1.617871 |\n",
       "| 6 | 1.479449 | 1.564232 | 1.552866 | 1.767269 | 1.557145 | 1.653677 | 1.348701 | 1.570828 | 1.396184 | 1.611764 | ⋯ | 1.876076 | 1.299775 | 1.451916 | 1.487206 | 1.754652 | 1.384825 | 1.574082 | 1.709366 | 1.568358 | 1.630228 |\n",
       "\n"
      ],
      "text/plain": [
       "  X1       X2       X3       X4       X5       X6       X7       X8      \n",
       "1 1.000000 1.000000 1.000000 1.000000 1.000000 1.000000 1.000000 1.000000\n",
       "2 1.387546 1.387727 1.316121 1.278626 1.567654 1.265502 1.180484 1.486060\n",
       "3 1.374172 1.737759 1.512622 1.593977 1.376032 1.585880 1.320830 1.465459\n",
       "4 1.733994 1.456037 1.371724 1.663229 1.505893 1.829996 1.413655 1.444940\n",
       "5 1.673664 1.512135 1.523188 1.844105 1.798838 1.662427 1.363315 1.630584\n",
       "6 1.479449 1.564232 1.552866 1.767269 1.557145 1.653677 1.348701 1.570828\n",
       "  X9       X10      ⋯ X91      X92      X93      X94      X95      X96     \n",
       "1 1.000000 1.000000 ⋯ 1.000000 1.000000 1.000000 1.000000 1.000000 1.000000\n",
       "2 1.237531 1.332362 ⋯ 1.363228 1.285375 1.259774 1.411939 1.117671 1.571297\n",
       "3 1.424281 1.273951 ⋯ 1.767344 1.602285 1.561649 1.282432 1.398180 1.842975\n",
       "4 1.471100 1.368747 ⋯ 2.006885 1.398589 1.701979 1.649879 1.455176 1.867358\n",
       "5 1.595042 1.536931 ⋯ 1.586422 1.241696 1.738729 1.410331 1.805919 1.651094\n",
       "6 1.396184 1.611764 ⋯ 1.876076 1.299775 1.451916 1.487206 1.754652 1.384825\n",
       "  X97      X98      X99      X100    \n",
       "1 1.000000 1.000000 1.000000 1.000000\n",
       "2 1.669895 1.294685 1.431949 1.379730\n",
       "3 1.747851 1.363804 1.528676 1.484865\n",
       "4 1.902643 1.206051 1.616902 1.667569\n",
       "5 1.604284 1.521571 1.527659 1.617871\n",
       "6 1.574082 1.709366 1.568358 1.630228"
      ]
     },
     "metadata": {},
     "output_type": "display_data"
    }
   ],
   "source": [
    "DGP.1 = function(Phi, Mu, Sigma_a = 1, T, Zt_0, N_scenarios = 20, N_remove = 0){\n",
    "    DGP.1 = matrix(data = NA, nrow = T, ncol = N_scenarios)\n",
    "    DGP.1[1, ] = Zt_0\n",
    "    for (j in 1 : N_scenarios){\n",
    "        set.seed(j)\n",
    "        At = rnorm(n = T, mean = 0, sd = Sigma_a)\n",
    "        for (i in 2 : T){\n",
    "            DGP.1[i, j] = Mu + Phi * DGP.1[i - 1, j] + At[i]\n",
    "        }\n",
    "        # DGP.1[, j] = DGP.1[, j] - mean(DGP.1[, j])\n",
    "    }\n",
    "    if (N_remove == 0){\n",
    "        Zt.1 = DGP.1\n",
    "    } else {\n",
    "        Zt.1 = DGP.1[-(1 : N_remove), ]\n",
    "    }\n",
    "    Zt.1 = data.frame(Zt.1)\n",
    "\n",
    "    # Salidas\n",
    "    return(head(Zt.1))\n",
    "}\n",
    "\n",
    "DGP.1(Phi = 0.36, Mu = 1, Sigma_a = 0.15, T = 240, Zt_0 = 1, N_scenarios = 100)"
   ]
  },
  {
   "cell_type": "markdown",
   "metadata": {},
   "source": [
    "### DGP[2]"
   ]
  },
  {
   "cell_type": "code",
   "execution_count": 74,
   "metadata": {
    "vscode": {
     "languageId": "r"
    }
   },
   "outputs": [
    {
     "data": {
      "text/html": [
       "<table class=\"dataframe\">\n",
       "<caption>A data.frame: 6 × 100</caption>\n",
       "<thead>\n",
       "\t<tr><th></th><th scope=col>X1</th><th scope=col>X2</th><th scope=col>X3</th><th scope=col>X4</th><th scope=col>X5</th><th scope=col>X6</th><th scope=col>X7</th><th scope=col>X8</th><th scope=col>X9</th><th scope=col>X10</th><th scope=col>⋯</th><th scope=col>X91</th><th scope=col>X92</th><th scope=col>X93</th><th scope=col>X94</th><th scope=col>X95</th><th scope=col>X96</th><th scope=col>X97</th><th scope=col>X98</th><th scope=col>X99</th><th scope=col>X100</th></tr>\n",
       "\t<tr><th></th><th scope=col>&lt;dbl&gt;</th><th scope=col>&lt;dbl&gt;</th><th scope=col>&lt;dbl&gt;</th><th scope=col>&lt;dbl&gt;</th><th scope=col>&lt;dbl&gt;</th><th scope=col>&lt;dbl&gt;</th><th scope=col>&lt;dbl&gt;</th><th scope=col>&lt;dbl&gt;</th><th scope=col>&lt;dbl&gt;</th><th scope=col>&lt;dbl&gt;</th><th scope=col>⋯</th><th scope=col>&lt;dbl&gt;</th><th scope=col>&lt;dbl&gt;</th><th scope=col>&lt;dbl&gt;</th><th scope=col>&lt;dbl&gt;</th><th scope=col>&lt;dbl&gt;</th><th scope=col>&lt;dbl&gt;</th><th scope=col>&lt;dbl&gt;</th><th scope=col>&lt;dbl&gt;</th><th scope=col>&lt;dbl&gt;</th><th scope=col>&lt;dbl&gt;</th></tr>\n",
       "</thead>\n",
       "<tbody>\n",
       "\t<tr><th scope=row>1</th><td>2.0275465</td><td>2.0277274</td><td>1.9561211</td><td>1.9186261</td><td>2.2076539</td><td>1.9055022</td><td>1.8204842</td><td>2.1260600</td><td>1.8775312</td><td>1.9723621</td><td>⋯</td><td>2.0032283</td><td>1.9253749</td><td>1.8997744</td><td>2.0519391</td><td>1.7576711</td><td>2.2112967</td><td>2.3098950</td><td>1.9346853</td><td>2.0719487</td><td>2.0197297</td></tr>\n",
       "\t<tr><th scope=row>2</th><td>1.0770259</td><td>1.4404313</td><td>1.2869007</td><td>1.4057510</td><td>0.8987777</td><td>1.4107776</td><td>1.2307462</td><td>1.0697992</td><td>1.2771497</td><td>1.0319887</td><td>⋯</td><td>1.4945153</td><td>1.4073097</td><td>1.3922748</td><td>0.9608929</td><td>1.3709086</td><td>1.3620780</td><td>1.1683561</td><td>1.1595189</td><td>1.1871271</td><td>1.1955354</td></tr>\n",
       "\t<tr><th scope=row>3</th><td>1.2523658</td><td>0.6108221</td><td>0.7516462</td><td>0.9617957</td><td>1.0224052</td><td>1.1366603</td><td>0.9853686</td><td>0.8720249</td><td>0.9393634</td><td>0.9873403</td><td>⋯</td><td>1.1320858</td><td>0.6888480</td><td>1.0328734</td><td>1.2599913</td><td>0.9495399</td><td>0.9169275</td><td>1.0473360</td><td>0.7347906</td><td>0.9807702</td><td>1.0752480</td></tr>\n",
       "\t<tr><th scope=row>4</th><td>0.7609857</td><td>0.8774145</td><td>0.9727799</td><td>1.0021921</td><td>1.1142606</td><td>0.6537465</td><td>0.7709756</td><td>1.0069603</td><td>0.9452576</td><td>0.9894994</td><td>⋯</td><td>0.4008519</td><td>0.6644235</td><td>0.8580666</td><td>0.5817673</td><td>1.1720592</td><td>0.6050520</td><td>0.5229568</td><td>1.1368356</td><td>0.7320728</td><td>0.7716173</td></tr>\n",
       "\t<tr><th scope=row>5</th><td>0.6014584</td><td>0.8477700</td><td>0.8253519</td><td>0.7188378</td><td>0.5539815</td><td>0.7869244</td><td>0.7810602</td><td>0.7359174</td><td>0.5968158</td><td>0.8705072</td><td>⋯</td><td>1.0853279</td><td>0.8537519</td><td>0.5088600</td><td>0.8725491</td><td>0.7444066</td><td>0.5294041</td><td>0.7654719</td><td>0.9834691</td><td>0.8363730</td><td>0.8080310</td></tr>\n",
       "\t<tr><th scope=row>6</th><td>0.9127097</td><td>0.8915274</td><td>0.8054208</td><td>0.4632033</td><td>0.7190446</td><td>0.5317084</td><td>1.0354946</td><td>0.7555691</td><td>1.0716826</td><td>0.5737020</td><td>⋯</td><td>0.6184101</td><td>1.1673382</td><td>1.2643300</td><td>0.7744246</td><td>0.5337338</td><td>1.1937451</td><td>0.7946756</td><td>0.5850285</td><td>0.6531164</td><td>0.6558281</td></tr>\n",
       "</tbody>\n",
       "</table>\n"
      ],
      "text/latex": [
       "A data.frame: 6 × 100\n",
       "\\begin{tabular}{r|lllllllllllllllllllll}\n",
       "  & X1 & X2 & X3 & X4 & X5 & X6 & X7 & X8 & X9 & X10 & ⋯ & X91 & X92 & X93 & X94 & X95 & X96 & X97 & X98 & X99 & X100\\\\\n",
       "  & <dbl> & <dbl> & <dbl> & <dbl> & <dbl> & <dbl> & <dbl> & <dbl> & <dbl> & <dbl> & ⋯ & <dbl> & <dbl> & <dbl> & <dbl> & <dbl> & <dbl> & <dbl> & <dbl> & <dbl> & <dbl>\\\\\n",
       "\\hline\n",
       "\t1 & 2.0275465 & 2.0277274 & 1.9561211 & 1.9186261 & 2.2076539 & 1.9055022 & 1.8204842 & 2.1260600 & 1.8775312 & 1.9723621 & ⋯ & 2.0032283 & 1.9253749 & 1.8997744 & 2.0519391 & 1.7576711 & 2.2112967 & 2.3098950 & 1.9346853 & 2.0719487 & 2.0197297\\\\\n",
       "\t2 & 1.0770259 & 1.4404313 & 1.2869007 & 1.4057510 & 0.8987777 & 1.4107776 & 1.2307462 & 1.0697992 & 1.2771497 & 1.0319887 & ⋯ & 1.4945153 & 1.4073097 & 1.3922748 & 0.9608929 & 1.3709086 & 1.3620780 & 1.1683561 & 1.1595189 & 1.1871271 & 1.1955354\\\\\n",
       "\t3 & 1.2523658 & 0.6108221 & 0.7516462 & 0.9617957 & 1.0224052 & 1.1366603 & 0.9853686 & 0.8720249 & 0.9393634 & 0.9873403 & ⋯ & 1.1320858 & 0.6888480 & 1.0328734 & 1.2599913 & 0.9495399 & 0.9169275 & 1.0473360 & 0.7347906 & 0.9807702 & 1.0752480\\\\\n",
       "\t4 & 0.7609857 & 0.8774145 & 0.9727799 & 1.0021921 & 1.1142606 & 0.6537465 & 0.7709756 & 1.0069603 & 0.9452576 & 0.9894994 & ⋯ & 0.4008519 & 0.6644235 & 0.8580666 & 0.5817673 & 1.1720592 & 0.6050520 & 0.5229568 & 1.1368356 & 0.7320728 & 0.7716173\\\\\n",
       "\t5 & 0.6014584 & 0.8477700 & 0.8253519 & 0.7188378 & 0.5539815 & 0.7869244 & 0.7810602 & 0.7359174 & 0.5968158 & 0.8705072 & ⋯ & 1.0853279 & 0.8537519 & 0.5088600 & 0.8725491 & 0.7444066 & 0.5294041 & 0.7654719 & 0.9834691 & 0.8363730 & 0.8080310\\\\\n",
       "\t6 & 0.9127097 & 0.8915274 & 0.8054208 & 0.4632033 & 0.7190446 & 0.5317084 & 1.0354946 & 0.7555691 & 1.0716826 & 0.5737020 & ⋯ & 0.6184101 & 1.1673382 & 1.2643300 & 0.7744246 & 0.5337338 & 1.1937451 & 0.7946756 & 0.5850285 & 0.6531164 & 0.6558281\\\\\n",
       "\\end{tabular}\n"
      ],
      "text/markdown": [
       "\n",
       "A data.frame: 6 × 100\n",
       "\n",
       "| <!--/--> | X1 &lt;dbl&gt; | X2 &lt;dbl&gt; | X3 &lt;dbl&gt; | X4 &lt;dbl&gt; | X5 &lt;dbl&gt; | X6 &lt;dbl&gt; | X7 &lt;dbl&gt; | X8 &lt;dbl&gt; | X9 &lt;dbl&gt; | X10 &lt;dbl&gt; | ⋯ ⋯ | X91 &lt;dbl&gt; | X92 &lt;dbl&gt; | X93 &lt;dbl&gt; | X94 &lt;dbl&gt; | X95 &lt;dbl&gt; | X96 &lt;dbl&gt; | X97 &lt;dbl&gt; | X98 &lt;dbl&gt; | X99 &lt;dbl&gt; | X100 &lt;dbl&gt; |\n",
       "|---|---|---|---|---|---|---|---|---|---|---|---|---|---|---|---|---|---|---|---|---|---|\n",
       "| 1 | 2.0275465 | 2.0277274 | 1.9561211 | 1.9186261 | 2.2076539 | 1.9055022 | 1.8204842 | 2.1260600 | 1.8775312 | 1.9723621 | ⋯ | 2.0032283 | 1.9253749 | 1.8997744 | 2.0519391 | 1.7576711 | 2.2112967 | 2.3098950 | 1.9346853 | 2.0719487 | 2.0197297 |\n",
       "| 2 | 1.0770259 | 1.4404313 | 1.2869007 | 1.4057510 | 0.8987777 | 1.4107776 | 1.2307462 | 1.0697992 | 1.2771497 | 1.0319887 | ⋯ | 1.4945153 | 1.4073097 | 1.3922748 | 0.9608929 | 1.3709086 | 1.3620780 | 1.1683561 | 1.1595189 | 1.1871271 | 1.1955354 |\n",
       "| 3 | 1.2523658 | 0.6108221 | 0.7516462 | 0.9617957 | 1.0224052 | 1.1366603 | 0.9853686 | 0.8720249 | 0.9393634 | 0.9873403 | ⋯ | 1.1320858 | 0.6888480 | 1.0328734 | 1.2599913 | 0.9495399 | 0.9169275 | 1.0473360 | 0.7347906 | 0.9807702 | 1.0752480 |\n",
       "| 4 | 0.7609857 | 0.8774145 | 0.9727799 | 1.0021921 | 1.1142606 | 0.6537465 | 0.7709756 | 1.0069603 | 0.9452576 | 0.9894994 | ⋯ | 0.4008519 | 0.6644235 | 0.8580666 | 0.5817673 | 1.1720592 | 0.6050520 | 0.5229568 | 1.1368356 | 0.7320728 | 0.7716173 |\n",
       "| 5 | 0.6014584 | 0.8477700 | 0.8253519 | 0.7188378 | 0.5539815 | 0.7869244 | 0.7810602 | 0.7359174 | 0.5968158 | 0.8705072 | ⋯ | 1.0853279 | 0.8537519 | 0.5088600 | 0.8725491 | 0.7444066 | 0.5294041 | 0.7654719 | 0.9834691 | 0.8363730 | 0.8080310 |\n",
       "| 6 | 0.9127097 | 0.8915274 | 0.8054208 | 0.4632033 | 0.7190446 | 0.5317084 | 1.0354946 | 0.7555691 | 1.0716826 | 0.5737020 | ⋯ | 0.6184101 | 1.1673382 | 1.2643300 | 0.7744246 | 0.5337338 | 1.1937451 | 0.7946756 | 0.5850285 | 0.6531164 | 0.6558281 |\n",
       "\n"
      ],
      "text/plain": [
       "  X1        X2        X3        X4        X5        X6        X7       \n",
       "1 2.0275465 2.0277274 1.9561211 1.9186261 2.2076539 1.9055022 1.8204842\n",
       "2 1.0770259 1.4404313 1.2869007 1.4057510 0.8987777 1.4107776 1.2307462\n",
       "3 1.2523658 0.6108221 0.7516462 0.9617957 1.0224052 1.1366603 0.9853686\n",
       "4 0.7609857 0.8774145 0.9727799 1.0021921 1.1142606 0.6537465 0.7709756\n",
       "5 0.6014584 0.8477700 0.8253519 0.7188378 0.5539815 0.7869244 0.7810602\n",
       "6 0.9127097 0.8915274 0.8054208 0.4632033 0.7190446 0.5317084 1.0354946\n",
       "  X8        X9        X10       ⋯ X91       X92       X93       X94      \n",
       "1 2.1260600 1.8775312 1.9723621 ⋯ 2.0032283 1.9253749 1.8997744 2.0519391\n",
       "2 1.0697992 1.2771497 1.0319887 ⋯ 1.4945153 1.4073097 1.3922748 0.9608929\n",
       "3 0.8720249 0.9393634 0.9873403 ⋯ 1.1320858 0.6888480 1.0328734 1.2599913\n",
       "4 1.0069603 0.9452576 0.9894994 ⋯ 0.4008519 0.6644235 0.8580666 0.5817673\n",
       "5 0.7359174 0.5968158 0.8705072 ⋯ 1.0853279 0.8537519 0.5088600 0.8725491\n",
       "6 0.7555691 1.0716826 0.5737020 ⋯ 0.6184101 1.1673382 1.2643300 0.7744246\n",
       "  X95       X96       X97       X98       X99       X100     \n",
       "1 1.7576711 2.2112967 2.3098950 1.9346853 2.0719487 2.0197297\n",
       "2 1.3709086 1.3620780 1.1683561 1.1595189 1.1871271 1.1955354\n",
       "3 0.9495399 0.9169275 1.0473360 0.7347906 0.9807702 1.0752480\n",
       "4 1.1720592 0.6050520 0.5229568 1.1368356 0.7320728 0.7716173\n",
       "5 0.7444066 0.5294041 0.7654719 0.9834691 0.8363730 0.8080310\n",
       "6 0.5337338 1.1937451 0.7946756 0.5850285 0.6531164 0.6558281"
      ]
     },
     "metadata": {},
     "output_type": "display_data"
    }
   ],
   "source": [
    "DGP.2 = function(Phi, Mu, Beta, Sigma_a = 1, T, Zt_0, N_scenarios = 20, N_remove = 0, K.Dif = 3){\n",
    "    DGP.2 = matrix(data = NA, nrow = T, ncol = N_scenarios)\n",
    "    DGP.2[1, ] = Zt_0\n",
    "    t = c(1 : (T - 1))\n",
    "    for (j in 1 : N_scenarios){\n",
    "        set.seed(j)\n",
    "        At = rnorm(n = T, mean = 0, sd = Sigma_a)\n",
    "        for (i in 2 : T){\n",
    "            DGP.2[i, j] = Mu + Beta * i + Phi * DGP.2[i - 1, j] + At[i]\n",
    "        }\n",
    "        # DGP.2[, j] = DGP.2[, j] - mean(DGP.2[, j])\n",
    "    }\n",
    "    if (N_remove == 0){\n",
    "        Zt.2 = DGP.2\n",
    "    } else {\n",
    "        Zt.2 = DGP.2[-(1 : N_remove), ]\n",
    "    }\n",
    "    Zt.2 = data.frame(Zt.2)\n",
    "\n",
    "    # Estabilización en nivel\n",
    "    Est.Nivel = function(Data, K.Dif){\n",
    "        X = Data\n",
    "        # Operador de diferencia\n",
    "        Diferencia = function(Data, K.Dif){                                 # Operador de diferencia\n",
    "            Serie.dif = matrix(data = NA, nrow = (T - K.Dif), ncol = 1)\n",
    "            for(i in 1: (T - K.Dif)){\n",
    "                Serie.dif[i] <- Data[i + K.Dif] - Data[i]\n",
    "            }\n",
    "            return(Serie.dif)\n",
    "        }\n",
    "\n",
    "        # Matrix con los datos de J\n",
    "        S = matrix(data = NA, nrow = (K.Dif + 1), ncol = 2)\n",
    "        colnames(S) = c('J', 'S(J)')\n",
    "        S[, 1] = seq(0, K.Dif, 1)\n",
    "        for (i in 1 : K.Dif){\n",
    "            # Diferenciación de la serie\n",
    "            X.dif = matrix(data = NA, ncol = 1, nrow = (T - i))\n",
    "            X.dif[, 1] = Diferencia(Data = X, K.Dif = i)\n",
    "\n",
    "            # Cálculo de los S(j) diferenciadores (rezagados)\n",
    "            S[1, 2] = round(sqrt((1 / (T - 0 - 1)) * sum((X - sum(X / (T - 0))) ** 2)), 6)                            # Diferenciación de J = 0\n",
    "            S[(i + 1), 2] = round(sqrt((1 / (T - i - 1)) * sum((X.dif - sum(X.dif / (T - i))) ** 2)), 6)\n",
    "        }\n",
    "\n",
    "        # J óptimo (mínimo)\n",
    "        Opt = which.min(S[, 2])                     # Número en que posición esta el mínimo \n",
    "        J_opt = S[Opt, 1]                           # Número de diferencias aplicadas a la serie\n",
    "\n",
    "        # La transformación aplicada a los datos\n",
    "        X = Diferencia(Data = X, K.Dif = J_opt)\n",
    "    }\n",
    "    \n",
    "    Nt = length(Est.Nivel(Data = Zt.2[, 1], K.Dif = K.Dif) )\n",
    "    Zt.f = matrix(data = NA, nrow = Nt, ncol = N_scenarios)\n",
    "    for (i in 1 : N_scenarios){\n",
    "        Zt.f[, i] = Est.Nivel(Data = Zt.2[, i], K.Dif = K.Dif) \n",
    "    }\n",
    "    Zt.f = data.frame(Zt.f)\n",
    "\n",
    "    # Salidas\n",
    "    # print(head(Zt.2))\n",
    "    return(head(Zt.f))\n",
    "}\n",
    "\n",
    "DGP.2(Phi = 0.36, Mu = 1, Beta = 0.5, Sigma_a = 0.15, T = 240, N_scenarios = 100, Zt_0 = 0)"
   ]
  },
  {
   "cell_type": "markdown",
   "metadata": {},
   "source": [
    "### DGP[3]"
   ]
  },
  {
   "cell_type": "code",
   "execution_count": 76,
   "metadata": {
    "vscode": {
     "languageId": "r"
    }
   },
   "outputs": [
    {
     "data": {
      "text/html": [
       "<table class=\"dataframe\">\n",
       "<caption>A data.frame: 6 × 100</caption>\n",
       "<thead>\n",
       "\t<tr><th></th><th scope=col>X1</th><th scope=col>X2</th><th scope=col>X3</th><th scope=col>X4</th><th scope=col>X5</th><th scope=col>X6</th><th scope=col>X7</th><th scope=col>X8</th><th scope=col>X9</th><th scope=col>X10</th><th scope=col>⋯</th><th scope=col>X91</th><th scope=col>X92</th><th scope=col>X93</th><th scope=col>X94</th><th scope=col>X95</th><th scope=col>X96</th><th scope=col>X97</th><th scope=col>X98</th><th scope=col>X99</th><th scope=col>X100</th></tr>\n",
       "\t<tr><th></th><th scope=col>&lt;dbl&gt;</th><th scope=col>&lt;dbl&gt;</th><th scope=col>&lt;dbl&gt;</th><th scope=col>&lt;dbl&gt;</th><th scope=col>&lt;dbl&gt;</th><th scope=col>&lt;dbl&gt;</th><th scope=col>&lt;dbl&gt;</th><th scope=col>&lt;dbl&gt;</th><th scope=col>&lt;dbl&gt;</th><th scope=col>&lt;dbl&gt;</th><th scope=col>⋯</th><th scope=col>&lt;dbl&gt;</th><th scope=col>&lt;dbl&gt;</th><th scope=col>&lt;dbl&gt;</th><th scope=col>&lt;dbl&gt;</th><th scope=col>&lt;dbl&gt;</th><th scope=col>&lt;dbl&gt;</th><th scope=col>&lt;dbl&gt;</th><th scope=col>&lt;dbl&gt;</th><th scope=col>&lt;dbl&gt;</th><th scope=col>&lt;dbl&gt;</th></tr>\n",
       "</thead>\n",
       "<tbody>\n",
       "\t<tr><th scope=row>1</th><td>20.00000</td><td>2.995732</td><td>20.00000</td><td>20.00000</td><td>20.00000</td><td>0.05000000</td><td>20.00000</td><td>2.995732</td><td>20.00000</td><td>20.00000</td><td>⋯</td><td>2.995732</td><td>0.05000000</td><td>2.995732</td><td>20.00000</td><td>20.00000</td><td>20.00000</td><td>20.00000</td><td>20.00000</td><td>2.995732</td><td>0.05000000</td></tr>\n",
       "\t<tr><th scope=row>2</th><td>20.02020</td><td>2.996748</td><td>19.96782</td><td>19.94033</td><td>20.15228</td><td>0.05017385</td><td>19.86836</td><td>3.000344</td><td>19.91019</td><td>19.97973</td><td>⋯</td><td>2.995851</td><td>0.05013719</td><td>2.992051</td><td>20.03809</td><td>19.82229</td><td>20.15495</td><td>20.22726</td><td>19.95210</td><td>2.998367</td><td>0.04996386</td></tr>\n",
       "\t<tr><th scope=row>3</th><td>19.92828</td><td>3.005435</td><td>19.99629</td><td>20.03835</td><td>20.01418</td><td>0.04993445</td><td>19.79198</td><td>2.997803</td><td>19.89462</td><td>19.82889</td><td>⋯</td><td>3.005940</td><td>0.04988125</td><td>2.996022</td><td>19.87245</td><td>19.81923</td><td>20.35831</td><td>20.33483</td><td>19.87710</td><td>2.998849</td><td>0.04998554</td></tr>\n",
       "\t<tr><th scope=row>4</th><td>20.10376</td><td>2.999259</td><td>19.86955</td><td>20.10391</td><td>20.02189</td><td>0.04946517</td><td>19.74663</td><td>2.994775</td><td>19.86408</td><td>19.76298</td><td>⋯</td><td>3.019302</td><td>0.05020860</td><td>3.001133</td><td>20.01047</td><td>19.78390</td><td>20.50783</td><td>20.53533</td><td>19.66815</td><td>3.001279</td><td>0.04974299</td></tr>\n",
       "\t<tr><th scope=row>5</th><td>20.14001</td><td>2.998819</td><td>19.89109</td><td>20.28383</td><td>20.21015</td><td>0.04945866</td><td>19.63986</td><td>2.998819</td><td>19.91208</td><td>19.79538</td><td>⋯</td><td>3.014418</td><td>0.05069728</td><td>3.005718</td><td>19.87581</td><td>19.99074</td><td>20.49231</td><td>20.47618</td><td>19.73224</td><td>2.999293</td><td>0.04971118</td></tr>\n",
       "\t<tr><th scope=row>6</th><td>20.04976</td><td>2.999545</td><td>19.89440</td><td>20.35965</td><td>20.14383</td><td>0.04935983</td><td>19.53566</td><td>2.998227</td><td>19.78152</td><td>19.83825</td><td>⋯</td><td>3.025333</td><td>0.05097632</td><td>2.999381</td><td>19.86077</td><td>20.06739</td><td>20.33863</td><td>20.47364</td><td>19.85075</td><td>2.999965</td><td>0.04962471</td></tr>\n",
       "</tbody>\n",
       "</table>\n"
      ],
      "text/latex": [
       "A data.frame: 6 × 100\n",
       "\\begin{tabular}{r|lllllllllllllllllllll}\n",
       "  & X1 & X2 & X3 & X4 & X5 & X6 & X7 & X8 & X9 & X10 & ⋯ & X91 & X92 & X93 & X94 & X95 & X96 & X97 & X98 & X99 & X100\\\\\n",
       "  & <dbl> & <dbl> & <dbl> & <dbl> & <dbl> & <dbl> & <dbl> & <dbl> & <dbl> & <dbl> & ⋯ & <dbl> & <dbl> & <dbl> & <dbl> & <dbl> & <dbl> & <dbl> & <dbl> & <dbl> & <dbl>\\\\\n",
       "\\hline\n",
       "\t1 & 20.00000 & 2.995732 & 20.00000 & 20.00000 & 20.00000 & 0.05000000 & 20.00000 & 2.995732 & 20.00000 & 20.00000 & ⋯ & 2.995732 & 0.05000000 & 2.995732 & 20.00000 & 20.00000 & 20.00000 & 20.00000 & 20.00000 & 2.995732 & 0.05000000\\\\\n",
       "\t2 & 20.02020 & 2.996748 & 19.96782 & 19.94033 & 20.15228 & 0.05017385 & 19.86836 & 3.000344 & 19.91019 & 19.97973 & ⋯ & 2.995851 & 0.05013719 & 2.992051 & 20.03809 & 19.82229 & 20.15495 & 20.22726 & 19.95210 & 2.998367 & 0.04996386\\\\\n",
       "\t3 & 19.92828 & 3.005435 & 19.99629 & 20.03835 & 20.01418 & 0.04993445 & 19.79198 & 2.997803 & 19.89462 & 19.82889 & ⋯ & 3.005940 & 0.04988125 & 2.996022 & 19.87245 & 19.81923 & 20.35831 & 20.33483 & 19.87710 & 2.998849 & 0.04998554\\\\\n",
       "\t4 & 20.10376 & 2.999259 & 19.86955 & 20.10391 & 20.02189 & 0.04946517 & 19.74663 & 2.994775 & 19.86408 & 19.76298 & ⋯ & 3.019302 & 0.05020860 & 3.001133 & 20.01047 & 19.78390 & 20.50783 & 20.53533 & 19.66815 & 3.001279 & 0.04974299\\\\\n",
       "\t5 & 20.14001 & 2.998819 & 19.89109 & 20.28383 & 20.21015 & 0.04945866 & 19.63986 & 2.998819 & 19.91208 & 19.79538 & ⋯ & 3.014418 & 0.05069728 & 3.005718 & 19.87581 & 19.99074 & 20.49231 & 20.47618 & 19.73224 & 2.999293 & 0.04971118\\\\\n",
       "\t6 & 20.04976 & 2.999545 & 19.89440 & 20.35965 & 20.14383 & 0.04935983 & 19.53566 & 2.998227 & 19.78152 & 19.83825 & ⋯ & 3.025333 & 0.05097632 & 2.999381 & 19.86077 & 20.06739 & 20.33863 & 20.47364 & 19.85075 & 2.999965 & 0.04962471\\\\\n",
       "\\end{tabular}\n"
      ],
      "text/markdown": [
       "\n",
       "A data.frame: 6 × 100\n",
       "\n",
       "| <!--/--> | X1 &lt;dbl&gt; | X2 &lt;dbl&gt; | X3 &lt;dbl&gt; | X4 &lt;dbl&gt; | X5 &lt;dbl&gt; | X6 &lt;dbl&gt; | X7 &lt;dbl&gt; | X8 &lt;dbl&gt; | X9 &lt;dbl&gt; | X10 &lt;dbl&gt; | ⋯ ⋯ | X91 &lt;dbl&gt; | X92 &lt;dbl&gt; | X93 &lt;dbl&gt; | X94 &lt;dbl&gt; | X95 &lt;dbl&gt; | X96 &lt;dbl&gt; | X97 &lt;dbl&gt; | X98 &lt;dbl&gt; | X99 &lt;dbl&gt; | X100 &lt;dbl&gt; |\n",
       "|---|---|---|---|---|---|---|---|---|---|---|---|---|---|---|---|---|---|---|---|---|---|\n",
       "| 1 | 20.00000 | 2.995732 | 20.00000 | 20.00000 | 20.00000 | 0.05000000 | 20.00000 | 2.995732 | 20.00000 | 20.00000 | ⋯ | 2.995732 | 0.05000000 | 2.995732 | 20.00000 | 20.00000 | 20.00000 | 20.00000 | 20.00000 | 2.995732 | 0.05000000 |\n",
       "| 2 | 20.02020 | 2.996748 | 19.96782 | 19.94033 | 20.15228 | 0.05017385 | 19.86836 | 3.000344 | 19.91019 | 19.97973 | ⋯ | 2.995851 | 0.05013719 | 2.992051 | 20.03809 | 19.82229 | 20.15495 | 20.22726 | 19.95210 | 2.998367 | 0.04996386 |\n",
       "| 3 | 19.92828 | 3.005435 | 19.99629 | 20.03835 | 20.01418 | 0.04993445 | 19.79198 | 2.997803 | 19.89462 | 19.82889 | ⋯ | 3.005940 | 0.04988125 | 2.996022 | 19.87245 | 19.81923 | 20.35831 | 20.33483 | 19.87710 | 2.998849 | 0.04998554 |\n",
       "| 4 | 20.10376 | 2.999259 | 19.86955 | 20.10391 | 20.02189 | 0.04946517 | 19.74663 | 2.994775 | 19.86408 | 19.76298 | ⋯ | 3.019302 | 0.05020860 | 3.001133 | 20.01047 | 19.78390 | 20.50783 | 20.53533 | 19.66815 | 3.001279 | 0.04974299 |\n",
       "| 5 | 20.14001 | 2.998819 | 19.89109 | 20.28383 | 20.21015 | 0.04945866 | 19.63986 | 2.998819 | 19.91208 | 19.79538 | ⋯ | 3.014418 | 0.05069728 | 3.005718 | 19.87581 | 19.99074 | 20.49231 | 20.47618 | 19.73224 | 2.999293 | 0.04971118 |\n",
       "| 6 | 20.04976 | 2.999545 | 19.89440 | 20.35965 | 20.14383 | 0.04935983 | 19.53566 | 2.998227 | 19.78152 | 19.83825 | ⋯ | 3.025333 | 0.05097632 | 2.999381 | 19.86077 | 20.06739 | 20.33863 | 20.47364 | 19.85075 | 2.999965 | 0.04962471 |\n",
       "\n"
      ],
      "text/plain": [
       "  X1       X2       X3       X4       X5       X6         X7       X8      \n",
       "1 20.00000 2.995732 20.00000 20.00000 20.00000 0.05000000 20.00000 2.995732\n",
       "2 20.02020 2.996748 19.96782 19.94033 20.15228 0.05017385 19.86836 3.000344\n",
       "3 19.92828 3.005435 19.99629 20.03835 20.01418 0.04993445 19.79198 2.997803\n",
       "4 20.10376 2.999259 19.86955 20.10391 20.02189 0.04946517 19.74663 2.994775\n",
       "5 20.14001 2.998819 19.89109 20.28383 20.21015 0.04945866 19.63986 2.998819\n",
       "6 20.04976 2.999545 19.89440 20.35965 20.14383 0.04935983 19.53566 2.998227\n",
       "  X9       X10      ⋯ X91      X92        X93      X94      X95      X96     \n",
       "1 20.00000 20.00000 ⋯ 2.995732 0.05000000 2.995732 20.00000 20.00000 20.00000\n",
       "2 19.91019 19.97973 ⋯ 2.995851 0.05013719 2.992051 20.03809 19.82229 20.15495\n",
       "3 19.89462 19.82889 ⋯ 3.005940 0.04988125 2.996022 19.87245 19.81923 20.35831\n",
       "4 19.86408 19.76298 ⋯ 3.019302 0.05020860 3.001133 20.01047 19.78390 20.50783\n",
       "5 19.91208 19.79538 ⋯ 3.014418 0.05069728 3.005718 19.87581 19.99074 20.49231\n",
       "6 19.78152 19.83825 ⋯ 3.025333 0.05097632 2.999381 19.86077 20.06739 20.33863\n",
       "  X97      X98      X99      X100      \n",
       "1 20.00000 20.00000 2.995732 0.05000000\n",
       "2 20.22726 19.95210 2.998367 0.04996386\n",
       "3 20.33483 19.87710 2.998849 0.04998554\n",
       "4 20.53533 19.66815 3.001279 0.04974299\n",
       "5 20.47618 19.73224 2.999293 0.04971118\n",
       "6 20.47364 19.85075 2.999965 0.04962471"
      ]
     },
     "metadata": {},
     "output_type": "display_data"
    }
   ],
   "source": [
    "DGP.3 = function(Sigma_a = 1, T, Zt_0, N_scenarios = 20, N_remove = 0){\n",
    "    DGP.3 = matrix(data = NA, nrow = T, ncol = N_scenarios)\n",
    "    DGP.3[1, ] = Zt_0\n",
    "    for (j in 1 : N_scenarios){\n",
    "        set.seed(j)\n",
    "        At = rnorm(n = T, mean = 0, sd = Sigma_a)\n",
    "        for (i in 2 : T){\n",
    "            DGP.3[i, j] = DGP.3[i - 1, j] + At[i]\n",
    "        }\n",
    "        # DGP.3[, j] = DGP.3[, j] - mean(DGP.3[, j])\n",
    "    }\n",
    "    if (N_remove == 0){\n",
    "        Zt.3 = DGP.3\n",
    "    } else {\n",
    "        Zt.3 = DGP.3[-(1 : N_remove), ]\n",
    "    }\n",
    "    Zt.3 = data.frame(Zt.3)\n",
    "\n",
    "    # Estabilización en varianza\n",
    "    Est.Var = function(Data, R = 12, Lambdas = c(-1, -0.5, 0, 0.5, 1)){\n",
    "        X = Data\n",
    "        T = length(X)\n",
    "\n",
    "        # Función para verificar si un número es entero o no\n",
    "        is.wholenumber <- function(x, tol = .Machine$double.eps ** 0.5)abs(x - round(x)) < tol             # TRUE = Entero, FALSE = Decimal\n",
    "\n",
    "        # Redefinición de los datos\n",
    "        X.r = matrix(data = X, nrow = 12)\n",
    "        if (is.wholenumber(T / R) == 'FALSE'){\n",
    "            H = floor(T / R)\n",
    "            if (T > (H * R)){                                     # Llenar de NA los datos que se repiten al no ser múltiplo de R la matriz\n",
    "                l = T - (H * R)\n",
    "                X.r[((l + 1) : R), (H + 1)] = NA\n",
    "            }\n",
    "        } else if (is.wholenumber(T / R) == 'TRUE'){\n",
    "            H = T / R\n",
    "            X.r = matrix(data = X, nrow = R)\n",
    "        }\n",
    "\n",
    "        # Cálculo de las medias y desviaciones\n",
    "        Zb = matrix(data = NA, ncol = H, nrow = 1)\n",
    "        Zvar = matrix(data = NA, ncol = H, nrow = 1)\n",
    "        for (i in 1 : H){\n",
    "        Zb[i] = sum(X.r[, i]) / R\n",
    "        Zvar[i] = sqrt((sum((X.r[, i] - Zb[i]) ** 2)) / (R - 1))\n",
    "        }\n",
    "\n",
    "        # Crear vector de lambdas\n",
    "        Nlambdas = length(Lambdas)\n",
    "\n",
    "        # Datos transformados\n",
    "        Data.t = matrix(data = NA, ncol = Nlambdas, nrow = H)\n",
    "        for (i in 1 : Nlambdas){\n",
    "            for (j in 1 : H){\n",
    "                Data.t[j, i] = Zvar[j] / (Zb[j] ** (1 - Lambdas[i])) \n",
    "            }\n",
    "        }\n",
    "\n",
    "        # Matriz con los datos de los lambas\n",
    "        MLambda = matrix(data = NA, nrow = Nlambdas, ncol = 4)\n",
    "        colnames(MLambda) = c(\"Lambda\", \"M (Lambda)\",\"SD (Lambda)\",\"CV (Lambda)\")\n",
    "        MLambda[, 1] = Lambdas\n",
    "\n",
    "        for (i in 1 : Nlambdas){\n",
    "        MLambda[i, 2] = mean(Data.t[, i])\n",
    "        MLambda[i, 3] = sqrt((sum((Data.t[, i] - MLambda[i, 2]) ** 2)) / (H - 1))\n",
    "        MLambda[i, 4] = MLambda[i, 3] / MLambda[i, 2]\n",
    "        }\n",
    "\n",
    "        # Lambda óptimo (mínimo)\n",
    "        Opt = which.min(MLambda[, 4])                     # Número en que posición esta el mínimo \n",
    "        Lambda_opt = Lambdas[Opt]                         # Lambda óptimo\n",
    "\n",
    "        # La transformación aplicada a los datos\n",
    "        if (Lambda_opt == 0){\n",
    "            X = log(X)\n",
    "        } else {\n",
    "            X = X ** Lambda_opt\n",
    "        }\n",
    "        # print(Lambda_opt)\n",
    "    }\n",
    "\n",
    "    Nt = length(Est.Var(Data = Zt.3[, 1]))\n",
    "    Zt.f = matrix(data = NA, nrow = Nt, ncol = N_scenarios)\n",
    "    for (i in 1 : N_scenarios){\n",
    "        Zt.f[, i] = Est.Var(Data = Zt.3[, i]) \n",
    "    }\n",
    "    Zt.f = data.frame(Zt.f)\n",
    "\n",
    "    # Salidas\n",
    "    # print(head(Zt.3))\n",
    "    return(head(Zt.f))\n",
    "}\n",
    "\n",
    "DGP.3(Sigma_a = 0.11, T = 240, Zt_0 = 20, N_scenarios = 100)"
   ]
  },
  {
   "cell_type": "markdown",
   "metadata": {},
   "source": [
    "### DGP[4]"
   ]
  },
  {
   "cell_type": "code",
   "execution_count": 77,
   "metadata": {
    "vscode": {
     "languageId": "r"
    }
   },
   "outputs": [
    {
     "data": {
      "text/html": [
       "<table class=\"dataframe\">\n",
       "<caption>A data.frame: 6 × 100</caption>\n",
       "<thead>\n",
       "\t<tr><th></th><th scope=col>X1</th><th scope=col>X2</th><th scope=col>X3</th><th scope=col>X4</th><th scope=col>X5</th><th scope=col>X6</th><th scope=col>X7</th><th scope=col>X8</th><th scope=col>X9</th><th scope=col>X10</th><th scope=col>⋯</th><th scope=col>X91</th><th scope=col>X92</th><th scope=col>X93</th><th scope=col>X94</th><th scope=col>X95</th><th scope=col>X96</th><th scope=col>X97</th><th scope=col>X98</th><th scope=col>X99</th><th scope=col>X100</th></tr>\n",
       "\t<tr><th></th><th scope=col>&lt;dbl&gt;</th><th scope=col>&lt;dbl&gt;</th><th scope=col>&lt;dbl&gt;</th><th scope=col>&lt;dbl&gt;</th><th scope=col>&lt;dbl&gt;</th><th scope=col>&lt;dbl&gt;</th><th scope=col>&lt;dbl&gt;</th><th scope=col>&lt;dbl&gt;</th><th scope=col>&lt;dbl&gt;</th><th scope=col>&lt;dbl&gt;</th><th scope=col>⋯</th><th scope=col>&lt;dbl&gt;</th><th scope=col>&lt;dbl&gt;</th><th scope=col>&lt;dbl&gt;</th><th scope=col>&lt;dbl&gt;</th><th scope=col>&lt;dbl&gt;</th><th scope=col>&lt;dbl&gt;</th><th scope=col>&lt;dbl&gt;</th><th scope=col>&lt;dbl&gt;</th><th scope=col>&lt;dbl&gt;</th><th scope=col>&lt;dbl&gt;</th></tr>\n",
       "</thead>\n",
       "<tbody>\n",
       "\t<tr><th scope=row>1</th><td>1.0275465</td><td>1.0277274</td><td>0.9561211</td><td>0.9186261</td><td>1.2076539</td><td>0.9055022</td><td>0.8204842</td><td>1.1260600</td><td>0.8775312</td><td>0.9723621</td><td>⋯</td><td>1.0032283</td><td>0.9253749</td><td>0.8997744</td><td>1.0519391</td><td>0.7576711</td><td>1.2112967</td><td>1.3098950</td><td>0.9346853</td><td>1.0719487</td><td>1.0197297</td></tr>\n",
       "\t<tr><th scope=row>2</th><td>0.8746557</td><td>1.2381768</td><td>1.0388182</td><td>1.1336717</td><td>0.8116762</td><td>1.1302990</td><td>0.8958561</td><td>0.9304776</td><td>0.9787697</td><td>0.7943004</td><td>⋯</td><td>1.2765814</td><td>1.1395497</td><td>1.1081304</td><td>0.7741339</td><td>0.9958181</td><td>1.2773078</td><td>1.1466889</td><td>0.8977175</td><td>1.0131743</td><td>0.9881624</td></tr>\n",
       "\t<tr><th scope=row>3</th><td>1.2392921</td><td>0.8304436</td><td>0.8271802</td><td>1.0893971</td><td>1.0105214</td><td>1.2590793</td><td>0.9381561</td><td>0.9173747</td><td>0.9583592</td><td>0.9101248</td><td>⋯</td><td>1.3706417</td><td>0.8217662</td><td>1.1397849</td><td>1.1882038</td><td>0.9518309</td><td>1.2038873</td><td>1.2734167</td><td>0.7150813</td><td>1.0665788</td><td>1.1330177</td></tr>\n",
       "\t<tr><th scope=row>4</th><td>1.0494262</td><td>0.9879622</td><td>1.0293674</td><td>1.2453427</td><td>1.2567161</td><td>1.0036281</td><td>0.8543990</td><td>1.1104061</td><td>1.0654460</td><td>1.0441818</td><td>⋯</td><td>0.8639428</td><td>0.7382044</td><td>1.1260171</td><td>0.8163742</td><td>1.2820557</td><td>0.9788454</td><td>0.9193326</td><td>1.0873922</td><td>0.9455743</td><td>1.0175457</td></tr>\n",
       "\t<tr><th scope=row>5</th><td>0.8769297</td><td>1.0198630</td><td>1.0045186</td><td>1.1033913</td><td>0.9095638</td><td>1.0552038</td><td>0.8579080</td><td>0.9838178</td><td>0.8219691</td><td>1.0584691</td><td>⋯</td><td>1.3049639</td><td>0.8527638</td><td>0.8259731</td><td>0.9794871</td><td>1.1045210</td><td>0.7904308</td><td>0.9965400</td><td>1.1616005</td><td>1.0184011</td><td>1.0477945</td></tr>\n",
       "\t<tr><th scope=row>6</th><td>1.0731144</td><td>1.1061932</td><td>1.0128127</td><td>0.8078130</td><td>0.9291750</td><td>0.8036194</td><td>1.1122209</td><td>0.9744566</td><td>1.1787980</td><td>0.8187886</td><td>⋯</td><td>1.0326560</td><td>1.2127514</td><td>1.4071135</td><td>0.9397941</td><td>0.8702684</td><td>1.2935904</td><td>1.0156457</td><td>0.8925801</td><td>0.8704232</td><td>0.9127314</td></tr>\n",
       "</tbody>\n",
       "</table>\n"
      ],
      "text/latex": [
       "A data.frame: 6 × 100\n",
       "\\begin{tabular}{r|lllllllllllllllllllll}\n",
       "  & X1 & X2 & X3 & X4 & X5 & X6 & X7 & X8 & X9 & X10 & ⋯ & X91 & X92 & X93 & X94 & X95 & X96 & X97 & X98 & X99 & X100\\\\\n",
       "  & <dbl> & <dbl> & <dbl> & <dbl> & <dbl> & <dbl> & <dbl> & <dbl> & <dbl> & <dbl> & ⋯ & <dbl> & <dbl> & <dbl> & <dbl> & <dbl> & <dbl> & <dbl> & <dbl> & <dbl> & <dbl>\\\\\n",
       "\\hline\n",
       "\t1 & 1.0275465 & 1.0277274 & 0.9561211 & 0.9186261 & 1.2076539 & 0.9055022 & 0.8204842 & 1.1260600 & 0.8775312 & 0.9723621 & ⋯ & 1.0032283 & 0.9253749 & 0.8997744 & 1.0519391 & 0.7576711 & 1.2112967 & 1.3098950 & 0.9346853 & 1.0719487 & 1.0197297\\\\\n",
       "\t2 & 0.8746557 & 1.2381768 & 1.0388182 & 1.1336717 & 0.8116762 & 1.1302990 & 0.8958561 & 0.9304776 & 0.9787697 & 0.7943004 & ⋯ & 1.2765814 & 1.1395497 & 1.1081304 & 0.7741339 & 0.9958181 & 1.2773078 & 1.1466889 & 0.8977175 & 1.0131743 & 0.9881624\\\\\n",
       "\t3 & 1.2392921 & 0.8304436 & 0.8271802 & 1.0893971 & 1.0105214 & 1.2590793 & 0.9381561 & 0.9173747 & 0.9583592 & 0.9101248 & ⋯ & 1.3706417 & 0.8217662 & 1.1397849 & 1.1882038 & 0.9518309 & 1.2038873 & 1.2734167 & 0.7150813 & 1.0665788 & 1.1330177\\\\\n",
       "\t4 & 1.0494262 & 0.9879622 & 1.0293674 & 1.2453427 & 1.2567161 & 1.0036281 & 0.8543990 & 1.1104061 & 1.0654460 & 1.0441818 & ⋯ & 0.8639428 & 0.7382044 & 1.1260171 & 0.8163742 & 1.2820557 & 0.9788454 & 0.9193326 & 1.0873922 & 0.9455743 & 1.0175457\\\\\n",
       "\t5 & 0.8769297 & 1.0198630 & 1.0045186 & 1.1033913 & 0.9095638 & 1.0552038 & 0.8579080 & 0.9838178 & 0.8219691 & 1.0584691 & ⋯ & 1.3049639 & 0.8527638 & 0.8259731 & 0.9794871 & 1.1045210 & 0.7904308 & 0.9965400 & 1.1616005 & 1.0184011 & 1.0477945\\\\\n",
       "\t6 & 1.0731144 & 1.1061932 & 1.0128127 & 0.8078130 & 0.9291750 & 0.8036194 & 1.1122209 & 0.9744566 & 1.1787980 & 0.8187886 & ⋯ & 1.0326560 & 1.2127514 & 1.4071135 & 0.9397941 & 0.8702684 & 1.2935904 & 1.0156457 & 0.8925801 & 0.8704232 & 0.9127314\\\\\n",
       "\\end{tabular}\n"
      ],
      "text/markdown": [
       "\n",
       "A data.frame: 6 × 100\n",
       "\n",
       "| <!--/--> | X1 &lt;dbl&gt; | X2 &lt;dbl&gt; | X3 &lt;dbl&gt; | X4 &lt;dbl&gt; | X5 &lt;dbl&gt; | X6 &lt;dbl&gt; | X7 &lt;dbl&gt; | X8 &lt;dbl&gt; | X9 &lt;dbl&gt; | X10 &lt;dbl&gt; | ⋯ ⋯ | X91 &lt;dbl&gt; | X92 &lt;dbl&gt; | X93 &lt;dbl&gt; | X94 &lt;dbl&gt; | X95 &lt;dbl&gt; | X96 &lt;dbl&gt; | X97 &lt;dbl&gt; | X98 &lt;dbl&gt; | X99 &lt;dbl&gt; | X100 &lt;dbl&gt; |\n",
       "|---|---|---|---|---|---|---|---|---|---|---|---|---|---|---|---|---|---|---|---|---|---|\n",
       "| 1 | 1.0275465 | 1.0277274 | 0.9561211 | 0.9186261 | 1.2076539 | 0.9055022 | 0.8204842 | 1.1260600 | 0.8775312 | 0.9723621 | ⋯ | 1.0032283 | 0.9253749 | 0.8997744 | 1.0519391 | 0.7576711 | 1.2112967 | 1.3098950 | 0.9346853 | 1.0719487 | 1.0197297 |\n",
       "| 2 | 0.8746557 | 1.2381768 | 1.0388182 | 1.1336717 | 0.8116762 | 1.1302990 | 0.8958561 | 0.9304776 | 0.9787697 | 0.7943004 | ⋯ | 1.2765814 | 1.1395497 | 1.1081304 | 0.7741339 | 0.9958181 | 1.2773078 | 1.1466889 | 0.8977175 | 1.0131743 | 0.9881624 |\n",
       "| 3 | 1.2392921 | 0.8304436 | 0.8271802 | 1.0893971 | 1.0105214 | 1.2590793 | 0.9381561 | 0.9173747 | 0.9583592 | 0.9101248 | ⋯ | 1.3706417 | 0.8217662 | 1.1397849 | 1.1882038 | 0.9518309 | 1.2038873 | 1.2734167 | 0.7150813 | 1.0665788 | 1.1330177 |\n",
       "| 4 | 1.0494262 | 0.9879622 | 1.0293674 | 1.2453427 | 1.2567161 | 1.0036281 | 0.8543990 | 1.1104061 | 1.0654460 | 1.0441818 | ⋯ | 0.8639428 | 0.7382044 | 1.1260171 | 0.8163742 | 1.2820557 | 0.9788454 | 0.9193326 | 1.0873922 | 0.9455743 | 1.0175457 |\n",
       "| 5 | 0.8769297 | 1.0198630 | 1.0045186 | 1.1033913 | 0.9095638 | 1.0552038 | 0.8579080 | 0.9838178 | 0.8219691 | 1.0584691 | ⋯ | 1.3049639 | 0.8527638 | 0.8259731 | 0.9794871 | 1.1045210 | 0.7904308 | 0.9965400 | 1.1616005 | 1.0184011 | 1.0477945 |\n",
       "| 6 | 1.0731144 | 1.1061932 | 1.0128127 | 0.8078130 | 0.9291750 | 0.8036194 | 1.1122209 | 0.9744566 | 1.1787980 | 0.8187886 | ⋯ | 1.0326560 | 1.2127514 | 1.4071135 | 0.9397941 | 0.8702684 | 1.2935904 | 1.0156457 | 0.8925801 | 0.8704232 | 0.9127314 |\n",
       "\n"
      ],
      "text/plain": [
       "  X1        X2        X3        X4        X5        X6        X7       \n",
       "1 1.0275465 1.0277274 0.9561211 0.9186261 1.2076539 0.9055022 0.8204842\n",
       "2 0.8746557 1.2381768 1.0388182 1.1336717 0.8116762 1.1302990 0.8958561\n",
       "3 1.2392921 0.8304436 0.8271802 1.0893971 1.0105214 1.2590793 0.9381561\n",
       "4 1.0494262 0.9879622 1.0293674 1.2453427 1.2567161 1.0036281 0.8543990\n",
       "5 0.8769297 1.0198630 1.0045186 1.1033913 0.9095638 1.0552038 0.8579080\n",
       "6 1.0731144 1.1061932 1.0128127 0.8078130 0.9291750 0.8036194 1.1122209\n",
       "  X8        X9        X10       ⋯ X91       X92       X93       X94      \n",
       "1 1.1260600 0.8775312 0.9723621 ⋯ 1.0032283 0.9253749 0.8997744 1.0519391\n",
       "2 0.9304776 0.9787697 0.7943004 ⋯ 1.2765814 1.1395497 1.1081304 0.7741339\n",
       "3 0.9173747 0.9583592 0.9101248 ⋯ 1.3706417 0.8217662 1.1397849 1.1882038\n",
       "4 1.1104061 1.0654460 1.0441818 ⋯ 0.8639428 0.7382044 1.1260171 0.8163742\n",
       "5 0.9838178 0.8219691 1.0584691 ⋯ 1.3049639 0.8527638 0.8259731 0.9794871\n",
       "6 0.9744566 1.1787980 0.8187886 ⋯ 1.0326560 1.2127514 1.4071135 0.9397941\n",
       "  X95       X96       X97       X98       X99       X100     \n",
       "1 0.7576711 1.2112967 1.3098950 0.9346853 1.0719487 1.0197297\n",
       "2 0.9958181 1.2773078 1.1466889 0.8977175 1.0131743 0.9881624\n",
       "3 0.9518309 1.2038873 1.2734167 0.7150813 1.0665788 1.1330177\n",
       "4 1.2820557 0.9788454 0.9193326 1.0873922 0.9455743 1.0175457\n",
       "5 1.1045210 0.7904308 0.9965400 1.1616005 1.0184011 1.0477945\n",
       "6 0.8702684 1.2935904 1.0156457 0.8925801 0.8704232 0.9127314"
      ]
     },
     "metadata": {},
     "output_type": "display_data"
    }
   ],
   "source": [
    "DGP.4 = function(Mu, Sigma_a = 1, T, Zt_0, N_scenarios = 20, N_remove = 0, K.Dif = 3){\n",
    "    DGP.4 = matrix(data = NA, nrow = T, ncol = N_scenarios)\n",
    "    DGP.4[1, ] = Zt_0\n",
    "    for (j in 1 : N_scenarios){\n",
    "        set.seed(j)\n",
    "        At = rnorm(n = T, mean = 0, sd = Sigma_a)\n",
    "        for (i in 2 : T){\n",
    "            DGP.4[i, j] = Mu + DGP.4[i - 1, j] + At[i]\n",
    "        }\n",
    "        # DGP.4[, j] = DGP.4[, j] - mean(DGP.4[, j])\n",
    "    }\n",
    "    if (N_remove == 0){\n",
    "        Zt.4 = DGP.4\n",
    "    } else {\n",
    "        Zt.4 = DGP.4[-(1 : N_remove), ]\n",
    "    }\n",
    "    Zt.4 = data.frame(Zt.4)\n",
    "\n",
    "    # Estabilización en varianza\n",
    "    Est.Var = function(Data, R = 12, Lambdas = c(-1, -0.5, 0, 0.5, 1)){\n",
    "        X = Data\n",
    "        T = length(X)\n",
    "\n",
    "        # Función para verificar si un número es entero o no\n",
    "        is.wholenumber <- function(x, tol = .Machine$double.eps ** 0.5)abs(x - round(x)) < tol             # TRUE = Entero, FALSE = Decimal\n",
    "\n",
    "        # Redefinición de los datos\n",
    "        X.r = matrix(data = X, nrow = 12)\n",
    "        if (is.wholenumber(T / R) == 'FALSE'){\n",
    "            H = floor(T / R)\n",
    "            if (T > (H * R)){                                     # Llenar de NA los datos que se repiten al no ser múltiplo de R la matriz\n",
    "                l = T - (H * R)\n",
    "                X.r[((l + 1) : R), (H + 1)] = NA\n",
    "            }\n",
    "        } else if (is.wholenumber(T / R) == 'TRUE'){\n",
    "            H = T / R\n",
    "            X.r = matrix(data = X, nrow = R)\n",
    "        }\n",
    "\n",
    "        # Cálculo de las medias y desviaciones\n",
    "        Zb = matrix(data = NA, ncol = H, nrow = 1)\n",
    "        Zvar = matrix(data = NA, ncol = H, nrow = 1)\n",
    "        for (i in 1 : H){\n",
    "        Zb[i] = sum(X.r[, i]) / R\n",
    "        Zvar[i] = sqrt((sum((X.r[, i] - Zb[i]) ** 2)) / (R - 1))\n",
    "        }\n",
    "\n",
    "        # Crear vector de lambdas\n",
    "        Nlambdas = length(Lambdas)\n",
    "\n",
    "        # Datos transformados\n",
    "        Data.t = matrix(data = NA, ncol = Nlambdas, nrow = H)\n",
    "        for (i in 1 : Nlambdas){\n",
    "            for (j in 1 : H){\n",
    "                Data.t[j, i] = Zvar[j] / (Zb[j] ** (1 - Lambdas[i])) \n",
    "            }\n",
    "        }\n",
    "\n",
    "        # Matriz con los datos de los lambas\n",
    "        MLambda = matrix(data = NA, nrow = Nlambdas, ncol = 4)\n",
    "        colnames(MLambda) = c(\"Lambda\", \"M (Lambda)\",\"SD (Lambda)\",\"CV (Lambda)\")\n",
    "        MLambda[, 1] = Lambdas\n",
    "\n",
    "        for (i in 1 : Nlambdas){\n",
    "        MLambda[i, 2] = mean(Data.t[, i])\n",
    "        MLambda[i, 3] = sqrt((sum((Data.t[, i] - MLambda[i, 2]) ** 2)) / (H - 1))\n",
    "        MLambda[i, 4] = MLambda[i, 3] / MLambda[i, 2]\n",
    "        }\n",
    "\n",
    "        # Lambda óptimo (mínimo)\n",
    "        Opt = which.min(MLambda[, 4])                     # Número en que posición esta el mínimo \n",
    "        Lambda_opt = Lambdas[Opt]                         # Lambda óptimo\n",
    "\n",
    "        # La transformación aplicada a los datos\n",
    "        if (Lambda_opt == 0){\n",
    "            X = log(X)\n",
    "        } else {\n",
    "            X = X ** Lambda_opt\n",
    "        }\n",
    "        # print(Lambda_opt)\n",
    "    }\n",
    "\n",
    "    Nt = length(Est.Var(Data = Zt.4[, 1]))\n",
    "    Zt.v = matrix(data = NA, nrow = Nt, ncol = N_scenarios)\n",
    "    for (i in 1 : N_scenarios){\n",
    "        Zt.v[, i] = Est.Var(Data = Zt.4[, i]) \n",
    "    }\n",
    "    Zt.v = data.frame(Zt.v)\n",
    "\n",
    "    # Estabilización en nivel\n",
    "    Est.Nivel = function(Data, K.Dif){\n",
    "        X = Data\n",
    "        T = length(X)\n",
    "        # Operador de diferencia\n",
    "        Diferencia = function(Data, K.Dif){                                 # Operador de diferencia\n",
    "            Serie.dif = matrix(data = NA, nrow = (T - K.Dif), ncol = 1)\n",
    "            for(i in 1: (T - K.Dif)){\n",
    "                Serie.dif[i] <- Data[i + K.Dif] - Data[i]\n",
    "            }\n",
    "            return(Serie.dif)\n",
    "        }\n",
    "\n",
    "        # Matrix con los datos de J\n",
    "        S = matrix(data = NA, nrow = (K.Dif + 1), ncol = 2)\n",
    "        colnames(S) = c('J', 'S(J)')\n",
    "        S[, 1] = seq(0, K.Dif, 1)\n",
    "        for (i in 1 : K.Dif){\n",
    "            # Diferenciación de la serie\n",
    "            X.dif = matrix(data = NA, ncol = 1, nrow = (T - i))\n",
    "            X.dif[, 1] = Diferencia(Data = X, K.Dif = i)\n",
    "\n",
    "            # Cálculo de los S(j) diferenciadores (rezagados)\n",
    "            S[1, 2] = round(sqrt((1 / (T - 0 - 1)) * sum((X - sum(X / (T - 0))) ** 2)), 6)                            # Diferenciación de J = 0\n",
    "            S[(i + 1), 2] = round(sqrt((1 / (T - i - 1)) * sum((X.dif - sum(X.dif / (T - i))) ** 2)), 6)\n",
    "        }\n",
    "\n",
    "        # J óptimo (mínimo)\n",
    "        Opt = which.min(S[, 2])                     # Número en que posición esta el mínimo \n",
    "        J_opt = S[Opt, 1]                           # Número de diferencias aplicadas a la serie\n",
    "\n",
    "        # La transformación aplicada a los datos\n",
    "        X = Diferencia(Data = X, K.Dif = J_opt)\n",
    "    }\n",
    "    \n",
    "    Nt = length(Est.Nivel(Data = Zt.v[, 1], K.Dif = K.Dif))\n",
    "    Zt.f = matrix(data = NA, nrow = Nt, ncol = N_scenarios)\n",
    "    for (i in 1 : N_scenarios){\n",
    "        Zt.f[, i] = Est.Nivel(Data = Zt.v[, i], K.Dif = K.Dif) \n",
    "    }\n",
    "    Zt.f = data.frame(Zt.f)\n",
    "\n",
    "    # Salidas \n",
    "    return(head(Zt.f))\n",
    "}\n",
    "\n",
    "DGP.4(Mu = 1, Sigma_a = 0.15, T = 240, Zt_0 = 0, N_scenarios = 100)"
   ]
  },
  {
   "cell_type": "markdown",
   "metadata": {},
   "source": [
    "## Desestacionalización de la serie\n",
    "- **Tendencia:** Es un patrón a largo plazo, relativamente suave, exhibido por la serie a través del tiempo. Este se caracteriza por su patrón gradual y consistente que presenta variaciones propias de la serie lo cual es producto de las fuerzas persistentes que afectan el crecimiento o la reducción.\n",
    "- **Estacionalidad:** Es un patrón de la serie que exhibe a intervalos regulares de tiempo dentro del año. Esta asociado con estaciones o movimientos que se dan en los mismos meses año tras año.\n",
    "- **Componente aleatorio:** Es el componente resultante de extraer de la serie de tiempo, los 3 componentes anteriores. Estos son factores de corto plazo, imprevisible y no recurrentes que afectan a la serie de tiempo.\n",
    "- **Serie de tiempo:** Conjunto de variables aleatorias indexadas a través del tiempo que miden el mismo fenómeno macroeconómico."
   ]
  },
  {
   "cell_type": "code",
   "execution_count": 31,
   "metadata": {
    "vscode": {
     "languageId": "r"
    }
   },
   "outputs": [
    {
     "data": {
      "image/png": "[encoded data removed]",
      "text/plain": [
       "plot without title"
      ]
     },
     "metadata": {
      "image/png": {
       "height": 420,
       "width": 420
      }
     },
     "output_type": "display_data"
    }
   ],
   "source": [
    "# Cálculo de la tendencia \n",
    "Tendencia <- matrix(data = NA, ncol = 1, nrow = T)\n",
    "for(i in k : T){\n",
    "  Tendencia[i] <- mean(X[(i - k + 1) : i])\n",
    "}\n",
    "\n",
    "# Cálculo del componente estacional \n",
    "Xt = X - Tendencia\n",
    "Estacional1y <- matrix(data = NA, ncol = 1, nrow = k)\n",
    "for(i in 1 : k){\n",
    "  Estacional1y[i] = mean(X[seq(from = i, to = floor(T / k) * k, by = k)])\n",
    "}\n",
    "Estac_1y <- matrix(data = Estacional1y, ncol = 1, nrow = T)\n",
    "\n",
    "# Cálculo del componente aleatorio\n",
    "C_Aleatorio = Xt - Estac_1y\n",
    "\n",
    "# Salidas gráficas\n",
    "XTs = data.frame(matrix(data = NA, nrow = length(X), ncol = 2))           # Datos del archivo\n",
    "colnames(XTs) = c('K', 'X')\n",
    "XTs[, 1] = Dates1[1 : length(X)]\n",
    "XTs[, 2] = X\n",
    "\n",
    "G_XTs <- ggplot(data = XTs, mapping = aes(x = K, y = X)) +\n",
    "  geom_line(colour = 'red', size = 1) +\n",
    "  labs(x = 'Fecha', y = 'ICCV %') +\n",
    "  scale_x_date(labels = date_format(\"%m/%Y\")) +\n",
    "  theme(axis.title.x=element_blank(),\n",
    "        axis.ticks.x=element_blank())\n",
    "\n",
    "XT = data.frame(matrix(data = NA, nrow = (length(X) - (k - 1)), ncol = 2))           # Datos de la tendencia\n",
    "colnames(XT) = c('K', 'X')\n",
    "XT[, 1] = Dates1[k : length(X)]\n",
    "XT[, 2] = Tendencia[k : length(X)]\n",
    "\n",
    "\n",
    "G_XT <- ggplot(data = XT, mapping = aes(x = K, y = X)) +\n",
    "  geom_line(colour = 'black', size = 1) +\n",
    "  labs(x = 'Fecha', y = 'Tendencia %') +\n",
    "  scale_x_date(labels = date_format(\"%m/%Y\")) +\n",
    "  theme(axis.title.x=element_blank(),\n",
    "        axis.ticks.x=element_blank())\n",
    "\n",
    "XSt = data.frame(matrix(data = NA, nrow = length(Estac_1y), ncol = 2))           # Datos de la estacionalidad\n",
    "colnames(XSt) = c('K', 'X')\n",
    "XSt[, 1] = Dates1[1 : length(Estac_1y)]\n",
    "XSt[, 2] = Estac_1y[1 : length(Estac_1y)]\n",
    "\n",
    "\n",
    "G_XSt <- ggplot(data = XSt, mapping = aes(x = K, y = X)) +\n",
    "  geom_line(colour = 'black', size = 1) +\n",
    "  labs(x = 'Fecha', y = 'Estacionalidad') +\n",
    "  scale_x_date(labels = date_format(\"%m/%Y\")) +\n",
    "  theme(axis.title.x=element_blank(),\n",
    "        axis.ticks.x=element_blank())\n",
    "\n",
    "X_Ca = data.frame(matrix(data = NA, nrow = (length(C_Aleatorio) - (k - 1)), ncol = 2))                   # Datos componente aleatorio\n",
    "colnames(X_Ca) = c('K', 'X')\n",
    "X_Ca[, 1] = Dates1[12 : length(C_Aleatorio)]\n",
    "X_Ca[, 2] = C_Aleatorio[12 : length(C_Aleatorio)]\n",
    "\n",
    "G_XCa <- ggplot(data = X_Ca, mapping = aes(x = K, y = X)) +\n",
    "  geom_line(colour = 'red', size = 1) +\n",
    "  labs(x = 'Fecha', y = 'C. Aleatorio') +\n",
    "  scale_x_date(labels = date_format(\"%m/%Y\"))\n",
    "\n",
    "# Salidas gráficas\n",
    "grid.arrange(G_XTs, G_XT, G_XSt , G_XCa, nrow = 4)"
   ]
  },
  {
   "cell_type": "markdown",
   "metadata": {},
   "source": [
    "## Estabilización de la varianza\n",
    "\n",
    "Se realiza con el fin de volver la serie estacionaria por medio de una transformación potencia (Lambda) que minimice el coeficiente de variación. Para efectos de trabajar con series económicas se plantean un conjunto de valores en el vector de los lambdas que tienen coherencia con la teoría.\n",
    "$$\n",
    "min(\\lambda) = \\dfrac{\\sigma_t}{\\mu_t ^{1 - \\lambda}}\n",
    "$$"
   ]
  },
  {
   "cell_type": "code",
   "execution_count": 57,
   "metadata": {
    "vscode": {
     "languageId": "r"
    }
   },
   "outputs": [
    {
     "data": {
      "text/html": [
       "<table class=\"dataframe\">\n",
       "<caption>A matrix: 7 × 4 of type dbl</caption>\n",
       "<thead>\n",
       "\t<tr><th scope=col>Lambda</th><th scope=col>M (Lambda)</th><th scope=col>SD (Lambda)</th><th scope=col>CV (Lambda)</th></tr>\n",
       "</thead>\n",
       "<tbody>\n",
       "\t<tr><td>-2.0</td><td> 0.000797310</td><td>3.109569e-04</td><td>0.3900076</td></tr>\n",
       "\t<tr><td>-1.0</td><td> 0.008994908</td><td>2.620290e-03</td><td>0.2913082</td></tr>\n",
       "\t<tr><td>-0.5</td><td> 0.030545222</td><td>8.522813e-03</td><td>0.2790228</td></tr>\n",
       "\t<tr><td> 0.0</td><td> 0.104546148</td><td>3.196163e-02</td><td>0.3057179</td></tr>\n",
       "\t<tr><td> 0.5</td><td> 0.360786774</td><td>1.329318e-01</td><td>0.3684498</td></tr>\n",
       "\t<tr><td> 1.0</td><td> 1.255753113</td><td>5.740085e-01</td><td>0.4571030</td></tr>\n",
       "\t<tr><td> 2.0</td><td>15.621042938</td><td>1.064292e+01</td><td>0.6813192</td></tr>\n",
       "</tbody>\n",
       "</table>\n"
      ],
      "text/latex": [
       "A matrix: 7 × 4 of type dbl\n",
       "\\begin{tabular}{llll}\n",
       " Lambda & M (Lambda) & SD (Lambda) & CV (Lambda)\\\\\n",
       "\\hline\n",
       "\t -2.0 &  0.000797310 & 3.109569e-04 & 0.3900076\\\\\n",
       "\t -1.0 &  0.008994908 & 2.620290e-03 & 0.2913082\\\\\n",
       "\t -0.5 &  0.030545222 & 8.522813e-03 & 0.2790228\\\\\n",
       "\t  0.0 &  0.104546148 & 3.196163e-02 & 0.3057179\\\\\n",
       "\t  0.5 &  0.360786774 & 1.329318e-01 & 0.3684498\\\\\n",
       "\t  1.0 &  1.255753113 & 5.740085e-01 & 0.4571030\\\\\n",
       "\t  2.0 & 15.621042938 & 1.064292e+01 & 0.6813192\\\\\n",
       "\\end{tabular}\n"
      ],
      "text/markdown": [
       "\n",
       "A matrix: 7 × 4 of type dbl\n",
       "\n",
       "| Lambda | M (Lambda) | SD (Lambda) | CV (Lambda) |\n",
       "|---|---|---|---|\n",
       "| -2.0 |  0.000797310 | 3.109569e-04 | 0.3900076 |\n",
       "| -1.0 |  0.008994908 | 2.620290e-03 | 0.2913082 |\n",
       "| -0.5 |  0.030545222 | 8.522813e-03 | 0.2790228 |\n",
       "|  0.0 |  0.104546148 | 3.196163e-02 | 0.3057179 |\n",
       "|  0.5 |  0.360786774 | 1.329318e-01 | 0.3684498 |\n",
       "|  1.0 |  1.255753113 | 5.740085e-01 | 0.4571030 |\n",
       "|  2.0 | 15.621042938 | 1.064292e+01 | 0.6813192 |\n",
       "\n"
      ],
      "text/plain": [
       "     Lambda M (Lambda)   SD (Lambda)  CV (Lambda)\n",
       "[1,] -2.0    0.000797310 3.109569e-04 0.3900076  \n",
       "[2,] -1.0    0.008994908 2.620290e-03 0.2913082  \n",
       "[3,] -0.5    0.030545222 8.522813e-03 0.2790228  \n",
       "[4,]  0.0    0.104546148 3.196163e-02 0.3057179  \n",
       "[5,]  0.5    0.360786774 1.329318e-01 0.3684498  \n",
       "[6,]  1.0    1.255753113 5.740085e-01 0.4571030  \n",
       "[7,]  2.0   15.621042938 1.064292e+01 0.6813192  "
      ]
     },
     "metadata": {},
     "output_type": "display_data"
    },
    {
     "name": "stdout",
     "output_type": "stream",
     "text": [
      "[1] \"La transformación aplicada a los datos es Lambda = -0.5\"\n"
     ]
    },
    {
     "data": {
      "text/html": [
       "<table class=\"dataframe\">\n",
       "<caption>A data.frame: 6 × 2</caption>\n",
       "<thead>\n",
       "\t<tr><th></th><th scope=col>K</th><th scope=col>X</th></tr>\n",
       "\t<tr><th></th><th scope=col>&lt;dbl&gt;</th><th scope=col>&lt;dbl&gt;</th></tr>\n",
       "</thead>\n",
       "<tbody>\n",
       "\t<tr><th scope=row>1</th><td>1</td><td>0.2452926</td></tr>\n",
       "\t<tr><th scope=row>2</th><td>2</td><td>0.2395253</td></tr>\n",
       "\t<tr><th scope=row>3</th><td>3</td><td>0.2514977</td></tr>\n",
       "\t<tr><th scope=row>4</th><td>4</td><td>0.2624319</td></tr>\n",
       "\t<tr><th scope=row>5</th><td>5</td><td>0.2668803</td></tr>\n",
       "\t<tr><th scope=row>6</th><td>6</td><td>0.2555715</td></tr>\n",
       "</tbody>\n",
       "</table>\n"
      ],
      "text/latex": [
       "A data.frame: 6 × 2\n",
       "\\begin{tabular}{r|ll}\n",
       "  & K & X\\\\\n",
       "  & <dbl> & <dbl>\\\\\n",
       "\\hline\n",
       "\t1 & 1 & 0.2452926\\\\\n",
       "\t2 & 2 & 0.2395253\\\\\n",
       "\t3 & 3 & 0.2514977\\\\\n",
       "\t4 & 4 & 0.2624319\\\\\n",
       "\t5 & 5 & 0.2668803\\\\\n",
       "\t6 & 6 & 0.2555715\\\\\n",
       "\\end{tabular}\n"
      ],
      "text/markdown": [
       "\n",
       "A data.frame: 6 × 2\n",
       "\n",
       "| <!--/--> | K &lt;dbl&gt; | X &lt;dbl&gt; |\n",
       "|---|---|---|\n",
       "| 1 | 1 | 0.2452926 |\n",
       "| 2 | 2 | 0.2395253 |\n",
       "| 3 | 3 | 0.2514977 |\n",
       "| 4 | 4 | 0.2624319 |\n",
       "| 5 | 5 | 0.2668803 |\n",
       "| 6 | 6 | 0.2555715 |\n",
       "\n"
      ],
      "text/plain": [
       "  K X        \n",
       "1 1 0.2452926\n",
       "2 2 0.2395253\n",
       "3 3 0.2514977\n",
       "4 4 0.2624319\n",
       "5 5 0.2668803\n",
       "6 6 0.2555715"
      ]
     },
     "metadata": {},
     "output_type": "display_data"
    },
    {
     "data": {
      "image/png": "[encoded data removed]",
      "text/plain": [
       "plot without title"
      ]
     },
     "metadata": {
      "image/png": {
       "height": 420,
       "width": 420
      }
     },
     "output_type": "display_data"
    }
   ],
   "source": [
    "# Cálculo de las medias y desviaciones\n",
    "Zb = matrix(data = NA, ncol = H, nrow = 1)\n",
    "Zvar = matrix(data = NA, ncol = H, nrow = 1)\n",
    "for (i in 1 : H){\n",
    "  Zb[i] = sum(X.r[, i]) / R\n",
    "  Zvar[i] = sqrt((sum((X.r[, i] - Zb[i]) ** 2)) / (R - 1))\n",
    "}\n",
    "\n",
    "# Crear vector de lambdas\n",
    "Nlambdas = length(Lambdas)\n",
    "\n",
    "# Datos transformados\n",
    "Data.t = matrix(data = NA, ncol = Nlambdas, nrow = H)\n",
    "for (i in 1 : Nlambdas){\n",
    "  for (j in 1 : H){\n",
    "    Data.t[j, i] = Zvar[j] / (Zb[j] ** (1 - Lambdas[i])) \n",
    "  }\n",
    "}\n",
    "\n",
    "# Matriz con los datos de los lambas\n",
    "MLambda = matrix(data = NA, nrow = Nlambdas, ncol = 4)\n",
    "colnames(MLambda) = c(\"Lambda\", \"M (Lambda)\",\"SD (Lambda)\",\"CV (Lambda)\")\n",
    "MLambda[, 1] = Lambdas\n",
    "\n",
    "for (i in 1 : Nlambdas){\n",
    "  MLambda[i, 2] = mean(Data.t[, i])\n",
    "  MLambda[i, 3] = sqrt((sum((Data.t[, i] - MLambda[i, 2]) ** 2)) / (H - 1))\n",
    "  MLambda[i, 4] = MLambda[i, 3] / MLambda[i, 2]\n",
    "}\n",
    "\n",
    "# Lambda óptimo (mínimo)\n",
    "Opt = which.min(MLambda[, 4])                     # Número en que posición esta el mínimo \n",
    "Lambda_opt = Lambdas[Opt]                         # Lambda óptimo\n",
    "\n",
    "# La transformación aplicada a los datos\n",
    "if (Lambda_opt == 0){\n",
    "  X = log(X)\n",
    "} else {\n",
    "  X = X ** Lambda_opt\n",
    "}\n",
    "\n",
    "# Gráfica de los datos\n",
    "XV = data.frame(matrix(data = NA, nrow = K, ncol = 2))  \n",
    "colnames(XV) = c('K', 'X')\n",
    "XV[, 1] = seq(1, K, 1)\n",
    "XV[, 2] = X[1 : K]\n",
    "XV = with(XV, data.frame(K, X))\n",
    "\n",
    "G_X <- ggplot(data = XV, mapping = aes(x = K, y = X)) +\n",
    "  geom_line(colour = '#0044ff', size = 1) +\n",
    "  labs(title = 'X [Inflación]')\n",
    "\n",
    "# Salidas\n",
    "MLambda\n",
    "print(sprintf('La transformación aplicada a los datos es Lambda = %s', Lambda_opt))\n",
    "# head(X)\n",
    "head(XV)\n",
    "G_X"
   ]
  },
  {
   "cell_type": "markdown",
   "metadata": {},
   "source": [
    "## Estabilización de nivel\n",
    "\n",
    "Se realiza con el objetivo de volver estacionaria la serie diferenciándola un número apropiado de veces, que, en caso de quedar sobrediferenciada se dificultará el proceso de identificación del posible proceso generador de la serie observada. En muy raras ocasiones es necesario difenrenciar un número alto de veces la serie y más si son de sentido económico."
   ]
  },
  {
   "cell_type": "code",
   "execution_count": 58,
   "metadata": {
    "vscode": {
     "languageId": "r"
    }
   },
   "outputs": [
    {
     "data": {
      "text/html": [
       "<table class=\"dataframe\">\n",
       "<caption>A matrix: 4 × 2 of type dbl</caption>\n",
       "<thead>\n",
       "\t<tr><th scope=col>J</th><th scope=col>S(J)</th></tr>\n",
       "</thead>\n",
       "<tbody>\n",
       "\t<tr><td>0</td><td>0.028651</td></tr>\n",
       "\t<tr><td>1</td><td>0.015234</td></tr>\n",
       "\t<tr><td>2</td><td>0.020592</td></tr>\n",
       "\t<tr><td>3</td><td>0.022704</td></tr>\n",
       "</tbody>\n",
       "</table>\n"
      ],
      "text/latex": [
       "A matrix: 4 × 2 of type dbl\n",
       "\\begin{tabular}{ll}\n",
       " J & S(J)\\\\\n",
       "\\hline\n",
       "\t 0 & 0.028651\\\\\n",
       "\t 1 & 0.015234\\\\\n",
       "\t 2 & 0.020592\\\\\n",
       "\t 3 & 0.022704\\\\\n",
       "\\end{tabular}\n"
      ],
      "text/markdown": [
       "\n",
       "A matrix: 4 × 2 of type dbl\n",
       "\n",
       "| J | S(J) |\n",
       "|---|---|\n",
       "| 0 | 0.028651 |\n",
       "| 1 | 0.015234 |\n",
       "| 2 | 0.020592 |\n",
       "| 3 | 0.022704 |\n",
       "\n"
      ],
      "text/plain": [
       "     J S(J)    \n",
       "[1,] 0 0.028651\n",
       "[2,] 1 0.015234\n",
       "[3,] 2 0.020592\n",
       "[4,] 3 0.022704"
      ]
     },
     "metadata": {},
     "output_type": "display_data"
    },
    {
     "name": "stdout",
     "output_type": "stream",
     "text": [
      "[1] \"La diferencia aplicada a los datos es J = 1\"\n"
     ]
    },
    {
     "data": {
      "text/html": [
       "<table class=\"dataframe\">\n",
       "<caption>A data.frame: 6 × 2</caption>\n",
       "<thead>\n",
       "\t<tr><th></th><th scope=col>K</th><th scope=col>X</th></tr>\n",
       "\t<tr><th></th><th scope=col>&lt;dbl&gt;</th><th scope=col>&lt;dbl&gt;</th></tr>\n",
       "</thead>\n",
       "<tbody>\n",
       "\t<tr><th scope=row>1</th><td>1</td><td>-0.005767372</td></tr>\n",
       "\t<tr><th scope=row>2</th><td>2</td><td> 0.011972475</td></tr>\n",
       "\t<tr><th scope=row>3</th><td>3</td><td> 0.010934213</td></tr>\n",
       "\t<tr><th scope=row>4</th><td>4</td><td> 0.004448316</td></tr>\n",
       "\t<tr><th scope=row>5</th><td>5</td><td>-0.011308767</td></tr>\n",
       "\t<tr><th scope=row>6</th><td>6</td><td> 0.001092011</td></tr>\n",
       "</tbody>\n",
       "</table>\n"
      ],
      "text/latex": [
       "A data.frame: 6 × 2\n",
       "\\begin{tabular}{r|ll}\n",
       "  & K & X\\\\\n",
       "  & <dbl> & <dbl>\\\\\n",
       "\\hline\n",
       "\t1 & 1 & -0.005767372\\\\\n",
       "\t2 & 2 &  0.011972475\\\\\n",
       "\t3 & 3 &  0.010934213\\\\\n",
       "\t4 & 4 &  0.004448316\\\\\n",
       "\t5 & 5 & -0.011308767\\\\\n",
       "\t6 & 6 &  0.001092011\\\\\n",
       "\\end{tabular}\n"
      ],
      "text/markdown": [
       "\n",
       "A data.frame: 6 × 2\n",
       "\n",
       "| <!--/--> | K &lt;dbl&gt; | X &lt;dbl&gt; |\n",
       "|---|---|---|\n",
       "| 1 | 1 | -0.005767372 |\n",
       "| 2 | 2 |  0.011972475 |\n",
       "| 3 | 3 |  0.010934213 |\n",
       "| 4 | 4 |  0.004448316 |\n",
       "| 5 | 5 | -0.011308767 |\n",
       "| 6 | 6 |  0.001092011 |\n",
       "\n"
      ],
      "text/plain": [
       "  K X           \n",
       "1 1 -0.005767372\n",
       "2 2  0.011972475\n",
       "3 3  0.010934213\n",
       "4 4  0.004448316\n",
       "5 5 -0.011308767\n",
       "6 6  0.001092011"
      ]
     },
     "metadata": {},
     "output_type": "display_data"
    },
    {
     "data": {
      "image/png": "[encoded data removed]",
      "text/plain": [
       "plot without title"
      ]
     },
     "metadata": {
      "image/png": {
       "height": 420,
       "width": 420
      }
     },
     "output_type": "display_data"
    }
   ],
   "source": [
    "# Operador de diferencia\n",
    "Diferencia = function(Data, K.Dif){                                 # Operador de diferencia\n",
    "    Serie.dif = matrix(data = NA, nrow = (T - K.Dif), ncol = 1)\n",
    "    for(i in 1: (T - K.Dif)){\n",
    "        Serie.dif[i] <- Data[i + K.Dif] - Data[i]\n",
    "    }\n",
    "    return(Serie.dif)\n",
    "}\n",
    "\n",
    "# Matrix con los datos de J\n",
    "S = matrix(data = NA, nrow = (K.Dif + 1), ncol = 2)\n",
    "colnames(S) = c('J', 'S(J)')\n",
    "S[, 1] = seq(0, K.Dif, 1)\n",
    "for (i in 1 : K.Dif){\n",
    "    # Diferenciación de la serie\n",
    "    X.dif = matrix(data = NA, ncol = 1, nrow = (T - i))\n",
    "    X.dif[, 1] = Diferencia(Data = X, K.Dif = i)\n",
    "\n",
    "    # Cálculo de los S(j) diferenciadores (rezagados)\n",
    "    S[1, 2] = round(sqrt((1 / (T - 0 - 1)) * sum((X - sum(X / (T - 0))) ** 2)), 6)                            # Diferenciación de J = 0\n",
    "    S[(i + 1), 2] = round(sqrt((1 / (T - i - 1)) * sum((X.dif - sum(X.dif / (T - i))) ** 2)), 6)\n",
    "}\n",
    "\n",
    "# J óptimo (mínimo)\n",
    "Opt = which.min(S[, 2])                     # Número en que posición esta el mínimo \n",
    "J_opt = S[Opt, 1]                           # Número de diferencias aplicadas a la serie\n",
    "\n",
    "# La transformación aplicada a los datos\n",
    "X = Diferencia(Data = X, K.Dif = J_opt)\n",
    "\n",
    "# Gráfica de los datos\n",
    "XN = data.frame(matrix(data = NA, nrow = K, ncol = 2))  \n",
    "colnames(XN) = c('K', 'X')\n",
    "XN[, 1] = seq(1, K, 1)\n",
    "XN[, 2] = X[1 : K]\n",
    "XN = with(XN, data.frame(K, X))\n",
    "Xbb = mean(XN[, 2])\n",
    "\n",
    "G_X <- ggplot(data = XN, mapping = aes(x = K, y = X)) +\n",
    "  geom_line(colour = 'red', size = 1) +\n",
    "  labs(title = 'X [Inflación]') +\n",
    "  geom_hline(aes(yintercept = Xbb), color=\"blue\",\n",
    "        linetype = \"dashed\", size = 0.8)\n",
    "    \n",
    "# Salidas\n",
    "S\n",
    "print(sprintf('La diferencia aplicada a los datos es J = %s', J_opt))\n",
    "# head(data.frame(X))\n",
    "head(XN)\n",
    "G_X\n",
    "        "
   ]
  },
  {
   "cell_type": "markdown",
   "metadata": {},
   "source": [
    "## Método de Cramer e identificación de modelos puros\n",
    "- **Media muestral:**\n",
    "$$\n",
    "\\bar{Z} = \\dfrac{\\sum_{t = 1}^{T}{Z_t}}{T}\n",
    "$$\n",
    "- **Varianza muestral:**\n",
    "$$\n",
    "\\sigma^{2} = \\dfrac{\\sum_{t = 1}^{T}{(Z_t - \\bar{Z}) ^ 2}}{T - 1}\n",
    "$$\n",
    "- **Auto - covarianza:**\n",
    "$$\n",
    "\\gamma_{K} = \\dfrac{\\sum_{t = 1}^{T}{(Z_t - \\bar{Z})(Z_{t + K} - \\bar{Z})}}{T - 1}\n",
    "$$\n",
    "- **Auto - correlación:**\n",
    "$$\n",
    "\\rho_{K} = \\dfrac{\\sum_{t = 1}^{T}{(Z_t - \\bar{Z})(Z_{t + K} - \\bar{Z})}}{\\sum_{t = 1}^{T}{(Z_{t} - \\bar{Z}) ^ 2}}\n",
    "$$\n",
    "- **Matriz de Phi_kk:**\n",
    "$$\n",
    "\\phi_{kk} = \\dfrac{\n",
    "det\\begin{vmatrix}\n",
    "1 & \\rho_{1} & \\rho_{2} & \\cdots & \\rho_{K - 2} & \\rho_{1}\\\\\n",
    "\\rho_{1} & 1 & \\rho_{1} & \\cdots & \\rho_{K - 3} & \\rho_{2}\\\\\n",
    "\\vdots & \\vdots & \\vdots & \\ddots & \\vdots & \\vdots \\\\\n",
    "\\rho_{K - 1} & \\rho_{K - 2} & \\rho_{K - 3} & \\cdots & \\rho_{1} & \\rho_{K}\n",
    "\\end{vmatrix}\n",
    "}{\n",
    "det\\begin{vmatrix}\n",
    "1 & \\rho_{1} & \\rho_{2} & \\cdots & \\rho_{K - 2} & \\rho_{K - 1}\\\\\n",
    "\\rho_{1} & 1 & \\rho_{1} & \\cdots & \\rho_{K - 3} & \\rho_{K - 2}\\\\\n",
    "\\vdots & \\vdots & \\vdots & \\ddots & \\vdots & \\vdots \\\\\n",
    "\\rho_{K-1} & \\rho_{K-2} & \\rho_{K-3} & \\cdots & \\rho_{1} & 1\n",
    "\\end{vmatrix}\n",
    "}\n",
    "$$\n",
    "- **ACF:** Evalua la autocovarianza siendo el promedio de las covarianzas de las variables aleatorias realizadas que se encuentran en una separación de _k_ periodos de tiempo.\n",
    "  \n",
    "  Supuesto del valor esperado de E[Z_t] = 0\n",
    "- **PACF:** Evalua la correlación entre Z_t y Z_t+K después de remover la dependencia lineal con los datos intermedios.\n",
    "  \n",
    "  Se debe de cumplir ceteris paribus."
   ]
  },
  {
   "cell_type": "code",
   "execution_count": 46,
   "metadata": {
    "vscode": {
     "languageId": "r"
    }
   },
   "outputs": [
    {
     "name": "stdout",
     "output_type": "stream",
     "text": [
      "[1] \"Los datos se comportan como un AR puro de orden 42.\"\n",
      "[1] \"Los datos se comportan como un MA puro de orden 62.\"\n"
     ]
    },
    {
     "data": {
      "image/png": "[encoded data removed]",
      "text/plain": [
       "plot without title"
      ]
     },
     "metadata": {
      "image/png": {
       "height": 420,
       "width": 420
      }
     },
     "output_type": "display_data"
    }
   ],
   "source": [
    "T.Series = function(X, K, alpha, ACF_d = FALSE, PACF_d = FALSE){\n",
    "  # Construcción de los vectores y parámetros\n",
    "  T = length(X)\n",
    "\n",
    "  # Cálculo de variables\n",
    "  Zb = sum(X) / T                                                             # Media muestral\n",
    "  Cv = qt(p = (alpha / 2), df = (T - 1), lower.tail = FALSE) / sqrt(T)        # Valor crítico del intervalo de confianza\n",
    "\n",
    "  # Función de autocovarianza\n",
    "  Gamma = matrix(data = NA)                              \n",
    "  for (i in 0 : K){\n",
    "      Gamma[i + 1] = sum((X[1 : (T - i)] - Zb) * (X[(i + 1) : T] - Zb)) / (T - 1)\n",
    "  }\n",
    "\n",
    "  # Construcción ACF\n",
    "  ACF = data.frame(matrix(data = NA, nrow = (K + 1), ncol = 2))\n",
    "  ACF[, 1] = seq(0, K, 1)\n",
    "  colnames(ACF) = c('K', 'Rho')\n",
    "  for (i in 0 : K){\n",
    "      ACF[i + 1, 2] = Gamma[i + 1] / Gamma[1]\n",
    "  }\n",
    "  ACF = with(ACF, data.frame(K, Rho))\n",
    "\n",
    "  # Construcción PACF\n",
    "  PACF = data.frame(matrix(data = NA, nrow = (K + 1), ncol = 2))  \n",
    "  PACF[, 1] = seq(1, (K + 1), 1)\n",
    "  colnames(PACF) = c('K', 'Phi')                            \n",
    "  for (k in 1 : K){\n",
    "    Den = matrix(data = NA, nrow = k, ncol = k)\n",
    "    for(i in 1 : k){\n",
    "      for(j in 1 : (k - i + 1)){\n",
    "        Den[j, j + i - 1] = ACF[i, 2]\n",
    "        Den[j + i - 1, j] = ACF[i, 2]\n",
    "      }\n",
    "    }\n",
    "    Num = Den\n",
    "    Num[, k] = ACF[2 : (k + 1), 2]\n",
    "    PACF[k, 2] = det(Num) / det(Den)\n",
    "  }\n",
    "  PACF = PACF[-(K + 1),]\n",
    "  PACF = with(PACF, data.frame(K, Phi))\n",
    "\n",
    "  # Gráfica conjunta de ACF y PACF\n",
    "  G_ACF <- ggplot(data = ACF, mapping = aes(x = K, y = Rho)) +\n",
    "        labs(title = 'ACF') +\n",
    "        geom_hline(aes(yintercept = 0)) +\n",
    "        geom_segment(mapping = aes(xend = K, yend = 0)) +\n",
    "        geom_hline(aes(yintercept =   ), color=\"blue\",\n",
    "                linetype = \"dashed\", size = 0.5) + \n",
    "        geom_hline(aes(yintercept = -Cv), color=\"blue\",\n",
    "                linetype = \"dashed\", size = 0.5)\n",
    "        \n",
    "  G_PACF <- ggplot(data = PACF, mapping = aes(x = K, y = Phi)) +\n",
    "        labs(title = 'PACF') +\n",
    "        geom_hline(aes(yintercept = 0)) +\n",
    "        geom_segment(mapping = aes(xend = K, yend = 0)) + \n",
    "        geom_hline(aes(yintercept = Cv), color=\"blue\",\n",
    "                linetype = \"dashed\", size = 0.5) + \n",
    "        geom_hline(aes(yintercept = -Cv), color=\"blue\",\n",
    "                linetype = \"dashed\", size = 0.5)\n",
    "\n",
    "  # Condición de la función\n",
    "  if (PACF_d == TRUE){\n",
    "    print(head(PACF))\n",
    "  }\n",
    "  if (ACF_d == TRUE){\n",
    "    print(head(ACF))\n",
    "  }\n",
    "\n",
    "  # Identificación del modelo AR\n",
    "  CheckAR = matrix(data = NA, ncol = 1, nrow = K)\n",
    "  for(i in 1 : K) {\n",
    "      CheckAR[i] = between(0, (PACF[i, 2] - Cv), (PACF[i, 2] + Cv))\n",
    "      if(CheckAR[i] == 1){\n",
    "          next\n",
    "      }\n",
    "      AR_P = c(i) - 1\n",
    "  }\n",
    "\n",
    "  # Identificación del modelo MA\n",
    "  CheckMA = matrix(data = NA, ncol = 1, nrow = K)\n",
    "  for(i in 1 : K){\n",
    "      CheckMA[i] = between(0, (ACF[i, 2] - Cv * (sqrt(1 + 2 * sum(ACF[(i + 1), 2] ** 2)))), (ACF[i, 2] + Cv) * (sqrt(1 + 2 * sum(ACF[(i + 1), 2] ** 2))))\n",
    "      if(CheckMA[i] == 1){\n",
    "          next\n",
    "      }\n",
    "      MA_Q = c(i) - 1\n",
    "  }\n",
    "\n",
    "  # Estimación comando ARIMA\n",
    "\n",
    "  # Graficación de las pruebas y salidas\n",
    "  print(sprintf('Los datos se comportan como un AR puro de orden %s.', AR_P))\n",
    "  print(sprintf('Los datos se comportan como un MA puro de orden %s.', MA_Q))\n",
    "  # print(Model)\n",
    "  return(G_ACF / G_PACF)\n",
    "}\n",
    "\n",
    "T.Series(X = X, K = K, alpha = alpha, ACF_d = FALSE, PACF_d = FALSE)"
   ]
  },
  {
   "cell_type": "markdown",
   "metadata": {},
   "source": [
    "## Supuestos"
   ]
  },
  {
   "cell_type": "code",
   "execution_count": 23,
   "metadata": {
    "vscode": {
     "languageId": "r"
    }
   },
   "outputs": [],
   "source": [
    "# AR_P = 2\n",
    "# MA_Q = 2\n",
    "# J_Opt = 0\n",
    "\n",
    "# P_D = matrix(data = NA, nrow = AR_P + 1, ncol = MA_Q + 1)\n",
    "# colnames(P_D) = seq(0, MA_Q, 1)\n",
    "# rownames(P_D) = seq(0, AR_P, 1)\n",
    "# for (i in 0 : AR_P){\n",
    "#     for (j in 0 : MA_Q){\n",
    "#         P_D[i + 1, j + 1] = arima(X, order = c(i, 0, j), method = c('ML'))$aic\n",
    "#     }\n",
    "# }\n",
    "\n",
    "# # P_D óptimo (mínimo)\n",
    "# Opt = which.min(P_D[2, ])                     # Número en que posición esta el mínimo \n",
    "# opt = P_D[Opt, 1]                           # Número de diferencias aplicadas a la serie"
   ]
  },
  {
   "cell_type": "code",
   "execution_count": 33,
   "metadata": {
    "vscode": {
     "languageId": "r"
    }
   },
   "outputs": [
    {
     "name": "stdout",
     "output_type": "stream",
     "text": [
      "            At\n",
      "1 -0.061231802\n",
      "2 -0.004185553\n",
      "3  0.052467347\n",
      "4 -0.030501930\n",
      "5  0.023807426\n",
      "6  0.025645203\n"
     ]
    }
   ],
   "source": [
    "# Inputs\n",
    "AR_P = 1\n",
    "MA_Q = 0\n",
    "J_Opt = 0\n",
    "\n",
    "# Salidas\n",
    "Model = arima(X, order = c(AR_P, 0, MA_Q), method = c('ML'))\n",
    "At = Model$residuals\n",
    "print(head(data.frame(At)))"
   ]
  },
  {
   "cell_type": "markdown",
   "metadata": {},
   "source": [
    "### S1. Media 0 de residuales\n",
    "\n",
    "- En caso de que se encuentre suficiente evidencia para rechazar media 0 en los errores con un nivel de significancia alpha, se debe replantear el coeficiente S(J) utilizado para la diferenciación de nivel."
   ]
  },
  {
   "cell_type": "code",
   "execution_count": 34,
   "metadata": {
    "vscode": {
     "languageId": "r"
    }
   },
   "outputs": [
    {
     "name": "stdout",
     "output_type": "stream",
     "text": [
      "[1] \"No hay suficiente evidencia para rechazar media 0 en los erorres con un alpha de 0.05\"\n"
     ]
    }
   ],
   "source": [
    "# Media 0 de residuales\n",
    "t = J_opt + AR_P + 1\n",
    "T = length(At)\n",
    "Ma = sum(At[t : T]) / (T - J_opt - AR_P)\n",
    "Sigma_at = sqrt(t(At - Ma) %*% (At - Ma) / (T - J_opt - AR_P - MA_Q))\n",
    "Stat = abs((sqrt(T - J_opt - AR_P) * Ma) / (Sigma_at)) \n",
    "Vc = qt(p = alpha, df = (T - AR_P - MA_Q - J_opt), lower.tail = FALSE)\n",
    "\n",
    "# Salidas\n",
    "if (Stat < Vc){\n",
    "    print(sprintf('No hay suficiente evidencia para rechazar media 0 en los erorres con un alpha de %s', alpha))\n",
    "} else {\n",
    "    print(sprintf('Hay suficiente evidencia para rechazar media 0 en los erorres con un alpha de %s', alpha))\n",
    "}"
   ]
  },
  {
   "cell_type": "markdown",
   "metadata": {},
   "source": [
    "### S2. Varianza cte de residuales\n",
    "\n",
    "- Para rechazar la varianza constante de los residuales por inspección visual se deben encontrar patrones creciente o decrecientes mas no lateral, para la identificación de la misma se puede utilizar un intervalo de 2 desviaciones estandar de la media (0).\n",
    "- En caso de que se encuentre suficiente evidencia para rechazar una varianza constante en los errores con un nivel de significancia alpha, se debe replantear el coeficiente Lambda utilizado para la diferenciación de varianza."
   ]
  },
  {
   "cell_type": "code",
   "execution_count": 35,
   "metadata": {
    "vscode": {
     "languageId": "r"
    }
   },
   "outputs": [
    {
     "name": "stderr",
     "output_type": "stream",
     "text": [
      "Don't know how to automatically pick scale for object of type ts. Defaulting to continuous.\n",
      "\n"
     ]
    },
    {
     "data": {
      "image/png": "[encoded data removed]",
      "text/plain": [
       "plot without title"
      ]
     },
     "metadata": {
      "image/png": {
       "height": 420,
       "width": 420
      }
     },
     "output_type": "display_data"
    }
   ],
   "source": [
    "# Gráfica de los datos\n",
    "At1 = data.frame(matrix(data = NA, nrow = T, ncol = 2))  \n",
    "colnames(At1) = c('T', 'D.At')\n",
    "At1[, 1] = Dates1[1 : T]\n",
    "At1[, 2] = At\n",
    "At1 = with(At1, data.frame(T, D.At))\n",
    "At_sigma = 2 * Sigma_at\n",
    "\n",
    "# Salidas\n",
    "G_At1 <- ggplot(data = At1, mapping = aes(x = T, y = D.At)) +\n",
    "      geom_line(colour = 'red', size = 1) +\n",
    "      labs(title = 'Inspección de residuales por varianza [At]', x = 'Fecha', y = 'At') +\n",
    "      geom_hline(aes(yintercept = At_sigma), color=\"blue\",\n",
    "            linetype = \"dashed\", size = 1) +\n",
    "      geom_hline(aes(yintercept = -At_sigma), color=\"blue\",\n",
    "            linetype = \"dashed\", size = 1)\n",
    "        \n",
    "G_At1"
   ]
  },
  {
   "cell_type": "markdown",
   "metadata": {},
   "source": [
    "### S3. Independencia de residuales\n",
    "\n",
    "- En caso de que se encuentre suficiente evidencia para rechazar independencia en los errores con un nivel de significancia alpha, se debe replantear los coeficientes (P, Q) utilizados para la identificación del modelo."
   ]
  },
  {
   "cell_type": "code",
   "execution_count": 36,
   "metadata": {
    "vscode": {
     "languageId": "r"
    }
   },
   "outputs": [
    {
     "name": "stdout",
     "output_type": "stream",
     "text": [
      "[1] \"No hay suficiente evidencia para rechazar independencia en los erorres con un alpha de 0.05\"\n",
      "[1] \"Q' = 0.00498099233484874\"\n"
     ]
    }
   ],
   "source": [
    "L.B = function(At, K, AR_P){\n",
    "    J_Opt = 0\n",
    "    T = length(At)    \n",
    "    Rho_at = matrix(data = NA, nrow = (T - K), ncol = 1)\n",
    "    for (i in 1 : (T - K)){\n",
    "        Rho_at[i] = sum(At[i] * At[(i + t)]) / sum(At ** 2)\n",
    "    }\n",
    "\n",
    "    # Prueba de Ljung - Box\n",
    "    Q = (T - J_opt - AR_P) * (T - J_opt - AR_P + 2) * sum((sum(Rho_at) ** 2) / (T - J_opt - AR_P - K)) \n",
    "    Vc = qchisq(p = alpha, df = (K - AR_P - MA_Q))\n",
    "\n",
    "    # Salida\n",
    "    if (Q < Vc){\n",
    "        print(sprintf('No hay suficiente evidencia para rechazar independencia en los erorres con un alpha de %s', alpha))\n",
    "    } else {\n",
    "        print(sprintf('Hay suficiente evidencia para rechazar independencia en los erorres con un alpha de %s', alpha))\n",
    "    } \n",
    "}\n",
    "\n",
    "print(sprintf(\"Q' = %s\", Q))"
   ]
  },
  {
   "cell_type": "markdown",
   "metadata": {},
   "source": [
    "### S4. Normalidad de residuales\n",
    "- En caso de que se encuentre suficiente evidencia para rechazar normalidad en los errores con un nivel de significancia alpha, se debe replantear el coeficiente Lambda utilizado para la diferenciación de varianza."
   ]
  },
  {
   "cell_type": "code",
   "execution_count": 37,
   "metadata": {
    "vscode": {
     "languageId": "r"
    }
   },
   "outputs": [
    {
     "name": "stdout",
     "output_type": "stream",
     "text": [
      "[1] \"No hay suficiente evidencia para rechazar normalidad en los errores a un nivel de significancia alpha de: 0.05\"\n"
     ]
    },
    {
     "name": "stderr",
     "output_type": "stream",
     "text": [
      "Don't know how to automatically pick scale for object of type ts. Defaulting to continuous.\n",
      "\n"
     ]
    },
    {
     "data": {
      "image/png": "[encoded data removed]",
      "text/plain": [
       "plot without title"
      ]
     },
     "metadata": {
      "image/png": {
       "height": 420,
       "width": 420
      }
     },
     "output_type": "display_data"
    }
   ],
   "source": [
    "#Prueba Jarque Bera (Normalidad en el error)\n",
    "JB = jarque.bera.test(At)                                         #Forma rápida\n",
    "S = (sum((At - mean(At)) ** 3) / T) / (sqrt(as.numeric((t(At) %*% At) / T)) ** 3)           # Asimetría\n",
    "K1 = (sum((At - mean(At)) ** 4) / T) / (sqrt(as.numeric((t(At) %*% At) / T)) ** 4)          # Kurtosis\n",
    "JB = ((S ** 2 / 6) + ((K1 - 3) ** 2 / 24))\n",
    "VcJB = qchisq(alpha, df = 2, lower.tail = FALSE)\n",
    "\n",
    "# Salida\n",
    "if(JB < VcJB){\n",
    "    print(sprintf('No hay suficiente evidencia para rechazar normalidad en los errores a un nivel de significancia alpha de: %s', alpha))\n",
    "} else {\n",
    "    print(sprintf('Hay suficiente evidencia para rechazar normalidad en los errores a un nivel de significancia alpha de: %s', alpha))\n",
    "}\n",
    "\n",
    "# Histograma de los At\n",
    "At1 = data.frame(matrix(data = NA, nrow = T, ncol = 2))\n",
    "colnames(At1) = c('K', 'At')\n",
    "At1[, 1] = seq(1, T, 1)\n",
    "At1[, 2] = At\n",
    "A_h = ggplot(At1, aes(x = At)) + \n",
    "    labs(title = 'Histograma de At', x = 'At', y = 'Densidad') +\n",
    "    geom_histogram(aes(y = ..density..), colour = 'darkblue', fill = 'lightblue', alpha = 0.5, binwidth = 0.009) +\n",
    "    geom_density(alpha = 0.2, fill = \"#FF6666\") +\n",
    "    geom_vline(aes(xintercept= mean(At)), color = \"blue\", linetype = \"dashed\", size = 0.7) \n",
    "A_h"
   ]
  },
  {
   "cell_type": "markdown",
   "metadata": {},
   "source": [
    "### S5. No existencia de observaciones aberrantes\n",
    "- En caso de que se encuentre suficiente evidencia para rechazar independencia en los errores con un nivel de significancia alpha, se debe revisar en qué momentos del tiempo se presentaron esos datos y la importancia que tienen sobre el modelo."
   ]
  },
  {
   "cell_type": "code",
   "execution_count": 38,
   "metadata": {
    "vscode": {
     "languageId": "r"
    }
   },
   "outputs": [
    {
     "name": "stdout",
     "output_type": "stream",
     "text": [
      "[1] \"Hay un total de 1 observaciones aberrantes\"\n"
     ]
    },
    {
     "name": "stderr",
     "output_type": "stream",
     "text": [
      "Don't know how to automatically pick scale for object of type ts. Defaulting to continuous.\n",
      "\n"
     ]
    },
    {
     "data": {
      "image/png": "[encoded data removed]",
      "text/plain": [
       "plot without title"
      ]
     },
     "metadata": {
      "image/png": {
       "height": 420,
       "width": 420
      }
     },
     "output_type": "display_data"
    }
   ],
   "source": [
    "# Cantidad de observaciones aberrantes\n",
    "Obs.aberr <- function(X){    \n",
    "    T = length(X)\n",
    "    Xmean = sum(X) / T\n",
    "    Xsd = sd(X)  \n",
    "    LS = Xmean + (3 * Xsd)\n",
    "    LI = Xmean - (3 * Xsd)  \n",
    "    D.aberr = c()\n",
    "\n",
    "    for (i in 1 : T){\n",
    "        if (X[i] < LS & X[i] > LI){\n",
    "            D.aberr[i] = NA\n",
    "        } else {\n",
    "            D.aberr[i] = X[i]\n",
    "        }\n",
    "    }\n",
    "\n",
    "    D.aberr = na.omit(D.aberr)  \n",
    "\n",
    "    # Salidas\n",
    "    print(sprintf('Hay un total de %s observaciones aberrantes', length(D.aberr)))\n",
    "}\n",
    "\n",
    "# Gráfica de los datos\n",
    "At1 = data.frame(matrix(data = NA, nrow = T, ncol = 2))  \n",
    "colnames(At1) = c('T', 'D.At')\n",
    "At1[, 1] = Dates1[1 : T]\n",
    "At1[, 2] = At\n",
    "At1 = with(At1, data.frame(T, D.At))\n",
    "At_sigma = 3 * Sigma_at\n",
    "\n",
    "G_At1 <- ggplot(data = At1, mapping = aes(x = T, y = D.At)) +\n",
    "  geom_line(colour = '#ff0202', size = 1) +\n",
    "  labs(title = 'At', x = 'Fecha', y = 'At') +\n",
    "  geom_hline(aes(yintercept = At_sigma), color=\"blue\",\n",
    "        linetype = \"dashed\", size = 1) +\n",
    "  geom_hline(aes(yintercept = -At_sigma), color=\"blue\",\n",
    "        linetype = \"dashed\", size = 1)\n",
    "\n",
    "# Salidas\n",
    "Obs.aberr(X = At)\n",
    "G_At1"
   ]
  },
  {
   "cell_type": "markdown",
   "metadata": {},
   "source": [
    "### S6. Parsimonio\n",
    "- En caso de que se encuentre suficiente evidencia para rechazar independencia en los errores con un nivel de significancia alpha, se debe replantear los coeficientes (P, Q) utilizados para la identificación del modelo."
   ]
  },
  {
   "cell_type": "code",
   "execution_count": 39,
   "metadata": {
    "vscode": {
     "languageId": "r"
    }
   },
   "outputs": [
    {
     "name": "stdout",
     "output_type": "stream",
     "text": [
      "          Test.de.parsimonia\n",
      "ar1             P. Necesario\n",
      "intercept     P. Innecesario\n"
     ]
    }
   ],
   "source": [
    "Parsimonio = function(Delta, Delta.var){\n",
    "    Desv = sqrt(Delta.var)\n",
    "    Vec = Delta\n",
    "    for (i in 1 : length(Delta)){\n",
    "        LS = Delta[i] + (2 * Desv[i])\n",
    "        LI = Delta[i] - (2 * Desv[i])\n",
    "        if (LS > 0 & LI > 0 || LS < 0 & LI < 0){\n",
    "            Vec[i] = \"P. Necesario\"\n",
    "        } else {\n",
    "            Vec[i]= \"P. Innecesario\"\n",
    "        }\n",
    "    }\n",
    "    Vec = data.frame(Vec)\n",
    "    colnames(Vec) = c('Test de parsimonia')\n",
    "    print(data.frame(Vec))\n",
    "}\n",
    "\n",
    "Coeff <- Model$coef\n",
    "Var.coeff <- diag(Model$var.coef)\n",
    "Parsimonio(Delta = Coeff, Delta.var = Var.coeff)"
   ]
  },
  {
   "cell_type": "markdown",
   "metadata": {},
   "source": [
    "## Pronóstico"
   ]
  },
  {
   "cell_type": "code",
   "execution_count": 40,
   "metadata": {
    "vscode": {
     "languageId": "r"
    }
   },
   "outputs": [
    {
     "name": "stderr",
     "output_type": "stream",
     "text": [
      "Don't know how to automatically pick scale for object of type ts. Defaulting to continuous.\n",
      "\n"
     ]
    },
    {
     "data": {
      "image/png": "[encoded data removed]",
      "text/plain": [
       "plot without title"
      ]
     },
     "metadata": {
      "image/png": {
       "height": 420,
       "width": 420
      }
     },
     "output_type": "display_data"
    }
   ],
   "source": [
    "# Datos pronosticados\n",
    "Pron = forecast(Model, h = P)\n",
    "Upper = Pron$upper\n",
    "Lower = Pron$lower\n",
    "xp = Pron$x\n",
    "\n",
    "# Media\n",
    "Mid = Pron$mean\n",
    "Mid1 = data.frame(matrix(data = NA, nrow = P, ncol = 2))\n",
    "colnames(Mid1) = c('T', 'Media')\n",
    "Mid1[, 1] = seq((length(xp) + 1), (length(xp) + P), 1)\n",
    "Mid1[, 2] = Mid\n",
    "\n",
    "# Upper 80% confidence level\n",
    "Up80 = Upper[, 1]\n",
    "Up.80 = data.frame(matrix(data = NA, nrow = P, ncol = 2))\n",
    "colnames(Up.80) = c('T', 'Up80')\n",
    "Up.80[, 1] = seq((length(xp) + 1), (length(xp) + P), 1)\n",
    "Up.80[, 2] = Up80\n",
    "\n",
    "# Lower 80% confidence level\n",
    "Low80 = Lower[, 1]\n",
    "Low.80 = data.frame(matrix(data = NA, nrow = P, ncol = 2))\n",
    "colnames(Low.80) = c('T', 'Low80')\n",
    "Low.80[, 1] = seq((length(xp) + 1), (length(xp) + P), 1)\n",
    "Low.80[, 2] = Low80\n",
    "\n",
    "# Upper 95% confidence level\n",
    "Up95 = Upper[, 2]\n",
    "Up.95 = data.frame(matrix(data = NA, nrow = P, ncol = 2))\n",
    "colnames(Up.95) = c('T', 'Up95')\n",
    "Up.95[, 1] = seq((length(xp) + 1), (length(xp) + P), 1)\n",
    "Up.95[, 2] = Up95\n",
    "\n",
    "# Lower 95% confidence level\n",
    "Low95 = Lower[, 2]\n",
    "Low.95 = data.frame(matrix(data = NA, nrow = P, ncol = 2))\n",
    "colnames(Low.95) = c('T', 'Low95')\n",
    "Low.95[, 1] = seq((length(xp) + 1), (length(xp) + P), 1)\n",
    "Low.95[, 2] = Low95\n",
    "\n",
    "# Datos muestrales\n",
    "XII = data.frame(matrix(data = NA, nrow = length(xp), ncol = 2))\n",
    "colnames(XII) = c('T', 'D.Obs')\n",
    "XII[, 1] = seq(1, length(xp), 1)\n",
    "XII[, 2] = xp\n",
    "\n",
    "G_XII <- ggplot(data = XII, mapping = aes(x = T, y = D.Obs, group = 12)) +\n",
    "  geom_line(colour = 'black', size = 0.8) +\n",
    "  labs(title = 'Datos simulados - Pronóstico', x = 'T', y = 'ICCV') +\n",
    "  geom_line(data = Mid1, mapping = aes(x = T, y = Media, group = 12), colour = 'blue', size = 1) +\n",
    "  geom_line(data = Up.80, mapping = aes(x = T, y = Up80, group = 12), colour = '#ff8c00', size = 1) +\n",
    "  geom_line(data = Low.80, mapping = aes(x = T, y = Low80, group = 12), colour = '#ff8c00', size = 1) +\n",
    "  geom_line(data = Up.95, mapping = aes(x = T, y = Up95, group = 12), colour = 'red', size = 1) +\n",
    "  geom_line(data = Low.95, mapping = aes(x = T, y = Low95, group = 12), colour = 'red', size = 1) +\n",
    "  theme(legend.position=\"top\")\n",
    "\n",
    "G_XII"
   ]
  },
  {
   "cell_type": "markdown",
   "metadata": {},
   "source": [
    "# Procedimientos AR[p] y MA[q] ~ Martha"
   ]
  },
  {
   "cell_type": "markdown",
   "metadata": {},
   "source": [
    "## AR[1] y su representación MA[Inf]"
   ]
  },
  {
   "cell_type": "code",
   "execution_count": 99,
   "metadata": {
    "vscode": {
     "languageId": "r"
    }
   },
   "outputs": [
    {
     "name": "stdout",
     "output_type": "stream",
     "text": [
      "  Phi_1\n",
      "1  0.45\n",
      "[1] \"La varianza del proceso es 0.1505\"\n",
      "  K        Rho\n",
      "1 0 1.00000000\n",
      "2 1 0.45000000\n",
      "3 2 0.20250000\n",
      "4 3 0.09112500\n",
      "5 4 0.04100625\n",
      "6 5 0.01845281\n",
      "  K           Phi\n",
      "1 1  4.500000e-01\n",
      "2 2  0.000000e+00\n",
      "3 3  0.000000e+00\n",
      "4 4 -8.700807e-18\n",
      "5 5  3.915363e-18\n",
      "6 6 -7.244878e-34\n",
      "  K        Psi\n",
      "1 0 1.00000000\n",
      "2 1 0.45000000\n",
      "3 2 0.20250000\n",
      "4 3 0.09112500\n",
      "5 4 0.04100625\n",
      "6 5 0.01845281\n"
     ]
    },
    {
     "data": {
      "image/png": "[encoded data removed]",
      "text/plain": [
       "plot without title"
      ]
     },
     "metadata": {
      "image/png": {
       "height": 420,
       "width": 420
      }
     },
     "output_type": "display_data"
    }
   ],
   "source": [
    "AR_1 = function(Phi, K, sigma_a, alpha = 0.05, MA_inf = FALSE){\n",
    "    Phi_1 = Phi\n",
    "    if (abs(Phi_1) < 1){\n",
    "        # Construcción ACF\n",
    "        ACF = data.frame(matrix(data = NA, nrow = (K + 1), ncol = 2))\n",
    "        ACF[, 1] = seq(0, K, 1)\n",
    "        colnames(ACF) = c('K', 'Rho')\n",
    "        for (i in 0 : K){\n",
    "            ACF[i + 1, 2] = Phi_1 ** i\n",
    "        }\n",
    "        ACF = with(ACF, data.frame(K, Rho))\n",
    "\n",
    "        # Construcción PACF\n",
    "        PACF = data.frame(matrix(data = NA, nrow = (K + 1), ncol = 2))  \n",
    "        PACF[, 1] = seq(1, (K + 1), 1)\n",
    "        colnames(PACF) = c('K', 'Phi')                            \n",
    "        for (k in 1 : K){\n",
    "        Den = matrix(data = NA, nrow = k, ncol = k)\n",
    "        for(i in 1 : k){\n",
    "            for(j in 1 : (k - i + 1)){\n",
    "            Den[j, j + i - 1] = ACF[i, 2]\n",
    "            Den[j + i - 1, j] = ACF[i, 2]\n",
    "            }\n",
    "        }\n",
    "        Num = Den\n",
    "        Num[, k] = ACF[2 : (k + 1), 2]\n",
    "        PACF[k, 2] = det(Num) / det(Den)\n",
    "        }\n",
    "        PACF = PACF[-(K + 1),]\n",
    "        PACF = with(PACF, data.frame(K, Phi))\n",
    "\n",
    "        # Varianza del proceso\n",
    "        Gamma_0 = sigma_a / (1 - (Phi_1 ** 2))\n",
    "\n",
    "        # Gráfica conjunta de ACF y PACF\n",
    "        T = 216\n",
    "        Cv = qt(p = (alpha / 2), df = (T - 1), lower.tail = FALSE) / sqrt(T)        # Valor crítico del intervalo de confianza\n",
    "        G_ACF_1 <- ggplot(data = ACF, mapping = aes(x = K, y = Rho)) +\n",
    "            labs(title = 'ACF AR[1]') +\n",
    "            geom_hline(aes(yintercept = 0)) +\n",
    "            geom_segment(mapping = aes(xend = K, yend = 0)) +\n",
    "            geom_hline(aes(yintercept = Cv), color=\"blue\",\n",
    "                    linetype = \"dashed\") + \n",
    "            geom_hline(aes(yintercept = -Cv), color=\"blue\",\n",
    "                    linetype = \"dashed\")\n",
    "                \n",
    "        G_PACF_1 <- ggplot(data = PACF, mapping = aes(x = K, y = Phi)) +\n",
    "            labs(title = 'PACF AR[1]') +\n",
    "            geom_hline(aes(yintercept = 0)) +\n",
    "            geom_segment(mapping = aes(xend = K, yend = 0)) + \n",
    "            geom_hline(aes(yintercept = Cv), color=\"blue\",\n",
    "                    linetype = \"dashed\") + \n",
    "            geom_hline(aes(yintercept = -Cv), color=\"blue\",\n",
    "                    linetype = \"dashed\")\n",
    "        \n",
    "        if (MA_inf == TRUE){\n",
    "            # Construcción ACF (Solución de la función generadora)\n",
    "            ACF_MA = data.frame(matrix(data = NA, nrow = (K + 1), ncol = 2))\n",
    "            ACF_MA[, 1] = seq(0, K, 1)\n",
    "            colnames(ACF_MA) = c('K', 'Psi')\n",
    "            for (i in 0 : K){\n",
    "                ACF_MA[i + 1, 2] = as.numeric(PACF[1, 2] ** i)\n",
    "            }\n",
    "            ACF_MA = with(ACF_MA, data.frame(K, Psi))\n",
    "\n",
    "            # Gráfica\n",
    "            G_MA <- ggplot(data = ACF_MA, mapping = aes(x = K, y = Psi)) +\n",
    "                labs(title = 'MA[inf] AR[1]') +\n",
    "                geom_hline(aes(yintercept = 0)) +\n",
    "                geom_segment(mapping = aes(xend = K, yend = 0)) +\n",
    "                geom_hline(aes(yintercept = Cv), color=\"blue\",\n",
    "                        linetype = \"dashed\") + \n",
    "                geom_hline(aes(yintercept = -Cv), color=\"blue\",\n",
    "                        linetype = \"dashed\")\n",
    "\n",
    "\n",
    "            # Salidas\n",
    "            print(data.frame(Phi_1))\n",
    "            print(sprintf('La varianza del proceso es %s', round(Gamma_0, 4)))\n",
    "            print(data.frame(head(ACF)))\n",
    "            print(data.frame(head(PACF)))\n",
    "            print(data.frame(head(ACF_MA)))\n",
    "            return((G_ACF_1 / G_PACF_1) |  G_MA)\n",
    "        } else {\n",
    "            # Salidas\n",
    "            print(data.frame(Phi_1))\n",
    "            print(sprintf('La varianza del proceso es %s', round(Gamma_0, 4)))\n",
    "            print(data.frame(head(ACF)))\n",
    "            print(data.frame(head(PACF)))\n",
    "            return(G_ACF_1 / G_PACF_1)\n",
    "        }\n",
    "\n",
    "    } else {\n",
    "        print(sprintf('El proceso no es estacionario al tener su factor |%s| > 1', round(G, 4)))\n",
    "    }\n",
    "}\n",
    "\n",
    "AR_1(Phi = c(0.45), K = 36, sigma_a = 0.12, MA_inf = TRUE)"
   ]
  },
  {
   "cell_type": "markdown",
   "metadata": {},
   "source": [
    "## AR[2] y su representación MA[Inf]"
   ]
  },
  {
   "cell_type": "code",
   "execution_count": 100,
   "metadata": {
    "vscode": {
     "languageId": "r"
    }
   },
   "outputs": [
    {
     "name": "stdout",
     "output_type": "stream",
     "text": [
      "      G\n",
      "1  0.32\n",
      "2 -0.41\n",
      "  K           Rho\n",
      "1 0  1.0000000000\n",
      "2 1  0.0795615276\n",
      "3 2  0.1240394625\n",
      "4 3 -0.0007250792\n",
      "5 4  0.0163392346\n",
      "6 5 -0.0015656615\n",
      "  K           Phi\n",
      "1 1  7.956153e-02\n",
      "2 2  1.184593e-01\n",
      "3 3 -1.923966e-02\n",
      "4 4  3.125983e-03\n",
      "5 5 -5.079022e-04\n",
      "6 6  8.252274e-05\n",
      "[1] \"La varianza del proceso es 0.0514\"\n",
      "  K           Psi\n",
      "1 0  1.0000000000\n",
      "2 1  0.0795615276\n",
      "3 2  0.1240394625\n",
      "4 3 -0.0007250792\n",
      "5 4  0.0163392346\n",
      "6 5 -0.0015656615\n"
     ]
    },
    {
     "data": {
      "image/png": "[encoded data removed]",
      "text/plain": [
       "plot without title"
      ]
     },
     "metadata": {
      "image/png": {
       "height": 420,
       "width": 420
      }
     },
     "output_type": "display_data"
    }
   ],
   "source": [
    "AR_2 = function(Phi, K, sigma_a, alpha = 0.05, MA_inf = FALSE){\n",
    "\n",
    "    # Cálculo de los factores con su parte imaginaria\n",
    "    Phi = matrix(data = c(-1, c(Phi)), nrow = 3, ncol = 1) * -1\n",
    "    G = matrix(data = c(as.complex(polyroot(Phi)) ** -1), nrow = 2, ncol = 1)               # Polyroot devuelve las raices, ** -1 = Factores\n",
    "    for (i in 1 : length(G)){\n",
    "        if (sum(round(Im(G), 10)) == 0){\n",
    "            G = G\n",
    "        } else {\n",
    "            Re_G = Re(G)\n",
    "            Im_G = Im(G)\n",
    "            for (i in 1 : length(G)){                                                               # Convierten los números complejos en reales\n",
    "                G[i] = sqrt(Re_G[i] ** 2 + Im_G[i] ** 2)\n",
    "            }\n",
    "        }\n",
    "    }\n",
    "\n",
    "    # Identificación estacionareidad\n",
    "    G = round(Re(G), 10)\n",
    "    Check = matrix(data = NA, nrow = length(G), ncol = 1)\n",
    "    for (i in 1 : length(G)){\n",
    "        if (abs(G[i]) < 1){\n",
    "            Check[i] = 1\n",
    "        } else {\n",
    "            Check[i] = 0\n",
    "        }\n",
    "    }\n",
    "\n",
    "    if (sum(Check) == length(G)){\n",
    "        Rho = matrix(data = NA, nrow = length(G), ncol = 1)\n",
    "        Rho[1] = 1\n",
    "        Rho[2] = (Phi[2]) / (1 - (Phi[3]))\n",
    "\n",
    "        # Identifiación de raices iguales\n",
    "        if((G[1]) == (G[2])){                                           # Factores iguales\n",
    "            FG = matrix(data = NA, nrow = 2, ncol = 2)\n",
    "            FG = rbind(c(1, 0), c(G))                                   # Cálculo de los valores iniciales con factores iguales\n",
    "            A = as.matrix(solve(FG) %*% Rho)\n",
    "\n",
    "            # Construcción ACF (Solución de la función generadora)\n",
    "            ACF = data.frame(matrix(data = NA, nrow = (K + 1), ncol = 2))\n",
    "            ACF[, 1] = seq(0, K, 1)\n",
    "            colnames(ACF) = c('K', 'Rho')\n",
    "            for (i in 0 : K){\n",
    "                ACF[i + 1, 2] = as.numeric((A[1] * (G[1] ** i)) + (A[2] * (G[2] ** i) * i))\n",
    "            }\n",
    "            ACF = with(ACF, data.frame(K, Rho))\n",
    "        } else{                                                         # Factores diferentes\n",
    "            FG = matrix(data = NA, nrow = 2, ncol = 2)\n",
    "            FG = rbind(c(1, 1), c(G))                                   # Cálculo de los valores iniciales con factores iguales\n",
    "            A = as.matrix(solve(FG) %*% Rho)\n",
    "            \n",
    "            # Construcción ACF (Solución de la función generadora)\n",
    "            ACF = data.frame(matrix(data = NA, nrow = (K + 1), ncol = 2))\n",
    "            ACF[, 1] = seq(0, K, 1)\n",
    "            colnames(ACF) = c('K', 'Rho')\n",
    "            for (i in 0 : K){\n",
    "                ACF[i + 1, 2] = as.numeric((A[1] * (G[1] ** i)) + (A[2] * (G[2] ** i)))\n",
    "            }\n",
    "            ACF = with(ACF, data.frame(K, Rho))\n",
    "        }\n",
    "\n",
    "        # Construcción PACF (Usando Cramer)\n",
    "        PACF = data.frame(matrix(data = NA, nrow = (K + 1), ncol = 2))  \n",
    "        PACF[, 1] = seq(1, (K + 1), 1)\n",
    "        colnames(PACF) = c('K', 'Phi')                            \n",
    "        for (k in 1 : K){\n",
    "        Den = matrix(data = NA, nrow = k, ncol = k)\n",
    "        for(i in 1 : k){\n",
    "            for(j in 1 : (k - i + 1)){\n",
    "            Den[j, j + i - 1] = ACF[i, 2]\n",
    "            Den[j + i - 1, j] = ACF[i, 2]\n",
    "            }\n",
    "        }\n",
    "        Num = Den\n",
    "        Num[, k] = ACF[2 : (k + 1), 2]\n",
    "        PACF[k, 2] = det(Num) / det(Den)\n",
    "        }\n",
    "        PACF = PACF[-(K + 1),]\n",
    "        PACF = with(PACF, data.frame(K, Phi))\n",
    "\n",
    "        # Cálculo de la varianza del proceso\n",
    "        Phi = Phi * -1\n",
    "        Gamma_0 = ((1 - Phi[3]) * sigma_a) / ((1 + Phi[3]) * (1 - Phi[2] - Phi[3]) * (1 + Phi[2] - Phi[3]))\n",
    "\n",
    "        # Gráfica conjunta de ACF y PACF\n",
    "        T = 216\n",
    "        Cv = qt(p = (alpha / 2), df = (T - 1), lower.tail = FALSE) / sqrt(T)        # Valor crítico del intervalo de confianza\n",
    "        G_ACF_2 <- ggplot(data = ACF, mapping = aes(x = K, y = Rho)) +\n",
    "            labs(title = 'ACF AR[2]') +\n",
    "            geom_hline(aes(yintercept = 0)) +\n",
    "            geom_segment(mapping = aes(xend = K, yend = 0)) +\n",
    "            geom_hline(aes(yintercept = Cv), color=\"blue\",\n",
    "                    linetype = \"dashed\") + \n",
    "            geom_hline(aes(yintercept = -Cv), color=\"blue\",\n",
    "                    linetype = \"dashed\")\n",
    "                \n",
    "        G_PACF_2 <- ggplot(data = PACF, mapping = aes(x = K, y = Phi)) +\n",
    "            labs(title = 'PACF AR[2]') +\n",
    "            geom_hline(aes(yintercept = 0)) +\n",
    "            geom_segment(mapping = aes(xend = K, yend = 0)) + \n",
    "            geom_hline(aes(yintercept = Cv), color=\"blue\",\n",
    "                    linetype = \"dashed\") + \n",
    "            geom_hline(aes(yintercept = -Cv), color=\"blue\",\n",
    "                    linetype = \"dashed\")\n",
    "\n",
    "        # Representación MA infinita de un AR[2]\n",
    "        if (MA_inf == TRUE){\n",
    "            if((G[1]) == (G[2])){                                           # Factores iguales\n",
    "                Psi = matrix(data = c(1, PACF[1, 2]), nrow = 2, ncol = 1)\n",
    "                FG = matrix(data = NA, nrow = 2, ncol = 2)\n",
    "                FG = rbind(c(1, 0), c(G))                                   # Cálculo de los valores iniciales con factores iguales\n",
    "                A = as.matrix(solve(FG) %*% Psi)\n",
    "\n",
    "                # Construcción ACF (Solución de la función generadora)\n",
    "                ACF_MA = data.frame(matrix(data = NA, nrow = (K + 1), ncol = 2))\n",
    "                ACF_MA[, 1] = seq(0, K, 1)\n",
    "                colnames(ACF_MA) = c('K', 'Psi')\n",
    "                for (i in 0 : K){\n",
    "                    ACF_MA[i + 1, 2] = as.numeric((A[1] * (G[1] ** i)) + (A[2] * (G[2] ** i)))\n",
    "                }\n",
    "                ACF_MA = with(ACF_MA, data.frame(K, Psi))\n",
    "            } else{                                                         # Factores diferentes\n",
    "                Psi = matrix(data = c(1, PACF[1, 2]), nrow = 2, ncol = 1)\n",
    "                FG = matrix(data = NA, nrow = 2, ncol = 2)\n",
    "                FG = rbind(c(1, 1), c(G))                                   # Cálculo de los valores iniciales con factores iguales\n",
    "                A = as.matrix(solve(FG) %*% Psi)\n",
    "\n",
    "                # Construcción ACF (Solución de la función generadora)\n",
    "                ACF_MA = data.frame(matrix(data = NA, nrow = (K + 1), ncol = 2))\n",
    "                ACF_MA[, 1] = seq(0, K, 1)\n",
    "                colnames(ACF_MA) = c('K', 'Psi')\n",
    "                for (i in 0 : K){\n",
    "                    ACF_MA[i + 1, 2] = as.numeric((A[1] * (G[1] ** i)) + (A[2] * (G[2] ** i)))\n",
    "                }\n",
    "                ACF_MA = with(ACF_MA, data.frame(K, Psi))\n",
    "            }\n",
    "\n",
    "            # Gráfica conjunta de ACF\n",
    "            G_MA <- ggplot(data = ACF_MA, mapping = aes(x = K, y = Psi)) +\n",
    "                labs(title = 'MA[inf] AR[2]') +\n",
    "                geom_hline(aes(yintercept = 0)) +\n",
    "                geom_segment(mapping = aes(xend = K, yend = 0)) +\n",
    "                geom_hline(aes(yintercept = Cv), color=\"blue\",\n",
    "                        linetype = \"dashed\") + \n",
    "                geom_hline(aes(yintercept = -Cv), color=\"blue\",\n",
    "                        linetype = \"dashed\")\n",
    "\n",
    "            # Salidas\n",
    "            print(data.frame(G))\n",
    "            print(data.frame(head(ACF)))\n",
    "            print(data.frame(head(PACF)))\n",
    "            print(sprintf('La varianza del proceso es %s', round(Gamma_0, 4)))\n",
    "            print(data.frame(head(ACF_MA)))\n",
    "            return((G_ACF_2 / G_PACF_2) | G_MA)\n",
    "        } else {\n",
    "            # Salidas\n",
    "            print(data.frame(G))\n",
    "            print(data.frame(head(ACF)))\n",
    "            print(data.frame(head(PACF)))\n",
    "            print(sprintf('La varianza del proceso es %s', round(Gamma_0, 4)))\n",
    "            return(G_ACF_2 / G_PACF_2)\n",
    "        }\n",
    "    } else {\n",
    "        print(sprintf('El proceso no es estacionario al tener sus factores |%s| > 1', round(G, 4)))\n",
    "    }\n",
    "}\n",
    "\n",
    "AR_2(Phi = c(-0.09, 0.1312), K = 36, sigma_a = 0.05, MA_inf = TRUE)"
   ]
  },
  {
   "cell_type": "markdown",
   "metadata": {},
   "source": [
    "## AR[3] y su representación MA[Inf]"
   ]
  },
  {
   "cell_type": "code",
   "execution_count": 101,
   "metadata": {
    "vscode": {
     "languageId": "r"
    }
   },
   "outputs": [
    {
     "name": "stdout",
     "output_type": "stream",
     "text": [
      "[1] \"Todos los factores son diferentes.\"\n",
      "           G\n",
      "1  0.6300752\n",
      "2  0.4399029\n",
      "3 -0.2099780\n",
      "  K       Rho\n",
      "1 0 1.0000000\n",
      "2 1 0.7851921\n",
      "3 2 0.5770670\n",
      "4 3 0.3968551\n",
      "5 4 0.2653012\n",
      "6 5 0.1737388\n",
      "  K           Phi\n",
      "1 1  7.851921e-01\n",
      "2 2 -1.029005e-01\n",
      "3 3 -5.820000e-02\n",
      "4 4  1.030473e-11\n",
      "5 5  2.623706e-12\n",
      "6 6 -3.443066e-17\n",
      "  Gamma     Valor\n",
      "1     0 0.3173530\n",
      "2     1 0.2491831\n",
      "3     2 0.1831340\n",
      "  K       Psi\n",
      "1 0 1.0000000\n",
      "2 1 0.7851921\n",
      "3 2 0.5136261\n",
      "4 3 0.3422959\n",
      "5 4 0.2217109\n",
      "6 5 0.1428078\n"
     ]
    },
    {
     "data": {
      "image/png": "[encoded data removed]",
      "text/plain": [
       "plot without title"
      ]
     },
     "metadata": {
      "image/png": {
       "height": 420,
       "width": 420
      }
     },
     "output_type": "display_data"
    }
   ],
   "source": [
    "AR_3 = function(Phi, K, sigma_a, alpha = 0.05, MA_inf = FALSE){\n",
    "    # Cálculo de los factores con su parte imaginaria\n",
    "    Phi = matrix(data = c(-1, c(Phi)), nrow = 4, ncol = 1) * -1\n",
    "    G = matrix(data = c(as.complex(polyroot(Phi)) ** -1), nrow = 3, ncol = 1)               # Polyroot devuelve las raices, ** -1 = Factores\n",
    "    for (i in 1 : length(G)){\n",
    "        if (sum(round(Im(G), 10)) == 0){\n",
    "            G = G\n",
    "        } else {\n",
    "            Re_G = Re(G)\n",
    "            Im_G = Im(G)\n",
    "            for (i in 1 : length(G)){                                                               # Convierten los números complejos en reales\n",
    "                G[i] = sqrt(Re_G[i] ** 2 + Im_G[i] ** 2)\n",
    "            }\n",
    "        }\n",
    "    }\n",
    "\n",
    "    # Identificación estacionareidad\n",
    "    NG = length(G)\n",
    "    G = round(Re(G), 10)\n",
    "    Check = matrix(data = NA, nrow = NG, ncol = 1)\n",
    "    for (i in 1 : NG){\n",
    "        if (abs(G[i]) < 1){\n",
    "            Check[i] = 1\n",
    "        } else {\n",
    "            Check[i] = 0\n",
    "        }\n",
    "    }\n",
    "\n",
    "    # Identificación de factores iguales \n",
    "    Check_fact = matrix(data = sort(G, decreasing = TRUE), nrow = NG, ncol = 2)\n",
    "    for (i in 2 : NG){\n",
    "        Check_fact[1, 2] = 1\n",
    "        if (Check_fact[i, 1] == Check_fact[(i - 1), 1]){                                      \n",
    "            Check_fact[i, 2] = Check_fact[(i - 1), 2] + 1\n",
    "        } else {                                                                    \n",
    "            Check_fact[i, 2] = 1\n",
    "        }\n",
    "    }\n",
    "\n",
    "    # Cálculo de los valores iniciales\n",
    "    if (sum(Check) == 3){\n",
    "        \n",
    "        # Cálculo de los Rho\n",
    "        Phi = Phi * -1\n",
    "        Rho1 = (Phi[2] + (Phi[3] * Phi[4])) / (1 - Phi[3] - (Phi[4] * Phi[2]) - Phi[4] ** 2)\n",
    "        Rho2 = Rho1 * (Phi[2] + Phi[4]) + Phi[3]\n",
    "        Rho = matrix(data = c(1, Rho1, Rho2), nrow = NG, ncol = 1)         \n",
    "\n",
    "        # Cálculo de la ACF con y sin factores distintos\n",
    "        if (sum(Check_fact[, 2]) == NG){\n",
    "            Ginv = rbind(c(1, 1, 1), c(G), c(G ** 2))               # Cálculo de los valores iniciales con factores diferentes\n",
    "            A = as.matrix(solve(Ginv) %*% Rho)\n",
    "            print('Todos los factores son diferentes.')\n",
    "\n",
    "            # Construcción ACF (Solución de la función generadora)\n",
    "            ACF = data.frame(matrix(data = NA, nrow = (K + 1), ncol = 2))\n",
    "            ACF[, 1] = seq(0, K, 1)\n",
    "            colnames(ACF) = c('K', 'Rho')\n",
    "            for (i in 0 : K){\n",
    "                ACF[i + 1, 2] = as.numeric((A[1] * (G[1] ** i)) + (A[2] * (G[2] ** i)) + (A[3] * (G[3] ** i)))\n",
    "            }\n",
    "            ACF = with(ACF, data.frame(K, Rho))\n",
    "\n",
    "        }\n",
    "        if (sum(Check_fact[, 2]) == (NG + 1)){\n",
    "            Ginv = rbind(c(1, 1, 0), c(G), c(G ** 2))               # Cálculo de los valores iniciales con factores iguales\n",
    "            A = as.matrix(solve(Ginv) %*% Rho)\n",
    "            print('Dos factores son iguales.')\n",
    "\n",
    "            # Construcción ACF (Solución de la función generadora)\n",
    "            ACF = data.frame(matrix(data = NA, nrow = (K + 1), ncol = 2))\n",
    "            ACF[, 1] = seq(0, K, 1)\n",
    "            colnames(ACF) = c('K', 'Rho')\n",
    "            FG = matrix(data = NA, ncol = NG, nrow = (K + 1))\n",
    "            for (j in 1 : NG){\n",
    "                for (i in 0 : K){\n",
    "                    if (Check_fact[j, 2] == 1){\n",
    "                        FG[(i + 1), j] = A[j] * (G[j] ** i)\n",
    "                    } else {\n",
    "                        FG[(i + 1), j] = A[j] * (G[j] ** i) * i\n",
    "                    }\n",
    "                }\n",
    "            }\n",
    "            for (i in 0 : K){\n",
    "                ACF[i + 1, 2] = as.numeric(sum(FG[(i + 1), ]))\n",
    "            }\n",
    "            ACF = with(ACF, data.frame(K, Rho))\n",
    "\n",
    "        }\n",
    "        if (sum(Check_fact[, 2]) == (NG + 3)){\n",
    "            G_3 = c(G[1], (2 * G[2]), (4 * G[3]))\n",
    "            Ginv = rbind(c(1, 0, 0), c(G), c(G_3 ** 2))              # Cálculo de los valores iniciales con factores iguales\n",
    "            A = as.matrix(solve(Ginv) %*% Rho)\n",
    "            print('Tres factores son iguales.')\n",
    "\n",
    "            # Construcción ACF (Solución de la función generadora)\n",
    "            ACF = data.frame(matrix(data = NA, nrow = (K + 1), ncol = 2))\n",
    "            ACF[, 1] = seq(0, K, 1)\n",
    "            colnames(ACF) = c('K', 'Rho')\n",
    "            FG = matrix(data = NA, ncol = NG, nrow = (K + 1))\n",
    "            for (j in 1 : NG){\n",
    "                FG[(i + 1), j] = A[j] * (G[j] ** i) * i\n",
    "            }\n",
    "            for (i in 0 : K){\n",
    "                ACF[i + 1, 2] = as.numeric(sum(FG[(i + 1), ]))\n",
    "            }\n",
    "            ACF = with(ACF, data.frame(K, Rho))\n",
    "\n",
    "        }\n",
    "\n",
    "        # Construcción PACF (Usando Cramer)\n",
    "        PACF = data.frame(matrix(data = NA, nrow = (K + 1), ncol = 2))  \n",
    "        PACF[, 1] = seq(1, (K + 1), 1)\n",
    "        colnames(PACF) = c('K', 'Phi')                            \n",
    "        for (k in 1 : K){\n",
    "        Den = matrix(data = NA, nrow = k, ncol = k)\n",
    "        for(i in 1 : k){\n",
    "            for(j in 1 : (k - i + 1)){\n",
    "            Den[j, j + i - 1] = ACF[i, 2]\n",
    "            Den[j + i - 1, j] = ACF[i, 2]\n",
    "            }\n",
    "        }\n",
    "        Num = Den\n",
    "        Num[, k] = ACF[2 : (k + 1), 2]\n",
    "        PACF[k, 2] = det(Num) / det(Den)\n",
    "        }\n",
    "        PACF = PACF[-(K + 1),]\n",
    "        PACF = with(PACF, data.frame(K, Phi))\n",
    "\n",
    "        # Varianza del proceso (Gamma_0_1_2)\n",
    "        F1 = c((1 - (Phi[2] ** 2) - (Phi[3] ** 2) - (Phi[4] ** 2)), (-2 * Phi[3] * (Phi[2] + Phi[4])), (-2 * Phi[2] * Phi[4]))\n",
    "        F2 = c((-Phi[2]), (1 - Phi[3]), (-Phi[4]))\n",
    "        F3 = c((-Phi[3]), -(Phi[2] + Phi[4]), (1))\n",
    "        C2 = matrix(data = c(sigma_a, 0, 0), ncol = 1, nrow = 3)\n",
    "        Gamma = matrix(data = rbind(F1, F2, F3), ncol = 3, nrow = 3)\n",
    "        Gamma_1_2_3 = matrix(data = NA, ncol = 2, nrow = 3)\n",
    "        colnames(Gamma_1_2_3) = c('Gamma', 'Valor')\n",
    "        Gamma_1_2_3[, 1] = seq(0, 2, 1)\n",
    "        Gamma_1_2_3[, 2] = solve(Gamma) %*% C2\n",
    "\n",
    "        # Gráfica conjunta de ACF y PACF\n",
    "        T = 216\n",
    "        Cv = qt(p = (alpha / 2), df = (T - 1), lower.tail = FALSE) / sqrt(T)        # Valor crítico del intervalo de confianza\n",
    "        G_ACF_3 <- ggplot(data = ACF, mapping = aes(x = K, y = Rho)) +\n",
    "            labs(title = 'ACF AR[3]') +\n",
    "            geom_hline(aes(yintercept = 0)) +\n",
    "            geom_segment(mapping = aes(xend = K, yend = 0)) +\n",
    "            geom_hline(aes(yintercept = Cv), color=\"blue\",\n",
    "                    linetype = \"dashed\") + \n",
    "            geom_hline(aes(yintercept = -Cv), color=\"blue\",\n",
    "                    linetype = \"dashed\")\n",
    "                \n",
    "        G_PACF_3 <- ggplot(data = PACF, mapping = aes(x = K, y = Phi)) +\n",
    "            labs(title = 'PACF AR[3]') +\n",
    "            geom_hline(aes(yintercept = 0)) +\n",
    "            geom_segment(mapping = aes(xend = K, yend = 0)) + \n",
    "            geom_hline(aes(yintercept = Cv), color=\"blue\",\n",
    "                    linetype = \"dashed\") + \n",
    "            geom_hline(aes(yintercept = -Cv), color=\"blue\",\n",
    "                    linetype = \"dashed\")   \n",
    "\n",
    "        # Representación MA infinita de un AR[3]\n",
    "        if (MA_inf == TRUE){\n",
    "            Psi_2 = PACF[1, 2]\n",
    "            Psi_3 = (PACF[1, 2] ** 2) + PACF[2, 2]\n",
    "            Psi = matrix(data = c(1, Psi_2, Psi_3), nrow = 3, ncol = 1)\n",
    "\n",
    "            # Cálculo de la ACF con y sin factores distintos\n",
    "            if (sum(Check_fact[, 2]) == NG){\n",
    "                Ginv = rbind(c(1, 1, 1), c(G), c(G ** 2))               # Cálculo de los valores iniciales con factores diferentes\n",
    "                A = as.matrix(solve(Ginv) %*% Psi)\n",
    "\n",
    "                # Construcción ACF (Solución de la función generadora)\n",
    "                ACF_MA = data.frame(matrix(data = NA, nrow = (K + 1), ncol = 2))\n",
    "                ACF_MA[, 1] = seq(0, K, 1)\n",
    "                colnames(ACF_MA) = c('K', 'Psi')\n",
    "                for (i in 0 : K){\n",
    "                    ACF_MA[i + 1, 2] = as.numeric((A[1] * (G[1] ** i)) + (A[2] * (G[2] ** i)) + (A[3] * (G[3] ** i)))\n",
    "                }\n",
    "                ACF_MA = with(ACF_MA, data.frame(K, Psi))\n",
    "\n",
    "            } else {\n",
    "                Ginv = rbind(c(1, 1, 0), c(G), c(G ** 2))               # Cálculo de los valores iniciales con factores iguales\n",
    "                A = as.matrix(solve(Ginv) %*% Psi)\n",
    "\n",
    "                # Construcción ACF (Solución de la función generadora)\n",
    "                ACF_MA = data.frame(matrix(data = NA, nrow = (K + 1), ncol = 2))\n",
    "                ACF_MA[, 1] = seq(0, K, 1)\n",
    "                colnames(ACF_MA) = c('K', 'Psi')\n",
    "                FG = matrix(data = NA, ncol = NG, nrow = (K + 1))\n",
    "                for (j in 1 : NG){\n",
    "                    for (i in 0 : K){\n",
    "                        if (Check_fact[j, 2] == 1){\n",
    "                            FG[(i + 1), j] = A[j] * (G[j] ** i)\n",
    "                        } else {\n",
    "                            FG[(i + 1), j] = A[j] * (G[j] ** i) * i\n",
    "                        }\n",
    "                    }\n",
    "                }\n",
    "                for (i in 0 : K){\n",
    "                    ACF_MA[i + 1, 2] = as.numeric(sum(FG[(i + 1), ]))\n",
    "                }\n",
    "                ACF_MA = with(ACF_MA, data.frame(K, Psi))\n",
    "\n",
    "            }\n",
    "\n",
    "            # Gráfica conjunta de ACF y PACF\n",
    "            G_MA <- ggplot(data = ACF_MA, mapping = aes(x = K, y = Psi)) +\n",
    "                labs(title = 'MA[inf] AR[3]') +\n",
    "                geom_hline(aes(yintercept = 0)) +\n",
    "                geom_segment(mapping = aes(xend = K, yend = 0)) +\n",
    "                geom_hline(aes(yintercept = Cv), color=\"blue\",\n",
    "                        linetype = \"dashed\") + \n",
    "                geom_hline(aes(yintercept = -Cv), color=\"blue\",\n",
    "                        linetype = \"dashed\")\n",
    "\n",
    "            # Salidas\n",
    "            print(data.frame(G))\n",
    "            print(data.frame(head(ACF)))\n",
    "            print(data.frame(head(PACF)))\n",
    "            print(data.frame(Gamma_1_2_3))\n",
    "            print(data.frame(head(ACF_MA)))\n",
    "            return((G_ACF_3 / G_PACF_3) | G_MA)\n",
    "        } else {\n",
    "            # Salidas\n",
    "            print(A)\n",
    "            print(data.frame(G))\n",
    "            print(data.frame(head(ACF)))\n",
    "            print(data.frame(head(PACF)))\n",
    "            print(data.frame(Gamma_1_2_3))\n",
    "            return(G_ACF_3 / G_PACF_3)\n",
    "        }\n",
    "    } else {\n",
    "        print(sprintf('El proceso no es estacionario al tener sus factores |%s| > 1', round(G, 4)))\n",
    "    }\n",
    "}\n",
    "\n",
    "AR_3(Phi = c(0.86, -0.0525, -0.0582), K = 36, sigma_a = 0.12, MA_inf = TRUE)"
   ]
  },
  {
   "cell_type": "markdown",
   "metadata": {},
   "source": [
    "## MA[1] con su representación AR[Inf]"
   ]
  },
  {
   "cell_type": "code",
   "execution_count": 102,
   "metadata": {
    "vscode": {
     "languageId": "r"
    }
   },
   "outputs": [
    {
     "name": "stdout",
     "output_type": "stream",
     "text": [
      "  Phi_1\n",
      "1  0.45\n",
      "     K   Gamma\n",
      "[1,] 0  0.1443\n",
      "[2,] 1 -0.0540\n",
      "  K        Rho\n",
      "1 0  1.0000000\n",
      "2 1 -0.3742204\n",
      "  K        Phi\n",
      "1 0 1.00000000\n",
      "2 1 0.45000000\n",
      "3 2 0.20250000\n",
      "4 3 0.09112500\n",
      "5 4 0.04100625\n",
      "6 5 0.01845281\n"
     ]
    },
    {
     "data": {
      "image/png": "[encoded data removed]",
      "text/plain": [
       "plot without title"
      ]
     },
     "metadata": {
      "image/png": {
       "height": 420,
       "width": 420
      }
     },
     "output_type": "display_data"
    }
   ],
   "source": [
    "MA_1 = function(Phi, K, sigma_a, alpha = 0.05){\n",
    "    Phi_1 = Phi\n",
    "    if (abs(Phi_1) < 1){\n",
    "        # Construcción ACF\n",
    "        ACF = data.frame(matrix(data = NA, nrow = 2, ncol = 2))\n",
    "        colnames(ACF) = c('K', 'Rho')\n",
    "        ACF[, 1] = seq(0, 1, 1)\n",
    "        ACF[1, 2] = 1\n",
    "        ACF[2, 2] = (-Phi_1) / (1 + (Phi_1 ** 2))\n",
    "\n",
    "        # Construcción PACF\n",
    "        PACF = data.frame(matrix(data = NA, nrow = (K + 1), ncol = 2))\n",
    "        PACF[, 1] = seq(0, K, 1)\n",
    "        colnames(PACF) = c('K', 'Phi')\n",
    "        for (i in 0 : K){\n",
    "            PACF[i + 1, 2] = Phi_1 ** i\n",
    "        }\n",
    "        PACF = with(PACF, data.frame(K, Phi))\n",
    "\n",
    "        # Varianza del proceso\n",
    "        Gamma = matrix(data = NA, ncol = 2, nrow = 2)\n",
    "        colnames(Gamma) = c('K', 'Gamma')\n",
    "        Gamma[, 1] = seq(0, 1, 1)\n",
    "        Gamma[1, 2] = sigma_a * (1 + (Phi_1 ** 2))\n",
    "        Gamma[2, 2] = -Phi_1 * sigma_a\n",
    "\n",
    "        # Gráfica conjunta de ACF y PACF\n",
    "        T = 216\n",
    "        Cv = qt(p = (alpha / 2), df = (T - 1), lower.tail = FALSE) / sqrt(T)        # Valor crítico del intervalo de confianza\n",
    "        G_ACF_1 <- ggplot(data = ACF, mapping = aes(x = K, y = Rho)) +\n",
    "            labs(title = 'ACF MA[1]') +\n",
    "            geom_hline(aes(yintercept = 0)) +\n",
    "            geom_segment(mapping = aes(xend = K, yend = 0)) +\n",
    "            geom_hline(aes(yintercept = Cv), color=\"blue\",\n",
    "                    linetype = \"dashed\") + \n",
    "            geom_hline(aes(yintercept = -Cv), color=\"blue\",\n",
    "                    linetype = \"dashed\")\n",
    "                \n",
    "        G_PACF_1 <- ggplot(data = PACF, mapping = aes(x = K, y = Phi)) +\n",
    "            labs(title = 'AR[Inf] MA[1]') +\n",
    "            geom_hline(aes(yintercept = 0)) +\n",
    "            geom_segment(mapping = aes(xend = K, yend = 0)) + \n",
    "            geom_hline(aes(yintercept = Cv), color=\"blue\",\n",
    "                    linetype = \"dashed\") + \n",
    "            geom_hline(aes(yintercept = -Cv), color=\"blue\",\n",
    "                    linetype = \"dashed\")\n",
    "\n",
    "        # Salidas\n",
    "        print(data.frame(Phi_1))\n",
    "        print(Gamma)\n",
    "        print(data.frame(head(ACF)))\n",
    "        print(data.frame(head(PACF)))\n",
    "        return(G_ACF_1 / G_PACF_1)\n",
    "    } else {\n",
    "        print(sprintf('El proceso no es invertible al tener su factor |%s| > 1', round(G, 4)))\n",
    "    }\n",
    "}\n",
    "\n",
    "MA_1(Phi = c(0.45), K = 36, sigma_a = 0.12)"
   ]
  },
  {
   "cell_type": "markdown",
   "metadata": {},
   "source": [
    "## MA[2] con su representación AR[Inf]"
   ]
  },
  {
   "cell_type": "code",
   "execution_count": 103,
   "metadata": {
    "vscode": {
     "languageId": "r"
    }
   },
   "outputs": [
    {
     "name": "stdout",
     "output_type": "stream",
     "text": [
      "      G\n",
      "1 -0.86\n",
      "2  0.41\n",
      "  K        Rho\n",
      "1 1  1.0000000\n",
      "2 2 -0.4587411\n",
      "3 3  0.2657468\n",
      "  K        Phi\n",
      "1 0  1.0000000\n",
      "2 1 -0.4500000\n",
      "3 2  0.5551000\n",
      "4 3 -0.4084650\n",
      "5 4  0.3795375\n",
      "6 5 -0.3148166\n",
      "[1] \"La varianza del proceso es 0.0663\"\n"
     ]
    },
    {
     "data": {
      "image/png": "[encoded data removed]",
      "text/plain": [
       "plot without title"
      ]
     },
     "metadata": {
      "image/png": {
       "height": 420,
       "width": 420
      }
     },
     "output_type": "display_data"
    }
   ],
   "source": [
    "MA_2 = function(Phi, K, sigma_a, alpha = 0.05, MA_inf = FALSE){\n",
    "\n",
    "    # Cálculo de los factores con su parte imaginaria\n",
    "    Phi = matrix(data = c(-1, c(Phi)), nrow = 3, ncol = 1) * -1\n",
    "    G = matrix(data = c(as.complex(polyroot(Phi)) ** -1), nrow = 2, ncol = 1)               # Polyroot devuelve las raices, ** -1 = Factores\n",
    "    for (i in 1 : length(G)){\n",
    "        if (sum(round(Im(G), 10)) == 0){\n",
    "            G = G\n",
    "        } else {\n",
    "            Re_G = Re(G)\n",
    "            Im_G = Im(G)\n",
    "            for (i in 1 : length(G)){                                                               # Convierten los números complejos en reales\n",
    "                G[i] = sqrt(Re_G[i] ** 2 + Im_G[i] ** 2)\n",
    "            }\n",
    "        }\n",
    "    }\n",
    "\n",
    "    # Identificación estacionareidad\n",
    "    G = round(Re(G), 10)\n",
    "    Check = matrix(data = NA, nrow = length(G), ncol = 1)\n",
    "    for (i in 1 : length(G)){\n",
    "        if (abs(G[i]) < 1){\n",
    "            Check[i] = 1\n",
    "        } else {\n",
    "            Check[i] = 0\n",
    "        }\n",
    "    }\n",
    "\n",
    "    if (sum(Check) == length(G)){\n",
    "        Rho = matrix(data = NA, nrow = length(G), ncol = 1)\n",
    "        Rho[1] = 1\n",
    "        Rho[2] = (-Phi[2] + (Phi[2] * Phi[3])) / (1 + (Phi[2] ** 2) + (Phi[3] ** 2))\n",
    "        Rho[3] = -Phi[3] / (1 + (Phi[2] ** 2) + (Phi[3] ** 2))\n",
    "\n",
    "        # Construcción ACF \n",
    "        ACF = data.frame(matrix(data = NA, nrow = K, ncol = 2))  \n",
    "        ACF[, 1] = seq(1, 3, 1)\n",
    "        colnames(ACF) = c('K', 'Rho')                            \n",
    "        ACF[, 2] = Rho \n",
    "        ACF = with(ACF, data.frame(K, Rho))\n",
    "\n",
    "        # Identifiación de raices iguales\n",
    "        if((G[1]) == (G[2])){                                           # Factores iguales\n",
    "            Pi = matrix(data = c(1, -Phi[2]), ncol = 1, nrow = 2)\n",
    "            FG = matrix(data = NA, nrow = 2, ncol = 2)\n",
    "            FG = rbind(c(1, 0), c(G))                                   # Cálculo de los valores iniciales con factores iguales\n",
    "            A = as.matrix(solve(FG) %*% Pi)\n",
    "\n",
    "            # Construcción PACF (Solución de la función generadora)\n",
    "            PACF = data.frame(matrix(data = NA, nrow = (K + 1), ncol = 2))\n",
    "            PACF[, 1] = seq(0, K, 1)\n",
    "            colnames(PACF) = c('K', 'Phi')\n",
    "            for (i in 0 : K){\n",
    "                PACF[i + 1, 2] = as.numeric((A[1] * (G[1] ** i)) + (A[2] * (G[2] ** i) * i))\n",
    "            }\n",
    "            PACF = with(PACF, data.frame(K, Phi))\n",
    "        } else{                                                         # Factores diferentes\n",
    "            Pi = matrix(data = c(1, -Phi[2]), ncol = 1, nrow = 2)\n",
    "            FG = matrix(data = NA, nrow = 2, ncol = 2)\n",
    "            FG = rbind(c(1, 1), c(G))                                   # Cálculo de los valores iniciales con factores iguales\n",
    "            A = as.matrix(solve(FG) %*% Pi)\n",
    "            \n",
    "            # Construcción PACF (Solución de la función generadora)\n",
    "            PACF = data.frame(matrix(data = NA, nrow = (K + 1), ncol = 2))\n",
    "            PACF[, 1] = seq(0, K, 1)\n",
    "            colnames(PACF) = c('K', 'Phi')\n",
    "            for (i in 0 : K){\n",
    "                PACF[i + 1, 2] = as.numeric((A[1] * (G[1] ** i)) + (A[2] * (G[2] ** i)))\n",
    "            }\n",
    "            PACF = with(PACF, data.frame(K, Phi))\n",
    "        }\n",
    "\n",
    "        # Cálculo de la varianza del proceso\n",
    "        Phi = Phi * -1\n",
    "        Gamma_0 = sigma_a * (1 + (Phi[2] ** 2) + (Phi[3] ** 2))\n",
    "\n",
    "        # Gráfica conjunta de ACF y PACF\n",
    "        T = 216\n",
    "        Cv = qt(p = (alpha / 2), df = (T - 1), lower.tail = FALSE) / sqrt(T)        # Valor crítico del intervalo de confianza\n",
    "        G_ACF_2 <- ggplot(data = ACF, mapping = aes(x = K, y = Rho)) +\n",
    "            labs(title = 'ACF MA[2]') +\n",
    "            geom_hline(aes(yintercept = 0)) +\n",
    "            geom_segment(mapping = aes(xend = K, yend = 0)) +\n",
    "            geom_hline(aes(yintercept = Cv), color=\"blue\",\n",
    "                    linetype = \"dashed\") + \n",
    "            geom_hline(aes(yintercept = -Cv), color=\"blue\",\n",
    "                    linetype = \"dashed\")\n",
    "                \n",
    "        G_PACF_2 <- ggplot(data = PACF, mapping = aes(x = K, y = Phi)) +\n",
    "            labs(title = 'AR[Inf] MA[2]') +\n",
    "            geom_hline(aes(yintercept = 0)) +\n",
    "            geom_segment(mapping = aes(xend = K, yend = 0)) + \n",
    "            geom_hline(aes(yintercept = Cv), color=\"blue\",\n",
    "                    linetype = \"dashed\") + \n",
    "            geom_hline(aes(yintercept = -Cv), color=\"blue\",\n",
    "                    linetype = \"dashed\")\n",
    "\n",
    "  \n",
    "            # Salidas\n",
    "            print(data.frame(G))\n",
    "            print(data.frame(head(ACF, 3)))\n",
    "            print(data.frame(head(PACF)))\n",
    "            print(sprintf('La varianza del proceso es %s', round(Gamma_0, 4)))\n",
    "            return(G_ACF_2 / G_PACF_2)\n",
    "        \n",
    "    } else {\n",
    "        print(sprintf('El proceso no es invertible al tener su factor |%s| > 1', round(G, 4)))\n",
    "\n",
    "    }\n",
    "}\n",
    "\n",
    "MA_2(Phi = c(-0.45, 0.3526), K = 36, sigma_a = 0.05, MA_inf = TRUE)"
   ]
  },
  {
   "cell_type": "markdown",
   "metadata": {},
   "source": [
    "## MA[3] con su representación AR[Inf]"
   ]
  },
  {
   "cell_type": "code",
   "execution_count": 104,
   "metadata": {
    "vscode": {
     "languageId": "r"
    }
   },
   "outputs": [
    {
     "name": "stdout",
     "output_type": "stream",
     "text": [
      "[1] \"Todos los factores son diferentes.\"\n",
      "           G\n",
      "1  0.6300752\n",
      "2  0.4399029\n",
      "3 -0.2099780\n",
      "  K          Rho\n",
      "1 1  1.000000000\n",
      "2 2 -0.516739432\n",
      "3 3  0.001402268\n",
      "4 4  0.033338231\n",
      "  K        Phi\n",
      "1 0  1.0000000\n",
      "2 1 -0.8600000\n",
      "3 2 -0.6871000\n",
      "4 3 -0.6039560\n",
      "5 4 -0.4332774\n",
      "6 5 -0.3009217\n",
      "[1] \"La varianza del proceso es 1.7457\"\n"
     ]
    },
    {
     "data": {
      "image/png": "[encoded data removed]",
      "text/plain": [
       "plot without title"
      ]
     },
     "metadata": {
      "image/png": {
       "height": 420,
       "width": 420
      }
     },
     "output_type": "display_data"
    }
   ],
   "source": [
    "MA_3 = function(Phi, K, sigma_a, alpha = 0.05, MA_inf = FALSE){\n",
    "    # Cálculo de los factores con su parte imaginaria\n",
    "    Phi = matrix(data = c(-1, c(Phi)), nrow = 4, ncol = 1) * -1\n",
    "    G = matrix(data = c(as.complex(polyroot(Phi)) ** -1), nrow = 3, ncol = 1)               # Polyroot devuelve las raices, ** -1 = Factores\n",
    "    for (i in 1 : length(G)){\n",
    "        if (sum(round(Im(G), 10)) == 0){\n",
    "            G = G\n",
    "        } else {\n",
    "            Re_G = Re(G)\n",
    "            Im_G = Im(G)\n",
    "            for (i in 1 : length(G)){                                                               # Convierten los números complejos en reales\n",
    "                G[i] = sqrt(Re_G[i] ** 2 + Im_G[i] ** 2)\n",
    "            }\n",
    "        }\n",
    "    }\n",
    "\n",
    "    # Identificación estacionareidad\n",
    "    NG = length(G)\n",
    "    G = round(Re(G), 10)\n",
    "    Check = matrix(data = NA, nrow = NG, ncol = 1)\n",
    "    for (i in 1 : NG){\n",
    "        if (abs(G[i]) < 1){\n",
    "            Check[i] = 1\n",
    "        } else {\n",
    "            Check[i] = 0\n",
    "        }\n",
    "    }\n",
    "\n",
    "    # Identificación de factores iguales \n",
    "    Check_fact = matrix(data = sort(G, decreasing = TRUE), nrow = NG, ncol = 2)\n",
    "    for (i in 2 : NG){\n",
    "        Check_fact[1, 2] = 1\n",
    "        if (Check_fact[i, 1] == Check_fact[(i - 1), 1]){                                      \n",
    "            Check_fact[i, 2] = Check_fact[(i - 1), 2] + 1\n",
    "        } else {                                                                    \n",
    "            Check_fact[i, 2] = 1\n",
    "        }\n",
    "    }\n",
    "\n",
    "    # Cálculo de los valores iniciales\n",
    "    if (sum(Check) == 3){\n",
    "        \n",
    "        # Cálculo de los Rho\n",
    "        Phi = Phi * -1\n",
    "        Rho = matrix(data = NA, nrow = length(G), ncol = 1)\n",
    "        Rho[1] = 1\n",
    "        Rho[2] = (-Phi[2] + (Phi[2] * Phi[3]) + (Phi[3] * Phi[4])) / (1 + (Phi[2] ** 2) + (Phi[3] ** 2) + Phi[4] ** 2)\n",
    "        Rho[3] = (-Phi[3] + (Phi[2] * Phi[4])) / (1 + (Phi[2] ** 2) + (Phi[3] ** 2) + Phi[4] ** 2)\n",
    "        Rho[4] = (-Phi[4]) / (1 + (Phi[2] ** 2) + (Phi[3] ** 2) + Phi[4] ** 2)\n",
    "\n",
    "        # Construcción ACF \n",
    "        ACF = data.frame(matrix(data = NA, nrow = K, ncol = 2))  \n",
    "        ACF[, 1] = seq(1, 4, 1)\n",
    "        colnames(ACF) = c('K', 'Rho')                            \n",
    "        ACF[, 2] = Rho \n",
    "        ACF = with(ACF, data.frame(K, Rho))  \n",
    "\n",
    "        # Matriz Pi\n",
    "        Pi = matrix(data = c(1, -Phi[2], (-Phi[2] ** 2 - Phi[3])), ncol = 1, nrow = 3)\n",
    "\n",
    "        # Cálculo de la ACF con y sin factores distintos\n",
    "        if (sum(Check_fact[, 2]) == NG){\n",
    "            Ginv = rbind(c(1, 1, 1), c(G), c(G ** 2))               # Cálculo de los valores iniciales con factores diferentes\n",
    "            A = as.matrix(solve(Ginv) %*% Pi)\n",
    "            print('Todos los factores son diferentes.')\n",
    "\n",
    "            # Construcción ACF (Solución de la función generadora)\n",
    "            PACF = data.frame(matrix(data = NA, nrow = (K + 1), ncol = 2))\n",
    "            PACF[, 1] = seq(0, K, 1)\n",
    "            colnames(PACF) = c('K', 'Phi')\n",
    "            for (i in 0 : K){\n",
    "                PACF[i + 1, 2] = as.numeric((A[1] * (G[1] ** i)) + (A[2] * (G[2] ** i)) + (A[3] * (G[3] ** i)))\n",
    "            }\n",
    "            PACF = with(PACF, data.frame(K, Phi))\n",
    "\n",
    "        }\n",
    "        if (sum(Check_fact[, 2]) == (NG + 1)){\n",
    "            Ginv = rbind(c(1, 1, 0), c(G), c(G ** 2))               # Cálculo de los valores iniciales con factores iguales\n",
    "            A = as.matrix(solve(Ginv) %*% Pi)\n",
    "            print('Dos factores son iguales.')\n",
    "\n",
    "            # Construcción ACF (Solución de la función generadora)\n",
    "            PACF = data.frame(matrix(data = NA, nrow = (K + 1), ncol = 2))\n",
    "            PACF[, 1] = seq(0, K, 1)\n",
    "            colnames(PACF) = c('K', 'Pi')\n",
    "            FG = matrix(data = NA, ncol = NG, nrow = (K + 1))\n",
    "            for (j in 1 : NG){\n",
    "                for (i in 0 : K){\n",
    "                    if (Check_fact[j, 2] == 1){\n",
    "                        FG[(i + 1), j] = A[j] * (G[j] ** i)\n",
    "                    } else {\n",
    "                        FG[(i + 1), j] = A[j] * (G[j] ** i) * i\n",
    "                    }\n",
    "                }\n",
    "            }\n",
    "            for (i in 0 : K){\n",
    "                PACF[i + 1, 2] = as.numeric(sum(FG[(i + 1), ]))\n",
    "            }\n",
    "            PACF = with(PACF, data.frame(K, Rho))\n",
    "\n",
    "        }\n",
    "        if (sum(Check_fact[, 2]) == (NG + 3)){\n",
    "            G_3 = c(G[1], (2 * G[2]), (4 * G[3]))\n",
    "            Ginv = rbind(c(1, 0, 0), c(G), c(G_3 ** 2))              # Cálculo de los valores iniciales con factores iguales\n",
    "            A = as.matrix(solve(Ginv) %*% Pi)\n",
    "            print('Tres factores son iguales.')\n",
    "\n",
    "            # Construcción ACF (Solución de la función generadora)\n",
    "            PACF = data.frame(matrix(data = NA, nrow = (K + 1), ncol = 2))\n",
    "            PACF[, 1] = seq(0, K, 1)\n",
    "            colnames(PACF) = c('K', 'Rho')\n",
    "            FG = matrix(data = NA, ncol = NG, nrow = (K + 1))\n",
    "            for (j in 1 : NG){\n",
    "                FG[(i + 1), j] = A[j] * (G[j] ** i) * i\n",
    "            }\n",
    "            for (i in 0 : K){\n",
    "                PACF[i + 1, 2] = as.numeric(sum(FG[(i + 1), ]))\n",
    "            }\n",
    "            PACF = with(PACF, data.frame(K, Rho))\n",
    "\n",
    "        }\n",
    "\n",
    "        # Varianza del proceso (Gamma_0_1_2)\n",
    "        Gamma_0 = (1 + Phi[2] ** 2 + Phi[3] ** 2 + Phi[4] ** 2)\n",
    "\n",
    "        # Gráfica conjunta de ACF y PACF\n",
    "        T = 216\n",
    "        Cv = qt(p = (alpha / 2), df = (T - 1), lower.tail = FALSE) / sqrt(T)        # Valor crítico del intervalo de confianza\n",
    "        G_ACF_3 <- ggplot(data = ACF, mapping = aes(x = K, y = Rho)) +\n",
    "            labs(title = 'ACF MA[3]') +\n",
    "            geom_hline(aes(yintercept = 0)) +\n",
    "            geom_segment(mapping = aes(xend = K, yend = 0)) +\n",
    "            geom_hline(aes(yintercept = Cv), color=\"blue\",\n",
    "                    linetype = \"dashed\") + \n",
    "            geom_hline(aes(yintercept = -Cv), color=\"blue\",\n",
    "                    linetype = \"dashed\")\n",
    "                \n",
    "        G_PACF_3 <- ggplot(data = PACF, mapping = aes(x = K, y = Phi)) +\n",
    "            labs(title = 'AR[Inf] MA[3]') +\n",
    "            geom_hline(aes(yintercept = 0)) +\n",
    "            geom_segment(mapping = aes(xend = K, yend = 0)) + \n",
    "            geom_hline(aes(yintercept = Cv), color=\"blue\",\n",
    "                    linetype = \"dashed\") + \n",
    "            geom_hline(aes(yintercept = -Cv), color=\"blue\",\n",
    "                    linetype = \"dashed\")   \n",
    "\n",
    "\n",
    "            # Salidas\n",
    "            print(data.frame(G))\n",
    "            print(data.frame(head(ACF, 4)))\n",
    "            print(data.frame(head(PACF)))\n",
    "            print(sprintf('La varianza del proceso es %s', round(Gamma_0, 4)))\n",
    "            return(G_ACF_3 | G_PACF_3)\n",
    "    } else {\n",
    "        print(sprintf('El proceso no es invertible al tener sus factores |%s| > 1', round(G, 4)))\n",
    "    }\n",
    "}\n",
    "\n",
    "MA_3(Phi = c(0.86, -0.0525, -0.0582), K = 36, sigma_a = 0.12, MA_inf = TRUE)"
   ]
  },
  {
   "cell_type": "markdown",
   "metadata": {},
   "source": [
    "## ARMA[1, 1]"
   ]
  },
  {
   "cell_type": "code",
   "execution_count": null,
   "metadata": {
    "vscode": {
     "languageId": "r"
    }
   },
   "outputs": [],
   "source": [
    "ARMAacf(ar = 0.09, ma = 0.32)"
   ]
  },
  {
   "cell_type": "code",
   "execution_count": 105,
   "metadata": {
    "vscode": {
     "languageId": "r"
    }
   },
   "outputs": [
    {
     "name": "stdout",
     "output_type": "stream",
     "text": [
      "[1] \"La varianza del proceso es: 0.3654\"\n",
      "  K        Rho\n",
      "1 0 1.0000e+00\n",
      "2 1 9.0000e-02\n",
      "3 2 8.1000e-03\n",
      "4 3 7.2900e-04\n",
      "5 4 6.5610e-05\n",
      "6 5 5.9049e-06\n",
      "  K           Phi\n",
      "1 1 -0.0736000000\n",
      "2 2 -0.0235520000\n",
      "3 3 -0.0075366400\n",
      "4 4 -0.0024117248\n",
      "5 5 -0.0007717519\n",
      "6 6 -0.0002469606\n"
     ]
    },
    {
     "data": {
      "image/png": "[encoded data removed]",
      "text/plain": [
       "plot without title"
      ]
     },
     "metadata": {
      "image/png": {
       "height": 420,
       "width": 420
      }
     },
     "output_type": "display_data"
    }
   ],
   "source": [
    "ARMA_11 = function(Phi, Theta, K, sigma_a, alpha = 0.05){\n",
    "    if (abs(Phi) < 1){\n",
    "        if (abs(Theta) < 1){\n",
    "        # Varianza del proceso\n",
    "        Gamma_0 = sigma_a * ((1 + (Theta ** 2) - (2 * Phi * Theta) - Theta) / (1 - (Phi ** 2)))\n",
    "\n",
    "        # Construcción ACF\n",
    "        ACF = data.frame(matrix(data = NA, nrow = (K + 1), ncol = 2))\n",
    "        ACF[, 1] = seq(0, K, 1)\n",
    "        colnames(ACF) = c('K', 'Rho')\n",
    "        for (i in 0 : K){\n",
    "            ACF[i + 1, 2] = Phi[1] ** i\n",
    "        }\n",
    "        ACF = with(ACF, data.frame(K, Rho))\n",
    "\n",
    "        # Construcción PACF\n",
    "        PACF = data.frame(matrix(data = NA, nrow = K, ncol = 2))\n",
    "        PACF[, 1] = seq(1, K, 1)\n",
    "        colnames(PACF) = c('K', 'Phi')\n",
    "        for (i in 1 : K){\n",
    "            PACF[i, 2] = (Phi - Theta) * (Theta ** i)\n",
    "        }\n",
    "        PACF = with(PACF, data.frame(K, Phi))\n",
    "\n",
    "\n",
    "        # Gráficas conjuntas\n",
    "        T = 216\n",
    "        Cv = qt(p = (alpha / 2), df = (T - 1), lower.tail = FALSE) / sqrt(T)        # Valor crítico del intervalo de confianza\n",
    "        G_ACF_1 <- ggplot(data = ACF, mapping = aes(x = K, y = Rho)) +\n",
    "            labs(title = 'ACF ARMA[1, 1]') +\n",
    "            geom_hline(aes(yintercept = 0)) +\n",
    "            geom_segment(mapping = aes(xend = K, yend = 0)) +\n",
    "            geom_hline(aes(yintercept = Cv), color=\"blue\",\n",
    "                    linetype = \"dashed\") + \n",
    "            geom_hline(aes(yintercept = -Cv), color=\"blue\",\n",
    "                    linetype = \"dashed\")\n",
    "                \n",
    "        G_PACF_1 <- ggplot(data = PACF, mapping = aes(x = K, y = Phi)) +\n",
    "            labs(title = 'PACF ARMA[1, 1]') +\n",
    "            geom_hline(aes(yintercept = 0)) +\n",
    "            geom_segment(mapping = aes(xend = K, yend = 0)) + \n",
    "            geom_hline(aes(yintercept = Cv), color=\"blue\",\n",
    "                    linetype = \"dashed\") + \n",
    "            geom_hline(aes(yintercept = -Cv), color=\"blue\",\n",
    "                    linetype = \"dashed\")\n",
    "        \n",
    "        # Salidas\n",
    "        print(sprintf('La varianza del proceso es: %s', round(Gamma_0, 4)))\n",
    "        print(data.frame(head(ACF)))\n",
    "        print(data.frame(head(PACF)))\n",
    "        return(G_ACF_1 / G_PACF_1)\n",
    "\n",
    "        } else {\n",
    "            print(sprintf('El proceso no es invertible al tener su factor (Theta) |%s| > 1', round(Theta, 4)))\n",
    "        }\n",
    "    } else {\n",
    "        print(sprintf('El proceso no es estacionario al tener su factor (Phi) |%s| > 1', round(Phi, 4)))\n",
    "    }\n",
    "} \n",
    "\n",
    "ARMA_11(Phi = c(0.09), Theta = c(0.32), K = 32, sigma_a = 0.5, alpha = 0.05)"
   ]
  },
  {
   "cell_type": "markdown",
   "metadata": {},
   "source": [
    "## ARMA[2, 1]"
   ]
  },
  {
   "cell_type": "code",
   "execution_count": 106,
   "metadata": {
    "vscode": {
     "languageId": "r"
    }
   },
   "outputs": [
    {
     "name": "stdout",
     "output_type": "stream",
     "text": [
      "           G\n",
      "1  0.5054617\n",
      "2 -0.4154617\n",
      "     K       Gamma\n",
      "[1,] 0 0.562374557\n",
      "[2,] 1 0.007105962\n",
      "[3,] 2 0.118738194\n",
      "  K        Rho\n",
      "1 0 1.00000000\n",
      "2 1 0.01263564\n",
      "3 2 0.21113721\n",
      "4 3 0.02165583\n",
      "5 4 0.04628784\n",
      "6 5 0.00871363\n",
      "  K           Pi\n",
      "1 0  0.748095238\n",
      "2 1 -0.230000000\n",
      "3 2  0.136400000\n",
      "4 3 -0.036024000\n",
      "5 4  0.025401840\n",
      "6 5 -0.005278874\n"
     ]
    },
    {
     "data": {
      "image/png": "[encoded data removed]",
      "text/plain": [
       "plot without title"
      ]
     },
     "metadata": {
      "image/png": {
       "height": 420,
       "width": 420
      }
     },
     "output_type": "display_data"
    }
   ],
   "source": [
    "ARMA_21 = function(Phi, Theta, K, sigma_a, alpha = 0.05){\n",
    "    # Cálculo de los factores con su parte imaginaria\n",
    "    Phi = matrix(data = c(-1, c(Phi)), nrow = 3, ncol = 1) * -1\n",
    "    G = matrix(data = c(as.complex(polyroot(Phi)) ** -1), nrow = 2, ncol = 1)               # Polyroot devuelve las raices, ** -1 = Factores\n",
    "    for (i in 1 : length(G)){\n",
    "        if (sum(round(Im(G), 10)) == 0){\n",
    "            G = G\n",
    "        } else {\n",
    "            Re_G = Re(G)\n",
    "            Im_G = Im(G)\n",
    "            for (i in 1 : length(G)){                                                               # Convierten los números complejos en reales\n",
    "                G[i] = sqrt(Re_G[i] ** 2 + Im_G[i] ** 2)\n",
    "            }\n",
    "        }\n",
    "    }\n",
    "\n",
    "    # Identificación estacionareidad\n",
    "    G = round(Re(G), 10)\n",
    "    Check = matrix(data = NA, nrow = length(G), ncol = 1)\n",
    "    for (i in 1 : length(G)){\n",
    "        if (abs(G[i]) < 1){\n",
    "            Check[i] = 1\n",
    "        } else {\n",
    "            Check[i] = 0\n",
    "        }\n",
    "    }\n",
    "\n",
    "    # Varianza del proceso\n",
    "    Phi = Phi * -1\n",
    "    Ga = matrix(data = rbind(c(1, -Phi[2], -Phi[3]), c(((-Phi[2]) / (1 - Phi[3])), 1, 0), c(-Phi[3], -Phi[2], 1)), nrow = 3, ncol = 3)\n",
    "    Mma = matrix(data = cbind((sigma_a * (1 - (Phi[2] * Theta) + (Theta ** 2))), ((-Phi[2] * sigma_a) / (1 - Phi[3])), 0), ncol = 1, nrow = 3)\n",
    "    Gamma = matrix(data = NA, nrow = 3, ncol = 2)\n",
    "    colnames(Gamma) = c('K', 'Gamma')\n",
    "    Gamma[, 1] = c(0, 1, 2)\n",
    "    Gamma[, 2] = (solve(Ga) %*% Mma)\n",
    "\n",
    "    if (sum(Check) == length(G)){\n",
    "        if (abs(Theta) < 1){\n",
    "            # Construcción ACF\n",
    "            Rho = matrix(data = NA, nrow = (length(G)), ncol = 1)\n",
    "            Rho[1] = Gamma[2, 2] / Gamma[1, 2]\n",
    "            Rho[2] = Gamma[3, 2] / Gamma[1, 2]\n",
    "            # Rho[1] = Gamma[1] / Gamma[1]\n",
    "\n",
    "            # Identifiación de raices iguales\n",
    "            if((G[1]) == (G[2])){                                           # Factores iguales\n",
    "                FG = matrix(data = NA, nrow = 2, ncol = 2)\n",
    "                FG = rbind(c(G), c((G[1] ** 2), (2 * G[2] ** 2)))                                   # Cálculo de los valores iniciales con factores iguales\n",
    "                A = as.matrix(solve(FG) %*% Rho)\n",
    "\n",
    "                # Construcción ACF (Solución de la función generadora)\n",
    "                ACF = data.frame(matrix(data = NA, nrow = (K + 1), ncol = 2))\n",
    "                ACF[, 1] = seq(0, K, 1)\n",
    "                colnames(ACF) = c('K', 'Rho')\n",
    "                for (i in 0 : K){\n",
    "                    ACF[i + 1, 2] = as.numeric((A[1] * (G[1] ** i)) + (A[2] * (G[2] ** i) * i))\n",
    "                }\n",
    "                ACF = with(ACF, data.frame(K, Rho))\n",
    "            } else{                                                         # Factores diferentes\n",
    "                FG = matrix(data = NA, nrow = 2, ncol = 2)\n",
    "                FG = rbind(c(G), c(G ** 2))                                   # Cálculo de los valores iniciales con factores iguales\n",
    "                A = as.matrix(solve(FG) %*% Rho)\n",
    "                \n",
    "                # Construcción ACF (Solución de la función generadora)\n",
    "                ACF = data.frame(matrix(data = NA, nrow = (K + 1), ncol = 2))\n",
    "                ACF[, 1] = seq(0, K, 1)\n",
    "                colnames(ACF) = c('K', 'Rho')\n",
    "                for (i in 0 : K){\n",
    "                    ACF[i + 1, 2] = as.numeric((A[1] * (G[1] ** i)) + (A[2] * (G[2] ** i)))\n",
    "                }\n",
    "                ACF = with(ACF, data.frame(K, Rho))\n",
    "            }\n",
    "\n",
    "            # Construcción PACF\n",
    "            Pi = matrix(data = NA, nrow = 2, ncol = 1)\n",
    "            Pi[1] = Phi[2] - Theta\n",
    "            Pi[2] = Pi[1] * Theta + Phi[3]\n",
    "\n",
    "            if((G[1]) == (G[2])){                                           # Factores iguales\n",
    "                FG = matrix(data = NA, nrow = 2, ncol = 2)\n",
    "                FG = rbind(c(G), c((G[1] ** 2), (2 * G[2] ** 2)))                                   # Cálculo de los valores iniciales con factores iguales\n",
    "                A = as.matrix(solve(FG) %*% Pi)\n",
    "\n",
    "                # Construcción ACF (Solución de la función generadora)\n",
    "                PACF = data.frame(matrix(data = NA, nrow = (K + 1), ncol = 2))\n",
    "                PACF[, 1] = seq(0, K, 1)\n",
    "                colnames(PACF) = c('K', 'Pi')\n",
    "                for (i in 0 : K){\n",
    "                    PACF[i + 1, 2] = as.numeric((A[1] * (G[1] ** i)) + (A[2] * (G[2] ** i) * i))\n",
    "                }\n",
    "                PACF = with(PACF, data.frame(K, Pi))\n",
    "            } else{                                                         # Factores diferentes\n",
    "                FG = matrix(data = NA, nrow = 2, ncol = 2)\n",
    "                FG = rbind(c(G), c(G ** 2))                                   # Cálculo de los valores iniciales con factores iguales\n",
    "                A = as.matrix(solve(FG) %*% Pi)\n",
    "                \n",
    "                # Construcción ACF (Solución de la función generadora)\n",
    "                PACF = data.frame(matrix(data = NA, nrow = (K + 1), ncol = 2))\n",
    "                PACF[, 1] = seq(0, K, 1)\n",
    "                colnames(PACF) = c('K', 'Pi')\n",
    "                for (i in 0 : K){\n",
    "                    PACF[i + 1, 2] = as.numeric((A[1] * (G[1] ** i)) + (A[2] * (G[2] ** i)))\n",
    "                }\n",
    "                PACF = with(PACF, data.frame(K, Pi))\n",
    "            }\n",
    "\n",
    "            # Gráficas conjuntas\n",
    "            T = 216\n",
    "            Cv = qt(p = (alpha / 2), df = (T - 1), lower.tail = FALSE) / sqrt(T)        # Valor crítico del intervalo de confianza\n",
    "            G_ACF_2 <- ggplot(data = ACF, mapping = aes(x = K, y = Rho)) +\n",
    "                labs(title = 'ACF ARMA[2, 1]') +\n",
    "                geom_hline(aes(yintercept = 0)) +\n",
    "                geom_segment(mapping = aes(xend = K, yend = 0)) +\n",
    "                geom_hline(aes(yintercept = Cv), color=\"blue\",\n",
    "                        linetype = \"dashed\") + \n",
    "                geom_hline(aes(yintercept = -Cv), color=\"blue\",\n",
    "                        linetype = \"dashed\")\n",
    "                    \n",
    "            G_PACF_1 <- ggplot(data = PACF, mapping = aes(x = K, y = Pi)) +\n",
    "                labs(title = 'PACF ARMA[2, 1]') +\n",
    "                geom_hline(aes(yintercept = 0)) +\n",
    "                geom_segment(mapping = aes(xend = K, yend = 0)) + \n",
    "                geom_hline(aes(yintercept = Cv), color=\"blue\",\n",
    "                        linetype = \"dashed\") + \n",
    "                geom_hline(aes(yintercept = -Cv), color=\"blue\",\n",
    "                        linetype = \"dashed\")\n",
    "            \n",
    "            # Salidas\n",
    "            print(data.frame(G))\n",
    "            print(Gamma)\n",
    "            print(data.frame(head(ACF)))\n",
    "            print(data.frame(head(PACF)))\n",
    "            return(G_ACF_2 / G_PACF_1)\n",
    "\n",
    "            } else {\n",
    "                print(sprintf('El proceso no es invertible al tener su factor (Theta) |%s| > 1', round(G, 4)))\n",
    "            }\n",
    "        } else {\n",
    "            print(sprintf('El proceso no es estacionario al tener su factor (Phi) |%s| > 1', round(Phi, 4)))\n",
    "        }\n",
    "}\n",
    "\n",
    "ARMA_21(Phi = c(0.09, 0.21), Theta = c(0.32), K = 36, sigma_a = 0.5)"
   ]
  },
  {
   "cell_type": "code",
   "execution_count": null,
   "metadata": {
    "vscode": {
     "languageId": "r"
    }
   },
   "outputs": [],
   "source": [
    "ARMAacf(ar = c(0.09, 0.21), ma = c(0.32), pacf = TRUE)"
   ]
  },
  {
   "cell_type": "markdown",
   "metadata": {},
   "source": [
    "## ARMA[1, 2]"
   ]
  },
  {
   "cell_type": "code",
   "execution_count": 107,
   "metadata": {
    "vscode": {
     "languageId": "r"
    }
   },
   "outputs": [
    {
     "name": "stdout",
     "output_type": "stream",
     "text": [
      "           G\n",
      "1  0.6288585\n",
      "2 -0.5088585\n",
      "  K       Gamma\n",
      "1 0 -0.72846053\n",
      "2 1 -0.01036145\n",
      "3 2 -0.16093253\n",
      "  K        Rho\n",
      "1 0 1.0000e+00\n",
      "2 1 9.0000e-02\n",
      "3 2 8.1000e-03\n",
      "4 3 7.2900e-04\n",
      "5 4 6.5610e-05\n",
      "6 5 5.9049e-06\n",
      "  K         Pi\n",
      "1 0 -1.0000000\n",
      "2 1 -0.0300000\n",
      "3 2 -0.3236000\n",
      "4 3 -0.0484320\n",
      "5 4 -0.1093638\n",
      "6 5 -0.0286219\n"
     ]
    },
    {
     "data": {
      "image/png": "[encoded data removed]",
      "text/plain": [
       "plot without title"
      ]
     },
     "metadata": {
      "image/png": {
       "height": 420,
       "width": 420
      }
     },
     "output_type": "display_data"
    }
   ],
   "source": [
    "ARMA_12 = function(Phi, Theta, K, sigma_a, alpha = 0.05){\n",
    "    # Cálculo de los factores con su parte imaginaria\n",
    "    Theta = matrix(data = c(-1, c(Theta)), nrow = 3, ncol = 1) * -1\n",
    "    G = matrix(data = c(as.complex(polyroot(Theta)) ** -1), nrow = 2, ncol = 1)               # Polyroot devuelve las raices, ** -1 = Factores\n",
    "    for (i in 1 : length(G)){\n",
    "        if (sum(round(Im(G), 10)) == 0){\n",
    "            G = G\n",
    "        } else {\n",
    "            Re_G = Re(G)\n",
    "            Im_G = Im(G)\n",
    "            for (i in 1 : length(G)){                                                               # Convierten los números complejos en reales\n",
    "                G[i] = sqrt(Re_G[i] ** 2 + Im_G[i] ** 2)\n",
    "            }\n",
    "        }\n",
    "    }\n",
    "\n",
    "    # Identificación estacionareidad\n",
    "    G = round(Re(G), 10)\n",
    "    Check = matrix(data = NA, nrow = length(G), ncol = 1)\n",
    "    for (i in 1 : length(G)){\n",
    "        if (abs(G[i]) < 1){\n",
    "            Check[i] = 1\n",
    "        } else {\n",
    "            Check[i] = 0\n",
    "        }\n",
    "    }\n",
    "\n",
    "    # Varianza del proceso\n",
    "    Theta = Theta * -1\n",
    "    Ga = matrix(data = rbind(c(1, -Phi, 0), c(-Phi, 1, 0), c(0, -Phi, 1)), nrow = 3, ncol = 3)\n",
    "    Mma = matrix(data = cbind((-sigma_a * ((1 + (Theta[1] ** 2) - (Phi * Theta[2]) - (Theta[3] * (1 + (Theta[1] ** 2) - (Phi * Theta[2]) - Theta[3]))))), ((Theta[2] * sigma_a) - (-Theta[3] * sigma_a) * (Phi - Theta[2])), (-Theta[3] * sigma_a)), ncol = 1, nrow = 3)\n",
    "    Gamma = matrix(data = NA, nrow = 3, ncol = 2)\n",
    "    colnames(Gamma) = c('K', 'Gamma')\n",
    "    Gamma[, 1] = c(0, 1, 2)\n",
    "    Gamma[, 2] = (solve(Ga) %*% Mma)\n",
    "\n",
    "    if (sum(Check) == length(G)){\n",
    "        if (abs(Phi) < 1){\n",
    "\n",
    "            # Construcción ACF\n",
    "            ACF = data.frame(matrix(data = NA, nrow = (K + 1), ncol = 2))\n",
    "            ACF[, 1] = seq(0, K, 1)\n",
    "            colnames(ACF) = c('K', 'Rho')\n",
    "            for (i in 0 : K){\n",
    "                ACF[i + 1, 2] = Phi ** i\n",
    "            }\n",
    "            ACF = with(ACF, data.frame(K, Rho))\n",
    "\n",
    "            # Construcción PACF\n",
    "            Pi = matrix(data = NA, nrow = 2, ncol = 1)\n",
    "            Pi[1] = Phi - Theta[2]\n",
    "            Pi[2] = Pi[1] * Theta[2] - Theta[3]\n",
    "\n",
    "            if((G[1]) == (G[2])){                                           # Factores iguales\n",
    "                FG = matrix(data = NA, nrow = 2, ncol = 2)\n",
    "                FG = rbind(c(G), c((G[1] ** 2), (2 * G[2] ** 2)))                                   # Cálculo de los valores iniciales con factores iguales\n",
    "                A = as.matrix(solve(FG) %*% Pi)\n",
    "\n",
    "                # Construcción ACF (Solución de la función generadora)\n",
    "                PACF = data.frame(matrix(data = NA, nrow = (K + 1), ncol = 2))\n",
    "                PACF[, 1] = seq(0, K, 1)\n",
    "                colnames(PACF) = c('K', 'Pi')\n",
    "                for (i in 0 : K){\n",
    "                    PACF[i + 1, 2] = as.numeric((A[1] * (G[1] ** i)) + (A[2] * (G[2] ** i) * i))\n",
    "                }\n",
    "                PACF = with(PACF, data.frame(K, Pi))\n",
    "            } else{                                                         # Factores diferentes\n",
    "                FG = matrix(data = NA, nrow = 2, ncol = 2)\n",
    "                FG = rbind(c(G), c(G ** 2))                                   # Cálculo de los valores iniciales con factores iguales\n",
    "                A = as.matrix(solve(FG) %*% Pi)\n",
    "                \n",
    "                # Construcción ACF (Solución de la función generadora)\n",
    "                PACF = data.frame(matrix(data = NA, nrow = (K + 1), ncol = 2))\n",
    "                PACF[, 1] = seq(0, K, 1)\n",
    "                colnames(PACF) = c('K', 'Pi')\n",
    "                for (i in 0 : K){\n",
    "                    PACF[i + 1, 2] = as.numeric((A[1] * (G[1] ** i)) + (A[2] * (G[2] ** i)))\n",
    "                }\n",
    "                PACF = with(PACF, data.frame(K, Pi))\n",
    "            }\n",
    "\n",
    "            # Gráficas conjuntas\n",
    "            T = 216\n",
    "            Cv = qt(p = (alpha / 2), df = (T - 1), lower.tail = FALSE) / sqrt(T)        # Valor crítico del intervalo de confianza\n",
    "            G_ACF_1 <- ggplot(data = ACF, mapping = aes(x = K, y = Rho)) +\n",
    "                labs(title = 'ACF ARMA[1, 2]') +\n",
    "                geom_hline(aes(yintercept = 0)) +\n",
    "                geom_segment(mapping = aes(xend = K, yend = 0)) +\n",
    "                geom_hline(aes(yintercept = Cv), color=\"blue\",\n",
    "                        linetype = \"dashed\") + \n",
    "                geom_hline(aes(yintercept = -Cv), color=\"blue\",\n",
    "                        linetype = \"dashed\")\n",
    "                    \n",
    "            G_PACF_2 <- ggplot(data = PACF, mapping = aes(x = K, y = Pi)) +\n",
    "                labs(title = 'PACF ARMA[1, 2]') +\n",
    "                geom_hline(aes(yintercept = 0)) +\n",
    "                geom_segment(mapping = aes(xend = K, yend = 0)) + \n",
    "                geom_hline(aes(yintercept = Cv), color=\"blue\",\n",
    "                        linetype = \"dashed\") + \n",
    "                geom_hline(aes(yintercept = -Cv), color=\"blue\",\n",
    "                        linetype = \"dashed\")\n",
    "            \n",
    "            # Salidas\n",
    "            print(data.frame(G))\n",
    "            print(data.frame(Gamma))\n",
    "            print(data.frame(head(ACF)))\n",
    "            print(data.frame(head(PACF)))\n",
    "            return(G_ACF_1 / G_PACF_2)\n",
    "\n",
    "            } else {\n",
    "                print(sprintf('El proceso no es invertible al tener su factor (Theta) |%s| > 1', round(G, 4)))\n",
    "            }\n",
    "        } else {\n",
    "            print(sprintf('El proceso no es estacionario al tener su factor (Phi) |%s| > 1', round(Phi, 4)))\n",
    "        }\n",
    "}\n",
    "\n",
    "ARMA_12(Phi = c(0.09), Theta = c(0.12, 0.32), K = 36, sigma_a = 0.5)"
   ]
  }
 ],
 "metadata": {
  "kernelspec": {
   "display_name": "R",
   "language": "R",
   "name": "ir"
  },
  "language_info": {
   "codemirror_mode": "r",
   "file_extension": ".r",
   "mimetype": "text/x-r-source",
   "name": "R",
   "pygments_lexer": "r",
   "version": "4.2.1"
  },
  "orig_nbformat": 4,
  "vscode": {
   "interpreter": {
    "hash": "42322db88e3c2f02255451d64a951c0a78537fc6172e7daad3a10b518b5be8f3"
   }
  }
 },
 "nbformat": 4,
 "nbformat_minor": 2
}
