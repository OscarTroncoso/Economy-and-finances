{
 "cells": [
  {
   "cell_type": "markdown",
   "metadata": {},
   "source": [
    "# Series de tiempo"
   ]
  },
  {
   "cell_type": "code",
   "execution_count": 2,
   "metadata": {
    "vscode": {
     "languageId": "r"
    }
   },
   "outputs": [],
   "source": [
    "# Llamado de librerias\n",
    "library(dplyr)\n",
    "library(ggplot2)\n",
    "library(patchwork)\n",
    "library(forecast)\n",
    "library(tseries)\n",
    "library(scales)\n",
    "library(gridExtra)\n",
    "library(reshape)\n",
    "library(matlib)"
   ]
  },
  {
   "cell_type": "code",
   "execution_count": 3,
   "metadata": {
    "vscode": {
     "languageId": "r"
    }
   },
   "outputs": [
    {
     "data": {
      "text/html": [
       "<table class=\"dataframe\">\n",
       "<caption>A data.frame: 6 × 2</caption>\n",
       "<thead>\n",
       "\t<tr><th></th><th scope=col>Fecha</th><th scope=col>Inflacion</th></tr>\n",
       "\t<tr><th></th><th scope=col>&lt;chr&gt;</th><th scope=col>&lt;dbl&gt;</th></tr>\n",
       "</thead>\n",
       "<tbody>\n",
       "\t<tr><th scope=row>1</th><td>1/31/2001</td><td>8.4922</td></tr>\n",
       "\t<tr><th scope=row>2</th><td>2/28/2001</td><td>8.0583</td></tr>\n",
       "\t<tr><th scope=row>3</th><td>3/31/2001</td><td>7.8143</td></tr>\n",
       "\t<tr><th scope=row>4</th><td>4/30/2001</td><td>7.9759</td></tr>\n",
       "\t<tr><th scope=row>5</th><td>5/31/2001</td><td>7.8654</td></tr>\n",
       "\t<tr><th scope=row>6</th><td>6/30/2001</td><td>7.9298</td></tr>\n",
       "</tbody>\n",
       "</table>\n"
      ],
      "text/latex": [
       "A data.frame: 6 × 2\n",
       "\\begin{tabular}{r|ll}\n",
       "  & Fecha & Inflacion\\\\\n",
       "  & <chr> & <dbl>\\\\\n",
       "\\hline\n",
       "\t1 & 1/31/2001 & 8.4922\\\\\n",
       "\t2 & 2/28/2001 & 8.0583\\\\\n",
       "\t3 & 3/31/2001 & 7.8143\\\\\n",
       "\t4 & 4/30/2001 & 7.9759\\\\\n",
       "\t5 & 5/31/2001 & 7.8654\\\\\n",
       "\t6 & 6/30/2001 & 7.9298\\\\\n",
       "\\end{tabular}\n"
      ],
      "text/markdown": [
       "\n",
       "A data.frame: 6 × 2\n",
       "\n",
       "| <!--/--> | Fecha &lt;chr&gt; | Inflacion &lt;dbl&gt; |\n",
       "|---|---|---|\n",
       "| 1 | 1/31/2001 | 8.4922 |\n",
       "| 2 | 2/28/2001 | 8.0583 |\n",
       "| 3 | 3/31/2001 | 7.8143 |\n",
       "| 4 | 4/30/2001 | 7.9759 |\n",
       "| 5 | 5/31/2001 | 7.8654 |\n",
       "| 6 | 6/30/2001 | 7.9298 |\n",
       "\n"
      ],
      "text/plain": [
       "  Fecha     Inflacion\n",
       "1 1/31/2001 8.4922   \n",
       "2 2/28/2001 8.0583   \n",
       "3 3/31/2001 7.8143   \n",
       "4 4/30/2001 7.9759   \n",
       "5 5/31/2001 7.8654   \n",
       "6 6/30/2001 7.9298   "
      ]
     },
     "metadata": {},
     "output_type": "display_data"
    },
    {
     "data": {
      "text/html": [
       "'El número de observaciones son: 216'"
      ],
      "text/latex": [
       "'El número de observaciones son: 216'"
      ],
      "text/markdown": [
       "'El número de observaciones son: 216'"
      ],
      "text/plain": [
       "[1] \"El número de observaciones son: 216\""
      ]
     },
     "metadata": {},
     "output_type": "display_data"
    }
   ],
   "source": [
    "# Importando archivo .csv\n",
    "File = read.csv(file = ('../Ejercicio inflación/Inflación.csv'), skip = 0, header = TRUE)\n",
    "head(File)\n",
    "sprintf('El número de observaciones son: %s', length(File[, 1]))"
   ]
  },
  {
   "cell_type": "markdown",
   "metadata": {},
   "source": [
    "## Inputs"
   ]
  },
  {
   "cell_type": "code",
   "execution_count": 4,
   "metadata": {
    "vscode": {
     "languageId": "r"
    }
   },
   "outputs": [],
   "source": [
    "# Inputs \n",
    "K = 36                                          # 'Truncado' para (T / 4), si no ingrese el valor numérico\n",
    "alpha = 0.05                                    # Nivel de significancia\n",
    "\n",
    "# Desestacionalización\n",
    "k = 12                                          # Coeficiente de medias moviles y estacionalidad\n",
    "\n",
    "# Estabilización de la varianza\n",
    "R = 12                                          # Total de observaciones por grupo o división\n",
    "Lambdas = c(-1, -0.5, 0, 0.5, 1)                # Vector de Lambdas c(2, 1, 0.5, 0, -0.5, -1, -2)   \n",
    "\n",
    "# Esabilización de nivel\n",
    "K.Dif = 3                                       # Diferenciación de la estabilización de nivel, normalmente no se requiere diferenciaciones (rezago) de grado más alto\n",
    "\n",
    "# Parámetros y transformaciones lineales\n",
    "X = File$Inflacion\n",
    "\n",
    "# Datos a pronosticar\n",
    "P = 24"
   ]
  },
  {
   "cell_type": "markdown",
   "metadata": {},
   "source": [
    "## Variables y condicionales"
   ]
  },
  {
   "cell_type": "code",
   "execution_count": 8,
   "metadata": {
    "vscode": {
     "languageId": "r"
    }
   },
   "outputs": [
    {
     "data": {
      "text/html": [
       "<table class=\"dataframe\">\n",
       "<caption>A data.frame: 6 × 2</caption>\n",
       "<thead>\n",
       "\t<tr><th></th><th scope=col>K</th><th scope=col>X</th></tr>\n",
       "\t<tr><th></th><th scope=col>&lt;dbl&gt;</th><th scope=col>&lt;dbl&gt;</th></tr>\n",
       "</thead>\n",
       "<tbody>\n",
       "\t<tr><th scope=row>1</th><td>1</td><td>8.4922</td></tr>\n",
       "\t<tr><th scope=row>2</th><td>2</td><td>8.0583</td></tr>\n",
       "\t<tr><th scope=row>3</th><td>3</td><td>7.8143</td></tr>\n",
       "\t<tr><th scope=row>4</th><td>4</td><td>7.9759</td></tr>\n",
       "\t<tr><th scope=row>5</th><td>5</td><td>7.8654</td></tr>\n",
       "\t<tr><th scope=row>6</th><td>6</td><td>7.9298</td></tr>\n",
       "</tbody>\n",
       "</table>\n"
      ],
      "text/latex": [
       "A data.frame: 6 × 2\n",
       "\\begin{tabular}{r|ll}\n",
       "  & K & X\\\\\n",
       "  & <dbl> & <dbl>\\\\\n",
       "\\hline\n",
       "\t1 & 1 & 8.4922\\\\\n",
       "\t2 & 2 & 8.0583\\\\\n",
       "\t3 & 3 & 7.8143\\\\\n",
       "\t4 & 4 & 7.9759\\\\\n",
       "\t5 & 5 & 7.8654\\\\\n",
       "\t6 & 6 & 7.9298\\\\\n",
       "\\end{tabular}\n"
      ],
      "text/markdown": [
       "\n",
       "A data.frame: 6 × 2\n",
       "\n",
       "| <!--/--> | K &lt;dbl&gt; | X &lt;dbl&gt; |\n",
       "|---|---|---|\n",
       "| 1 | 1 | 8.4922 |\n",
       "| 2 | 2 | 8.0583 |\n",
       "| 3 | 3 | 7.8143 |\n",
       "| 4 | 4 | 7.9759 |\n",
       "| 5 | 5 | 7.8654 |\n",
       "| 6 | 6 | 7.9298 |\n",
       "\n"
      ],
      "text/plain": [
       "  K X     \n",
       "1 1 8.4922\n",
       "2 2 8.0583\n",
       "3 3 7.8143\n",
       "4 4 7.9759\n",
       "5 5 7.8654\n",
       "6 6 7.9298"
      ]
     },
     "metadata": {},
     "output_type": "display_data"
    },
    {
     "data": {
      "image/png": "[encoded data removed]",
      "text/plain": [
       "plot without title"
      ]
     },
     "metadata": {
      "image/png": {
       "height": 420,
       "width": 420
      }
     },
     "output_type": "display_data"
    }
   ],
   "source": [
    "# Construcción de los vectores y parámetros\n",
    "X = cbind(X)\n",
    "T = length(X)\n",
    "\n",
    "# Condición de K\n",
    "if (K == 'Truncado'){\n",
    "    K = length(File[, 1]) / 4\n",
    "} else {\n",
    "    K = K\n",
    "}\n",
    "\n",
    "# Función para verificar si un número es entero o no\n",
    "is.wholenumber <- function(x, tol = .Machine$double.eps ** 0.5)abs(x - round(x)) < tol             # TRUE = Entero, FALSE = Decimal\n",
    "\n",
    "# Redefinición de los datos\n",
    "X.r = matrix(data = X, nrow = 12)\n",
    "if (is.wholenumber(T / R) == 'FALSE'){\n",
    "  H = floor(T / R)\n",
    "  if (T > (H * R)){                                     # Llenar de NA los datos que se repiten al no ser múltiplo de R la matriz\n",
    "    l = T - (H * R)\n",
    "    X.r[((l + 1) : R), (H + 1)] = NA\n",
    "  }\n",
    "} else if (is.wholenumber(T / R) == 'TRUE'){\n",
    "  H = T / R\n",
    "  X.r = matrix(data = X, nrow = 12)\n",
    "}\n",
    "\n",
    "# Fechas\n",
    "Dates = as.matrix(File[, 1])\n",
    "Dates1 = as.Date(Dates, '%m/%d/%Y')\n",
    "\n",
    "\n",
    "# Gráfica de los datos\n",
    "XI = data.frame(matrix(data = NA, nrow = K, ncol = 2))  \n",
    "colnames(XI) = c('K', 'X')\n",
    "XI[, 1] = seq(1, K, 1)\n",
    "XI[, 2] = X[1 : K]\n",
    "XI = with(XI, data.frame(K, X))\n",
    "\n",
    "G_X <- ggplot(data = XI, mapping = aes(x = K, y = X)) +\n",
    "  geom_line(colour = '#0044ff', size = 1) +\n",
    "  labs(title = 'X [Inflación]')\n",
    "        \n",
    "# Salidas \n",
    "head(XI)\n",
    "G_X"
   ]
  },
  {
   "cell_type": "markdown",
   "metadata": {},
   "source": [
    "## Desestacionalización de la serie\n",
    "- **Tendencia:** Es un patrón a largo plazo, relativamente suave, exhibido por la serie a través del tiempo. Este se caracteriza por su patrón gradual y consistente que presenta variaciones propias de la serie lo cual es producto de las fuerzas persistentes que afectan el crecimiento o la reducción.\n",
    "- **Estacionalidad:** Es un patrón de la serie que exhibe a intervalos regulares de tiempo dentro del año. Esta asociado con estaciones o movimientos que se dan en los mismos meses año tras año.\n",
    "- **Componente aleatorio:** Es el componente resultante de extraer de la serie de tiempo, los 3 componentes anteriores. Estos son factores de corto plazo, imprevisible y no recurrentes que afectan a la serie de tiempo.\n",
    "- **Serie de tiempo:** Conjunto de variables aleatorias indexadas a través del tiempo que miden el mismo fenómeno macroeconómico."
   ]
  },
  {
   "cell_type": "code",
   "execution_count": 9,
   "metadata": {
    "vscode": {
     "languageId": "r"
    }
   },
   "outputs": [
    {
     "name": "stdout",
     "output_type": "stream",
     "text": [
      "            X\n",
      "[1,] 3.441051\n",
      "[2,] 3.100495\n",
      "[3,] 2.941455\n",
      "[4,] 3.134286\n",
      "[5,] 3.039410\n",
      "[6,] 3.092218\n"
     ]
    },
    {
     "data": {
      "image/png": "[encoded data removed]",
      "text/plain": [
       "plot without title"
      ]
     },
     "metadata": {
      "image/png": {
       "height": 420,
       "width": 420
      }
     },
     "output_type": "display_data"
    }
   ],
   "source": [
    "# Cálculo del componente estacional \n",
    "Estacional1y <- matrix(data = NA, ncol = 1, nrow = k)\n",
    "for(i in 1 : k){\n",
    "  Estacional1y[i] = mean(X[seq(from = i, to = floor(T / k) * k, by = k)])\n",
    "}\n",
    "Estac_1y <- matrix(data = Estacional1y, ncol = 1, nrow = T)\n",
    "\n",
    "# Cálculo del componente aleatorio con tendencia\n",
    "C_Aleatorio = X - Estac_1y\n",
    "\n",
    "# Salidas gráficas\n",
    "XTs = data.frame(matrix(data = NA, nrow = length(X), ncol = 2))           # Datos del archivo\n",
    "colnames(XTs) = c('K', 'X')\n",
    "XTs[, 1] = Dates1[1 : length(X)]\n",
    "XTs[, 2] = X\n",
    "\n",
    "G_XTs <- ggplot(data = XTs, mapping = aes(x = K, y = X)) +\n",
    "  geom_line(colour = 'red', size = 1) +\n",
    "  labs(x = 'Fecha', y = 'Inflación %') +\n",
    "  scale_x_date(labels = date_format(\"%m/%Y\")) +\n",
    "  theme(axis.title.x=element_blank(),\n",
    "        axis.ticks.x=element_blank())\n",
    "\n",
    "XSt = data.frame(matrix(data = NA, nrow = length(Estac_1y), ncol = 2))           # Datos de la estacionalidad\n",
    "colnames(XSt) = c('K', 'X')\n",
    "XSt[, 1] = Dates1[1 : length(Estac_1y)]\n",
    "XSt[, 2] = Estac_1y[1 : length(Estac_1y)]\n",
    "\n",
    "\n",
    "G_XSt <- ggplot(data = XSt, mapping = aes(x = K, y = X)) +\n",
    "  geom_line(colour = 'black', size = 1) +\n",
    "  labs(x = 'Fecha', y = 'Estacionalidad') +\n",
    "  scale_x_date(labels = date_format(\"%m/%Y\")) +\n",
    "  theme(axis.title.x=element_blank(),\n",
    "        axis.ticks.x=element_blank())\n",
    "\n",
    "X_Ca = data.frame(matrix(data = NA, nrow = (length(C_Aleatorio) - (k - 1)), ncol = 2))                   # Datos componente aleatorio\n",
    "colnames(X_Ca) = c('K', 'X')\n",
    "X_Ca[, 1] = Dates1[k : length(C_Aleatorio)]\n",
    "X_Ca[, 2] = C_Aleatorio[k : length(C_Aleatorio)]\n",
    "\n",
    "G_XCa <- ggplot(data = X_Ca, mapping = aes(x = K, y = X)) +\n",
    "  geom_line(colour = 'red', size = 1) +\n",
    "  labs(x = 'Fecha', y = 'C. Aleatorio con tendencia') +\n",
    "  scale_x_date(labels = date_format(\"%m/%Y\"))\n",
    "\n",
    "# Salidas gráficas\n",
    "grid.arrange(G_XTs, G_XSt , G_XCa, nrow = 3)\n",
    "\n",
    "X.data = C_Aleatorio\n",
    "\n",
    "print(head(C_Aleatorio))"
   ]
  },
  {
   "cell_type": "markdown",
   "metadata": {},
   "source": [
    "## Prueba de raíz unitaria"
   ]
  },
  {
   "cell_type": "markdown",
   "metadata": {},
   "source": [
    "### Simulación de las distribuciones"
   ]
  },
  {
   "cell_type": "markdown",
   "metadata": {},
   "source": [
    "#### Tau"
   ]
  },
  {
   "cell_type": "code",
   "execution_count": 11,
   "metadata": {
    "vscode": {
     "languageId": "r"
    }
   },
   "outputs": [
    {
     "data": {
      "image/png": "[encoded data removed]",
      "text/plain": [
       "Plot with title \"Dist. Tau con 1000 datos y 10000 escenarios\""
      ]
     },
     "metadata": {
      "image/png": {
       "height": 420,
       "width": 420
      }
     },
     "output_type": "display_data"
    }
   ],
   "source": [
    "Tau_G = function(T, S, Z_0 = 0, Sigma_a = 1, Plot = FALSE){  \n",
    "  Zt <- c(Z_0)                                                    #Creando matriz con el valor inicial\n",
    "\n",
    "  #Creando una matriz vacía para almacenar los estadísticos\n",
    "  Tau = matrix(data = NA, nrow = S, ncol = 1)\n",
    "\n",
    "  for (n in 1 : S){\n",
    "    #Generando los errores\n",
    "    set.seed(n)\n",
    "    At <- rnorm(n = T ,mean = 0, sd = Sigma_a)\n",
    "\n",
    "    #Corriendo la función generadora del PGD\n",
    "    for(t in 2 : T){\n",
    "      Zt[t] = Zt[t - 1] + At[t]\n",
    "    }\n",
    "\n",
    "    #Calculando la serie diferenciada\n",
    "    Diferencia = function(Data){                                 # Operador de diferencia\n",
    "        Serie.dif = matrix(data = NA, nrow = (T - 1), ncol = 1)\n",
    "        for(i in 1 : (T - 1)){\n",
    "            Serie.dif[i] <- Data[i + 1] - Data[i]\n",
    "        }\n",
    "        return(Serie.dif)\n",
    "    }\n",
    "    X.Diff = Diferencia(Data = Zt)\n",
    "\n",
    "    #Calculando la serie rezagada\n",
    "    X.Rez <- Zt[1 : (T - 1)]\n",
    "    \n",
    "    #Estimando la regresión (OLS)\n",
    "    Y = X.Diff\n",
    "    X = cbind(X.Rez)\n",
    "    Coeff = solve(t(X) %*% X) %*% (t(X) %*% Y)\n",
    "    Gamma = Coeff[1]                                               # Coeficiente Gamma estimado\n",
    "\n",
    "    # Estimación sigma^2 (Beta moño de OLS)\n",
    "    Ym = X %*% Coeff\n",
    "    Em = Y - Ym\n",
    "    Sigma2 = as.numeric((t(Em) %*% Em) / (T - 1))\n",
    "    Var.cov = (Sigma2 * solve(t(X) %*% X))\n",
    "    Gamma_std = sqrt(Var.cov[1, 1])\n",
    "    \n",
    "    #Llenando la matriz\n",
    "    Tau[n] <- Gamma / Gamma_std\n",
    "  }\n",
    "\n",
    "  # Quantiles\n",
    "  Q_T = matrix(data = c(quantile(Tau, probs = 0.1), quantile(Tau, probs = 0.05), quantile(Tau, probs = 0.01)), ncol = 3, nrow = 1)\n",
    "  colnames(Q_T) = c('10%', '5%', '1%')\n",
    "  value2 = Q_T[, 1]\n",
    "  value3 = Q_T[, 2]\n",
    "  value4 = Q_T[, 3]\n",
    "\n",
    "  # Salidas\n",
    "  if (Plot == FALSE){\n",
    "    print(Q_T)\n",
    "  } else {\n",
    "    # Gráficas\n",
    "    Den = density(Tau)\n",
    "    plot(Den, main = sprintf('Dist. Tau con %s datos y %s escenarios', T, S), xlab = \"Estadístico Tau\", ylab = \"Densidad\", col = \"black\", lty = 1, lwd = 4)\n",
    "    legend(x= \"topright\" , legend = c(\"Alfa = 0.1\", Q_T[, 1], \"Alfa = 0.05\", Q_T[, 2], \"Alfa = 0.01\", Q_T[, 3]))\n",
    "    polygon(c(Den$x[Den$x <= value2], value2),\n",
    "        c(Den$y[Den$x <= value2], 0),\n",
    "        col = rgb(0, 1, 0, alpha = 0.2),\n",
    "        border = 1)\n",
    "    polygon(c(Den$x[Den$x <= value3], value3),\n",
    "      c(Den$y[Den$x <= value3], 0),\n",
    "      col = rgb(0, 1, 0, alpha = 0.2),\n",
    "      border = 1)\n",
    "    polygon(c(Den$x[Den$x <= value4], value4),\n",
    "        c(Den$y[Den$x <= value4], 0),\n",
    "        col = rgb(0, 1, 0, alpha = 0.2),\n",
    "        border = 1)\n",
    "    abline(v = mean(Tau), col = \"green\", lwd = 3, lty = 2)\n",
    "  }\n",
    "}\n",
    "\n",
    "Tau_G(T = 1000, S = 10000, Plot = TRUE)"
   ]
  },
  {
   "cell_type": "markdown",
   "metadata": {},
   "source": [
    "#### Tau ~ Mu"
   ]
  },
  {
   "cell_type": "code",
   "execution_count": 4,
   "metadata": {
    "vscode": {
     "languageId": "r"
    }
   },
   "outputs": [
    {
     "data": {
      "image/png": "[encoded data removed]",
      "text/plain": [
       "Plot with title \"Dist. Tau ~ Mu con 1000 datos y 10000 escenarios\""
      ]
     },
     "metadata": {
      "image/png": {
       "height": 420,
       "width": 420
      }
     },
     "output_type": "display_data"
    }
   ],
   "source": [
    "TauM_G = function(T, S, Z_0 = 0, Sigma_a = 1, Plot = FALSE){  \n",
    "  Zt <- c(Z_0)                                                    #Creando matriz con el valor inicial\n",
    "\n",
    "  #Creando una matriz vacía para almacenar los estadísticos\n",
    "  Tau_M = c()\n",
    "\n",
    "  for (n in 1 : S){\n",
    "    #Generando los errores\n",
    "    set.seed(n)\n",
    "    At <- rnorm(n = T ,mean = 0, sd = Sigma_a)\n",
    "\n",
    "    #Corriendo la función generadora del PGD\n",
    "    for(t in 2 : T){\n",
    "      Zt[t] = Zt[t - 1] + At[t]\n",
    "    }\n",
    "\n",
    "    #Calculando la serie diferenciada\n",
    "    Diferencia = function(Data){                                 # Operador de diferencia\n",
    "        Serie.dif = matrix(data = NA, nrow = (T - 1), ncol = 1)\n",
    "        for(i in 1 : (T - 1)){\n",
    "            Serie.dif[i] <- Data[i + 1] - Data[i]\n",
    "        }\n",
    "        return(Serie.dif)\n",
    "    }\n",
    "    X.Diff = Diferencia(Data = Zt)\n",
    "\n",
    "    #Calculando la serie rezagada\n",
    "    X.Rez <- Zt[1 : (T - 1)]\n",
    "    \n",
    "    #Estimando la regresión (OLS)\n",
    "    Y = X.Diff\n",
    "    X = cbind(1, X.Rez)\n",
    "    Coeff = solve(t(X) %*% X) %*% (t(X) %*% Y)\n",
    "    Gamma = Coeff[2]                                               # Coeficiente Gamma estimado\n",
    "\n",
    "    # Estimación sigma^2 (Beta moño de OLS)\n",
    "    Ym = X %*% Coeff\n",
    "    Em = Y - Ym\n",
    "    Sigma2 = as.numeric((t(Em) %*% Em) / (T - 2))\n",
    "    Var.cov = (Sigma2 * solve(t(X) %*% X))\n",
    "    Gamma_std = sqrt(Var.cov[2, 2])\n",
    "    \n",
    "    #Llenando la matriz\n",
    "    Tau_M[n] <- Gamma / Gamma_std\n",
    "  }\n",
    "  # Quantiles\n",
    "  Q_TM = matrix(data = c(quantile(Tau_M, probs = 0.1), quantile(Tau_M, probs = 0.05), quantile(Tau_M, probs = 0.01)), ncol = 3, nrow = 1)\n",
    "  colnames(Q_TM) = c('10%', '5%', '1%')\n",
    "  value2 = Q_TM[, 1]\n",
    "  value3 = Q_TM[, 2]\n",
    "  value4 = Q_TM[, 3]\n",
    "\n",
    "  # Salidas \n",
    "  if (Plot == FALSE){\n",
    "    print(Q_TM)\n",
    "  } else {\n",
    "    \n",
    "    # Gráficas\n",
    "    Den = density(Tau_M)\n",
    "    plot(Den, main = sprintf('Dist. Tau ~ Mu con %s datos y %s escenarios', T, S), xlab=\"Estadístico Tau - Mu\", ylab=\"Densidad\", col=\"black\", lty=1, lwd=4)\n",
    "    legend(x= \"topright\" , legend = c(\"Alfa = 0.1\", Q_TM[, 1], \"Alfa = 0.05\", Q_TM[, 2], \"Alfa = 0.01\", Q_TM[, 3]))\n",
    "    polygon(c(Den$x[Den$x <= value2], value2),\n",
    "        c(Den$y[Den$x <= value2], 0),\n",
    "        col = rgb(0, 0, 1, alpha = 0.2),\n",
    "        border = 1)\n",
    "    polygon(c(Den$x[Den$x <= value3], value3),\n",
    "      c(Den$y[Den$x <= value3], 0),\n",
    "      col = rgb(0, 0, 1, alpha = 0.2),\n",
    "      border = 1)\n",
    "    polygon(c(Den$x[Den$x <= value4], value4),\n",
    "        c(Den$y[Den$x <= value4], 0),\n",
    "        col = rgb(0, 0, 1, alpha = 0.2),\n",
    "        border = 1)\n",
    "    abline(v = mean(Tau_M), col = \"blue\", lwd = 3, lty = 2)\n",
    "  }\n",
    "}\n",
    "\n",
    "TauM_G(T = 1000, S = 10000, Plot = TRUE)"
   ]
  },
  {
   "cell_type": "markdown",
   "metadata": {},
   "source": [
    "#### Tau ~ Alpha ~ Mu"
   ]
  },
  {
   "cell_type": "code",
   "execution_count": 5,
   "metadata": {
    "vscode": {
     "languageId": "r"
    }
   },
   "outputs": [
    {
     "data": {
      "image/png": "[encoded data removed]",
      "text/plain": [
       "Plot with title \"Dist. Tau ~ Alpha ~ Mu con 1000 datos y 10000 escenarios\""
      ]
     },
     "metadata": {
      "image/png": {
       "height": 420,
       "width": 420
      }
     },
     "output_type": "display_data"
    }
   ],
   "source": [
    "TauAM_G = function(T, S, Z_0 = 0, Sigma_a = 1, Plot = FALSE){  \n",
    "  Zt <- c(Z_0)                                                    #Creando matriz con el valor inicial\n",
    "\n",
    "  #Creando una matriz vacía para almacenar los estadísticos\n",
    "  Tau_M = c()\n",
    "\n",
    "  for (n in 1 : S){\n",
    "    #Generando los errores\n",
    "    set.seed(n)\n",
    "    At <- rnorm(n = T ,mean = 0, sd = Sigma_a)\n",
    "\n",
    "    #Corriendo la función generadora del PGD\n",
    "    for(t in 2 : T){\n",
    "      Zt[t] = Zt[t - 1] + At[t]\n",
    "    }\n",
    "\n",
    "    #Calculando la serie diferenciada\n",
    "    Diferencia = function(Data){                                 # Operador de diferencia\n",
    "        Serie.dif = matrix(data = NA, nrow = (T - 1), ncol = 1)\n",
    "        for(i in 1 : (T - 1)){\n",
    "            Serie.dif[i] <- Data[i + 1] - Data[i]\n",
    "        }\n",
    "        return(Serie.dif)\n",
    "    }\n",
    "    X.Diff = Diferencia(Data = Zt)\n",
    "\n",
    "    #Calculando la serie rezagada\n",
    "    X.Rez <- Zt[1 : (T - 1)]\n",
    "    \n",
    "    #Estimando la regresión (OLS)\n",
    "    Y = X.Diff\n",
    "    X = cbind(1, X.Rez)\n",
    "    Coeff = solve(t(X) %*% X) %*% (t(X) %*% Y)\n",
    "    Gamma = Coeff[1]                                               # Coeficiente Gamma estimado\n",
    "\n",
    "    # Estimación sigma^2 (Beta moño de OLS)\n",
    "    Ym = X %*% Coeff\n",
    "    Em = Y - Ym\n",
    "    Sigma2 = as.numeric((t(Em) %*% Em) / (T - 2))\n",
    "    Var.cov = (Sigma2 * solve(t(X) %*% X))\n",
    "    Gamma_std = sqrt(Var.cov[1, 1])\n",
    "    \n",
    "    #Llenando la matriz\n",
    "    Tau_M[n] <- Gamma / Gamma_std\n",
    "  }\n",
    "  # Quantiles\n",
    "  Q_TM = matrix(data = c(quantile(Tau_M, probs = 0.1), quantile(Tau_M, probs = 0.05), quantile(Tau_M, probs = 0.01)), ncol = 3, nrow = 1)\n",
    "  colnames(Q_TM) = c('10%', '5%', '1%')\n",
    "  value2 = Q_TM[, 1]\n",
    "  value3 = Q_TM[, 2]\n",
    "  value4 = Q_TM[, 3]\n",
    "\n",
    "  # Salidas \n",
    "  if (Plot == FALSE){\n",
    "    print(Q_TM)\n",
    "  } else {\n",
    "    \n",
    "    # Gráficas\n",
    "    Den = density(Tau_M)\n",
    "    plot(Den, main = sprintf('Dist. Tau ~ Alpha ~ Mu con %s datos y %s escenarios', T, S), xlab=\"Estadístico Tau - Alpha - Mu\", ylab=\"Densidad\", col=\"black\", lty=1, lwd=4)\n",
    "    legend(x= \"topright\" , legend = c(\"Alfa = 0.1\", Q_TM[, 1], \"Alfa = 0.05\", Q_TM[, 2], \"Alfa = 0.01\", Q_TM[, 3]))\n",
    "    polygon(c(Den$x[Den$x <= value2], value2),\n",
    "        c(Den$y[Den$x <= value2], 0),\n",
    "        col = rgb(0, 0, 1, alpha = 0.2),\n",
    "        border = 1)\n",
    "    polygon(c(Den$x[Den$x <= value3], value3),\n",
    "      c(Den$y[Den$x <= value3], 0),\n",
    "      col = rgb(0, 0, 1, alpha = 0.2),\n",
    "      border = 1)\n",
    "    polygon(c(Den$x[Den$x <= value4], value4),\n",
    "        c(Den$y[Den$x <= value4], 0),\n",
    "        col = rgb(0, 0, 1, alpha = 0.2),\n",
    "        border = 1)\n",
    "    abline(v = mean(Tau_M), col = \"blue\", lwd = 3, lty = 2)\n",
    "  }\n",
    "}\n",
    "\n",
    "TauAM_G(T = 1000, S = 10000, Plot = TRUE)"
   ]
  },
  {
   "cell_type": "markdown",
   "metadata": {},
   "source": [
    "#### Tau ~ Tau"
   ]
  },
  {
   "cell_type": "code",
   "execution_count": 6,
   "metadata": {
    "vscode": {
     "languageId": "r"
    }
   },
   "outputs": [
    {
     "data": {
      "image/png": "[encoded data removed]",
      "text/plain": [
       "Plot with title \"Dist. Tau ~ T con 1000 datos y 10000 escenarios\""
      ]
     },
     "metadata": {
      "image/png": {
       "height": 420,
       "width": 420
      }
     },
     "output_type": "display_data"
    }
   ],
   "source": [
    "TauT_G = function(T, S, Z_0 = 0, Sigma_a = 1, Plot = FALSE){  \n",
    "  Zt <- c(Z_0)                                                    #Creando matriz con el valor inicial\n",
    "\n",
    "  #Creando una matriz vacía para almacenar los estadísticos\n",
    "  Tau_T = c()\n",
    "\n",
    "  for (n in 1 : S){\n",
    "    #Generando los errores\n",
    "    set.seed(n)\n",
    "    At <- rnorm(n = T ,mean = 0, sd = Sigma_a)\n",
    "\n",
    "    #Corriendo la función generadora del PGD\n",
    "    for(t in 2 : T){\n",
    "      Zt[t] = Zt[t - 1] + At[t]\n",
    "    }\n",
    "\n",
    "    #Calculando la serie diferenciada\n",
    "    Diferencia = function(Data){                                 # Operador de diferencia\n",
    "        Serie.dif = matrix(data = NA, nrow = (T - 1), ncol = 1)\n",
    "        for(i in 1 : (T - 1)){\n",
    "            Serie.dif[i] <- Data[i + 1] - Data[i]\n",
    "        }\n",
    "        return(Serie.dif)\n",
    "    }\n",
    "    X.Diff = Diferencia(Data = Zt)\n",
    "\n",
    "    #Calculando la serie rezagada\n",
    "    X.Rez <- Zt[1 : (T - 1)]\n",
    "    \n",
    "    #Estimando la regresión (OLS)\n",
    "    Y = X.Diff\n",
    "    X = cbind(1, c(1 : (T - 1)), X.Rez)\n",
    "    Coeff = solve(t(X) %*% X) %*% (t(X) %*% Y)\n",
    "    Gamma = Coeff[3]                                               # Coeficiente Gamma estimado\n",
    "\n",
    "    # Estimación sigma^2 (Beta moño de OLS)\n",
    "    Ym = X %*% Coeff\n",
    "    Em = Y - Ym\n",
    "    Sigma2 = as.numeric((t(Em) %*% Em) / (T - 3))\n",
    "    Var.cov = (Sigma2 * solve(t(X) %*% X))\n",
    "    Gamma_std = sqrt(Var.cov[3, 3])\n",
    "    \n",
    "    #Llenando la matriz\n",
    "    Tau_T[n] <- Gamma / Gamma_std\n",
    "  }\n",
    "\n",
    "  # Quantiles\n",
    "  Q_TT = matrix(data = c(quantile(Tau_T, probs = 0.1), quantile(Tau_T, probs = 0.05), quantile(Tau_T, probs = 0.01)), ncol = 3, nrow = 1)\n",
    "  colnames(Q_TT) = c('10%', '5%', '1%')\n",
    "  value2 = Q_TT[, 1]\n",
    "  value3 = Q_TT[, 2]\n",
    "  value4 = Q_TT[, 3]\n",
    "\n",
    "  # Salidas\n",
    "  if (Plot == FALSE){\n",
    "    print(Q_TT)\n",
    "  } else {\n",
    "    Den = density(Tau_T)\n",
    "    plot(Den, main = sprintf('Dist. Tau ~ T con %s datos y %s escenarios', T, S), xlab = \"Estadístico Tau - Tau\", ylab = \"Densidad\", col = \"black\", lty = 1, lwd = 4)\n",
    "    legend(x= \"topright\" , legend = c(\"Alfa = 0.1\", Q_TT[, 1], \"Alfa = 0.05\", Q_TT[, 2], \"Alfa = 0.01\", Q_TT[, 3]))\n",
    "    polygon(c(Den$x[Den$x <= value2], value2),\n",
    "        c(Den$y[Den$x <= value2], 0),\n",
    "        col = rgb(1, 0, 0, alpha = 0.2),\n",
    "        border = 1)\n",
    "    polygon(c(Den$x[Den$x <= value3], value3),\n",
    "      c(Den$y[Den$x <= value3], 0),\n",
    "      col = rgb(1, 0, 0, alpha = 0.2),\n",
    "      border = 1)\n",
    "    polygon(c(Den$x[Den$x <= value4], value4),\n",
    "        c(Den$y[Den$x <= value4], 0),\n",
    "        col = rgb(1, 0, 0, alpha = 0.2),\n",
    "        border = 1)\n",
    "    abline(v = mean(Tau_T), col = \"red\", lwd = 3, lty = 2)\n",
    "  }\n",
    "}\n",
    "\n",
    "TauT_G(T = 1000, S = 10000, Plot = TRUE)"
   ]
  },
  {
   "cell_type": "markdown",
   "metadata": {},
   "source": [
    "#### Tau ~ Beta ~ Tau "
   ]
  },
  {
   "cell_type": "code",
   "execution_count": 7,
   "metadata": {
    "vscode": {
     "languageId": "r"
    }
   },
   "outputs": [
    {
     "data": {
      "image/png": "[encoded data removed]",
      "text/plain": [
       "Plot with title \"Dist. Tau ~ Beta ~ Tau con 1000 datos y 10000 escenarios\""
      ]
     },
     "metadata": {
      "image/png": {
       "height": 420,
       "width": 420
      }
     },
     "output_type": "display_data"
    }
   ],
   "source": [
    "TauBT_G = function(T, S, Z_0 = 0, Sigma_a = 1, Plot = FALSE){  \n",
    "  Zt <- c(Z_0)                                                    #Creando matriz con el valor inicial\n",
    "\n",
    "  #Creando una matriz vacía para almacenar los estadísticos\n",
    "  Tau_T = c()\n",
    "\n",
    "  for (n in 1 : S){\n",
    "    #Generando los errores\n",
    "    set.seed(n)\n",
    "    At <- rnorm(n = T ,mean = 0, sd = Sigma_a)\n",
    "\n",
    "    #Corriendo la función generadora del PGD\n",
    "    for(t in 2 : T){\n",
    "      Zt[t] = Zt[t - 1] + At[t]\n",
    "    }\n",
    "\n",
    "    #Calculando la serie diferenciada\n",
    "    Diferencia = function(Data){                                 # Operador de diferencia\n",
    "        Serie.dif = matrix(data = NA, nrow = (T - 1), ncol = 1)\n",
    "        for(i in 1 : (T - 1)){\n",
    "            Serie.dif[i] <- Data[i + 1] - Data[i]\n",
    "        }\n",
    "        return(Serie.dif)\n",
    "    }\n",
    "    X.Diff = Diferencia(Data = Zt)\n",
    "\n",
    "    #Calculando la serie rezagada\n",
    "    X.Rez <- Zt[1 : (T - 1)]\n",
    "    \n",
    "    #Estimando la regresión (OLS)\n",
    "    Y = X.Diff\n",
    "    X = cbind(1, X.Rez)\n",
    "    Coeff = solve(t(X) %*% X) %*% (t(X) %*% Y)\n",
    "    Gamma = Coeff[2]                                               # Coeficiente Gamma estimado\n",
    "\n",
    "    # Estimación sigma^2 (Beta moño de OLS)\n",
    "    Ym = X %*% Coeff\n",
    "    Em = Y - Ym\n",
    "    Sigma2 = as.numeric((t(Em) %*% Em) / (T - 2))\n",
    "    Var.cov = (Sigma2 * solve(t(X) %*% X))\n",
    "    Gamma_std = sqrt(Var.cov[2, 2])\n",
    "    \n",
    "    #Llenando la matriz\n",
    "    Tau_T[n] <- Gamma / Gamma_std\n",
    "  }\n",
    "\n",
    "  # Quantiles\n",
    "  Q_TT = matrix(data = c(quantile(Tau_T, probs = 0.1), quantile(Tau_T, probs = 0.05), quantile(Tau_T, probs = 0.01)), ncol = 3, nrow = 1)\n",
    "  colnames(Q_TT) = c('10%', '5%', '1%')\n",
    "  value2 = Q_TT[, 1]\n",
    "  value3 = Q_TT[, 2]\n",
    "  value4 = Q_TT[, 3]\n",
    "\n",
    "  # Salidas\n",
    "  if (Plot == FALSE){\n",
    "    print(Q_TT)\n",
    "  } else {\n",
    "    Den = density(Tau_T)\n",
    "    plot(Den, main = sprintf('Dist. Tau ~ Beta ~ Tau con %s datos y %s escenarios', T, S), xlab = \"Estadístico Tau - Beta - Tau\", ylab = \"Densidad\", col = \"black\", lty = 1, lwd = 4)\n",
    "    legend(x= \"topright\" , legend = c(\"Alfa = 0.1\", Q_TT[, 1], \"Alfa = 0.05\", Q_TT[, 2], \"Alfa = 0.01\", Q_TT[, 3]))\n",
    "    polygon(c(Den$x[Den$x <= value2], value2),\n",
    "        c(Den$y[Den$x <= value2], 0),\n",
    "        col = rgb(1, 0, 1, alpha = 0.2),\n",
    "        border = 1)\n",
    "    polygon(c(Den$x[Den$x <= value3], value3),\n",
    "      c(Den$y[Den$x <= value3], 0),\n",
    "      col = rgb(1, 0, 1, alpha = 0.2),\n",
    "      border = 1)\n",
    "    polygon(c(Den$x[Den$x <= value4], value4),\n",
    "        c(Den$y[Den$x <= value4], 0),\n",
    "        col = rgb(1, 0, 1, alpha = 0.2),\n",
    "        border = 1)\n",
    "    abline(v = mean(Tau_T), col = \"red\", lwd = 3, lty = 2)\n",
    "  }\n",
    "}\n",
    "\n",
    "TauBT_G(T = 1000, S = 10000, Plot = TRUE)"
   ]
  },
  {
   "cell_type": "markdown",
   "metadata": {},
   "source": [
    "#### Phi_1"
   ]
  },
  {
   "cell_type": "code",
   "execution_count": 8,
   "metadata": {
    "vscode": {
     "languageId": "r"
    }
   },
   "outputs": [
    {
     "data": {
      "image/png": "[encoded data removed]",
      "text/plain": [
       "Plot with title \"Dist. Phi1 con 1000 datos, 1000 escenarios y con un P de 7\""
      ]
     },
     "metadata": {
      "image/png": {
       "height": 420,
       "width": 420
      }
     },
     "output_type": "display_data"
    }
   ],
   "source": [
    "Phi1_G = function(T, S, P, Plot = FALSE, Z_0 = 0, Sigma_a = 1){  \n",
    "  Zt <- c(Z_0)                                                    #Creando matriz con el valor inicial\n",
    "\n",
    "  #Creando una matriz vacía para almacenar los estadísticos\n",
    "  Phi_1 = matrix(data = NA, nrow = S, ncol = 1)\n",
    "\n",
    "  for (n in 1 : S){    \n",
    "    #Generando los errores\n",
    "    set.seed(n)\n",
    "    At <- rnorm(n = T ,mean = 0, sd = Sigma_a)\n",
    "\n",
    "    #Corriendo la función generadora del PGD\n",
    "    for(t in 2 : T){\n",
    "      Zt[t] = Zt[t - 1] + At[t]\n",
    "    }\n",
    "\n",
    "    #Calculando la serie diferenciada\n",
    "    Diferencia = function(Data){                                 # Operador de diferencia\n",
    "        Serie.dif = matrix(data = NA, nrow = (T - 1), ncol = 1)\n",
    "        for(i in 1 : (T - 1)){\n",
    "            Serie.dif[i] <- Data[i + 1] - Data[i]\n",
    "        }\n",
    "        return(Serie.dif)\n",
    "    }\n",
    "    X.Diff = Diferencia(Data = Zt)\n",
    "\n",
    "    #Calculando la serie rezagada\n",
    "    X.Rez <- Zt[2 : T]\n",
    "    \n",
    "    # Matriz delta\n",
    "    Delta_P = matrix(data = NA, nrow = (T - 1), ncol = (P - 1))\n",
    "    for(i in 1 : (T - 1)){\n",
    "        for(j in 2 : P){\n",
    "          X.d.r = X.Diff[(T - (T - j)) : T]\n",
    "          Delta_P[i, (j - 1)] = X.d.r[i]\n",
    "        }\n",
    "    }\n",
    "    Delta_P = Delta_P[-((T - P + 1) : T), ]\n",
    "    \n",
    "    #Estimando la regresión (OLS) modelo no restringido\n",
    "    Y = X.Diff[1 : (T - P)]\n",
    "    X = cbind(1, X.Rez[1 : (T - P)], Delta_P)\n",
    "    Coeff = solve(t(X) %*% X) %*% (t(X) %*% Y)\n",
    "\n",
    "    # Estimación SRC_nr\n",
    "    Ym = X %*% Coeff\n",
    "    Em = Y - Ym\n",
    "    SRC_nr = as.numeric((t(Em) %*% Em))\n",
    "\n",
    "    #Estimando la regresión (OLS) modelo restringido\n",
    "    Y = X.Diff[1 : (T - P)]\n",
    "    X = cbind(Delta_P)\n",
    "    Coeff = solve(t(X) %*% X) %*% (t(X) %*% Y)\n",
    "\n",
    "    # Estimación SRC_nr\n",
    "    Ym = X %*% Coeff\n",
    "    Em = Y - Ym\n",
    "    SRC_r = as.numeric((t(Em) %*% Em))\n",
    "    \n",
    "    # #Llenando la matriz\n",
    "    Phi_1[n] = ((SRC_r -  SRC_nr) / (2)) / ((SRC_nr) / (T - 2 - (P - 1))) \n",
    "\n",
    "  }\n",
    "\n",
    "  # Quantiles\n",
    "  Q_P1 = matrix(data = c(quantile(Phi_1, probs = 0.9), quantile(Phi_1, probs = 0.95), quantile(Phi_1, probs = 0.99)), ncol = 3, nrow = 1)\n",
    "  colnames(Q_P1) = c('90%', '95%', '99%')\n",
    "\n",
    "  # Salidas\n",
    "  if (Plot == FALSE){\n",
    "    print(Q_P1)\n",
    "  } else {\n",
    "    # Gráficas\n",
    "    Den = density(Phi_1)\n",
    "    value2 = Q_P1[, 1]\n",
    "    value3 = Q_P1[, 2]\n",
    "    value4 = Q_P1[, 3]\n",
    "    plot(Den, main = sprintf('Dist. Phi1 con %s datos, %s escenarios y con un P de %s', T, S, P), xlab = \"Estadístico Phi_1\", ylab = \"Densidad\", col = \"black\", lty = 1, lwd = 4)\n",
    "    legend(x= \"topright\" , legend = c(\"Alfa = 0.1\", Q_P1[, 1], \"Alfa = 0.05\", Q_P1[, 2], \"Alfa = 0.01\", Q_P1[, 3]))\n",
    "    polygon(c(Den$x[Den$x >= value2], value2),\n",
    "        c(Den$y[Den$x >= value2], 0),\n",
    "        col = rgb(1, 1, 0, alpha = 0.2),\n",
    "        border = 1)\n",
    "    polygon(c(Den$x[Den$x >= value3], value3),\n",
    "      c(Den$y[Den$x >= value3], 0),\n",
    "      col = rgb(1, 1, 0, alpha = 0.2),\n",
    "      border = 1)\n",
    "    polygon(c(Den$x[Den$x >= value4], value4),\n",
    "        c(Den$y[Den$x >= value4], 0),\n",
    "        col = rgb(1, 1, 0, alpha = 0.2),\n",
    "        border = 1)\n",
    "    abline(v = mean(Phi_1), col = rgb(1, 1, 0), lwd = 3, lty = 2)\n",
    "  }\n",
    "}\n",
    "\n",
    "Phi1_G(T = 1000, S = 1000, P = 7, Plot = TRUE)"
   ]
  },
  {
   "cell_type": "markdown",
   "metadata": {},
   "source": [
    "#### Phi_2"
   ]
  },
  {
   "cell_type": "code",
   "execution_count": 9,
   "metadata": {
    "vscode": {
     "languageId": "r"
    }
   },
   "outputs": [
    {
     "data": {
      "image/png": "[encoded data removed]",
      "text/plain": [
       "Plot with title \"Dist. Phi2 con 1000 datos, 1000 escenarios y con un P de 7\""
      ]
     },
     "metadata": {
      "image/png": {
       "height": 420,
       "width": 420
      }
     },
     "output_type": "display_data"
    }
   ],
   "source": [
    "Phi2_G = function(T, S, P, Plot = FALSE, Z_0 = 0, Sigma_a = 1){  \n",
    "  Zt <- c(Z_0)                                                    # Creando matriz con el valor inicial\n",
    "\n",
    "  # Creando una matriz vacía para almacenar los estadísticos\n",
    "  Phi_2 = matrix(data = NA, nrow = S, ncol = 1)\n",
    "\n",
    "  for (n in 1 : S){    \n",
    "    # Generando los errores\n",
    "    set.seed(n)\n",
    "    At <- rnorm(n = T ,mean = 0, sd = Sigma_a)\n",
    "\n",
    "    # Corriendo la función generadora del PGD\n",
    "    for(t in 2 : T){\n",
    "      Zt[t] = Zt[t - 1] + At[t]\n",
    "    }\n",
    "\n",
    "    # Calculando la serie diferenciada\n",
    "    Diferencia = function(Data){                                  # Operador de diferencia\n",
    "        Serie.dif = matrix(data = NA, nrow = (T - 1), ncol = 1)\n",
    "        for(i in 1 : (T - 1)){\n",
    "            Serie.dif[i] <- Data[i + 1] - Data[i]\n",
    "        }\n",
    "        return(Serie.dif)\n",
    "    }\n",
    "    X.Diff = Diferencia(Data = Zt)\n",
    "\n",
    "    # Calculando la serie rezagada\n",
    "    X.Rez <- Zt[2 : T]\n",
    "    \n",
    "    # Matriz delta\n",
    "    Delta_P = matrix(data = NA, nrow = (T - 1), ncol = (P  - 1))\n",
    "    for(i in 1 : (T - 1)){\n",
    "        for(j in 2 : P){\n",
    "          X.d.r = X.Diff[(T - (T - j)) : T]\n",
    "          Delta_P[i, (j - 1)] = X.d.r[i]\n",
    "        }\n",
    "    }\n",
    "    Delta_P = Delta_P[-((T - P + 1) : T), ]\n",
    "    \n",
    "    # Estimando la regresión (OLS) modelo no restringido\n",
    "    Y = X.Diff[1 : (T - P)]\n",
    "    X = cbind(1, c(1 : (T - P)), X.Rez[1 : (T - P)], Delta_P)\n",
    "    Coeff = solve(t(X) %*% X) %*% (t(X) %*% Y)\n",
    "\n",
    "    # Estimación SRC_nr\n",
    "    Ym = X %*% Coeff\n",
    "    Em = Y - Ym\n",
    "    SRC_nr = as.numeric((t(Em) %*% Em))\n",
    "\n",
    "    # Estimando la regresión (OLS) modelo restringido\n",
    "    Y = X.Diff[1 : (T - P)]\n",
    "    X = cbind(Delta_P)\n",
    "    Coeff = solve(t(X) %*% X) %*% (t(X) %*% Y)\n",
    "\n",
    "    # Estimación SRC_nr\n",
    "    Ym = X %*% Coeff\n",
    "    Em = Y - Ym\n",
    "    SRC_r = as.numeric((t(Em) %*% Em))\n",
    "    \n",
    "    # Llenando la matriz\n",
    "    Phi_2[n] = ((SRC_r -  SRC_nr) / (3)) / ((SRC_nr) / (T - 3 - (P - 1))) \n",
    "\n",
    "  }\n",
    "\n",
    "  # Quantiles\n",
    "  Q_P2 = matrix(data = c(quantile(Phi_2, probs = 0.9), quantile(Phi_2, probs = 0.95), quantile(Phi_2, probs = 0.99)), ncol = 3, nrow = 1)\n",
    "  colnames(Q_P2) = c('90%', '95%', '99%')\n",
    "\n",
    "  # Salidas\n",
    "  if (Plot == FALSE){\n",
    "    print(Q_P2)\n",
    "  } else {\n",
    "    # Gráficas\n",
    "    Den = density(Phi_2)\n",
    "    value2 = Q_P2[, 1]\n",
    "    value3 = Q_P2[, 2]\n",
    "    value4 = Q_P2[, 3]\n",
    "    plot(Den, main = sprintf('Dist. Phi2 con %s datos, %s escenarios y con un P de %s', T, S, P), xlab = \"Estadístico Phi_2\", ylab = \"Densidad\", col = \"black\", lty = 1, lwd = 4)\n",
    "    legend(x= \"topright\" , legend = c(\"Alfa = 0.1\", Q_P2[, 1], \"Alfa = 0.05\", Q_P2[, 2], \"Alfa = 0.01\", Q_P2[, 3]))\n",
    "    polygon(c(Den$x[Den$x >= value2], value2),\n",
    "        c(Den$y[Den$x >= value2], 0),\n",
    "        col = rgb(1, 0, 1, alpha = 0.2),\n",
    "        border = 1)\n",
    "    polygon(c(Den$x[Den$x >= value3], value3),\n",
    "      c(Den$y[Den$x >= value3], 0),\n",
    "      col = rgb(1, 0, 1, alpha = 0.2),\n",
    "      border = 1)\n",
    "    polygon(c(Den$x[Den$x >= value4], value4),\n",
    "        c(Den$y[Den$x >= value4], 0),\n",
    "        col = rgb(1, 0, 1, alpha = 0.2),\n",
    "        border = 1)\n",
    "    abline(v = mean(Phi_2), col = rgb(1, 0, 1), lwd = 3, lty = 2)\n",
    "  }\n",
    "}\n",
    "\n",
    "Phi2_G(T = 1000, S = 1000, P = 7, Plot = TRUE)"
   ]
  },
  {
   "cell_type": "markdown",
   "metadata": {},
   "source": [
    "#### Phi_3"
   ]
  },
  {
   "cell_type": "code",
   "execution_count": 11,
   "metadata": {
    "vscode": {
     "languageId": "r"
    }
   },
   "outputs": [
    {
     "data": {
      "image/png": "[encoded data removed]",
      "text/plain": [
       "Plot with title \"Dist. Phi3 con 1000 datos, 1000 escenarios y con un P de 7\""
      ]
     },
     "metadata": {
      "image/png": {
       "height": 420,
       "width": 420
      }
     },
     "output_type": "display_data"
    }
   ],
   "source": [
    "Phi3_G = function(T, S, P, Plot = FALSE, Z_0 = 0, Sigma_a = 1){    \n",
    "  Zt <- c(Z_0)                                                    #Creando matriz con el valor inicial\n",
    "\n",
    "  #Creando una matriz vacía para almacenar los estadísticos\n",
    "  Phi_3 = matrix(data = NA, nrow = S, ncol = 1)\n",
    "\n",
    "  for (n in 1 : S){    \n",
    "    #Generando los errores\n",
    "    set.seed(n)\n",
    "    At <- rnorm(n = T ,mean = 0, sd = Sigma_a)\n",
    "\n",
    "    #Corriendo la función generadora del PGD\n",
    "    for(t in 2 : T){\n",
    "      Zt[t] = Zt[t - 1] + At[t]\n",
    "    }\n",
    "\n",
    "    #Calculando la serie diferenciada\n",
    "    Diferencia = function(Data){                                 # Operador de diferencia\n",
    "        Serie.dif = matrix(data = NA, nrow = (T - 1), ncol = 1)\n",
    "        for(i in 1 : (T - 1)){\n",
    "            Serie.dif[i] <- Data[i + 1] - Data[i]\n",
    "        }\n",
    "        return(Serie.dif)\n",
    "    }\n",
    "    X.Diff = Diferencia(Data = Zt)\n",
    "\n",
    "    #Calculando la serie rezagada\n",
    "    X.Rez <- Zt[2 : T]\n",
    "    \n",
    "    # Matriz delta\n",
    "    Delta_P = matrix(data = NA, nrow = (T - 1), ncol = (P  - 1))\n",
    "    for(i in 1 : (T - 1)){\n",
    "        for(j in 2 : P){\n",
    "          X.d.r = X.Diff[(T - (T - j)) : T]\n",
    "          Delta_P[i, (j - 1)] = X.d.r[i]\n",
    "        }\n",
    "    }\n",
    "    Delta_P = Delta_P[-((T - P + 1) : T), ]\n",
    "    \n",
    "    #Estimando la regresión (OLS) modelo no restringido\n",
    "    Y = X.Diff[1 : (T - P)]\n",
    "    X = cbind(1, c(1 : (T - P)), X.Rez[1 : (T - P)], Delta_P)\n",
    "    Coeff = solve(t(X) %*% X) %*% (t(X) %*% Y)\n",
    "\n",
    "    # Estimación SRC_nr\n",
    "    Ym = X %*% Coeff\n",
    "    Em = Y - Ym\n",
    "    SRC_nr = as.numeric((t(Em) %*% Em))\n",
    "\n",
    "    #Estimando la regresión (OLS) modelo restringido\n",
    "    Y = X.Diff[1 : (T - P)]\n",
    "    X = cbind(Delta_P)\n",
    "    Coeff = solve(t(X) %*% X) %*% (t(X) %*% Y)\n",
    "\n",
    "    # Estimación SRC_nr\n",
    "    Ym = X %*% Coeff\n",
    "    Em = Y - Ym\n",
    "    SRC_r = as.numeric((t(Em) %*% Em))\n",
    "    \n",
    "    # Llenando la matriz\n",
    "    Phi_3[n] = ((SRC_r -  SRC_nr) / (2)) / ((SRC_nr) / (T - 2 - (P - 1))) \n",
    "\n",
    "  }\n",
    "\n",
    "  # Quantiles\n",
    "  Q_P3 = matrix(data = c(quantile(Phi_3, probs = 0.9), quantile(Phi_3, probs = 0.95), quantile(Phi_3, probs = 0.99)), ncol = 3, nrow = 1)\n",
    "  colnames(Q_P3) = c('90%', '95%', '99%')\n",
    "\n",
    "  # Salidas\n",
    "  if (Plot == FALSE){\n",
    "    print(Q_P3)\n",
    "  } else {\n",
    "    # Gráficas\n",
    "    Den = density(Phi_3)\n",
    "    value2 = Q_P3[, 1]\n",
    "    value3 = Q_P3[, 2]\n",
    "    value4 = Q_P3[, 3]\n",
    "    plot(Den, main = sprintf('Dist. Phi3 con %s datos, %s escenarios y con un P de %s', T, S, P), xlab = \"Estadístico Phi_3\", ylab = \"Densidad\", col = \"black\", lty = 1, lwd = 4)\n",
    "    legend(x= \"topright\" , legend = c(\"Alfa = 0.1\", Q_P3[, 1], \"Alfa = 0.05\", Q_P3[, 2], \"Alfa = 0.01\", Q_P3[, 3]))\n",
    "    polygon(c(Den$x[Den$x >= value2], value2),\n",
    "        c(Den$y[Den$x >= value2], 0),\n",
    "        col = rgb(0, 1, 1, alpha = 0.2),\n",
    "        border = 1)\n",
    "    polygon(c(Den$x[Den$x >= value3], value3),\n",
    "      c(Den$y[Den$x >= value3], 0),\n",
    "      col = rgb(0, 1, 1, alpha = 0.2),\n",
    "      border = 1)\n",
    "    polygon(c(Den$x[Den$x >= value4], value4),\n",
    "        c(Den$y[Den$x >= value4], 0),\n",
    "        col = rgb(0, 1, 1, alpha = 0.2),\n",
    "        border = 1)\n",
    "    abline(v = mean(Phi_3), col = rgb(0, 1, 1), lwd = 3, lty = 2)\n",
    "  }\n",
    "}\n",
    "\n",
    "Phi3_G(T = 1000, S = 1000, P = 7, Plot = TRUE)"
   ]
  },
  {
   "cell_type": "markdown",
   "metadata": {},
   "source": [
    "### Dickey Fuller - Aumentado\n",
    "**Parsimonio:**\n",
    "- Cuando no halla suficiente evidencia para rechazar que todos los ordenes P son significativos en el modelo con un alpha de x% se denotará en la columna como un 1.\n",
    "- Cuando halla suficiente evidencia para rechazar que todos los ordenes P son significativos en el modelo con un alpha de x% se denotará en la columna como un 0.\n",
    "\n",
    "**Ljung - Box:**\n",
    "- Cuando no halla suficiente evidencia para rechazar independencia en los errores con un alpha de x% se denotará en la columna como un 1.\n",
    "- Cuando halla suficiente evidencia para rechazar independencia en los errores con un alpha de x% se denotará en la columna como un 0."
   ]
  },
  {
   "cell_type": "markdown",
   "metadata": {},
   "source": [
    "**Determinación del P óptimo:**"
   ]
  },
  {
   "cell_type": "code",
   "execution_count": 12,
   "metadata": {
    "vscode": {
     "languageId": "r"
    }
   },
   "outputs": [
    {
     "name": "stdout",
     "output_type": "stream",
     "text": [
      "    P Lj.Bx Parsimonia          Check\n",
      "1  48     1          0 P. innecesario\n",
      "2  47     1          0 P. innecesario\n",
      "3  46     1          0 P. innecesario\n",
      "4  45     1          0 P. innecesario\n",
      "5  44     1          0 P. innecesario\n",
      "6  43     1          0 P. innecesario\n",
      "7  42     1          0 P. innecesario\n",
      "8  41     1          0 P. innecesario\n",
      "9  40     1          0 P. innecesario\n",
      "10 39     1          0 P. innecesario\n",
      "11 38     1          1   P. necesario\n"
     ]
    },
    {
     "data": {
      "text/html": [
       "'El parámetro P necesario para hacer la prueba es P = 38.'"
      ],
      "text/latex": [
       "'El parámetro P necesario para hacer la prueba es P = 38.'"
      ],
      "text/markdown": [
       "'El parámetro P necesario para hacer la prueba es P = 38.'"
      ],
      "text/plain": [
       "[1] \"El parámetro P necesario para hacer la prueba es P = 38.\""
      ]
     },
     "metadata": {},
     "output_type": "display_data"
    }
   ],
   "source": [
    "P_opt = function(Data, alpha = 0.05, Spam = 12){\n",
    "    T = length(Data)\n",
    "\n",
    "    # Función de rezago\n",
    "    Rezago = function(Data, Rezago ){\n",
    "        Rezago = Data[1 : (T - Rezago)]\n",
    "        return(Rezago)\n",
    "    }\n",
    "    X.Res = Rezago(Data = Data, Rezago = 1)\n",
    "\n",
    "    # Función de diferencia\n",
    "    Diferencia = function(Data){\n",
    "        Serie.dif = matrix(data = NA, nrow = (T - 1), ncol = 1)\n",
    "        for(i in 1: (T - 1)){\n",
    "            Serie.dif[i] <- Data[i + 1] - Data[i]\n",
    "        }\n",
    "        return(Serie.dif)\n",
    "    }\n",
    "    X.Diff = Diferencia(Data)\n",
    "\n",
    "    # Función de Parsimonio\n",
    "    Parsimonio = function(Delta, Delta.var){\n",
    "        Desv = sqrt(Delta.var)\n",
    "        Vec = Delta\n",
    "        for (i in 1 : length(Delta)){\n",
    "            LS = Delta[i] + (2 * Desv[i])\n",
    "            LI = Delta[i] - (2 * Desv[i])\n",
    "            if (LS > 0 & LI > 0 || LS < 0 & LI < 0){\n",
    "                Vec[i] = 1\n",
    "            } else {\n",
    "                Vec[i] = 0\n",
    "            }\n",
    "        }\n",
    "        Vec = data.frame(Vec)\n",
    "        colnames(Vec) = c('Test de parsimonia')\n",
    "        return(Sum_vec = sum(Vec))\n",
    "        # print(Vec)\n",
    "        # print(Sum_vec)\n",
    "    }\n",
    "\n",
    "    # Función de Ljung - Box\n",
    "    L.B = function(At, K, AR_P){\n",
    "        t = AR_P + 1\n",
    "        T = length(At)    \n",
    "        Rho_at = matrix(data = NA, nrow = (T - K), ncol = 1)\n",
    "        for (i in 1 : (T - K)){\n",
    "            Rho_at[i] = sum(At[i] * At[(i + t)]) / sum(At ** 2)\n",
    "        }\n",
    "\n",
    "        # Prueba de Ljung - Box\n",
    "        Q = (T - AR_P) * (T - AR_P + 2) * (sum((sum(Rho_at) ** 2) / (T - AR_P - K))) \n",
    "        Vc = qchisq(p = alpha, df = (T - AR_P))\n",
    "\n",
    "        # Salida\n",
    "        if (Q < Vc){\n",
    "            1\n",
    "        } else {\n",
    "            0\n",
    "        } \n",
    "    }\n",
    "\n",
    "    # Creación de la matriz P óptimo\n",
    "    P.I = Spam * 4                                                                            # ¿Cambiar a T / 4?\n",
    "    P_est = matrix(data = NA, nrow = (P.I - 1), ncol = 4)\n",
    "    colnames(P_est) = c('P', 'Lj-Bx', 'Parsimonia', 'Check')\n",
    "    P_est[, 1] = c(P.I : 2)\n",
    "\n",
    "    for (p in 1 : (P.I - 1)){                                                              # Obtención del P adecuado\n",
    "        P = P_est[p, 1]\n",
    "       \n",
    "        # Matriz delta\n",
    "        Delta_P = matrix(data = NA, nrow = (T - 1), ncol = (P - 1))\n",
    "        for(i in 1 : (T - 1)){\n",
    "            for(j in 2 : P){\n",
    "                X.d.r = X.Diff[(T - (T - j)) : T]\n",
    "                Delta_P[i, (j - 1)] = X.d.r[i]\n",
    "            }\n",
    "        }\n",
    "        Delta_P = Delta_P[-((T - P + 1) : T), ]\n",
    "\n",
    "        # Simulación de cada escenario para cada P\n",
    "        Y = cbind(X.Diff[1 : (T - P)])\n",
    "        X = cbind(1, (1 : (T - P)), X.Res[1 : (T - P)], Delta_P)\n",
    "        Coeff = solve(t(X) %*% X) %*% (t(X) %*% Y)\n",
    "\n",
    "        Ym = X %*% Coeff\n",
    "        Em = Y - Ym\n",
    "        \n",
    "        Sigma2 = as.numeric((t(Em) %*% Em) / (T - 3))\n",
    "        Var.cov = (Sigma2 * solve(t(X) %*% X))\n",
    "        Beta = Coeff[P + 2]\n",
    "        Var.Beta = Var.cov[(P + 2), (P + 2)]\n",
    "        P_est = data.frame(P_est)\n",
    "        \n",
    "        # Pruebas para obtener el P óptimo\n",
    "        P_est[p, 2] = L.B(At = Em, K = length(Coeff), AR_P = P)\n",
    "        P_est[p, 3] = Parsimonio(Delta = Beta, Delta.var = Var.Beta)\n",
    "        Check = P_est[p, 2] + P_est[p, 3]\n",
    "        if (Check == 2){\n",
    "            P_est[p, 4] = 'P. necesario'\n",
    "            break\n",
    "        } else {\n",
    "            P_est[p, 4] = 'P. innecesario'\n",
    "        }\n",
    "    }\n",
    "\n",
    "    # P óptimo\n",
    "    P = P\n",
    "\n",
    "    # Salidas\n",
    "    print(P_est[(1 : (P.I - P + 1)), ])\n",
    "    return(sprintf('El parámetro P necesario para hacer la prueba es P = %s.', P))   \n",
    "}\n",
    "\n",
    "P_opt(Data = X.data, alpha = 0.05, Spam = 12)"
   ]
  },
  {
   "cell_type": "markdown",
   "metadata": {},
   "source": [
    "**Prueba Tau ~ Tau:**\n",
    "$$\n",
    "\\tau_{\\tau} \\rightarrow \\Delta{y_t} = \\alpha + \\beta t + \\gamma y_{t - 1} + \\sum^{P}_{i = 2}{\\beta_{i}\\Delta y_{t - i + 1}} + \\epsilon_{t}\n",
    "$$\n",
    "\n",
    "**Prueba Phi ~ 3:**\n",
    "$$\n",
    "\\phi_3 \\rightarrow \\Delta{y_t} = \\alpha + \\sum^{P}_{i = 2}{\\beta_{i}\\Delta y_{t - i + 1}} + \\epsilon_{t}\n",
    "$$\n",
    "\n",
    "**Prueba Auxiliar:**\n",
    "$$\n",
    "Aux \\rightarrow \\Delta{y_t} = \\alpha + \\beta t + \\sum^{P}_{i = 2}{\\beta_{i}\\Delta y_{t - i + 1}} + \\epsilon_{t}\n",
    "$$"
   ]
  },
  {
   "cell_type": "code",
   "execution_count": 25,
   "metadata": {
    "vscode": {
     "languageId": "r"
    }
   },
   "outputs": [
    {
     "data": {
      "text/html": [
       "<table class=\"dataframe\">\n",
       "<caption>A data.frame: 2 × 4</caption>\n",
       "<thead>\n",
       "\t<tr><th></th><th scope=col>Stat.</th><th scope=col>alpha.0.05</th><th scope=col>alpha.0.01</th><th scope=col>Conclusión</th></tr>\n",
       "\t<tr><th></th><th scope=col>&lt;dbl&gt;</th><th scope=col>&lt;dbl&gt;</th><th scope=col>&lt;dbl&gt;</th><th scope=col>&lt;chr&gt;</th></tr>\n",
       "</thead>\n",
       "<tbody>\n",
       "\t<tr><th scope=row>Gamma</th><td>-1.734752</td><td>-3.404</td><td>-3.9316</td><td>Hay raíz unitaria con un alpha del 0.05          </td></tr>\n",
       "\t<tr><th scope=row>Phi3</th><td> 3.989400</td><td> 7.120</td><td> 9.2331</td><td>Phi ~ 3 no es significativo con un alpha del 0.05</td></tr>\n",
       "</tbody>\n",
       "</table>\n"
      ],
      "text/latex": [
       "A data.frame: 2 × 4\n",
       "\\begin{tabular}{r|llll}\n",
       "  & Stat. & alpha.0.05 & alpha.0.01 & Conclusión\\\\\n",
       "  & <dbl> & <dbl> & <dbl> & <chr>\\\\\n",
       "\\hline\n",
       "\tGamma & -1.734752 & -3.404 & -3.9316 & Hay raíz unitaria con un alpha del 0.05          \\\\\n",
       "\tPhi3 &  3.989400 &  7.120 &  9.2331 & Phi \\textasciitilde{} 3 no es significativo con un alpha del 0.05\\\\\n",
       "\\end{tabular}\n"
      ],
      "text/markdown": [
       "\n",
       "A data.frame: 2 × 4\n",
       "\n",
       "| <!--/--> | Stat. &lt;dbl&gt; | alpha.0.05 &lt;dbl&gt; | alpha.0.01 &lt;dbl&gt; | Conclusión &lt;chr&gt; |\n",
       "|---|---|---|---|---|\n",
       "| Gamma | -1.734752 | -3.404 | -3.9316 | Hay raíz unitaria con un alpha del 0.05           |\n",
       "| Phi3 |  3.989400 |  7.120 |  9.2331 | Phi ~ 3 no es significativo con un alpha del 0.05 |\n",
       "\n"
      ],
      "text/plain": [
       "      Stat.     alpha.0.05 alpha.0.01\n",
       "Gamma -1.734752 -3.404     -3.9316   \n",
       "Phi3   3.989400  7.120      9.2331   \n",
       "      Conclusión                                       \n",
       "Gamma Hay raíz unitaria con un alpha del 0.05          \n",
       "Phi3  Phi ~ 3 no es significativo con un alpha del 0.05"
      ]
     },
     "metadata": {},
     "output_type": "display_data"
    }
   ],
   "source": [
    "ATau.T = function(Data, P, alpha = 0.05){\n",
    "    # Datos usados\n",
    "    T = length(Data)\n",
    "    \n",
    "    # Simulación dsitribución Tau ~ Tau\n",
    "    TauT_G = function(T, S, Z_0 = 0, Sigma_a = 1, Plot = FALSE){\n",
    "        Zt <- c(Z_0)                                                    #Creando matriz con el valor inicial\n",
    "\n",
    "        #Creando una matriz vacía para almacenar los estadísticos\n",
    "        Tau_T = c()\n",
    "\n",
    "        for (n in 1 : S){\n",
    "            #Generando los errores\n",
    "            set.seed(n)\n",
    "            At <- rnorm(n = T ,mean = 0, sd = Sigma_a)\n",
    "\n",
    "            #Corriendo la función generadora del PGD\n",
    "            for(t in 2 : T){\n",
    "            Zt[t] = Zt[t - 1] + At[t]\n",
    "            }\n",
    "\n",
    "            #Calculando la serie diferenciada\n",
    "            Diferencia = function(Data){                                 # Operador de diferencia\n",
    "                Serie.dif = matrix(data = NA, nrow = (T - 1), ncol = 1)\n",
    "                for(i in 1 : (T - 1)){\n",
    "                    Serie.dif[i] <- Data[i + 1] - Data[i]\n",
    "                }\n",
    "                return(Serie.dif)\n",
    "            }\n",
    "            X.Diff = Diferencia(Data = Zt)\n",
    "\n",
    "            #Calculando la serie rezagada\n",
    "            X.Rez <- Zt[1 : (T - 1)]\n",
    "            \n",
    "            #Estimando la regresión (OLS)\n",
    "            Y = X.Diff\n",
    "            X = cbind(1, c(1 : (T - 1)), X.Rez)\n",
    "            Coeff = solve(t(X) %*% X) %*% (t(X) %*% Y)\n",
    "            Gamma = Coeff[3]                                               # Coeficiente Gamma estimado\n",
    "\n",
    "            # Estimación sigma^2 (Beta moño de OLS)\n",
    "            Ym = X %*% Coeff\n",
    "            Em = Y - Ym\n",
    "            Sigma2 = as.numeric((t(Em) %*% Em) / (T - 3))\n",
    "            Var.cov = (Sigma2 * solve(t(X) %*% X))\n",
    "            Gamma_std = sqrt(Var.cov[3, 3])\n",
    "            \n",
    "            #Llenando la matriz\n",
    "            Tau_T[n] <- Gamma / Gamma_std\n",
    "        }\n",
    "\n",
    "        # Quantiles\n",
    "        Q_TT = matrix(data = c(quantile(Tau_T, probs = 0.1), quantile(Tau_T, probs = 0.05), quantile(Tau_T, probs = 0.01)), ncol = 3, nrow = 1)\n",
    "        colnames(Q_TT) = c('10%', '5%', '1%')\n",
    "        value2 = Q_TT[, 1]\n",
    "        value3 = Q_TT[, 2]\n",
    "        value4 = Q_TT[, 3]\n",
    "\n",
    "        # Salidas\n",
    "        if (Plot == FALSE){\n",
    "            Q_TT\n",
    "        } else {\n",
    "            Den = density(Tau_T)\n",
    "            plot(Den, main = sprintf('Dist. Tau ~ T con %s datos y %s escenarios', T, S), xlab = \"Estadístico Tau - Tau\", ylab = \"Densidad\", col = \"black\", lty = 1, lwd = 4)\n",
    "            legend(x= \"topright\" , legend = c(\"Alfa = 0.1\", Q_TT[, 1], \"Alfa = 0.05\", Q_TT[, 2], \"Alfa = 0.01\", Q_TT[, 3]))\n",
    "            polygon(c(Den$x[Den$x <= value2], value2),\n",
    "                c(Den$y[Den$x <= value2], 0),\n",
    "                col = rgb(1, 0, 0, alpha = 0.2),\n",
    "                border = 1)\n",
    "            polygon(c(Den$x[Den$x <= value3], value3),\n",
    "            c(Den$y[Den$x <= value3], 0),\n",
    "            col = rgb(1, 0, 0, alpha = 0.2),\n",
    "            border = 1)\n",
    "            polygon(c(Den$x[Den$x <= value4], value4),\n",
    "                c(Den$y[Den$x <= value4], 0),\n",
    "                col = rgb(1, 0, 0, alpha = 0.2),\n",
    "                border = 1)\n",
    "            abline(v = mean(Tau_T), col = \"red\", lwd = 3, lty = 2)\n",
    "        }\n",
    "    }\n",
    "\n",
    "    # Simulación distribución Phi ~ 3\n",
    "    Phi3_G = function(T, S, P, Plot = FALSE, Z_0 = 0, Sigma_a = 1){\n",
    "        Zt <- c(Z_0)                                                    #Creando matriz con el valor inicial\n",
    "\n",
    "        #Creando una matriz vacía para almacenar los estadísticos\n",
    "        Phi_3 = matrix(data = NA, nrow = S, ncol = 1)\n",
    "\n",
    "        for (n in 1 : S){    \n",
    "            #Generando los errores\n",
    "            set.seed(n)\n",
    "            At <- rnorm(n = T ,mean = 0, sd = Sigma_a)\n",
    "\n",
    "            #Corriendo la función generadora del PGD\n",
    "            for(t in 2 : T){\n",
    "            Zt[t] = Zt[t - 1] + At[t]\n",
    "            }\n",
    "\n",
    "            #Calculando la serie diferenciada\n",
    "            Diferencia = function(Data){                                 # Operador de diferencia\n",
    "                Serie.dif = matrix(data = NA, nrow = (T - 1), ncol = 1)\n",
    "                for(i in 1 : (T - 1)){\n",
    "                    Serie.dif[i] <- Data[i + 1] - Data[i]\n",
    "                }\n",
    "                return(Serie.dif)\n",
    "            }\n",
    "            X.Diff = Diferencia(Data = Zt)\n",
    "\n",
    "            #Calculando la serie rezagada\n",
    "            X.Rez <- Zt[2 : T]\n",
    "            \n",
    "            # Matriz delta\n",
    "            Delta_P = matrix(data = NA, nrow = (T - 1), ncol = (P  - 1))\n",
    "            for(i in 1 : (T - 1)){\n",
    "                for(j in 2 : P){\n",
    "                X.d.r = X.Diff[(T - (T - j)) : T]\n",
    "                Delta_P[i, (j - 1)] = X.d.r[i]\n",
    "                }\n",
    "            }\n",
    "            Delta_P = Delta_P[-((T - P + 1) : T), ]\n",
    "            \n",
    "            #Estimando la regresión (OLS) modelo no restringido\n",
    "            Y = X.Diff[1 : (T - P)]\n",
    "            X = cbind(1, c(1 : (T - P)), X.Rez[1 : (T - P)], Delta_P)\n",
    "            Coeff = solve(t(X) %*% X) %*% (t(X) %*% Y)\n",
    "\n",
    "            # Estimación SRC_nr\n",
    "            Ym = X %*% Coeff\n",
    "            Em = Y - Ym\n",
    "            SRC_nr = as.numeric((t(Em) %*% Em))\n",
    "\n",
    "            #Estimando la regresión (OLS) modelo restringido\n",
    "            Y = X.Diff[1 : (T - P)]\n",
    "            X = cbind(Delta_P)\n",
    "            Coeff = solve(t(X) %*% X) %*% (t(X) %*% Y)\n",
    "\n",
    "            # Estimación SRC_r\n",
    "            Ym = X %*% Coeff\n",
    "            Em = Y - Ym\n",
    "            SRC_r = as.numeric((t(Em) %*% Em))\n",
    "            \n",
    "            # #Llenando la matriz\n",
    "            Phi_3[n] = ((SRC_r -  SRC_nr) / (2)) / ((SRC_nr) / (T - 2 - (P - 1))) \n",
    "\n",
    "        }\n",
    "\n",
    "        # Quantiles\n",
    "        Q_P3 = matrix(data = c(quantile(Phi_3, probs = 0.9), quantile(Phi_3, probs = 0.95), quantile(Phi_3, probs = 0.99)), ncol = 3, nrow = 1)\n",
    "        colnames(Q_P3) = c('90%', '95%', '99%')\n",
    "\n",
    "        # Salidas\n",
    "        if (Plot == FALSE){\n",
    "            Q_P3\n",
    "        } else {\n",
    "            # Gráficas\n",
    "            Den = density(Phi_3)\n",
    "            value2 = Q_P3[, 1]\n",
    "            value3 = Q_P3[, 2]\n",
    "            value4 = Q_P3[, 3]\n",
    "            plot(Den, main = sprintf('Dist. Phi3 con %s datos, %s escenarios y con un P de %s', T, S, P), xlab = \"Estadístico Phi_3\", ylab = \"Densidad\", col = \"black\", lty = 1, lwd = 4)\n",
    "            legend(x= \"topright\" , legend = c(\"Alfa = 0.1\", Q_P3[, 1], \"Alfa = 0.05\", Q_P3[, 2], \"Alfa = 0.01\", Q_P3[, 3]))\n",
    "            polygon(c(Den$x[Den$x >= value2], value2),\n",
    "                c(Den$y[Den$x >= value2], 0),\n",
    "                col = rgb(0, 1, 1, alpha = 0.2),\n",
    "                border = 1)\n",
    "            polygon(c(Den$x[Den$x >= value3], value3),\n",
    "            c(Den$y[Den$x >= value3], 0),\n",
    "            col = rgb(0, 1, 1, alpha = 0.2),\n",
    "            border = 1)\n",
    "            polygon(c(Den$x[Den$x >= value4], value4),\n",
    "                c(Den$y[Den$x >= value4], 0),\n",
    "                col = rgb(0, 1, 1, alpha = 0.2),\n",
    "                border = 1)\n",
    "            abline(v = mean(Phi_3), col = rgb(0, 1, 1), lwd = 3, lty = 2)\n",
    "        }\n",
    "    }\n",
    "\n",
    "    # Función de rezago\n",
    "    Rezago = function(Data, Rezago){\n",
    "        Rezago = Data[1 : (T - Rezago)]\n",
    "        return(Rezago)\n",
    "    }\n",
    "    X.Res = Rezago(Data = Data, Rezago = 1)\n",
    "\n",
    "    # Función de diferencia\n",
    "    Diferencia = function(Data){\n",
    "    Serie.dif = matrix(data = NA, nrow = (T - 1), ncol = 1)\n",
    "        for(i in 1: (T - 1)){\n",
    "            Serie.dif[i] <- Data[i + 1] - Data[i]\n",
    "        }\n",
    "        return(Serie.dif)\n",
    "    }\n",
    "    X.Diff = Diferencia(Data)\n",
    "\n",
    "    # Matriz delta de orden P\n",
    "    Delta_P = matrix(data = NA, nrow = (T - 1), ncol = (P - 1))\n",
    "    for(i in 1 : (T - 1)){\n",
    "        for(j in 2 : P){\n",
    "        X.d.r = X.Diff[(T - (T - j)) : T]\n",
    "        Delta_P[i, (j - 1)] = X.d.r[i]\n",
    "        }\n",
    "    }\n",
    "    Delta_P = Delta_P[-((T - P + 1) : T), ]\n",
    "    \n",
    "    ############################################################################ Prueba Tau ~ Tau ############################################################################\n",
    "    Y.M1 = cbind(X.Diff[1 : (T - P)])\n",
    "    X.M1 = cbind(1, (1 : (T - P)), X.Res[1 : (T - P)], Delta_P)                             # X con los datos del modelo Tau ~ Tau\n",
    "\n",
    "    Coeff.M1 = solve(t(X.M1) %*% X.M1) %*% (t(X.M1) %*% Y.M1)\n",
    "    At.M1 = Y.M1 - (X.M1 %*% Coeff.M1)\n",
    "    Sigma2.M1 = as.numeric((t(At.M1) %*% At.M1) / (T - (3 + P)))\n",
    "    Varcov.M1 = Sigma2.M1 * solve(t(X.M1) %*% X.M1)\n",
    "\n",
    "    # Prueba Tau ~ Tau\n",
    "    Gamma.M1 = Coeff.M1[3]\n",
    "    Var.Gamma.M1 = Varcov.M1[3, 3]\n",
    "\n",
    "    # Estimación SRC_nr\n",
    "    Ym.M1 = X.M1 %*% Coeff.M1\n",
    "    Em.M1 = Y.M1 - Ym.M1                                                     \n",
    "    SRC_nr = as.numeric((t(Em.M1) %*% Em.M1))\n",
    "\n",
    "    ############################################################################# Prueba Phi ~ 3 #############################################################################\n",
    "    Y.P3 = cbind(X.Diff[1 : (T - P)])\n",
    "    X.P3 = cbind(1, Delta_P)                                            # X con los datos del modelo Phi ~ 3\n",
    "\n",
    "    Coeff.P3 = solve(t(X.P3) %*% X.P3) %*% (t(X.P3) %*% Y.P3)\n",
    "    At.P3 = Y.P3 - (X.P3 %*% Coeff.P3)\n",
    "    Sigma2.P3 = as.numeric((t(At.P3) %*% At.P3) / (T - (1 + P)))\n",
    "    Varcov.P3 = Sigma2.P3 * solve(t(X.P3) %*% X.P3)\n",
    "\n",
    "    # Estimación SRC_r\n",
    "    Ym.P3 = X.P3 %*% Coeff.P3\n",
    "    Em.P3 = Y.P3 - Ym.P3\n",
    "    SRC_r = as.numeric((t(Em.P3) %*% Em.P3))\n",
    "    \n",
    "    # Prubea Phi ~ 3\n",
    "    Phi3 = ((SRC_r -  SRC_nr) / (2)) / ((SRC_nr) / (T - 3 - (P - 1))) \n",
    "\n",
    "    ############################################################################# Prueba Auxiliar ############################################################################\n",
    "    Y.B = cbind(X.Diff[1 : (T - P)])\n",
    "    X.B = cbind(1, (1 : (T - P)), Delta_P)                             # X con los datos del modelo Auxiliar (Beta)\n",
    "\n",
    "    Coeff.B = solve(t(X.B) %*% X.B) %*% (t(X.B) %*% Y.B)\n",
    "    At.B = Y.B - (X.B %*% Coeff.B)\n",
    "    Sigma2.B = as.numeric((t(At.B) %*% At.B) / (T - (2 + P)))\n",
    "    Varcov.B = Sigma2.B * solve(t(X.B) %*% X.B)\n",
    "\n",
    "    # Prueba Auxiliar (Beta)\n",
    "    Beta = Coeff.B[2]\n",
    "    Var.Beta = Varcov.B[2, 2]\n",
    "    \n",
    "    ################################################################################ Salidas #################################################################################\n",
    "    # Tabla de V.C\n",
    "    TT = TauT_G(T = 1000, S = 10000, Plot = FALSE)\n",
    "    P3 = Phi3_G(T = 1000, S = 700, P = 7, Plot = FALSE)\n",
    "    Table = matrix(data = NA, nrow = 4, ncol = 4)\n",
    "    rownames(Table) = c('Gamma', 'Phi3', 'Beta', 'Gammat')\n",
    "    colnames(Table) = c('Stat.', 'alpha 0.05', 'alpha 0.01', 'Conclusión')\n",
    "    Table[1, 1] = round(Gamma.M1 / sqrt(Var.Gamma.M1), 10)                          # Statistics\n",
    "    Table[2, 1] = round(Phi3, 4)\n",
    "    Table[3, 1] = round(Beta / sqrt(Var.Beta), 10)\n",
    "    Table[4, 1] = round(Gamma.M1 / sqrt(Var.Gamma.M1), 10)\n",
    "    Table[1, 2] = round(TT[, 2], 4)                                                 # Alpha Columna 1\n",
    "    Table[1, 3] = round(TT[, 3], 4)\n",
    "    Table[2, 2] = round(P3[, 2], 4)                                                 # Alpha Columna 2\n",
    "    Table[2, 3] = round(P3[, 3], 4)\n",
    "    Table[3, 2] = round(qt(p = 0.05, df = T - (2 + P), lower.tail = FALSE), 4)      # Alpha Columna 3\n",
    "    Table[3, 3] = round(qt(p = 0.01, df = T - (2 + P), lower.tail = FALSE), 4)\n",
    "    Table[4, 2] = round(qt(p = 0.05, df = T - (3 + P), lower.tail = TRUE), 4)       # Alpha Columna 4\n",
    "    Table[4, 3] = round(qt(p = 0.01, df = T - (3 + P), lower.tail = TRUE), 4)\n",
    "\n",
    "    Table = data.frame(Table)\n",
    "\n",
    "    if (alpha == 0.05){\n",
    "        if (Table[1, 1] < Table[1, 2]){\n",
    "            Table[1, 4] = sprintf('No hay raíz unitaria con un alpha del %s', alpha)\n",
    "            Table.1 = Table[1, ]\n",
    "            return(Table.1)\n",
    "        }\n",
    "        if (Table[1, 1] > Table[1, 2]){\n",
    "            Table[1, 4] = sprintf('Hay raíz unitaria con un alpha del %s', alpha)\n",
    "        }\n",
    "        if (Table[2, 1] < Table[2, 2]){                                    \n",
    "            Table[2, 4] = sprintf('Phi ~ 3 no es significativo con un alpha del %s', alpha)\n",
    "            Table.2 = Table[1 : 2, ]\n",
    "            return(Table.2)\n",
    "        }\n",
    "        if (Table[2, 1] > Table[2, 2]){                                         \n",
    "            Table[2, 4] = sprintf('Phi ~ 3 es significativo con un alpha del %s', alpha)\n",
    "        }\n",
    "        if (Table[3, 1] < Table[3, 2]){\n",
    "            Table[3, 4] = sprintf('Beta (Tendencia) no es significativo con un alpha del %s', alpha)\n",
    "            Table.3 = Table[1 : 3, ]\n",
    "            return(Table.3)\n",
    "        }\n",
    "        if (Table[3, 1] > Table[3, 2]){\n",
    "            Table[3, 4] = sprintf('Beta (Tendencia) es significativo con un alpha del %s', alpha)\n",
    "        }\n",
    "        if (Table[4, 1] < Table[4, 2]){\n",
    "            Table[4, 4] = sprintf('(Gamma ~ t) No hay raíz unitaria con un alpha del %s', alpha)\n",
    "            return(Table)\n",
    "        }\n",
    "        if (Table[4, 1] > Table[4, 2]){\n",
    "            Table[4, 4] = sprintf('(Gamma ~ t) Hay raíz unitaria con un alpha del %s', alpha)\n",
    "            return(Table)\n",
    "        }\n",
    "    }\n",
    "    if (alpha == 0.01){\n",
    "        if (Table[1, 1] < Table[1, 3]){\n",
    "            Table[1, 4] = sprintf('No hay raíz unitaria con un alpha del %s', alpha)\n",
    "            Table.1 = Table[1, ]\n",
    "            return(Table.1)\n",
    "        }\n",
    "        if (Table[1, 1] > Table[1, 3]){\n",
    "            Table[1, 4] = sprintf('Hay raíz unitaria con un alpha del %s', alpha)\n",
    "        }\n",
    "        if (Table[2, 1] < Table[2, 3]){                                    \n",
    "            Table[2, 4] = sprintf('Phi ~ 3 no es significativo con un alpha del %s', alpha)\n",
    "            Table.2 = Table[1 : 2, ]\n",
    "            return(Table.2)\n",
    "        }\n",
    "        if (Table[2, 1] > Table[2, 3]){                                         \n",
    "            Table[2, 4] = sprintf('Phi ~ 3 es significativo con un alpha del %s', alpha)\n",
    "        }\n",
    "        if (Table[3, 1] < Table[3, 3]){\n",
    "            Table[3, 4] = sprintf('Beta (Tendencia) no es significativo con un alpha del %s', alpha)\n",
    "            Table.3 = Table[1 : 3, ]\n",
    "            return(Table.3)\n",
    "        }\n",
    "        if (Table[3, 1] > Table[3, 3]){\n",
    "            Table[3, 4] = sprintf('Beta (Tendencia) es significativo con un alpha del %s', alpha)\n",
    "        }\n",
    "        if (Table[4, 1] < Table[4, 3]){\n",
    "            Table[4, 4] = sprintf('(Gamma ~ t) No hay raíz unitaria con un alpha del %s', alpha)\n",
    "            return(Table)\n",
    "        }\n",
    "        if (Table[4, 1] > Table[4, 3]){\n",
    "            Table[4, 4] = sprintf('(Gamma ~ t) Hay raíz unitaria con un alpha del %s', alpha)\n",
    "            return(Table)\n",
    "        }\n",
    "    }\n",
    "}\n",
    "\n",
    "ATau.T(Data = X.data, P = 38, alpha = 0.05)"
   ]
  },
  {
   "cell_type": "markdown",
   "metadata": {},
   "source": [
    "**Prueba Tau ~ Mu:**\n",
    "$$\n",
    "\\Delta{y_t} = \\alpha + \\gamma y_{t - 1} + \\sum^{P}_{i = 2}{\\beta_{i}\\Delta y_{t - i + 1}} + \\epsilon_{t}\n",
    "$$\n",
    "\n",
    "**Prueba Phi ~ 1:**\n",
    "$$\n",
    "\\phi_1 \\rightarrow \\Delta{y_t} = \\sum^{P}_{i = 2}{\\beta_{i}\\Delta y_{t - i + 1}} + \\epsilon_{t}\n",
    "$$\n",
    "\n",
    "**Prueba Auxiliar:**\n",
    "$$\n",
    "Aux \\rightarrow \\Delta{y_t} = \\alpha + \\sum^{P}_{i = 2}{\\beta_{i}\\Delta y_{t - i + 1}} + \\epsilon_{t}\n",
    "$$"
   ]
  },
  {
   "cell_type": "code",
   "execution_count": 28,
   "metadata": {
    "vscode": {
     "languageId": "r"
    }
   },
   "outputs": [
    {
     "data": {
      "text/html": [
       "<table class=\"dataframe\">\n",
       "<caption>A data.frame: 2 × 4</caption>\n",
       "<thead>\n",
       "\t<tr><th></th><th scope=col>Stat.</th><th scope=col>alpha.0.05</th><th scope=col>alpha.0.01</th><th scope=col>Conclusión</th></tr>\n",
       "\t<tr><th></th><th scope=col>&lt;dbl&gt;</th><th scope=col>&lt;dbl&gt;</th><th scope=col>&lt;dbl&gt;</th><th scope=col>&lt;chr&gt;</th></tr>\n",
       "</thead>\n",
       "<tbody>\n",
       "\t<tr><th scope=row>Gamma</th><td>-2.800364</td><td>-2.8625</td><td>-3.4629</td><td>Hay raíz unitaria con un alpha del 0.05          </td></tr>\n",
       "\t<tr><th scope=row>Phi1</th><td> 4.228900</td><td> 4.6232</td><td> 6.7286</td><td>Phi ~ 1 no es significativo con un alpha del 0.05</td></tr>\n",
       "</tbody>\n",
       "</table>\n"
      ],
      "text/latex": [
       "A data.frame: 2 × 4\n",
       "\\begin{tabular}{r|llll}\n",
       "  & Stat. & alpha.0.05 & alpha.0.01 & Conclusión\\\\\n",
       "  & <dbl> & <dbl> & <dbl> & <chr>\\\\\n",
       "\\hline\n",
       "\tGamma & -2.800364 & -2.8625 & -3.4629 & Hay raíz unitaria con un alpha del 0.05          \\\\\n",
       "\tPhi1 &  4.228900 &  4.6232 &  6.7286 & Phi \\textasciitilde{} 1 no es significativo con un alpha del 0.05\\\\\n",
       "\\end{tabular}\n"
      ],
      "text/markdown": [
       "\n",
       "A data.frame: 2 × 4\n",
       "\n",
       "| <!--/--> | Stat. &lt;dbl&gt; | alpha.0.05 &lt;dbl&gt; | alpha.0.01 &lt;dbl&gt; | Conclusión &lt;chr&gt; |\n",
       "|---|---|---|---|---|\n",
       "| Gamma | -2.800364 | -2.8625 | -3.4629 | Hay raíz unitaria con un alpha del 0.05           |\n",
       "| Phi1 |  4.228900 |  4.6232 |  6.7286 | Phi ~ 1 no es significativo con un alpha del 0.05 |\n",
       "\n"
      ],
      "text/plain": [
       "      Stat.     alpha.0.05 alpha.0.01\n",
       "Gamma -2.800364 -2.8625    -3.4629   \n",
       "Phi1   4.228900  4.6232     6.7286   \n",
       "      Conclusión                                       \n",
       "Gamma Hay raíz unitaria con un alpha del 0.05          \n",
       "Phi1  Phi ~ 1 no es significativo con un alpha del 0.05"
      ]
     },
     "metadata": {},
     "output_type": "display_data"
    }
   ],
   "source": [
    "ATau.M = function(Data, P, alpha = 0.05){\n",
    "    # Datos usados\n",
    "    T = length(Data)\n",
    "    \n",
    "    # Simulación dsitribución Tau ~ Mu\n",
    "    TauM_G = function(T, S, Z_0 = 0, Sigma_a = 1, Plot = FALSE){  \n",
    "        Zt <- c(Z_0)                                                    #Creando matriz con el valor inicial\n",
    "\n",
    "        #Creando una matriz vacía para almacenar los estadísticos\n",
    "        Tau_M = c()\n",
    "\n",
    "        for (n in 1 : S){\n",
    "            #Generando los errores\n",
    "            set.seed(n)\n",
    "            At <- rnorm(n = T ,mean = 0, sd = Sigma_a)\n",
    "\n",
    "            #Corriendo la función generadora del PGD\n",
    "            for(t in 2 : T){\n",
    "            Zt[t] = Zt[t - 1] + At[t]\n",
    "            }\n",
    "\n",
    "            #Calculando la serie diferenciada\n",
    "            Diferencia = function(Data){                                 # Operador de diferencia\n",
    "                Serie.dif = matrix(data = NA, nrow = (T - 1), ncol = 1)\n",
    "                for(i in 1 : (T - 1)){\n",
    "                    Serie.dif[i] <- Data[i + 1] - Data[i]\n",
    "                }\n",
    "                return(Serie.dif)\n",
    "            }\n",
    "            X.Diff = Diferencia(Data = Zt)\n",
    "\n",
    "            #Calculando la serie rezagada\n",
    "            X.Rez <- Zt[1 : (T - 1)]\n",
    "            \n",
    "            #Estimando la regresión (OLS)\n",
    "            Y = X.Diff\n",
    "            X = cbind(1, X.Rez)\n",
    "            Coeff = solve(t(X) %*% X) %*% (t(X) %*% Y)\n",
    "            Gamma = Coeff[2]                                               # Coeficiente Gamma estimado\n",
    "\n",
    "            # Estimación sigma^2 (Beta moño de OLS)\n",
    "            Ym = X %*% Coeff\n",
    "            Em = Y - Ym\n",
    "            Sigma2 = as.numeric((t(Em) %*% Em) / (T - 2))\n",
    "            Var.cov = (Sigma2 * solve(t(X) %*% X))\n",
    "            Gamma_std = sqrt(Var.cov[2, 2])\n",
    "            \n",
    "            #Llenando la matriz\n",
    "            Tau_M[n] <- Gamma / Gamma_std\n",
    "        }\n",
    "        # Quantiles\n",
    "        Q_TM = matrix(data = c(quantile(Tau_M, probs = 0.1), quantile(Tau_M, probs = 0.05), quantile(Tau_M, probs = 0.01)), ncol = 3, nrow = 1)\n",
    "        colnames(Q_TM) = c('10%', '5%', '1%')\n",
    "        value2 = Q_TM[, 1]\n",
    "        value3 = Q_TM[, 2]\n",
    "        value4 = Q_TM[, 3]\n",
    "\n",
    "        # Salidas \n",
    "        if (Plot == FALSE){\n",
    "            Q_TM\n",
    "        } else {\n",
    "            \n",
    "            # Gráficas\n",
    "            Den = density(Tau_M)\n",
    "            plot(Den, main = sprintf('Dist. Tau ~ Mu con %s datos y %s escenarios', T, S), xlab=\"Estadístico Tau - Mu\", ylab=\"Densidad\", col=\"black\", lty=1, lwd=4)\n",
    "            legend(x= \"topright\" , legend = c(\"Alfa = 0.1\", Q_TM[, 1], \"Alfa = 0.05\", Q_TM[, 2], \"Alfa = 0.01\", Q_TM[, 3]))\n",
    "            polygon(c(Den$x[Den$x <= value2], value2),\n",
    "                c(Den$y[Den$x <= value2], 0),\n",
    "                col = rgb(0, 0, 1, alpha = 0.2),\n",
    "                border = 1)\n",
    "            polygon(c(Den$x[Den$x <= value3], value3),\n",
    "            c(Den$y[Den$x <= value3], 0),\n",
    "            col = rgb(0, 0, 1, alpha = 0.2),\n",
    "            border = 1)\n",
    "            polygon(c(Den$x[Den$x <= value4], value4),\n",
    "                c(Den$y[Den$x <= value4], 0),\n",
    "                col = rgb(0, 0, 1, alpha = 0.2),\n",
    "                border = 1)\n",
    "            abline(v = mean(Tau_M), col = \"blue\", lwd = 3, lty = 2)\n",
    "        }\n",
    "    }\n",
    "\n",
    "    # Simulación distribución Phi ~ 1\n",
    "    Phi1_G = function(T, S, P, Plot = FALSE, Z_0 = 0, Sigma_a = 1){  \n",
    "        Zt <- c(Z_0)                                                    #Creando matriz con el valor inicial\n",
    "\n",
    "        #Creando una matriz vacía para almacenar los estadísticos\n",
    "        Phi_1 = matrix(data = NA, nrow = S, ncol = 1)\n",
    "\n",
    "        for (n in 1 : S){    \n",
    "            #Generando los errores\n",
    "            set.seed(n)\n",
    "            At <- rnorm(n = T ,mean = 0, sd = Sigma_a)\n",
    "\n",
    "            #Corriendo la función generadora del PGD\n",
    "            for(t in 2 : T){\n",
    "            Zt[t] = Zt[t - 1] + At[t]\n",
    "            }\n",
    "\n",
    "            #Calculando la serie diferenciada\n",
    "            Diferencia = function(Data){                                 # Operador de diferencia\n",
    "                Serie.dif = matrix(data = NA, nrow = (T - 1), ncol = 1)\n",
    "                for(i in 1 : (T - 1)){\n",
    "                    Serie.dif[i] <- Data[i + 1] - Data[i]\n",
    "                }\n",
    "                return(Serie.dif)\n",
    "            }\n",
    "            X.Diff = Diferencia(Data = Zt)\n",
    "\n",
    "            #Calculando la serie rezagada\n",
    "            X.Rez <- Zt[2 : T]\n",
    "            \n",
    "            # Matriz delta\n",
    "            Delta_P = matrix(data = NA, nrow = (T - 1), ncol = (P - 1))\n",
    "            for(i in 1 : (T - 1)){\n",
    "                for(j in 2 : P){\n",
    "                X.d.r = X.Diff[(T - (T - j)) : T]\n",
    "                Delta_P[i, (j - 1)] = X.d.r[i]\n",
    "                }\n",
    "            }\n",
    "            Delta_P = Delta_P[-((T - P + 1) : T), ]\n",
    "            \n",
    "            #Estimando la regresión (OLS) modelo no restringido\n",
    "            Y = X.Diff[1 : (T - P)]\n",
    "            X = cbind(1, X.Rez[1 : (T - P)], Delta_P)\n",
    "            Coeff = solve(t(X) %*% X) %*% (t(X) %*% Y)\n",
    "\n",
    "            # Estimación SRC_nr\n",
    "            Ym = X %*% Coeff\n",
    "            Em = Y - Ym\n",
    "            SRC_nr = as.numeric((t(Em) %*% Em))\n",
    "\n",
    "            #Estimando la regresión (OLS) modelo restringido\n",
    "            Y = X.Diff[1 : (T - P)]\n",
    "            X = cbind(Delta_P)\n",
    "            Coeff = solve(t(X) %*% X) %*% (t(X) %*% Y)\n",
    "\n",
    "            # Estimación SRC_nr\n",
    "            Ym = X %*% Coeff\n",
    "            Em = Y - Ym\n",
    "            SRC_r = as.numeric((t(Em) %*% Em))\n",
    "            \n",
    "            # #Llenando la matriz\n",
    "            Phi_1[n] = ((SRC_r -  SRC_nr) / (2)) / ((SRC_nr) / (T - 2 - (P - 1))) \n",
    "\n",
    "        }\n",
    "\n",
    "        # Quantiles\n",
    "        Q_P1 = matrix(data = c(quantile(Phi_1, probs = 0.9), quantile(Phi_1, probs = 0.95), quantile(Phi_1, probs = 0.99)), ncol = 3, nrow = 1)\n",
    "        colnames(Q_P1) = c('90%', '95%', '99%')\n",
    "\n",
    "        # Salidas\n",
    "        if (Plot == FALSE){\n",
    "            Q_P1\n",
    "        } else {\n",
    "            # Gráficas\n",
    "            Den = density(Phi_1)\n",
    "            value2 = Q_P1[, 1]\n",
    "            value3 = Q_P1[, 2]\n",
    "            value4 = Q_P1[, 3]\n",
    "            plot(Den, main = sprintf('Dist. Phi1 con %s datos, %s escenarios y con un P de %s', T, S, P), xlab = \"Estadístico Phi_1\", ylab = \"Densidad\", col = \"black\", lty = 1, lwd = 4)\n",
    "            legend(x= \"topright\" , legend = c(\"Alfa = 0.1\", Q_P1[, 1], \"Alfa = 0.05\", Q_P1[, 2], \"Alfa = 0.01\", Q_P1[, 3]))\n",
    "            polygon(c(Den$x[Den$x >= value2], value2),\n",
    "                c(Den$y[Den$x >= value2], 0),\n",
    "                col = rgb(1, 1, 0, alpha = 0.2),\n",
    "                border = 1)\n",
    "            polygon(c(Den$x[Den$x >= value3], value3),\n",
    "            c(Den$y[Den$x >= value3], 0),\n",
    "            col = rgb(1, 1, 0, alpha = 0.2),\n",
    "            border = 1)\n",
    "            polygon(c(Den$x[Den$x >= value4], value4),\n",
    "                c(Den$y[Den$x >= value4], 0),\n",
    "                col = rgb(1, 1, 0, alpha = 0.2),\n",
    "                border = 1)\n",
    "            abline(v = mean(Phi_1), col = rgb(1, 1, 0), lwd = 3, lty = 2)\n",
    "        }\n",
    "    }\n",
    "\n",
    "    # Función de rezago\n",
    "    Rezago = function(Data, Rezago){\n",
    "        Rezago = Data[1 : (T - Rezago)]\n",
    "        return(Rezago)\n",
    "    }\n",
    "    X.Res = Rezago(Data = Data, Rezago = 1)\n",
    "\n",
    "    # Función de diferencia\n",
    "    Diferencia = function(Data){\n",
    "    Serie.dif = matrix(data = NA, nrow = (T - 1), ncol = 1)\n",
    "        for(i in 1: (T - 1)){\n",
    "            Serie.dif[i] <- Data[i + 1] - Data[i]\n",
    "        }\n",
    "        return(Serie.dif)\n",
    "    }\n",
    "    X.Diff = Diferencia(Data)\n",
    "\n",
    "    # Matriz delta de orden P\n",
    "    Delta_P = matrix(data = NA, nrow = (T - 1), ncol = (P - 1))\n",
    "    for(i in 1 : (T - 1)){\n",
    "        for(j in 2 : P){\n",
    "        X.d.r = X.Diff[(T - (T - j)) : T]\n",
    "        Delta_P[i, (j - 1)] = X.d.r[i]\n",
    "        }\n",
    "    }\n",
    "    Delta_P = Delta_P[-((T - P + 1) : T), ]\n",
    "    \n",
    "    ############################################################################ Prueba Tau ~ Mu ############################################################################\n",
    "    Y.M1 = cbind(X.Diff[1 : (T - P)])\n",
    "    X.M1 = cbind(1, X.Res[1 : (T - P)], Delta_P)                             # X con los datos del modelo Tau ~ Mu\n",
    "\n",
    "    Coeff.M1 = solve(t(X.M1) %*% X.M1) %*% (t(X.M1) %*% Y.M1)\n",
    "    At.M1 = Y.M1 - (X.M1 %*% Coeff.M1)\n",
    "    Sigma2.M1 = as.numeric((t(At.M1) %*% At.M1) / (T - (2 + P)))\n",
    "    Varcov.M1 = Sigma2.M1 * solve(t(X.M1) %*% X.M1)\n",
    "\n",
    "    # Prueba Tau ~ Mu\n",
    "    Gamma.M1 = Coeff.M1[2]\n",
    "    Var.Gamma.M1 = Varcov.M1[2, 2]\n",
    "\n",
    "    # Estimación SRC_nr\n",
    "    Ym.M1 = X.M1 %*% Coeff.M1\n",
    "    Em.M1 = Y.M1 - Ym.M1\n",
    "    SRC_nr = as.numeric((t(Em.M1) %*% Em.M1))\n",
    "\n",
    "    ############################################################################# Prueba Phi ~ 1 #############################################################################\n",
    "    Y.P1 = cbind(X.Diff[1 : (T - P)])\n",
    "    X.P1 = cbind(Delta_P)                                            # X con los datos del modelo Phi ~ 1\n",
    "\n",
    "    Coeff.P1 = solve(t(X.P1) %*% X.P1) %*% (t(X.P1) %*% Y.P1)\n",
    "    At.P1 = Y.P1 - (X.P1 %*% Coeff.P1)\n",
    "    Sigma2.P1 = as.numeric((t(At.P1) %*% At.P1) / (T - P))\n",
    "    Varcov.P1 = Sigma2.P1 * solve(t(X.P1) %*% X.P1)\n",
    "\n",
    "    # Estimación SRC_r\n",
    "    Ym.P1 = X.P1 %*% Coeff.P1\n",
    "    Em.P1 = Y.P1 - Ym.P1\n",
    "    SRC_r = as.numeric((t(Em.P1) %*% Em.P1))\n",
    "    \n",
    "    # Prubea Phi ~ 1\n",
    "    Phi1 = ((SRC_r -  SRC_nr) / (2)) / ((SRC_nr) / (T - 2 - (P - 1))) \n",
    "\n",
    "    ############################################################################# Prueba Auxiliar ############################################################################\n",
    "    Y.B = cbind(X.Diff[1 : (T - P)])\n",
    "    X.B = cbind(1, Delta_P)                                          # X con los datos del modelo Auxiliar (Alpha)\n",
    "\n",
    "    Coeff.B = solve(t(X.B) %*% X.B) %*% (t(X.B) %*% Y.B)\n",
    "    At.B = Y.B - (X.B %*% Coeff.B)\n",
    "    Sigma2.B = as.numeric((t(At.B) %*% At.B) / (T - (2 + P)))\n",
    "    Varcov.B = Sigma2.B * solve(t(X.B) %*% X.B)\n",
    "\n",
    "    # Prueba Auxiliar (Beta)\n",
    "    Beta = Coeff.B[1]\n",
    "    Var.Beta = Varcov.B[1, 1]\n",
    "    \n",
    "    ################################################################################ Salidas #################################################################################\n",
    "    # Tabla de V.C\n",
    "    TT = TauM_G(T = 1000, S = 10000, Plot = FALSE)\n",
    "    P1 = Phi1_G(T = 1000, S = 700, P = 7, Plot = FALSE)\n",
    "    Table = matrix(data = NA, nrow = 4, ncol = 4)\n",
    "    rownames(Table) = c('Gamma', 'Phi1', 'Alpha', 'Gammat')\n",
    "    colnames(Table) = c('Stat.', 'alpha 0.05', 'alpha 0.01', 'Conclusión')\n",
    "    Table[1, 1] = round(Gamma.M1 / sqrt(Var.Gamma.M1), 10)                          # Statistics\n",
    "    Table[2, 1] = round(Phi1, 4)\n",
    "    Table[3, 1] = round(Beta / sqrt(Var.Beta), 10)\n",
    "    Table[4, 1] = round(Gamma.M1 / sqrt(Var.Gamma.M1), 10)\n",
    "    Table[1, 2] = round(TT[, 2], 4)                                                 # Alpha Columna 1\n",
    "    Table[1, 3] = round(TT[, 3], 4)\n",
    "    Table[2, 2] = round(P1[, 2], 4)                                                 # Alpha Columna 2\n",
    "    Table[2, 3] = round(P1[, 3], 4)\n",
    "    Table[3, 2] = round(qt(p = 0.05, df = T - (2 + P), lower.tail = FALSE), 4)      # Alpha Columna 3\n",
    "    Table[3, 3] = round(qt(p = 0.01, df = T - (2 + P), lower.tail = FALSE), 4)\n",
    "    Table[4, 2] = round(qt(p = 0.05, df = T - (3 + P), lower.tail = TRUE), 4)       # Alpha Columna 4\n",
    "    Table[4, 3] = round(qt(p = 0.01, df = T - (3 + P), lower.tail = TRUE), 4)\n",
    "\n",
    "    Table = data.frame(Table)\n",
    "    \n",
    "    if (alpha == 0.05){\n",
    "        if (Table[1, 1] < Table[1, 2]){\n",
    "            Table[1, 4] = sprintf('No hay raíz unitaria con un alpha del %s', alpha)\n",
    "            Table.1 = Table[1, ]\n",
    "            return(Table.1)\n",
    "        }\n",
    "        if (Table[1, 1] > Table[1, 2]){\n",
    "            Table[1, 4] = sprintf('Hay raíz unitaria con un alpha del %s', alpha)\n",
    "        }\n",
    "        if (Table[2, 1] < Table[2, 2]){                                    \n",
    "            Table[2, 4] = sprintf('Phi ~ 1 no es significativo con un alpha del %s', alpha)\n",
    "            Table.2 = Table[1 : 2, ]\n",
    "            return(Table.2)\n",
    "        }\n",
    "        if (Table[2, 1] > Table[2, 2]){                                         \n",
    "            Table[2, 4] = sprintf('Phi ~ 1 es significativo con un alpha del %s', alpha)\n",
    "        }\n",
    "        if (Table[3, 1] < Table[3, 2]){\n",
    "            Table[3, 4] = sprintf('Alpha no es significativo con un alpha del %s', alpha)\n",
    "            Table.3 = Table[1 : 3, ]\n",
    "            return(Table.3)\n",
    "        }\n",
    "        if (Table[3, 1] > Table[3, 2]){\n",
    "            Table[3, 4] = sprintf('Alpha es significativo con un alpha del %s', alpha)\n",
    "        }\n",
    "        if (Table[4, 1] < Table[4, 2]){\n",
    "            Table[4, 4] = sprintf('(Gamma ~ t) No hay raíz unitaria con un alpha del %s', alpha)\n",
    "            return(Table)\n",
    "        }\n",
    "        if (Table[4, 1] > Table[4, 2]){\n",
    "            Table[4, 4] = sprintf('(Gamma ~ t) Hay raíz unitaria con un alpha del %s', alpha)\n",
    "            return(Table)\n",
    "        }\n",
    "    }\n",
    "    if (alpha == 0.01){\n",
    "        if (Table[1, 1] < Table[1, 3]){\n",
    "            Table[1, 4] = sprintf('No hay raíz unitaria con un alpha del %s', alpha)\n",
    "            Table.1 = Table[1, ]\n",
    "            return(Table.1)\n",
    "        }\n",
    "        if (Table[1, 1] > Table[1, 3]){\n",
    "            Table[1, 4] = sprintf('Hay raíz unitaria con un alpha del %s', alpha)\n",
    "        }\n",
    "        if (Table[2, 1] < Table[2, 3]){                                    \n",
    "            Table[2, 4] = sprintf('Phi ~ 1 no es significativo con un alpha del %s', alpha)\n",
    "            Table.2 = Table[1 : 2, ]\n",
    "            return(Table.2)\n",
    "        }\n",
    "        if (Table[2, 1] > Table[2, 3]){                                         \n",
    "            Table[2, 4] = sprintf('Phi ~ 1 es significativo con un alpha del %s', alpha)\n",
    "        }\n",
    "        if (Table[3, 1] < Table[3, 3]){\n",
    "            Table[3, 4] = sprintf('Alpha no es significativo con un alpha del %s', alpha)\n",
    "            Table.3 = Table[1 : 3, ]\n",
    "            return(Table.3)\n",
    "        }\n",
    "        if (Table[3, 1] > Table[3, 3]){\n",
    "            Table[3, 4] = sprintf('Alpha es significativo con un alpha del %s', alpha)\n",
    "        }\n",
    "        if (Table[4, 1] < Table[4, 3]){\n",
    "            Table[4, 4] = sprintf('(Gamma ~ t) No hay raíz unitaria con un alpha del %s', alpha)\n",
    "            return(Table)\n",
    "        }\n",
    "        if (Table[4, 1] > Table[4, 3]){\n",
    "            Table[4, 4] = sprintf('(Gamma ~ t) Hay raíz unitaria con un alpha del %s', alpha)\n",
    "            return(Table)\n",
    "        }\n",
    "    }\n",
    "}\n",
    "\n",
    "ATau.M(Data = X.data, P = 38, alpha = 0.05)"
   ]
  },
  {
   "cell_type": "markdown",
   "metadata": {},
   "source": [
    "**Prueba Tau:**\n",
    "$$\n",
    "\\Delta{y_t} = \\gamma y_{t - 1} + \\sum^{P}_{i = 2}{\\beta_{i}\\Delta y_{t - i + 1}} + \\epsilon_{t}\n",
    "$$\n"
   ]
  },
  {
   "cell_type": "code",
   "execution_count": 33,
   "metadata": {
    "vscode": {
     "languageId": "r"
    }
   },
   "outputs": [
    {
     "data": {
      "text/html": [
       "<table class=\"dataframe\">\n",
       "<caption>A data.frame: 1 × 4</caption>\n",
       "<thead>\n",
       "\t<tr><th></th><th scope=col>Stat.</th><th scope=col>alpha.0.05</th><th scope=col>alpha.0.01</th><th scope=col>Conclusión</th></tr>\n",
       "\t<tr><th></th><th scope=col>&lt;dbl&gt;</th><th scope=col>&lt;dbl&gt;</th><th scope=col>&lt;dbl&gt;</th><th scope=col>&lt;chr&gt;</th></tr>\n",
       "</thead>\n",
       "<tbody>\n",
       "\t<tr><th scope=row>Gamma</th><td>-2.574008</td><td>-1.9407</td><td>-2.569</td><td>No hay raíz unitaria con un alpha del 0.05</td></tr>\n",
       "</tbody>\n",
       "</table>\n"
      ],
      "text/latex": [
       "A data.frame: 1 × 4\n",
       "\\begin{tabular}{r|llll}\n",
       "  & Stat. & alpha.0.05 & alpha.0.01 & Conclusión\\\\\n",
       "  & <dbl> & <dbl> & <dbl> & <chr>\\\\\n",
       "\\hline\n",
       "\tGamma & -2.574008 & -1.9407 & -2.569 & No hay raíz unitaria con un alpha del 0.05\\\\\n",
       "\\end{tabular}\n"
      ],
      "text/markdown": [
       "\n",
       "A data.frame: 1 × 4\n",
       "\n",
       "| <!--/--> | Stat. &lt;dbl&gt; | alpha.0.05 &lt;dbl&gt; | alpha.0.01 &lt;dbl&gt; | Conclusión &lt;chr&gt; |\n",
       "|---|---|---|---|---|\n",
       "| Gamma | -2.574008 | -1.9407 | -2.569 | No hay raíz unitaria con un alpha del 0.05 |\n",
       "\n"
      ],
      "text/plain": [
       "      Stat.     alpha.0.05 alpha.0.01\n",
       "Gamma -2.574008 -1.9407    -2.569    \n",
       "      Conclusión                                \n",
       "Gamma No hay raíz unitaria con un alpha del 0.05"
      ]
     },
     "metadata": {},
     "output_type": "display_data"
    }
   ],
   "source": [
    "ATau = function(Data, P, alpha = 0.05){\n",
    "    # Datos usados\n",
    "    T = length(Data)\n",
    "    \n",
    "    # Simulación dsitribución Tau\n",
    "    Tau_G = function(T, S, Z_0 = 0, Sigma_a = 1, Plot = FALSE){  \n",
    "        Zt <- c(Z_0)                                                    #Creando matriz con el valor inicial\n",
    "\n",
    "        #Creando una matriz vacía para almacenar los estadísticos\n",
    "        Tau = matrix(data = NA, nrow = S, ncol = 1)\n",
    "\n",
    "        for (n in 1 : S){\n",
    "            #Generando los errores\n",
    "            set.seed(n)\n",
    "            At <- rnorm(n = T ,mean = 0, sd = Sigma_a)\n",
    "\n",
    "            #Corriendo la función generadora del PGD\n",
    "            for(t in 2 : T){\n",
    "            Zt[t] = Zt[t - 1] + At[t]\n",
    "            }\n",
    "\n",
    "            #Calculando la serie diferenciada\n",
    "            Diferencia = function(Data){                                 # Operador de diferencia\n",
    "                Serie.dif = matrix(data = NA, nrow = (T - 1), ncol = 1)\n",
    "                for(i in 1 : (T - 1)){\n",
    "                    Serie.dif[i] <- Data[i + 1] - Data[i]\n",
    "                }\n",
    "                return(Serie.dif)\n",
    "            }\n",
    "            X.Diff = Diferencia(Data = Zt)\n",
    "\n",
    "            #Calculando la serie rezagada\n",
    "            X.Rez <- Zt[1 : (T - 1)]\n",
    "            \n",
    "            #Estimando la regresión (OLS)\n",
    "            Y = X.Diff\n",
    "            X = cbind(X.Rez)\n",
    "            Coeff = solve(t(X) %*% X) %*% (t(X) %*% Y)\n",
    "            Gamma = Coeff[1]                                               # Coeficiente Gamma estimado\n",
    "\n",
    "            # Estimación sigma^2 (Beta moño de OLS)\n",
    "            Ym = X %*% Coeff\n",
    "            Em = Y - Ym\n",
    "            Sigma2 = as.numeric((t(Em) %*% Em) / (T - 1))\n",
    "            Var.cov = (Sigma2 * solve(t(X) %*% X))\n",
    "            Gamma_std = sqrt(Var.cov[1, 1])\n",
    "            \n",
    "            #Llenando la matriz\n",
    "            Tau[n] <- Gamma / Gamma_std\n",
    "        }\n",
    "\n",
    "        # Quantiles\n",
    "        Q_T = matrix(data = c(quantile(Tau, probs = 0.1), quantile(Tau, probs = 0.05), quantile(Tau, probs = 0.01)), ncol = 3, nrow = 1)\n",
    "        colnames(Q_T) = c('10%', '5%', '1%')\n",
    "        value2 = Q_T[, 1]\n",
    "        value3 = Q_T[, 2]\n",
    "        value4 = Q_T[, 3]\n",
    "\n",
    "        # Salidas\n",
    "        if (Plot == FALSE){\n",
    "            Q_T\n",
    "        } else {\n",
    "            # Gráficas\n",
    "            Den = density(Tau)\n",
    "            plot(Den, main = sprintf('Dist. Tau con %s datos y %s escenarios', T, S), xlab = \"Estadístico Tau\", ylab = \"Densidad\", col = \"black\", lty = 1, lwd = 4)\n",
    "            legend(x= \"topright\" , legend = c(\"Alfa = 0.1\", Q_T[, 1], \"Alfa = 0.05\", Q_T[, 2], \"Alfa = 0.01\", Q_T[, 3]))\n",
    "            polygon(c(Den$x[Den$x <= value2], value2),\n",
    "                c(Den$y[Den$x <= value2], 0),\n",
    "                col = rgb(0, 1, 0, alpha = 0.2),\n",
    "                border = 1)\n",
    "            polygon(c(Den$x[Den$x <= value3], value3),\n",
    "            c(Den$y[Den$x <= value3], 0),\n",
    "            col = rgb(0, 1, 0, alpha = 0.2),\n",
    "            border = 1)\n",
    "            polygon(c(Den$x[Den$x <= value4], value4),\n",
    "                c(Den$y[Den$x <= value4], 0),\n",
    "                col = rgb(0, 1, 0, alpha = 0.2),\n",
    "                border = 1)\n",
    "            abline(v = mean(Tau), col = \"green\", lwd = 3, lty = 2)\n",
    "        }\n",
    "    }\n",
    "\n",
    "    # Función de rezago\n",
    "    Rezago = function(Data, Rezago){\n",
    "        Rezago = Data[1 : (T - Rezago)]\n",
    "        return(Rezago)\n",
    "    }\n",
    "    X.Res = Rezago(Data = Data, Rezago = 1)\n",
    "\n",
    "    # Función de diferencia\n",
    "    Diferencia = function(Data){\n",
    "    Serie.dif = matrix(data = NA, nrow = (T - 1), ncol = 1)\n",
    "        for(i in 1: (T - 1)){\n",
    "            Serie.dif[i] <- Data[i + 1] - Data[i]\n",
    "        }\n",
    "        return(Serie.dif)\n",
    "    }\n",
    "    X.Diff = Diferencia(Data)\n",
    "\n",
    "    # Matriz delta de orden P\n",
    "    Delta_P = matrix(data = NA, nrow = (T - 1), ncol = (P - 1))\n",
    "    for(i in 1 : (T - 1)){\n",
    "        for(j in 2 : P){\n",
    "        X.d.r = X.Diff[(T - (T - j)) : T]\n",
    "        Delta_P[i, (j - 1)] = X.d.r[i]\n",
    "        }\n",
    "    }\n",
    "    Delta_P = Delta_P[-((T - P + 1) : T), ]\n",
    "    \n",
    "    ############################################################################## Prueba Tau ###############################################################################\n",
    "    Y.M1 = cbind(X.Diff[1 : (T - P)])\n",
    "    X.M1 = cbind(X.Res[1 : (T - P)], Delta_P)                             # X con los datos del modelo Tau\n",
    "\n",
    "    Coeff.M1 = solve(t(X.M1) %*% X.M1) %*% (t(X.M1) %*% Y.M1)\n",
    "    At.M1 = Y.M1 - (X.M1 %*% Coeff.M1)\n",
    "    Sigma2.M1 = as.numeric((t(At.M1) %*% At.M1) / (T - (1 + P)))\n",
    "    Varcov.M1 = Sigma2.M1 * solve(t(X.M1) %*% X.M1)\n",
    "\n",
    "    # Prueba Tau ~ Mu\n",
    "    Gamma.M1 = Coeff.M1[1]\n",
    "    Var.Gamma.M1 = Varcov.M1[1, 1]\n",
    "\n",
    "    # Estimación Em estimado\n",
    "    Ym.M1 = X.M1 %*% Coeff.M1\n",
    "    Em.M1 = Y.M1 - Ym.M1\n",
    "    \n",
    "    ################################################################################ Salidas #################################################################################\n",
    "    # Tabla de V.C\n",
    "    TT = Tau_G(T = 1000, S = 10000, Plot = FALSE)\n",
    "    Table = matrix(data = NA, nrow = 1, ncol = 4)\n",
    "    rownames(Table) = c('Gamma')\n",
    "    colnames(Table) = c('Stat.', 'alpha 0.05', 'alpha 0.01', 'Conclusión')\n",
    "    Table[1, 1] = round(Gamma.M1 / sqrt(Var.Gamma.M1), 10)                          # Statistics\n",
    "    Table[1, 2] = round(TT[, 2], 4)                                                 # Alpha Columna 1\n",
    "    Table[1, 3] = round(TT[, 3], 4)\n",
    "\n",
    "    Table = data.frame(Table)\n",
    "\n",
    "    if (alpha == 0.05){\n",
    "        if (Table[1, 1] < Table[1, 2]){\n",
    "            Table[1, 4] = sprintf('No hay raíz unitaria con un alpha del %s', alpha)\n",
    "        }\n",
    "        if (Table[1, 1] > Table[1, 2]){\n",
    "            Table[1, 4] = sprintf('Hay raíz unitaria con un alpha del %s', alpha)\n",
    "        }\n",
    "    }\n",
    "    if (alpha == 0.01){\n",
    "        if (Table[1, 1] < Table[1, 3]){\n",
    "            Table[1, 4] = sprintf('No hay raíz unitaria con un alpha del %s', alpha)\n",
    "        }\n",
    "        if (Table[1, 1] > Table[1, 3]){\n",
    "            Table[1, 4] = sprintf('Hay raíz unitaria con un alpha del %s', alpha)\n",
    "        }\n",
    "    }\n",
    "\n",
    "    return(Table)\n",
    "}\n",
    "\n",
    "ATau(Data = X.data, P = 38, alpha = 0.05)"
   ]
  },
  {
   "cell_type": "markdown",
   "metadata": {},
   "source": [
    "### Dickey Fuller"
   ]
  },
  {
   "cell_type": "markdown",
   "metadata": {},
   "source": [
    "**Prueba Tau ~ Tau:**\n",
    "\n",
    "- Utiliza el la ecuación asociada a la prueba Tau ~ Tau junto con una prueba auxiliar Tau ~ Beta ~ Tau que se contrasta con un valor crítico de la distribución t - Student.\n",
    "\n",
    "\n",
    "$$\n",
    "\\tau_\\tau \\rightarrow \\Delta{y_t} = \\alpha + \\beta t + \\gamma y_{t - 1} + \\epsilon_{t}\n",
    "$$\n",
    "\n",
    "$$\n",
    "\\tau_{\\beta \\tau} \\rightarrow \\beta = 0, dado \\enspace que \\enspace \\gamma = 0  \\rightarrow \\enspace t_{(T - k)gl}\n",
    "$$"
   ]
  },
  {
   "cell_type": "code",
   "execution_count": 7,
   "metadata": {
    "vscode": {
     "languageId": "r"
    }
   },
   "outputs": [
    {
     "data": {
      "text/html": [
       "<table class=\"dataframe\">\n",
       "<caption>A data.frame: 2 × 4</caption>\n",
       "<thead>\n",
       "\t<tr><th></th><th scope=col>Stat.</th><th scope=col>alpha.0.05</th><th scope=col>alpha.0.01</th><th scope=col>Conclusión</th></tr>\n",
       "\t<tr><th></th><th scope=col>&lt;dbl&gt;</th><th scope=col>&lt;dbl&gt;</th><th scope=col>&lt;dbl&gt;</th><th scope=col>&lt;chr&gt;</th></tr>\n",
       "</thead>\n",
       "<tbody>\n",
       "\t<tr><th scope=row>Gamma</th><td>-1.693765</td><td>-3.404</td><td>-3.9316</td><td>Hay raíz unitaria con un alpha del 0.05                   </td></tr>\n",
       "\t<tr><th scope=row>Beta</th><td>-0.265200</td><td> 2.790</td><td> 3.5300</td><td>Beta (Tendencia) no es significativo con un alpha del 0.05</td></tr>\n",
       "</tbody>\n",
       "</table>\n"
      ],
      "text/latex": [
       "A data.frame: 2 × 4\n",
       "\\begin{tabular}{r|llll}\n",
       "  & Stat. & alpha.0.05 & alpha.0.01 & Conclusión\\\\\n",
       "  & <dbl> & <dbl> & <dbl> & <chr>\\\\\n",
       "\\hline\n",
       "\tGamma & -1.693765 & -3.404 & -3.9316 & Hay raíz unitaria con un alpha del 0.05                   \\\\\n",
       "\tBeta & -0.265200 &  2.790 &  3.5300 & Beta (Tendencia) no es significativo con un alpha del 0.05\\\\\n",
       "\\end{tabular}\n"
      ],
      "text/markdown": [
       "\n",
       "A data.frame: 2 × 4\n",
       "\n",
       "| <!--/--> | Stat. &lt;dbl&gt; | alpha.0.05 &lt;dbl&gt; | alpha.0.01 &lt;dbl&gt; | Conclusión &lt;chr&gt; |\n",
       "|---|---|---|---|---|\n",
       "| Gamma | -1.693765 | -3.404 | -3.9316 | Hay raíz unitaria con un alpha del 0.05                    |\n",
       "| Beta | -0.265200 |  2.790 |  3.5300 | Beta (Tendencia) no es significativo con un alpha del 0.05 |\n",
       "\n"
      ],
      "text/plain": [
       "      Stat.     alpha.0.05 alpha.0.01\n",
       "Gamma -1.693765 -3.404     -3.9316   \n",
       "Beta  -0.265200  2.790      3.5300   \n",
       "      Conclusión                                                \n",
       "Gamma Hay raíz unitaria con un alpha del 0.05                   \n",
       "Beta  Beta (Tendencia) no es significativo con un alpha del 0.05"
      ]
     },
     "metadata": {},
     "output_type": "display_data"
    }
   ],
   "source": [
    "Tau.T = function(Data, alpha = 0.05){\n",
    "    # Datos usados\n",
    "    T = length(Data)\n",
    "\n",
    "    # Simulación dsitribución Tau Tau\n",
    "    TauT_G = function(T, S, Z_0 = 0, Sigma_a = 1, Plot = FALSE){  \n",
    "        Zt <- c(Z_0)                                                    #Creando matriz con el valor inicial\n",
    "\n",
    "        #Creando una matriz vacía para almacenar los estadísticos\n",
    "        Tau_T = c()\n",
    "\n",
    "        for (n in 1 : S){\n",
    "            #Generando los errores\n",
    "            set.seed(n)\n",
    "            At <- rnorm(n = T ,mean = 0, sd = Sigma_a)\n",
    "\n",
    "            #Corriendo la función generadora del PGD\n",
    "            for(t in 2 : T){\n",
    "            Zt[t] = Zt[t - 1] + At[t]\n",
    "            }\n",
    "\n",
    "            #Calculando la serie diferenciada\n",
    "            Diferencia = function(Data){                                 # Operador de diferencia\n",
    "                Serie.dif = matrix(data = NA, nrow = (T - 1), ncol = 1)\n",
    "                for(i in 1 : (T - 1)){\n",
    "                    Serie.dif[i] <- Data[i + 1] - Data[i]\n",
    "                }\n",
    "                return(Serie.dif)\n",
    "            }\n",
    "            X.Diff = Diferencia(Data = Zt)\n",
    "\n",
    "            #Calculando la serie rezagada\n",
    "            X.Rez <- Zt[1 : (T - 1)]\n",
    "            \n",
    "            #Estimando la regresión (OLS)\n",
    "            Y = X.Diff\n",
    "            X = cbind(1, c(1 : (T - 1)), X.Rez)\n",
    "            Coeff = solve(t(X) %*% X) %*% (t(X) %*% Y)\n",
    "            Gamma = Coeff[3]                                               # Coeficiente Gamma estimado\n",
    "\n",
    "            # Estimación sigma^2 (Beta moño de OLS)\n",
    "            Ym = X %*% Coeff\n",
    "            Em = Y - Ym\n",
    "            Sigma2 = as.numeric((t(Em) %*% Em) / (T - 3))\n",
    "            Var.cov = (Sigma2 * solve(t(X) %*% X))\n",
    "            Gamma_std = sqrt(Var.cov[3, 3])\n",
    "            \n",
    "            #Llenando la matriz\n",
    "            Tau_T[n] <- Gamma / Gamma_std\n",
    "        }\n",
    "\n",
    "        # Quantiles\n",
    "        Q_TT = matrix(data = c(quantile(Tau_T, probs = 0.1), quantile(Tau_T, probs = 0.05), quantile(Tau_T, probs = 0.01)), ncol = 3, nrow = 1)\n",
    "        colnames(Q_TT) = c('10%', '5%', '1%')\n",
    "        value2 = Q_TT[, 1]\n",
    "        value3 = Q_TT[, 2]\n",
    "        value4 = Q_TT[, 3]\n",
    "\n",
    "        # Salidas\n",
    "        if (Plot == FALSE){\n",
    "            Q_TT\n",
    "        } else {\n",
    "            Den = density(Tau_T)\n",
    "            plot(Den, main = sprintf('Dist. Tau ~ T con %s datos y %s escenarios', T, S), xlab = \"Estadístico Tau - Tau\", ylab = \"Densidad\", col = \"black\", lty = 1, lwd = 4)\n",
    "            legend(x= \"topright\" , legend = c(\"Alfa = 0.1\", Q_TT[, 1], \"Alfa = 0.05\", Q_TT[, 2], \"Alfa = 0.01\", Q_TT[, 3]))\n",
    "            polygon(c(Den$x[Den$x <= value2], value2),\n",
    "                c(Den$y[Den$x <= value2], 0),\n",
    "                col = rgb(1, 0, 0, alpha = 0.2),\n",
    "                border = 1)\n",
    "            polygon(c(Den$x[Den$x <= value3], value3),\n",
    "            c(Den$y[Den$x <= value3], 0),\n",
    "            col = rgb(1, 0, 0, alpha = 0.2),\n",
    "            border = 1)\n",
    "            polygon(c(Den$x[Den$x <= value4], value4),\n",
    "                c(Den$y[Den$x <= value4], 0),\n",
    "                col = rgb(1, 0, 0, alpha = 0.2),\n",
    "                border = 1)\n",
    "            abline(v = mean(Tau_T), col = \"red\", lwd = 3, lty = 2)\n",
    "        }\n",
    "    }\n",
    "\n",
    "    # Función de rezago\n",
    "    Rezago = function(Data, Rezago){\n",
    "        Rezago = Data[1 : (T - Rezago)]\n",
    "        return(Rezago)\n",
    "    }\n",
    "    X.Res = Rezago(Data = Data, Rezago = 1)\n",
    "\n",
    "    # Función de diferencia\n",
    "    Diferencia = function(Data){\n",
    "    Serie.dif = matrix(data = NA, nrow = (T - 1), ncol = 1)\n",
    "        for(i in 1: (T - 1)){\n",
    "            Serie.dif[i] <- Data[i + 1] - Data[i]\n",
    "        }\n",
    "        return(Serie.dif)\n",
    "    }\n",
    "    X.Diff = Diferencia(Data)\n",
    "\n",
    "    # Construcción de matriz de datos\n",
    "    Y = cbind(X.Diff)\n",
    "    X = cbind(1, (1 : (T- 1)), X.Res)\n",
    "    Coeff = solve(t(X) %*% X) %*% (t(X) %*% Y)\n",
    "\n",
    "    Ym = X %*% Coeff\n",
    "    Em = Y - Ym\n",
    "\n",
    "    Sigma2 = as.numeric((t(Em) %*% Em) / (T - 3))\n",
    "    Var.cov = (Sigma2 * solve(t(X) %*% X))\n",
    "\n",
    "\n",
    "    # Prueba Tau ~ Tau\n",
    "    Gamma = Coeff[3]\n",
    "    Var.Gamma = Var.cov[3, 3]\n",
    "\n",
    "    # Prueba Tau ~ Beta ~ Tau\n",
    "    Beta = Coeff[2]\n",
    "    Var.Beta = Var.cov[2, 2]\n",
    "\n",
    "    # Tabla de V.C\n",
    "    TT = TauT_G(T = 1000, S = 10000, Plot = FALSE)\n",
    "    Table = matrix(data = NA, nrow = 2, ncol = 4)\n",
    "    rownames(Table) = c('Gamma', 'Beta')\n",
    "    colnames(Table) = c('Stat.', 'alpha 0.05', 'alpha 0.01', 'Conclusión')\n",
    "    Table[1, 1] = round(Gamma / sqrt(Var.Gamma), 10)\n",
    "    Table[2, 1] = round(Beta / sqrt(Var.Beta), 4)\n",
    "    Table[1, 2] = round(TT[, 2], 4)\n",
    "    Table[1, 3] = round(TT[, 3], 4)\n",
    "    Table[2, 2] = 2.79\n",
    "    Table[2, 3] = 3.53\n",
    "    Table = data.frame(Table)\n",
    "\n",
    "    if (alpha == 0.05){\n",
    "        if (Table[1, 1] < Table[1, 2]){\n",
    "            Table[1, 4] = sprintf('No hay raíz unitaria con un alpha del %s', alpha)\n",
    "        }\n",
    "        if (Table[2, 1] < Table[2, 2]){\n",
    "            Table[2, 4] = sprintf('Beta (Tendencia) no es significativo con un alpha del %s', alpha)\n",
    "        }\n",
    "        if (Table[1, 1] > Table[1, 2]){\n",
    "            Table[1, 4] = sprintf('Hay raíz unitaria con un alpha del %s', alpha)\n",
    "        }\n",
    "        if (Table[2, 1] > Table[2, 2]){\n",
    "            Table[2, 4] = sprintf('Beta (Tendencia) es significativo con un alpha del %s', alpha)\n",
    "        }\n",
    "    }\n",
    "    \n",
    "    if (alpha == 0.01){\n",
    "        if (Table[1, 1] < Table[1, 3]){\n",
    "            Table[1, 4] = sprintf('No hay raíz unitaria con un alpha del %s', alpha)\n",
    "        }\n",
    "        if (Table[2, 1] < Table[2, 3]){\n",
    "            Table[2, 4] = sprintf('Beta (Tendencia) es significativo con un alpha del %s', alpha)\n",
    "        }\n",
    "        if (Table[1, 1] > Table[1, 3]){\n",
    "            Table[1, 4] = sprintf('Hay raíz unitaria con un alpha del %s', alpha)\n",
    "        }\n",
    "        if (Table[2, 1] > Table[2, 3]){\n",
    "            Table[2, 4] = sprintf('Beta (Tendencia) no es significativo con un alpha del %s', alpha)\n",
    "        }\n",
    "    }\n",
    "\n",
    "    # Salidas\n",
    "    return(Table)\n",
    "}\n",
    "\n",
    "Tau.T(Data = X.data, alpha = 0.05)"
   ]
  },
  {
   "cell_type": "code",
   "execution_count": 10,
   "metadata": {
    "vscode": {
     "languageId": "r"
    }
   },
   "outputs": [
    {
     "data": {
      "text/html": [
       "216"
      ],
      "text/latex": [
       "216"
      ],
      "text/markdown": [
       "216"
      ],
      "text/plain": [
       "[1] 216"
      ]
     },
     "metadata": {},
     "output_type": "display_data"
    }
   ],
   "source": [
    "length(X.data)"
   ]
  },
  {
   "cell_type": "markdown",
   "metadata": {},
   "source": [
    "**Prueba Tau ~ Mu:**\n",
    "\n",
    "- Utiliza el la ecuación asociada a la prueba Tau ~ Mu junto con una prueba auxiliar Tau ~ Alpha ~ Mu que se contrasta con un valor crítico de la distribución t - Student.\n",
    "\n",
    "\n",
    "$$\n",
    "\\tau_\\mu \\rightarrow \\Delta{y_t} = \\alpha + \\gamma y_{t - 1} + \\epsilon_{t}\n",
    "$$\n",
    "\n",
    "$$\n",
    "\\tau_{\\alpha \\mu} \\rightarrow \\alpha = 0, dado \\enspace que \\enspace \\gamma = 0  \\rightarrow \\enspace t_{(T - k)gl}\n",
    "$$"
   ]
  },
  {
   "cell_type": "code",
   "execution_count": 5,
   "metadata": {
    "vscode": {
     "languageId": "r"
    }
   },
   "outputs": [
    {
     "ename": "ERROR",
     "evalue": "Error in Tau.M(Data = X.data, alpha = 0.05): object 'X.data' not found\n",
     "output_type": "error",
     "traceback": [
      "Error in Tau.M(Data = X.data, alpha = 0.05): object 'X.data' not found\nTraceback:\n",
      "1. Tau.M(Data = X.data, alpha = 0.05)"
     ]
    }
   ],
   "source": [
    "Tau.M = function(Data, alpha = 0.05){\n",
    "    # Datos usados\n",
    "    T = length(Data)\n",
    "\n",
    "    # Distribución Tau ~ Mu\n",
    "    TauM_G = function(T, S, Z_0 = 0, Sigma_a = 1, Plot = FALSE){  \n",
    "    Zt <- c(Z_0)                                                    #Creando matriz con el valor inicial\n",
    "\n",
    "    #Creando una matriz vacía para almacenar los estadísticos\n",
    "    Tau_M = c()\n",
    "\n",
    "    for (n in 1 : S){\n",
    "        #Generando los errores\n",
    "        set.seed(n)\n",
    "        At <- rnorm(n = T ,mean = 0, sd = Sigma_a)\n",
    "\n",
    "        #Corriendo la función generadora del PGD\n",
    "        for(t in 2 : T){\n",
    "        Zt[t] = Zt[t - 1] + At[t]\n",
    "        }\n",
    "\n",
    "        #Calculando la serie diferenciada\n",
    "        Diferencia = function(Data){                                 # Operador de diferencia\n",
    "            Serie.dif = matrix(data = NA, nrow = (T - 1), ncol = 1)\n",
    "            for(i in 1 : (T - 1)){\n",
    "                Serie.dif[i] <- Data[i + 1] - Data[i]\n",
    "            }\n",
    "            return(Serie.dif)\n",
    "        }\n",
    "        X.Diff = Diferencia(Data = Zt)\n",
    "\n",
    "        #Calculando la serie rezagada\n",
    "        X.Rez <- Zt[1 : (T - 1)]\n",
    "        \n",
    "        #Estimando la regresión (OLS)\n",
    "        Y = X.Diff\n",
    "        X = cbind(1, X.Rez)\n",
    "        Coeff = solve(t(X) %*% X) %*% (t(X) %*% Y)\n",
    "        Gamma = Coeff[2]                                               # Coeficiente Gamma estimado\n",
    "\n",
    "        # Estimación sigma^2 (Beta moño de OLS)\n",
    "        Ym = X %*% Coeff\n",
    "        Em = Y - Ym\n",
    "        Sigma2 = as.numeric((t(Em) %*% Em) / (T - 2))\n",
    "        Var.cov = (Sigma2 * solve(t(X) %*% X))\n",
    "        Gamma_std = sqrt(Var.cov[2, 2])\n",
    "        \n",
    "        #Llenando la matriz\n",
    "        Tau_M[n] <- Gamma / Gamma_std\n",
    "    }\n",
    "    # Quantiles\n",
    "    Q_TM = matrix(data = c(quantile(Tau_M, probs = 0.1), quantile(Tau_M, probs = 0.05), quantile(Tau_M, probs = 0.01)), ncol = 3, nrow = 1)\n",
    "    colnames(Q_TM) = c('10%', '5%', '1%')\n",
    "    value2 = Q_TM[, 1]\n",
    "    value3 = Q_TM[, 2]\n",
    "    value4 = Q_TM[, 3]\n",
    "\n",
    "    # Salidas \n",
    "    if (Plot == FALSE){\n",
    "        Q_TM\n",
    "    } else {\n",
    "        \n",
    "        # Gráficas\n",
    "        Den = density(Tau_M)\n",
    "        plot(Den, main = sprintf('Dist. Tau ~ Mu con %s datos y %s escenarios', T, S), xlab=\"Estadístico Tau - Mu\", ylab=\"Densidad\", col=\"black\", lty=1, lwd=4)\n",
    "        legend(x= \"topright\" , legend = c(\"Alfa = 0.1\", Q_TM[, 1], \"Alfa = 0.05\", Q_TM[, 2], \"Alfa = 0.01\", Q_TM[, 3]))\n",
    "        polygon(c(Den$x[Den$x <= value2], value2),\n",
    "            c(Den$y[Den$x <= value2], 0),\n",
    "            col = rgb(0, 0, 1, alpha = 0.2),\n",
    "            border = 1)\n",
    "        polygon(c(Den$x[Den$x <= value3], value3),\n",
    "        c(Den$y[Den$x <= value3], 0),\n",
    "        col = rgb(0, 0, 1, alpha = 0.2),\n",
    "        border = 1)\n",
    "        polygon(c(Den$x[Den$x <= value4], value4),\n",
    "            c(Den$y[Den$x <= value4], 0),\n",
    "            col = rgb(0, 0, 1, alpha = 0.2),\n",
    "            border = 1)\n",
    "        abline(v = mean(Tau_M), col = \"blue\", lwd = 3, lty = 2)\n",
    "    }\n",
    "    }\n",
    "\n",
    "    # Función de rezago\n",
    "    Rezago = function(Data, Rezago){\n",
    "        Rezago = Data[1 : (T - Rezago)]\n",
    "        return(Rezago)\n",
    "    }\n",
    "    X.Res = Rezago(Data = Data, Rezago = 1)\n",
    "\n",
    "    # Función de diferencia\n",
    "    Diferencia = function(Data){\n",
    "    Serie.dif = matrix(data = NA, nrow = (T - 1), ncol = 1)\n",
    "        for(i in 1: (T - 1)){\n",
    "            Serie.dif[i] <- Data[i + 1] - Data[i]\n",
    "        }\n",
    "        return(Serie.dif)\n",
    "    }\n",
    "    X.Diff = Diferencia(Data)\n",
    "\n",
    "    # Construcción de matriz de datos\n",
    "    Y = cbind(X.Diff)\n",
    "    X = cbind(1, X.Res)\n",
    "    Coeff = solve(t(X) %*% X) %*% (t(X) %*% Y)\n",
    "\n",
    "    Ym = X %*% Coeff\n",
    "    Em = Y - Ym\n",
    "\n",
    "    Sigma2 = as.numeric((t(Em) %*% Em) / (T - 3))\n",
    "    Var.cov = (Sigma2 * solve(t(X) %*% X))\n",
    "\n",
    "    # Prueba Tau ~ Mu\n",
    "    Gamma = Coeff[2]\n",
    "    Var.Gamma = Var.cov[2, 2]\n",
    "\n",
    "    # Prueba Tau ~ Alpha ~ Mu\n",
    "    Alpha = Coeff[1]\n",
    "    Var.Alpha = Var.cov[1, 1]\n",
    "\n",
    "    # Tabla de V.C\n",
    "    TM = TauM_G(T = 1000, S = 10000, Plot = FALSE)\n",
    "    Table = matrix(data = NA, nrow = 2, ncol = 4)\n",
    "    rownames(Table) = c('Gamma', 'Alpha')\n",
    "    colnames(Table) = c('Stat.', 'alpha 0.05', 'alpha 0.01', 'Conclusión')\n",
    "    Table[1, 1] = round(Gamma / sqrt(Var.Gamma), 10)\n",
    "    Table[2, 1] = round(Alpha / sqrt(Var.Alpha), 4)\n",
    "    Table[1, 2] = round(TM[, 2], 4)\n",
    "    Table[1, 3] = round(TM[, 3], 4)\n",
    "    Table[2, 2] = 2.54\n",
    "    Table[2, 3] = 3.22\n",
    "    Table = data.frame(Table)\n",
    "\n",
    "    if (alpha == 0.05){\n",
    "        if (Table[1, 1] < Table[1, 2]){\n",
    "            Table[1, 4] = sprintf('No hay raíz unitaria con un alpha del %s', alpha)\n",
    "        }\n",
    "        if (Table[2, 1] < Table[2, 2]){\n",
    "            Table[2, 4] = sprintf('Alpha (Estocástico) no es significativo con un alpha del %s', alpha)\n",
    "        }\n",
    "        if (Table[1, 1] > Table[1, 2]){\n",
    "            Table[1, 4] = sprintf('Hay raíz unitaria con un alpha del %s', alpha)\n",
    "        }\n",
    "        if (Table[2, 1] > Table[2, 2]){\n",
    "            Table[2, 4] = sprintf('Alpha (Estocástico) es significativo con un alpha del %s', alpha)\n",
    "        }\n",
    "    }\n",
    "    \n",
    "    if (alpha == 0.01){\n",
    "        if (Table[1, 1] < Table[1, 3]){\n",
    "            Table[1, 4] = sprintf('No hay raíz unitaria con un alpha del %s', alpha)\n",
    "        }\n",
    "        if (Table[2, 1] < Table[2, 3]){\n",
    "            Table[2, 4] = sprintf('Alpha (Estocástico) no es significativo con un alpha del %s', alpha)\n",
    "        }\n",
    "        if (Table[1, 1] > Table[1, 3]){\n",
    "            Table[1, 4] = sprintf('Hay raíz unitaria con un alpha del %s', alpha)\n",
    "        }\n",
    "        if (Table[2, 1] > Table[2, 3]){\n",
    "            Table[2, 4] = sprintf('Alpha (Estocástico) es significativo con un alpha del %s', alpha)\n",
    "        }\n",
    "    }\n",
    "\n",
    "    # Salidas\n",
    "    return(Table)\n",
    "}\n",
    "\n",
    "Tau.M(Data = X.data, alpha = 0.05)"
   ]
  },
  {
   "cell_type": "markdown",
   "metadata": {},
   "source": [
    "**Prueba Tau:**\n",
    "\n",
    "- Utiliza el la ecuación asociada a la prueba Tau ~ Mu .\n",
    "\n",
    "\n",
    "$$\n",
    "\\tau \\rightarrow \\Delta{y_t} = \\gamma y_{t - 1} + \\epsilon_{t}\n",
    "$$\n"
   ]
  },
  {
   "cell_type": "code",
   "execution_count": 37,
   "metadata": {
    "vscode": {
     "languageId": "r"
    }
   },
   "outputs": [
    {
     "data": {
      "text/html": [
       "<table class=\"dataframe\">\n",
       "<caption>A data.frame: 1 × 4</caption>\n",
       "<thead>\n",
       "\t<tr><th></th><th scope=col>Stat.</th><th scope=col>alpha.0.05</th><th scope=col>alpha.0.01</th><th scope=col>Conclusión</th></tr>\n",
       "\t<tr><th></th><th scope=col>&lt;dbl&gt;</th><th scope=col>&lt;dbl&gt;</th><th scope=col>&lt;dbl&gt;</th><th scope=col>&lt;chr&gt;</th></tr>\n",
       "</thead>\n",
       "<tbody>\n",
       "\t<tr><th scope=row>Gamma</th><td>-1.805319</td><td>-1.9407</td><td>-2.569</td><td>Hay raíz unitaria con un alpha del 0.05</td></tr>\n",
       "</tbody>\n",
       "</table>\n"
      ],
      "text/latex": [
       "A data.frame: 1 × 4\n",
       "\\begin{tabular}{r|llll}\n",
       "  & Stat. & alpha.0.05 & alpha.0.01 & Conclusión\\\\\n",
       "  & <dbl> & <dbl> & <dbl> & <chr>\\\\\n",
       "\\hline\n",
       "\tGamma & -1.805319 & -1.9407 & -2.569 & Hay raíz unitaria con un alpha del 0.05\\\\\n",
       "\\end{tabular}\n"
      ],
      "text/markdown": [
       "\n",
       "A data.frame: 1 × 4\n",
       "\n",
       "| <!--/--> | Stat. &lt;dbl&gt; | alpha.0.05 &lt;dbl&gt; | alpha.0.01 &lt;dbl&gt; | Conclusión &lt;chr&gt; |\n",
       "|---|---|---|---|---|\n",
       "| Gamma | -1.805319 | -1.9407 | -2.569 | Hay raíz unitaria con un alpha del 0.05 |\n",
       "\n"
      ],
      "text/plain": [
       "      Stat.     alpha.0.05 alpha.0.01 Conclusión                             \n",
       "Gamma -1.805319 -1.9407    -2.569     Hay raíz unitaria con un alpha del 0.05"
      ]
     },
     "metadata": {},
     "output_type": "display_data"
    }
   ],
   "source": [
    "Tau = function(Data, alpha = 0.05){\n",
    "    # Datos usados\n",
    "    T = length(Data)\n",
    "\n",
    "    # Distribución Tau\n",
    "    Tau_G = function(T, S, Z_0 = 0, Sigma_a = 1, Plot = FALSE){  \n",
    "        Zt <- c(Z_0)                                                    #Creando matriz con el valor inicial\n",
    "\n",
    "        #Creando una matriz vacía para almacenar los estadísticos\n",
    "        Tau = matrix(data = NA, nrow = S, ncol = 1)\n",
    "\n",
    "        for (n in 1 : S){\n",
    "            #Generando los errores\n",
    "            set.seed(n)\n",
    "            At <- rnorm(n = T ,mean = 0, sd = Sigma_a)\n",
    "\n",
    "            #Corriendo la función generadora del PGD\n",
    "            for(t in 2 : T){\n",
    "            Zt[t] = Zt[t - 1] + At[t]\n",
    "            }\n",
    "\n",
    "            #Calculando la serie diferenciada\n",
    "            Diferencia = function(Data){                                 # Operador de diferencia\n",
    "                Serie.dif = matrix(data = NA, nrow = (T - 1), ncol = 1)\n",
    "                for(i in 1 : (T - 1)){\n",
    "                    Serie.dif[i] <- Data[i + 1] - Data[i]\n",
    "                }\n",
    "                return(Serie.dif)\n",
    "            }\n",
    "            X.Diff = Diferencia(Data = Zt)\n",
    "\n",
    "            #Calculando la serie rezagada\n",
    "            X.Rez <- Zt[1 : (T - 1)]\n",
    "            \n",
    "            #Estimando la regresión (OLS)\n",
    "            Y = X.Diff\n",
    "            X = cbind(X.Rez)\n",
    "            Coeff = solve(t(X) %*% X) %*% (t(X) %*% Y)\n",
    "            Gamma = Coeff[1]                                               # Coeficiente Gamma estimado\n",
    "\n",
    "            # Estimación sigma^2 (Beta moño de OLS)\n",
    "            Ym = X %*% Coeff\n",
    "            Em = Y - Ym\n",
    "            Sigma2 = as.numeric((t(Em) %*% Em) / (T - 1))\n",
    "            Var.cov = (Sigma2 * solve(t(X) %*% X))\n",
    "            Gamma_std = sqrt(Var.cov[1, 1])\n",
    "            \n",
    "            #Llenando la matriz\n",
    "            Tau[n] <- Gamma / Gamma_std\n",
    "        }\n",
    "\n",
    "        # Quantiles\n",
    "        Q_T = matrix(data = c(quantile(Tau, probs = 0.1), quantile(Tau, probs = 0.05), quantile(Tau, probs = 0.01)), ncol = 3, nrow = 1)\n",
    "        colnames(Q_T) = c('10%', '5%', '1%')\n",
    "        value2 = Q_T[, 1]\n",
    "        value3 = Q_T[, 2]\n",
    "        value4 = Q_T[, 3]\n",
    "\n",
    "        # Salidas\n",
    "        if (Plot == FALSE){\n",
    "            Q_T\n",
    "        } else {\n",
    "            # Gráficas\n",
    "            Den = density(Tau)\n",
    "            plot(Den, main = sprintf('Dist. Tau con %s datos y %s escenarios', T, S), xlab = \"Estadístico Tau\", ylab = \"Densidad\", col = \"black\", lty = 1, lwd = 4)\n",
    "            legend(x= \"topright\" , legend = c(\"Alfa = 0.1\", Q_T[, 1], \"Alfa = 0.05\", Q_T[, 2], \"Alfa = 0.01\", Q_T[, 3]))\n",
    "            polygon(c(Den$x[Den$x <= value2], value2),\n",
    "                c(Den$y[Den$x <= value2], 0),\n",
    "                col = rgb(0, 1, 0, alpha = 0.2),\n",
    "                border = 1)\n",
    "            polygon(c(Den$x[Den$x <= value3], value3),\n",
    "            c(Den$y[Den$x <= value3], 0),\n",
    "            col = rgb(0, 1, 0, alpha = 0.2),\n",
    "            border = 1)\n",
    "            polygon(c(Den$x[Den$x <= value4], value4),\n",
    "                c(Den$y[Den$x <= value4], 0),\n",
    "                col = rgb(0, 1, 0, alpha = 0.2),\n",
    "                border = 1)\n",
    "            abline(v = mean(Tau), col = \"green\", lwd = 3, lty = 2)\n",
    "        }\n",
    "    }\n",
    "\n",
    "    # Función de rezago\n",
    "    Rezago = function(Data, Rezago){\n",
    "        Rezago = Data[1 : (T - Rezago)]\n",
    "        return(Rezago)\n",
    "    }\n",
    "    X.Res = Rezago(Data = Data, Rezago = 1)\n",
    "\n",
    "    # Función de diferencia\n",
    "    Diferencia = function(Data){\n",
    "    Serie.dif = matrix(data = NA, nrow = (T - 1), ncol = 1)\n",
    "        for(i in 1: (T - 1)){\n",
    "            Serie.dif[i] <- Data[i + 1] - Data[i]\n",
    "        }\n",
    "        return(Serie.dif)\n",
    "    }\n",
    "    X.Diff = Diferencia(Data)\n",
    "\n",
    "    # Construcción de matriz de datos\n",
    "    Y = cbind(X.Diff)\n",
    "    X = cbind(X.Res)\n",
    "    Coeff = solve(t(X) %*% X) %*% (t(X) %*% Y)\n",
    "\n",
    "    Ym = X %*% Coeff\n",
    "    Em = Y - Ym\n",
    "\n",
    "    Sigma2 = as.numeric((t(Em) %*% Em) / (T - 1))\n",
    "    Var.cov = (Sigma2 * solve(t(X) %*% X))\n",
    "\n",
    "    # Prueba Tau ~ Mu\n",
    "    Gamma = Coeff[1]\n",
    "    Var.Gamma = Var.cov[1, 1]\n",
    "\n",
    "    # Tabla de V.C\n",
    "    TM = Tau_G(T = 1000, S = 10000, Plot = FALSE)\n",
    "    Table = matrix(data = NA, nrow = 1, ncol = 4)\n",
    "    rownames(Table) = c('Gamma')\n",
    "    colnames(Table) = c('Stat.', 'alpha 0.05', 'alpha 0.01', 'Conclusión')\n",
    "    Table[1, 1] = round(Gamma / sqrt(Var.Gamma), 10)\n",
    "    Table[1, 2] = round(TM[, 2], 4)\n",
    "    Table[1, 3] = round(TM[, 3], 4)\n",
    "    Table = data.frame(Table)\n",
    "\n",
    "    if (alpha == 0.05){\n",
    "        if (Table[1, 1] < Table[1, 2]){\n",
    "            Table[1, 4] = sprintf('No hay raíz unitaria con un alpha del %s', alpha)\n",
    "        }\n",
    "        if (Table[1, 1] > Table[1, 2]){\n",
    "            Table[1, 4] = sprintf('Hay raíz unitaria con un alpha del %s', alpha)\n",
    "        }\n",
    "    }\n",
    "\n",
    "    if (alpha == 0.01){\n",
    "        if (Table[1, 1] < Table[1, 3]){\n",
    "            Table[1, 4] = sprintf('No hay raíz unitaria con un alpha del %s', alpha)\n",
    "        }\n",
    "        if (Table[1, 1] > Table[1, 3]){\n",
    "            Table[1, 4] = sprintf('Hay raíz unitaria con un alpha del %s', alpha)\n",
    "        }\n",
    "    }\n",
    "\n",
    "    # Salidas\n",
    "    return(Table)\n",
    "}\n",
    "\n",
    "Tau(Data = X.data, alpha = 0.05)"
   ]
  },
  {
   "cell_type": "markdown",
   "metadata": {},
   "source": [
    "## MCE (Modelo de Corrección de Error)\n",
    "Desde el Teorema de Representación de Granger se dice que:\n",
    "\n",
    "$$\n",
    "y_t = \n",
    "\\left[\\begin{matrix}\n",
    "y_{1t} \\\\\n",
    "y_{2t} \\\\\n",
    "\\vdots \\\\\n",
    "y_{nt} \n",
    "\\end{matrix}\\right]\n",
    "\n",
    "\\enspace es \\enspace CI(1, 1) \\enspace y \\enspace cada \\enspace y_{jt} \\enspace \\forall j = 1, ..., n \\enspace es \\enspace I(1) \\enspace \n",
    "\\exists \\enspace un \\enspace vector \\enspace \\beta = [\\beta_1, \\beta_2, ..., \\beta_n] \\enspace | \\enspace \\beta y_t \\enspace es \\enspace CI(1, 1) \\enspace\n",
    "y \\enspace cada \\enspace y_{jt} \\enspace es \\enspace I(0).\n",
    "$$"
   ]
  },
  {
   "cell_type": "markdown",
   "metadata": {},
   "source": [
    "### 1. Simulando datos\n",
    "- Se simularan 3 variables I(1) junto con su gráfico correspondiente para observar su comovimiento."
   ]
  },
  {
   "cell_type": "code",
   "execution_count": 6,
   "metadata": {
    "vscode": {
     "languageId": "r"
    }
   },
   "outputs": [
    {
     "data": {
      "text/html": [
       "<table class=\"dataframe\">\n",
       "<caption>A data.frame: 6 × 4</caption>\n",
       "<thead>\n",
       "\t<tr><th></th><th scope=col>N</th><th scope=col>Y</th><th scope=col>X1</th><th scope=col>X2</th></tr>\n",
       "\t<tr><th></th><th scope=col>&lt;dbl&gt;</th><th scope=col>&lt;dbl&gt;</th><th scope=col>&lt;dbl&gt;</th><th scope=col>&lt;dbl&gt;</th></tr>\n",
       "</thead>\n",
       "<tbody>\n",
       "\t<tr><th scope=row>1</th><td>1</td><td> 4.048947</td><td>-0.1804401</td><td> 0.1958716</td></tr>\n",
       "\t<tr><th scope=row>2</th><td>2</td><td> 8.351534</td><td> 3.3258294</td><td> 0.3731594</td></tr>\n",
       "\t<tr><th scope=row>3</th><td>3</td><td>10.042665</td><td> 4.6385037</td><td> 0.4076207</td></tr>\n",
       "\t<tr><th scope=row>4</th><td>4</td><td>11.445853</td><td> 5.4088116</td><td> 0.7022644</td></tr>\n",
       "\t<tr><th scope=row>5</th><td>5</td><td> 6.959657</td><td> 4.3406112</td><td>-0.6697648</td></tr>\n",
       "\t<tr><th scope=row>6</th><td>6</td><td> 5.185382</td><td> 3.4026673</td><td>-1.0996739</td></tr>\n",
       "</tbody>\n",
       "</table>\n"
      ],
      "text/latex": [
       "A data.frame: 6 × 4\n",
       "\\begin{tabular}{r|llll}\n",
       "  & N & Y & X1 & X2\\\\\n",
       "  & <dbl> & <dbl> & <dbl> & <dbl>\\\\\n",
       "\\hline\n",
       "\t1 & 1 &  4.048947 & -0.1804401 &  0.1958716\\\\\n",
       "\t2 & 2 &  8.351534 &  3.3258294 &  0.3731594\\\\\n",
       "\t3 & 3 & 10.042665 &  4.6385037 &  0.4076207\\\\\n",
       "\t4 & 4 & 11.445853 &  5.4088116 &  0.7022644\\\\\n",
       "\t5 & 5 &  6.959657 &  4.3406112 & -0.6697648\\\\\n",
       "\t6 & 6 &  5.185382 &  3.4026673 & -1.0996739\\\\\n",
       "\\end{tabular}\n"
      ],
      "text/markdown": [
       "\n",
       "A data.frame: 6 × 4\n",
       "\n",
       "| <!--/--> | N &lt;dbl&gt; | Y &lt;dbl&gt; | X1 &lt;dbl&gt; | X2 &lt;dbl&gt; |\n",
       "|---|---|---|---|---|\n",
       "| 1 | 1 |  4.048947 | -0.1804401 |  0.1958716 |\n",
       "| 2 | 2 |  8.351534 |  3.3258294 |  0.3731594 |\n",
       "| 3 | 3 | 10.042665 |  4.6385037 |  0.4076207 |\n",
       "| 4 | 4 | 11.445853 |  5.4088116 |  0.7022644 |\n",
       "| 5 | 5 |  6.959657 |  4.3406112 | -0.6697648 |\n",
       "| 6 | 6 |  5.185382 |  3.4026673 | -1.0996739 |\n",
       "\n"
      ],
      "text/plain": [
       "  N Y         X1         X2        \n",
       "1 1  4.048947 -0.1804401  0.1958716\n",
       "2 2  8.351534  3.3258294  0.3731594\n",
       "3 3 10.042665  4.6385037  0.4076207\n",
       "4 4 11.445853  5.4088116  0.7022644\n",
       "5 5  6.959657  4.3406112 -0.6697648\n",
       "6 6  5.185382  3.4026673 -1.0996739"
      ]
     },
     "metadata": {},
     "output_type": "display_data"
    },
    {
     "data": {
      "text/html": [
       "<table class=\"dataframe\">\n",
       "<caption>A data.frame: 20 × 3</caption>\n",
       "<thead>\n",
       "\t<tr><th></th><th scope=col>N</th><th scope=col>variable</th><th scope=col>value</th></tr>\n",
       "\t<tr><th></th><th scope=col>&lt;dbl&gt;</th><th scope=col>&lt;fct&gt;</th><th scope=col>&lt;dbl&gt;</th></tr>\n",
       "</thead>\n",
       "<tbody>\n",
       "\t<tr><th scope=row>1</th><td> 1</td><td>Y</td><td> 4.048947</td></tr>\n",
       "\t<tr><th scope=row>2</th><td> 2</td><td>Y</td><td> 8.351534</td></tr>\n",
       "\t<tr><th scope=row>3</th><td> 3</td><td>Y</td><td>10.042665</td></tr>\n",
       "\t<tr><th scope=row>4</th><td> 4</td><td>Y</td><td>11.445853</td></tr>\n",
       "\t<tr><th scope=row>5</th><td> 5</td><td>Y</td><td> 6.959657</td></tr>\n",
       "\t<tr><th scope=row>6</th><td> 6</td><td>Y</td><td> 5.185382</td></tr>\n",
       "\t<tr><th scope=row>7</th><td> 7</td><td>Y</td><td> 7.187236</td></tr>\n",
       "\t<tr><th scope=row>8</th><td> 8</td><td>Y</td><td>10.069506</td></tr>\n",
       "\t<tr><th scope=row>9</th><td> 9</td><td>Y</td><td> 8.095037</td></tr>\n",
       "\t<tr><th scope=row>10</th><td>10</td><td>Y</td><td>10.679965</td></tr>\n",
       "\t<tr><th scope=row>11</th><td>11</td><td>Y</td><td>11.624907</td></tr>\n",
       "\t<tr><th scope=row>12</th><td>12</td><td>Y</td><td>12.903779</td></tr>\n",
       "\t<tr><th scope=row>13</th><td>13</td><td>Y</td><td>14.515533</td></tr>\n",
       "\t<tr><th scope=row>14</th><td>14</td><td>Y</td><td>15.618056</td></tr>\n",
       "\t<tr><th scope=row>15</th><td>15</td><td>Y</td><td>17.818324</td></tr>\n",
       "\t<tr><th scope=row>16</th><td>16</td><td>Y</td><td>17.669803</td></tr>\n",
       "\t<tr><th scope=row>17</th><td>17</td><td>Y</td><td>21.861564</td></tr>\n",
       "\t<tr><th scope=row>18</th><td>18</td><td>Y</td><td>20.823235</td></tr>\n",
       "\t<tr><th scope=row>19</th><td>19</td><td>Y</td><td>20.562969</td></tr>\n",
       "\t<tr><th scope=row>20</th><td>20</td><td>Y</td><td>22.897268</td></tr>\n",
       "</tbody>\n",
       "</table>\n"
      ],
      "text/latex": [
       "A data.frame: 20 × 3\n",
       "\\begin{tabular}{r|lll}\n",
       "  & N & variable & value\\\\\n",
       "  & <dbl> & <fct> & <dbl>\\\\\n",
       "\\hline\n",
       "\t1 &  1 & Y &  4.048947\\\\\n",
       "\t2 &  2 & Y &  8.351534\\\\\n",
       "\t3 &  3 & Y & 10.042665\\\\\n",
       "\t4 &  4 & Y & 11.445853\\\\\n",
       "\t5 &  5 & Y &  6.959657\\\\\n",
       "\t6 &  6 & Y &  5.185382\\\\\n",
       "\t7 &  7 & Y &  7.187236\\\\\n",
       "\t8 &  8 & Y & 10.069506\\\\\n",
       "\t9 &  9 & Y &  8.095037\\\\\n",
       "\t10 & 10 & Y & 10.679965\\\\\n",
       "\t11 & 11 & Y & 11.624907\\\\\n",
       "\t12 & 12 & Y & 12.903779\\\\\n",
       "\t13 & 13 & Y & 14.515533\\\\\n",
       "\t14 & 14 & Y & 15.618056\\\\\n",
       "\t15 & 15 & Y & 17.818324\\\\\n",
       "\t16 & 16 & Y & 17.669803\\\\\n",
       "\t17 & 17 & Y & 21.861564\\\\\n",
       "\t18 & 18 & Y & 20.823235\\\\\n",
       "\t19 & 19 & Y & 20.562969\\\\\n",
       "\t20 & 20 & Y & 22.897268\\\\\n",
       "\\end{tabular}\n"
      ],
      "text/markdown": [
       "\n",
       "A data.frame: 20 × 3\n",
       "\n",
       "| <!--/--> | N &lt;dbl&gt; | variable &lt;fct&gt; | value &lt;dbl&gt; |\n",
       "|---|---|---|---|\n",
       "| 1 |  1 | Y |  4.048947 |\n",
       "| 2 |  2 | Y |  8.351534 |\n",
       "| 3 |  3 | Y | 10.042665 |\n",
       "| 4 |  4 | Y | 11.445853 |\n",
       "| 5 |  5 | Y |  6.959657 |\n",
       "| 6 |  6 | Y |  5.185382 |\n",
       "| 7 |  7 | Y |  7.187236 |\n",
       "| 8 |  8 | Y | 10.069506 |\n",
       "| 9 |  9 | Y |  8.095037 |\n",
       "| 10 | 10 | Y | 10.679965 |\n",
       "| 11 | 11 | Y | 11.624907 |\n",
       "| 12 | 12 | Y | 12.903779 |\n",
       "| 13 | 13 | Y | 14.515533 |\n",
       "| 14 | 14 | Y | 15.618056 |\n",
       "| 15 | 15 | Y | 17.818324 |\n",
       "| 16 | 16 | Y | 17.669803 |\n",
       "| 17 | 17 | Y | 21.861564 |\n",
       "| 18 | 18 | Y | 20.823235 |\n",
       "| 19 | 19 | Y | 20.562969 |\n",
       "| 20 | 20 | Y | 22.897268 |\n",
       "\n"
      ],
      "text/plain": [
       "   N  variable value    \n",
       "1   1 Y         4.048947\n",
       "2   2 Y         8.351534\n",
       "3   3 Y        10.042665\n",
       "4   4 Y        11.445853\n",
       "5   5 Y         6.959657\n",
       "6   6 Y         5.185382\n",
       "7   7 Y         7.187236\n",
       "8   8 Y        10.069506\n",
       "9   9 Y         8.095037\n",
       "10 10 Y        10.679965\n",
       "11 11 Y        11.624907\n",
       "12 12 Y        12.903779\n",
       "13 13 Y        14.515533\n",
       "14 14 Y        15.618056\n",
       "15 15 Y        17.818324\n",
       "16 16 Y        17.669803\n",
       "17 17 Y        21.861564\n",
       "18 18 Y        20.823235\n",
       "19 19 Y        20.562969\n",
       "20 20 Y        22.897268"
      ]
     },
     "metadata": {},
     "output_type": "display_data"
    },
    {
     "data": {
      "image/png": "[encoded data removed]",
      "text/plain": [
       "plot without title"
      ]
     },
     "metadata": {
      "image/png": {
       "height": 420,
       "width": 420
      }
     },
     "output_type": "display_data"
    }
   ],
   "source": [
    "n1t <- c()\n",
    "\n",
    "\n",
    "# Generación de las gráficas\n",
    "Data_G = matrix(data = NA, nrow = (N - 1), ncol = 4)\n",
    "Data_G[, 1] = seq(1, (N - 1), 1)\n",
    "Data_G[, 2 : 4] = cbind(Y, X1, X2)\n",
    "colnames(Data_G) = c('N', 'Y', 'X1', 'X2')\n",
    "Data_G = data.frame(Data_G)\n",
    "Data_G2 = melt(Data_G, id.vars = 'N')\n",
    "\n",
    "Graph <- ggplot(data = Data_G2, mapping = aes(x = N, y = value, color = variable)) +\n",
    "    geom_line(size = 1) + \n",
    "    labs(title = 'Serie simulada cointegrada', x = 'Número de datos', y = 'Datos observados') \n",
    "\n",
    "# Salidas\n",
    "head(Data_G)\n",
    "Graph\n",
    "\n",
    "\n",
    "head(Data_G2, 20)"
   ]
  },
  {
   "cell_type": "markdown",
   "metadata": {},
   "source": [
    "### 1. Importando datos"
   ]
  },
  {
   "cell_type": "code",
   "execution_count": 14,
   "metadata": {
    "vscode": {
     "languageId": "r"
    }
   },
   "outputs": [
    {
     "data": {
      "text/html": [
       "<table class=\"dataframe\">\n",
       "<caption>A data.frame: 6 × 2</caption>\n",
       "<thead>\n",
       "\t<tr><th></th><th scope=col>Fecha</th><th scope=col>Inflacion</th></tr>\n",
       "\t<tr><th></th><th scope=col>&lt;chr&gt;</th><th scope=col>&lt;dbl&gt;</th></tr>\n",
       "</thead>\n",
       "<tbody>\n",
       "\t<tr><th scope=row>1</th><td>1/31/2001</td><td>8.4922</td></tr>\n",
       "\t<tr><th scope=row>2</th><td>2/28/2001</td><td>8.0583</td></tr>\n",
       "\t<tr><th scope=row>3</th><td>3/31/2001</td><td>7.8143</td></tr>\n",
       "\t<tr><th scope=row>4</th><td>4/30/2001</td><td>7.9759</td></tr>\n",
       "\t<tr><th scope=row>5</th><td>5/31/2001</td><td>7.8654</td></tr>\n",
       "\t<tr><th scope=row>6</th><td>6/30/2001</td><td>7.9298</td></tr>\n",
       "</tbody>\n",
       "</table>\n"
      ],
      "text/latex": [
       "A data.frame: 6 × 2\n",
       "\\begin{tabular}{r|ll}\n",
       "  & Fecha & Inflacion\\\\\n",
       "  & <chr> & <dbl>\\\\\n",
       "\\hline\n",
       "\t1 & 1/31/2001 & 8.4922\\\\\n",
       "\t2 & 2/28/2001 & 8.0583\\\\\n",
       "\t3 & 3/31/2001 & 7.8143\\\\\n",
       "\t4 & 4/30/2001 & 7.9759\\\\\n",
       "\t5 & 5/31/2001 & 7.8654\\\\\n",
       "\t6 & 6/30/2001 & 7.9298\\\\\n",
       "\\end{tabular}\n"
      ],
      "text/markdown": [
       "\n",
       "A data.frame: 6 × 2\n",
       "\n",
       "| <!--/--> | Fecha &lt;chr&gt; | Inflacion &lt;dbl&gt; |\n",
       "|---|---|---|\n",
       "| 1 | 1/31/2001 | 8.4922 |\n",
       "| 2 | 2/28/2001 | 8.0583 |\n",
       "| 3 | 3/31/2001 | 7.8143 |\n",
       "| 4 | 4/30/2001 | 7.9759 |\n",
       "| 5 | 5/31/2001 | 7.8654 |\n",
       "| 6 | 6/30/2001 | 7.9298 |\n",
       "\n"
      ],
      "text/plain": [
       "  Fecha     Inflacion\n",
       "1 1/31/2001 8.4922   \n",
       "2 2/28/2001 8.0583   \n",
       "3 3/31/2001 7.8143   \n",
       "4 4/30/2001 7.9759   \n",
       "5 5/31/2001 7.8654   \n",
       "6 6/30/2001 7.9298   "
      ]
     },
     "metadata": {},
     "output_type": "display_data"
    },
    {
     "data": {
      "text/html": [
       "'El número de observaciones son: 216'"
      ],
      "text/latex": [
       "'El número de observaciones son: 216'"
      ],
      "text/markdown": [
       "'El número de observaciones son: 216'"
      ],
      "text/plain": [
       "[1] \"El número de observaciones son: 216\""
      ]
     },
     "metadata": {},
     "output_type": "display_data"
    },
    {
     "ename": "ERROR",
     "evalue": "Error in `[.data.frame`(File, , 3): undefined columns selected\n",
     "output_type": "error",
     "traceback": [
      "Error in `[.data.frame`(File, , 3): undefined columns selected\nTraceback:\n",
      "1. File[, 3]",
      "2. `[.data.frame`(File, , 3)",
      "3. stop(\"undefined columns selected\")"
     ]
    }
   ],
   "source": [
    "# Importando archivo .csv\n",
    "File = read.csv(file = ('../Ejercicio inflación/Inflación.csv'), skip = 0, header = TRUE)\n",
    "head(File)\n",
    "sprintf('El número de observaciones son: %s', length(File[, 1]))\n",
    "\n",
    "# Definición de variables\n",
    "Y = File[, 2]\n",
    "X1 = File[, 3]\n",
    "X2 = File[, 4]\n",
    "N = length(Y)\n",
    "\n",
    "# Generación de las gráficas\n",
    "Data_G = matrix(data = NA, nrow = N, ncol = 4)\n",
    "Data_G[, 1] = seq(1, N, 1)\n",
    "Data_G[, 2 : 4] = cbind(Y, X1, X2)\n",
    "colnames(Data_G) = c('N', 'Y', 'X1', 'X2')\n",
    "Data_G = data.frame(Data_G)\n",
    "Data_G2 = melt(Data_G, id.vars = 'N')\n",
    "\n",
    "Graph <- ggplot(data = Data_G2, mapping = aes(x = N, y = value, color = variable)) +\n",
    "    geom_line(size = 1) + \n",
    "    labs(title = 'Serie simulada cointegrada', x = 'Número de datos', y = 'Datos observados') \n",
    "\n",
    "# Salidas\n",
    "head(Data_G)\n",
    "Graph"
   ]
  },
  {
   "cell_type": "markdown",
   "metadata": {},
   "source": [
    "### 2. Prueba de raíz unitaria (Dickey Fuller Aumentado) para cada una de las variables\n",
    "- Prueba Tau ~ Tau para Y, X1 y X2.\n",
    "- Prueba Tau ~ Tau para Y, X1 y X2.\n",
    "- Prueba Tau para Y, X1 y X2.\n",
    "- **Importante:** El P es dado."
   ]
  },
  {
   "cell_type": "code",
   "execution_count": 15,
   "metadata": {
    "vscode": {
     "languageId": "r"
    }
   },
   "outputs": [],
   "source": [
    "# Función de rezago\n",
    "Rezago = function(Data, Rezago){\n",
    "    Rezago = Data[1 : (T - Rezago)]\n",
    "    return(Rezago)\n",
    "}\n",
    "\n",
    "# Función de diferencia\n",
    "Diferencia = function(Data){\n",
    "Serie.dif = matrix(data = NA, nrow = (T - 1), ncol = 1)\n",
    "    for(i in 1: (T - 1)){\n",
    "        Serie.dif[i] <- Data[i + 1] - Data[i]\n",
    "    }\n",
    "    return(Serie.dif)\n",
    "}"
   ]
  },
  {
   "cell_type": "markdown",
   "metadata": {},
   "source": [
    "#### 2.1 La variable Y\n",
    "- Se selecciona el P óptimo que cumple parsimonia (significancia y ruido blanco) para poder hacer la prueba de raíz unitaria por Dickey - Fuller Aumentado buscando que la serie sea I(1)."
   ]
  },
  {
   "cell_type": "code",
   "execution_count": 16,
   "metadata": {
    "vscode": {
     "languageId": "r"
    }
   },
   "outputs": [
    {
     "name": "stdout",
     "output_type": "stream",
     "text": [
      "   P Lj.Bx Parsimonia          Check\n",
      "1 48     1          0 P. innecesario\n",
      "2 47     1          0 P. innecesario\n",
      "3 46     1          0 P. innecesario\n",
      "4 45     1          0 P. innecesario\n",
      "5 44     1          1   P. necesario\n"
     ]
    },
    {
     "data": {
      "text/html": [
       "'El parámetro P necesario para hacer la prueba es P = 44.'"
      ],
      "text/latex": [
       "'El parámetro P necesario para hacer la prueba es P = 44.'"
      ],
      "text/markdown": [
       "'El parámetro P necesario para hacer la prueba es P = 44.'"
      ],
      "text/plain": [
       "[1] \"El parámetro P necesario para hacer la prueba es P = 44.\""
      ]
     },
     "metadata": {},
     "output_type": "display_data"
    }
   ],
   "source": [
    "P_opt(Data = Y, alpha = 0.05, Spam = 12)"
   ]
  },
  {
   "cell_type": "code",
   "execution_count": 17,
   "metadata": {
    "vscode": {
     "languageId": "r"
    }
   },
   "outputs": [
    {
     "ename": "ERROR",
     "evalue": "Error in ATau.T(Data = Y, P = 41, alpha = 0.05): could not find function \"ATau.T\"\n",
     "output_type": "error",
     "traceback": [
      "Error in ATau.T(Data = Y, P = 41, alpha = 0.05): could not find function \"ATau.T\"\nTraceback:\n"
     ]
    }
   ],
   "source": [
    "ATau.T(Data = Y, P = 41, alpha = 0.05)"
   ]
  },
  {
   "cell_type": "code",
   "execution_count": 18,
   "metadata": {
    "vscode": {
     "languageId": "r"
    }
   },
   "outputs": [
    {
     "ename": "ERROR",
     "evalue": "Error in ATau.M(Data = Y, P = 41, alpha = 0.01): could not find function \"ATau.M\"\n",
     "output_type": "error",
     "traceback": [
      "Error in ATau.M(Data = Y, P = 41, alpha = 0.01): could not find function \"ATau.M\"\nTraceback:\n"
     ]
    }
   ],
   "source": [
    "ATau.M(Data = Y, P = 41, alpha = 0.01)"
   ]
  },
  {
   "cell_type": "code",
   "execution_count": 19,
   "metadata": {
    "vscode": {
     "languageId": "r"
    }
   },
   "outputs": [
    {
     "ename": "ERROR",
     "evalue": "Error in ATau(Data = Y, P = 41, alpha = 0.05): could not find function \"ATau\"\n",
     "output_type": "error",
     "traceback": [
      "Error in ATau(Data = Y, P = 41, alpha = 0.05): could not find function \"ATau\"\nTraceback:\n"
     ]
    }
   ],
   "source": [
    "ATau(Data = Y, P = 41, alpha = 0.05)"
   ]
  },
  {
   "cell_type": "markdown",
   "metadata": {},
   "source": [
    "#### 2.2 La variable X1\n",
    "- Se selecciona el P óptimo que cumple parsimonia (significancia y ruido blanco) para poder hacer la prueba de raíz unitaria por Dickey - Fuller Aumentado buscando que la serie sea I(1)."
   ]
  },
  {
   "cell_type": "code",
   "execution_count": 20,
   "metadata": {
    "vscode": {
     "languageId": "r"
    }
   },
   "outputs": [
    {
     "ename": "ERROR",
     "evalue": "Error in P_opt(Data = X1, alpha = 0.05, Spam = 12): object 'X1' not found\n",
     "output_type": "error",
     "traceback": [
      "Error in P_opt(Data = X1, alpha = 0.05, Spam = 12): object 'X1' not found\nTraceback:\n",
      "1. P_opt(Data = X1, alpha = 0.05, Spam = 12)"
     ]
    }
   ],
   "source": [
    "P_opt(Data = X1, alpha = 0.05, Spam = 12)"
   ]
  },
  {
   "cell_type": "code",
   "execution_count": 21,
   "metadata": {
    "vscode": {
     "languageId": "r"
    }
   },
   "outputs": [
    {
     "ename": "ERROR",
     "evalue": "Error in ATau.T(Data = X1, P = 20, alpha = 0.05): could not find function \"ATau.T\"\n",
     "output_type": "error",
     "traceback": [
      "Error in ATau.T(Data = X1, P = 20, alpha = 0.05): could not find function \"ATau.T\"\nTraceback:\n"
     ]
    }
   ],
   "source": [
    "ATau.T(Data = X1, P = 20, alpha = 0.05)"
   ]
  },
  {
   "cell_type": "code",
   "execution_count": 22,
   "metadata": {
    "vscode": {
     "languageId": "r"
    }
   },
   "outputs": [
    {
     "ename": "ERROR",
     "evalue": "Error in ATau.M(Data = X1, P = 20, alpha = 0.05): could not find function \"ATau.M\"\n",
     "output_type": "error",
     "traceback": [
      "Error in ATau.M(Data = X1, P = 20, alpha = 0.05): could not find function \"ATau.M\"\nTraceback:\n"
     ]
    }
   ],
   "source": [
    "ATau.M(Data = X1, P = 20, alpha = 0.05)"
   ]
  },
  {
   "cell_type": "code",
   "execution_count": 23,
   "metadata": {
    "vscode": {
     "languageId": "r"
    }
   },
   "outputs": [
    {
     "ename": "ERROR",
     "evalue": "Error in ATau(Data = X1, P = 20, alpha = 0.05): could not find function \"ATau\"\n",
     "output_type": "error",
     "traceback": [
      "Error in ATau(Data = X1, P = 20, alpha = 0.05): could not find function \"ATau\"\nTraceback:\n"
     ]
    }
   ],
   "source": [
    "ATau(Data = X1, P = 20, alpha = 0.05)"
   ]
  },
  {
   "cell_type": "markdown",
   "metadata": {},
   "source": [
    "#### 2.3 La variable X2\n",
    "- Se selecciona el P óptimo que cumple parsimonia (significancia y ruido blanco) para poder hacer la prueba de raíz unitaria por Dickey - Fuller Aumentado buscando que la serie sea I(1)."
   ]
  },
  {
   "cell_type": "code",
   "execution_count": 24,
   "metadata": {
    "vscode": {
     "languageId": "r"
    }
   },
   "outputs": [
    {
     "ename": "ERROR",
     "evalue": "Error in P_opt(Data = X2, alpha = 0.05, Spam = 12): object 'X2' not found\n",
     "output_type": "error",
     "traceback": [
      "Error in P_opt(Data = X2, alpha = 0.05, Spam = 12): object 'X2' not found\nTraceback:\n",
      "1. P_opt(Data = X2, alpha = 0.05, Spam = 12)"
     ]
    }
   ],
   "source": [
    "P_opt(Data = X2, alpha = 0.05, Spam = 12)"
   ]
  },
  {
   "cell_type": "code",
   "execution_count": 25,
   "metadata": {
    "vscode": {
     "languageId": "r"
    }
   },
   "outputs": [
    {
     "ename": "ERROR",
     "evalue": "Error in ATau.T(Data = X2, P = 20, alpha = 0.05): could not find function \"ATau.T\"\n",
     "output_type": "error",
     "traceback": [
      "Error in ATau.T(Data = X2, P = 20, alpha = 0.05): could not find function \"ATau.T\"\nTraceback:\n"
     ]
    }
   ],
   "source": [
    "ATau.T(Data = X2, P = 20, alpha = 0.05)"
   ]
  },
  {
   "cell_type": "code",
   "execution_count": 26,
   "metadata": {
    "vscode": {
     "languageId": "r"
    }
   },
   "outputs": [
    {
     "ename": "ERROR",
     "evalue": "Error in ATau.M(Data = X2, P = 20, alpha = 0.05): could not find function \"ATau.M\"\n",
     "output_type": "error",
     "traceback": [
      "Error in ATau.M(Data = X2, P = 20, alpha = 0.05): could not find function \"ATau.M\"\nTraceback:\n"
     ]
    }
   ],
   "source": [
    "ATau.M(Data = X2, P = 20, alpha = 0.05)"
   ]
  },
  {
   "cell_type": "code",
   "execution_count": 27,
   "metadata": {
    "vscode": {
     "languageId": "r"
    }
   },
   "outputs": [
    {
     "ename": "ERROR",
     "evalue": "Error in ATau(Data = X2, P = 20, alpha = 0.05): could not find function \"ATau\"\n",
     "output_type": "error",
     "traceback": [
      "Error in ATau(Data = X2, P = 20, alpha = 0.05): could not find function \"ATau\"\nTraceback:\n"
     ]
    }
   ],
   "source": [
    "ATau(Data = X2, P = 20, alpha = 0.05)"
   ]
  },
  {
   "cell_type": "markdown",
   "metadata": {},
   "source": [
    "### 3. Prueba de cointegración sobre los residuales del modelo por OLS\n",
    "- Se realiza una estimación por OLS de las variables conjuntas para obtener las perturbaciones estimadas, con ello se realiza la prueba de Dickey - Fuller Aumentada sobre lo estimado buscando que las perturbaciones sean I(0).\n",
    "- Si las perturbaciones son I(0), significa que existe un vector de cointegración.\n",
    "- Si las perturbaciones son I(1), significa que las variables de la serie no están cointegradas."
   ]
  },
  {
   "cell_type": "code",
   "execution_count": 30,
   "metadata": {
    "vscode": {
     "languageId": "r"
    }
   },
   "outputs": [
    {
     "data": {
      "text/html": [
       "<table class=\"dataframe\">\n",
       "<caption>A data.frame: 6 × 2</caption>\n",
       "<thead>\n",
       "\t<tr><th></th><th scope=col>T</th><th scope=col>At</th></tr>\n",
       "\t<tr><th></th><th scope=col>&lt;dbl&gt;</th><th scope=col>&lt;dbl&gt;</th></tr>\n",
       "</thead>\n",
       "<tbody>\n",
       "\t<tr><th scope=row>1</th><td>1</td><td> 4.584890</td></tr>\n",
       "\t<tr><th scope=row>2</th><td>2</td><td> 2.916056</td></tr>\n",
       "\t<tr><th scope=row>3</th><td>3</td><td> 2.336020</td></tr>\n",
       "\t<tr><th scope=row>4</th><td>4</td><td> 2.712507</td></tr>\n",
       "\t<tr><th scope=row>5</th><td>5</td><td>-1.424514</td></tr>\n",
       "\t<tr><th scope=row>6</th><td>6</td><td>-2.028008</td></tr>\n",
       "</tbody>\n",
       "</table>\n"
      ],
      "text/latex": [
       "A data.frame: 6 × 2\n",
       "\\begin{tabular}{r|ll}\n",
       "  & T & At\\\\\n",
       "  & <dbl> & <dbl>\\\\\n",
       "\\hline\n",
       "\t1 & 1 &  4.584890\\\\\n",
       "\t2 & 2 &  2.916056\\\\\n",
       "\t3 & 3 &  2.336020\\\\\n",
       "\t4 & 4 &  2.712507\\\\\n",
       "\t5 & 5 & -1.424514\\\\\n",
       "\t6 & 6 & -2.028008\\\\\n",
       "\\end{tabular}\n"
      ],
      "text/markdown": [
       "\n",
       "A data.frame: 6 × 2\n",
       "\n",
       "| <!--/--> | T &lt;dbl&gt; | At &lt;dbl&gt; |\n",
       "|---|---|---|\n",
       "| 1 | 1 |  4.584890 |\n",
       "| 2 | 2 |  2.916056 |\n",
       "| 3 | 3 |  2.336020 |\n",
       "| 4 | 4 |  2.712507 |\n",
       "| 5 | 5 | -1.424514 |\n",
       "| 6 | 6 | -2.028008 |\n",
       "\n"
      ],
      "text/plain": [
       "  T At       \n",
       "1 1  4.584890\n",
       "2 2  2.916056\n",
       "3 3  2.336020\n",
       "4 4  2.712507\n",
       "5 5 -1.424514\n",
       "6 6 -2.028008"
      ]
     },
     "metadata": {},
     "output_type": "display_data"
    },
    {
     "data": {
      "image/png": "[encoded data removed]",
      "text/plain": [
       "plot without title"
      ]
     },
     "metadata": {
      "image/png": {
       "height": 420,
       "width": 420
      }
     },
     "output_type": "display_data"
    }
   ],
   "source": [
    "Y = Y\n",
    "X = cbind(X1, X2)\n",
    "Coeff = solve(t(X) %*% X) %*% (t(X) %*% Y)\n",
    "At.C = Y - (X %*% Coeff)\n",
    "\n",
    "N.At = length(At.C)\n",
    "At.G = matrix(data = NA, ncol = 2, nrow = N.At)\n",
    "colnames(At.G) = c('T', 'At')\n",
    "At.G[, 1] = seq(1, N.At, 1)\n",
    "At.G[, 2] = At.C\n",
    "At.G = data.frame(At.G)\n",
    "\n",
    "Graph <- ggplot(data = At.G, mapping = aes(x = T, y = At)) +\n",
    "    geom_line(size = 0.7, color = 'blue') + \n",
    "    labs(title = 'Errores estimados de las variables conjuntas', x = 'Número de datos', y = 'At')\n",
    "\n",
    "head(At.G)\n",
    "Graph"
   ]
  },
  {
   "cell_type": "code",
   "execution_count": 31,
   "metadata": {
    "vscode": {
     "languageId": "r"
    }
   },
   "outputs": [
    {
     "name": "stdout",
     "output_type": "stream",
     "text": [
      "   P Lj.Bx Parsimonia        Check\n",
      "1 48     1          1 P. necesario\n"
     ]
    },
    {
     "data": {
      "text/html": [
       "'El parámetro P necesario para hacer la prueba es P = 48.'"
      ],
      "text/latex": [
       "'El parámetro P necesario para hacer la prueba es P = 48.'"
      ],
      "text/markdown": [
       "'El parámetro P necesario para hacer la prueba es P = 48.'"
      ],
      "text/plain": [
       "[1] \"El parámetro P necesario para hacer la prueba es P = 48.\""
      ]
     },
     "metadata": {},
     "output_type": "display_data"
    }
   ],
   "source": [
    "P_opt(Data = At.C, alpha = 0.05, Spam = 12)"
   ]
  },
  {
   "cell_type": "code",
   "execution_count": null,
   "metadata": {
    "vscode": {
     "languageId": "r"
    }
   },
   "outputs": [],
   "source": [
    "ATau(Data = At.C, P = 48, alpha = 0.05)"
   ]
  },
  {
   "cell_type": "markdown",
   "metadata": {},
   "source": [
    "### 4. Aplicando el sistema MCE.\n",
    "$$\n",
    "\\left[\\begin{matrix}\n",
    "\\Delta{Y_t} \\\\\n",
    "\\Delta{X1_t} \\\\\n",
    "\\Delta{X2_t} \\\\\n",
    "\\end{matrix}\\right]\n",
    "\n",
    "=\n",
    "\n",
    "\\left[\\begin{matrix}\n",
    "\\alpha_{Y_t} \\\\\n",
    "\\alpha_{X1_t} \\\\\n",
    "\\alpha_{X2_t} \\\\\n",
    "\\end{matrix}\\right]\n",
    "\n",
    "+\n",
    "\n",
    "\\left[\\begin{matrix}\n",
    "a_{11,1} \\qquad a_{12,1} \\qquad a_{13,1}\\\\\n",
    "a_{21,1} \\qquad a_{22,1} \\qquad a_{23,1}\\\\\n",
    "a_{31,1} \\qquad a_{32,1} \\qquad a_{33,1}\\\\\n",
    "\\end{matrix}\\right]\n",
    "\n",
    "\\left[\\begin{matrix}\n",
    "\\Delta{Y_{t-1}} \\\\\n",
    "\\Delta{X1_{t-1}} \\\\\n",
    "\\Delta{X2_{t-1}} \\\\\n",
    "\\end{matrix}\\right]\n",
    "\n",
    "+ \\dots +\n",
    "\n",
    "\\left[\\begin{matrix}\n",
    "a_{11,p} \\qquad a_{12,p} \\qquad a_{13,p}\\\\\n",
    "a_{21,p} \\qquad a_{22,p} \\qquad a_{23,p}\\\\\n",
    "a_{31,p} \\qquad a_{32,p} \\qquad a_{33,p}\\\\\n",
    "\\end{matrix}\\right]\n",
    "\n",
    "\\left[\\begin{matrix}\n",
    "\\Delta{Y_{t-p}} \\\\\n",
    "\\Delta{X1_{t-p}} \\\\\n",
    "\\Delta{X2_{t-p}} \\\\\n",
    "\\end{matrix}\\right]\n",
    "\n",
    "- \n",
    "\n",
    "\\left[\\begin{matrix}\n",
    "\\alpha_{1} \\\\\n",
    "\\alpha_{2} \\\\\n",
    "\\alpha_{3} \\\\\n",
    "\\end{matrix}\\right]\n",
    "\n",
    "\\left[\\begin{matrix}\n",
    "\\epsilon_{t-1} \n",
    "\\end{matrix}\\right]\n",
    "\n",
    "+\n",
    "\n",
    "\\left[\\begin{matrix}\n",
    "\\eta_{1t} \\\\\n",
    "\\eta_{2t} \\\\\n",
    "\\eta_{3t} \\\\\n",
    "\\end{matrix}\\right]\n",
    "$$\n",
    "\n",
    "$$\n",
    "\\Delta{Y_t} = \\alpha_{Y_t} + a_{11,1} * \\Delta{Y_{t-1}} + a_{12,1} * \\Delta{X1_{t-1}} + a_{13,1} * \\Delta{X2_{t-1}} + \\dots + a_{11,p} * \\Delta{Y_{t-p}} + a_{12,p} * \\Delta{X1_{t-p}} + a_{13,p} * \\Delta{X2_{t-p}} - \\alpha_{1} * \\epsilon_{t-1} + \\eta_{1t}\n",
    "$$º"
   ]
  },
  {
   "cell_type": "code",
   "execution_count": 32,
   "metadata": {
    "vscode": {
     "languageId": "r"
    }
   },
   "outputs": [
    {
     "data": {
      "text/html": [
       "<table class=\"dataframe\">\n",
       "<caption>A matrix: 6 × 3 of type dbl</caption>\n",
       "<tbody>\n",
       "\t<tr><td> 4.048947</td><td>-0.1804401</td><td> 0.1958716</td></tr>\n",
       "\t<tr><td> 8.351534</td><td> 3.3258294</td><td> 0.3731594</td></tr>\n",
       "\t<tr><td>10.042665</td><td> 4.6385037</td><td> 0.4076207</td></tr>\n",
       "\t<tr><td>11.445853</td><td> 5.4088116</td><td> 0.7022644</td></tr>\n",
       "\t<tr><td> 6.959657</td><td> 4.3406112</td><td>-0.6697648</td></tr>\n",
       "\t<tr><td> 5.185382</td><td> 3.4026673</td><td>-1.0996739</td></tr>\n",
       "</tbody>\n",
       "</table>\n"
      ],
      "text/latex": [
       "A matrix: 6 × 3 of type dbl\n",
       "\\begin{tabular}{lll}\n",
       "\t  4.048947 & -0.1804401 &  0.1958716\\\\\n",
       "\t  8.351534 &  3.3258294 &  0.3731594\\\\\n",
       "\t 10.042665 &  4.6385037 &  0.4076207\\\\\n",
       "\t 11.445853 &  5.4088116 &  0.7022644\\\\\n",
       "\t  6.959657 &  4.3406112 & -0.6697648\\\\\n",
       "\t  5.185382 &  3.4026673 & -1.0996739\\\\\n",
       "\\end{tabular}\n"
      ],
      "text/markdown": [
       "\n",
       "A matrix: 6 × 3 of type dbl\n",
       "\n",
       "|  4.048947 | -0.1804401 |  0.1958716 |\n",
       "|  8.351534 |  3.3258294 |  0.3731594 |\n",
       "| 10.042665 |  4.6385037 |  0.4076207 |\n",
       "| 11.445853 |  5.4088116 |  0.7022644 |\n",
       "|  6.959657 |  4.3406112 | -0.6697648 |\n",
       "|  5.185382 |  3.4026673 | -1.0996739 |\n",
       "\n"
      ],
      "text/plain": [
       "     [,1]      [,2]       [,3]      \n",
       "[1,]  4.048947 -0.1804401  0.1958716\n",
       "[2,]  8.351534  3.3258294  0.3731594\n",
       "[3,] 10.042665  4.6385037  0.4076207\n",
       "[4,] 11.445853  5.4088116  0.7022644\n",
       "[5,]  6.959657  4.3406112 -0.6697648\n",
       "[6,]  5.185382  3.4026673 -1.0996739"
      ]
     },
     "metadata": {},
     "output_type": "display_data"
    },
    {
     "data": {
      "text/html": [
       "<table class=\"dataframe\">\n",
       "<caption>A matrix: 6 × 3 of type dbl</caption>\n",
       "<tbody>\n",
       "\t<tr><th scope=row>[430,]</th><td>87.33639</td><td>75.38992</td><td>41.54877</td></tr>\n",
       "\t<tr><th scope=row>[431,]</th><td>83.24120</td><td>73.72862</td><td>39.84886</td></tr>\n",
       "\t<tr><th scope=row>[432,]</th><td>82.35710</td><td>73.14095</td><td>40.01225</td></tr>\n",
       "\t<tr><th scope=row>[433,]</th><td>83.98406</td><td>72.76163</td><td>39.82978</td></tr>\n",
       "\t<tr><th scope=row>[434,]</th><td>84.33952</td><td>73.31268</td><td>40.53381</td></tr>\n",
       "\t<tr><th scope=row>[435,]</th><td>82.43856</td><td>71.69242</td><td>38.65181</td></tr>\n",
       "</tbody>\n",
       "</table>\n"
      ],
      "text/latex": [
       "A matrix: 6 × 3 of type dbl\n",
       "\\begin{tabular}{r|lll}\n",
       "\t{[}430,{]} & 87.33639 & 75.38992 & 41.54877\\\\\n",
       "\t{[}431,{]} & 83.24120 & 73.72862 & 39.84886\\\\\n",
       "\t{[}432,{]} & 82.35710 & 73.14095 & 40.01225\\\\\n",
       "\t{[}433,{]} & 83.98406 & 72.76163 & 39.82978\\\\\n",
       "\t{[}434,{]} & 84.33952 & 73.31268 & 40.53381\\\\\n",
       "\t{[}435,{]} & 82.43856 & 71.69242 & 38.65181\\\\\n",
       "\\end{tabular}\n"
      ],
      "text/markdown": [
       "\n",
       "A matrix: 6 × 3 of type dbl\n",
       "\n",
       "| [430,] | 87.33639 | 75.38992 | 41.54877 |\n",
       "| [431,] | 83.24120 | 73.72862 | 39.84886 |\n",
       "| [432,] | 82.35710 | 73.14095 | 40.01225 |\n",
       "| [433,] | 83.98406 | 72.76163 | 39.82978 |\n",
       "| [434,] | 84.33952 | 73.31268 | 40.53381 |\n",
       "| [435,] | 82.43856 | 71.69242 | 38.65181 |\n",
       "\n"
      ],
      "text/plain": [
       "       [,1]     [,2]     [,3]    \n",
       "[430,] 87.33639 75.38992 41.54877\n",
       "[431,] 83.24120 73.72862 39.84886\n",
       "[432,] 82.35710 73.14095 40.01225\n",
       "[433,] 83.98406 72.76163 39.82978\n",
       "[434,] 84.33952 73.31268 40.53381\n",
       "[435,] 82.43856 71.69242 38.65181"
      ]
     },
     "metadata": {},
     "output_type": "display_data"
    }
   ],
   "source": [
    "# Construcción de la matriz de información\n",
    "Data = cbind(Y, X1, X2)\n",
    "head(Data)\n",
    "tail(Data)"
   ]
  },
  {
   "cell_type": "markdown",
   "metadata": {},
   "source": [
    "- Revisar linea 101 del código, quitar abs()."
   ]
  },
  {
   "cell_type": "code",
   "execution_count": 13,
   "metadata": {
    "vscode": {
     "languageId": "r"
    }
   },
   "outputs": [
    {
     "name": "stdout",
     "output_type": "stream",
     "text": [
      "     V. Cointegración\n",
      "[1,]         1.000000\n",
      "[2,]        -5.877307\n",
      "[3,]         3.420719\n",
      "[1] \"El parámetro P necesario para hacer la prueba es P = 1.\"\n"
     ]
    },
    {
     "data": {
      "text/html": [
       "<table class=\"dataframe\">\n",
       "<caption>A data.frame: 1 × 6</caption>\n",
       "<thead>\n",
       "\t<tr><th></th><th scope=col>P</th><th scope=col>Lj.Bx</th><th scope=col>Significancia</th><th scope=col>Alpha1</th><th scope=col>C..Alpha1</th><th scope=col>Conclusión</th></tr>\n",
       "\t<tr><th></th><th scope=col>&lt;int&gt;</th><th scope=col>&lt;dbl&gt;</th><th scope=col>&lt;dbl&gt;</th><th scope=col>&lt;dbl&gt;</th><th scope=col>&lt;chr&gt;</th><th scope=col>&lt;chr&gt;</th></tr>\n",
       "</thead>\n",
       "<tbody>\n",
       "\t<tr><th scope=row>1</th><td>1</td><td>0</td><td>1</td><td>2</td><td>El alpha es significativo y negativo a un alpha del 0.05</td><td>P. Necesario</td></tr>\n",
       "</tbody>\n",
       "</table>\n"
      ],
      "text/latex": [
       "A data.frame: 1 × 6\n",
       "\\begin{tabular}{r|llllll}\n",
       "  & P & Lj.Bx & Significancia & Alpha1 & C..Alpha1 & Conclusión\\\\\n",
       "  & <int> & <dbl> & <dbl> & <dbl> & <chr> & <chr>\\\\\n",
       "\\hline\n",
       "\t1 & 1 & 0 & 1 & 2 & El alpha es significativo y negativo a un alpha del 0.05 & P. Necesario\\\\\n",
       "\\end{tabular}\n"
      ],
      "text/markdown": [
       "\n",
       "A data.frame: 1 × 6\n",
       "\n",
       "| <!--/--> | P &lt;int&gt; | Lj.Bx &lt;dbl&gt; | Significancia &lt;dbl&gt; | Alpha1 &lt;dbl&gt; | C..Alpha1 &lt;chr&gt; | Conclusión &lt;chr&gt; |\n",
       "|---|---|---|---|---|---|---|\n",
       "| 1 | 1 | 0 | 1 | 2 | El alpha es significativo y negativo a un alpha del 0.05 | P. Necesario |\n",
       "\n"
      ],
      "text/plain": [
       "  P Lj.Bx Significancia Alpha1\n",
       "1 1 0     1             2     \n",
       "  C..Alpha1                                                Conclusión  \n",
       "1 El alpha es significativo y negativo a un alpha del 0.05 P. Necesario"
      ]
     },
     "metadata": {},
     "output_type": "display_data"
    }
   ],
   "source": [
    "MCE = function(Data, alpha = 0.05, Spam = 12){\n",
    "    T = length(Data[, 1])\n",
    "    C = ncol(Data)\n",
    "\n",
    "    # Función de rezago\n",
    "    Rezago = function(Data, Rezago ){\n",
    "        Rezago = Data[1 : (T - Rezago)]\n",
    "        return(Rezago)\n",
    "    }\n",
    "\n",
    "    # Función de diferencia\n",
    "    Diferencia = function(Data){\n",
    "        Serie.dif = matrix(data = NA, nrow = (T - 1), ncol = 1)\n",
    "        for(i in 1: (T - 1)){\n",
    "            Serie.dif[i] <- Data[i + 1] - Data[i]\n",
    "        }\n",
    "        return(Serie.dif)\n",
    "    }\n",
    "\n",
    "    # Función de Parsimonio\n",
    "    Parsimonio = function(Delta, Delta.var){\n",
    "        Desv = sqrt(Delta.var)\n",
    "        Vec = Delta\n",
    "        for (i in 1 : length(Delta)){\n",
    "            LS = Delta[i] + (2 * Desv[i])\n",
    "            LI = Delta[i] - (2 * Desv[i])\n",
    "            if (LS > 0 & LI > 0 || LS < 0 & LI < 0){\n",
    "                Vec[i] = 1\n",
    "            } else {\n",
    "                Vec[i]= 0\n",
    "            }\n",
    "        }\n",
    "        Vec = sum(Vec)\n",
    "        Vec\n",
    "    }\n",
    "\n",
    "    # Función de Ljung - Box\n",
    "    L.B = function(At, K, AR_P){\n",
    "        t = AR_P + 1\n",
    "        T = length(At)    \n",
    "        Rho_at = matrix(data = NA, nrow = (T - K), ncol = 1)\n",
    "        for (i in 1 : (T - K)){\n",
    "            Rho_at[i] = sum(At[i] * At[(i + t)]) / sum(At ** 2)\n",
    "        }\n",
    "\n",
    "        # Prueba de Ljung - Box\n",
    "        Q = (T - AR_P) * (T - AR_P + 2) * (sum((sum(Rho_at) ** 2) / (T - AR_P - K))) \n",
    "        Vc = qchisq(p = alpha, df = (T - AR_P))\n",
    "\n",
    "        # Salida\n",
    "        if (Q < Vc){\n",
    "            1\n",
    "        } else {\n",
    "            0\n",
    "        } \n",
    "    }\n",
    "    \n",
    "    # Creación de la matriz P óptimo\n",
    "    P.I = 4 * Spam                                                                          # ¿Cambiar a T / 4?\n",
    "    P_est = matrix(data = NA, nrow = P.I, ncol = 6)\n",
    "    colnames(P_est) = c('P', 'Lj-Bx', 'Significancia', 'Alpha1', 'C. Alpha1', 'Conclusión')\n",
    "    P_est[, 1] = c(1 : P.I)\n",
    "\n",
    "    # Diferenciación de la matriz de datos\n",
    "    Data.Diff = matrix(data = NA, nrow = (T - 1), ncol = C)\n",
    "    for (i in 1 : C){\n",
    "        Data.Diff[, i] = Diferencia(Data[, i])\n",
    "    }\n",
    "\n",
    "    # Residuales del modelo con las variables conjuntas\n",
    "    Y1 = Data[, 1]\n",
    "    X1 = Data[, 2 : C]\n",
    "    Coeff1 = solve(t(X1) %*% X1) %*% (t(X1) %*% Y1)\n",
    "    At.C = Y1 - (X1 %*% Coeff1)\n",
    "\n",
    "    # Halla el P óptimo\n",
    "    for (p in 1 : P.I){\n",
    "        P = P_est[p, 1]                                     \n",
    "        Data.d.r = matrix(data = NA, nrow = (T - 1), ncol = (C * P))\n",
    "        for (i in 1 : P){\n",
    "            Data.d.r[(1 : (nrow(Data.d.r) - i)), (((i - 1) * C) + 1) : (((i - 1) * C) + C)] = Data.Diff[((i + 1) : nrow(Data.d.r)), ]\n",
    "        }\n",
    "        Data.d.r = Data.d.r[-((T - P) : T), ]\n",
    "\n",
    "        # Estimación por OLS\n",
    "        Y = Data[(1 : (T - P - 1)), 1]\n",
    "        X = cbind(1, Data.d.r, At.C[1 : (T - P - 1)])\n",
    "        Coeff = solve(t(X) %*% X, tol = 0) %*% (t(X) %*% Y)\n",
    "\n",
    "        Ym = X %*% Coeff\n",
    "        Em = Y - Ym\n",
    "        \n",
    "        Sigma2 = as.numeric((t(Em) %*% Em) / (T - ((P * C) - 2)))\n",
    "        Var.cov = (Sigma2 * solve(t(X) %*% X, tol = 0))\n",
    "        P_est = data.frame(P_est)\n",
    "        \n",
    "        # Construcción de vectores para prueba de parsimonia\n",
    "        L.C = length(Coeff)\n",
    "        Diag = diag(Var.cov)\n",
    "        Beta = matrix(data =  Coeff[(L.C - C) : (L.C - 1)], nrow = C, ncol = 1)\n",
    "        Var.Beta = matrix(data =  abs(Diag[(L.C - C) : (L.C - 1)]), nrow = C, ncol = 1)                 ##################### Quitar abs()\n",
    "\n",
    "        # Prueba de significancia alpha\n",
    "        if (Coeff[L.C] < 0){\n",
    "            Signo = 1\n",
    "        } else {\n",
    "            Signo = 0\n",
    "        }\n",
    "        Alpha = Coeff[L.C]\n",
    "        Var.Alpha = Diag[L.C : L.C]\n",
    "        Stat.Alpha = Alpha / sqrt(Var.Alpha)\n",
    "        Vca = qt(p = alpha, df = (T - P - 1), lower.tail = TRUE)\n",
    "\n",
    "        if (Signo == 1){\n",
    "            if (Stat.Alpha < Vca){\n",
    "                P_est[P, 5] = sprintf('El alpha es significativo y negativo a un alpha del %s', alpha)\n",
    "                Sig = 1\n",
    "            } else {\n",
    "                P_est[P, 5] = sprintf('El alpha no es significativo y negativo a un alpha del %s', alpha)\n",
    "                Sig = 0\n",
    "            }\n",
    "        } else {\n",
    "            P_est[P, 5] = ('El signo del coeficiente alpha no es negativo.')\n",
    "            Sig = 0\n",
    "        }\n",
    "\n",
    "        # Pruebas para obtener el P óptimo\n",
    "        P_est[P, 2] = L.B(At = Em, K = length(Coeff), AR_P = P)\n",
    "        P_est[P, 3] = Parsimonio(Delta = Beta, Delta.var = Var.Beta)\n",
    "        P_est[P, 4] = Signo + Sig\n",
    "        Check = P_est[P, 3] + P_est[P, 4] # + P_est[P, 2]\n",
    "        if (Check >= 3){\n",
    "            P_est[P, 6] = 'P. Necesario'\n",
    "            break\n",
    "        } else {\n",
    "            P_est[P, 6] = 'P. Innecesario'\n",
    "        }\n",
    "    }\n",
    "\n",
    "    # P óptimo\n",
    "    P = P\n",
    "\n",
    "    # Estimación del parámetro Omega                                 \n",
    "    Delta = matrix(data = NA, nrow = (T - 1), ncol = (C * P))\n",
    "    for (i in 1 : P){\n",
    "        Delta[(1 : (nrow(Delta) - i)), (((i - 1) * C) + 1) : (((i - 1) * C) + C)] = Data.Diff[((i + 1) : nrow(Delta)), ]\n",
    "    }\n",
    "    Delta = Delta[-((T - P) : T), ]\n",
    "\n",
    "    Y = Data[(1 : (T - P - 1)), 1]\n",
    "    X = cbind(1, Delta, At.C[1 : (T - P - 1)])\n",
    "    Coeff.I = solve(t(X) %*% X, tol = 0) %*% (t(X) %*% Y)\n",
    "    L.C = length(Coeff.I)\n",
    "\n",
    "    Ym = X %*% Coeff\n",
    "    Em = Y - Ym\n",
    "        \n",
    "    Sigma2 = as.numeric((t(Em) %*% Em) / (T - ((P * C) - 2)))\n",
    "    Var.cov = (Sigma2 * solve(t(X) %*% X, tol = 0))\n",
    "\n",
    "    # Parámetros\n",
    "    Alpha.R = Coeff.I[L.C]\n",
    "    Coeff.R =  c(1, Coeff[(L.C - C + 1) : (L.C - 1)])\n",
    "\n",
    "    Omega = matrix(data = 0, nrow = C, ncol = 1)\n",
    "    for (i in 2 : C){\n",
    "        Y = Em\n",
    "        X = Alpha.R * Data[(1 : length(Em)), i]\n",
    "        Omega[i] = solve(t(X) %*% X, tol = 0) %*% (t(X) %*% Y)\n",
    "    }\n",
    "\n",
    "    # Vector de cointegración\n",
    "    V.CI = matrix(data = Coeff.R + Omega, nrow = C, ncol = 1)\n",
    "    colnames(V.CI) = c('V. Cointegración')\n",
    "\n",
    "    # Salidas\n",
    "    print(V.CI)\n",
    "    print(sprintf('El parámetro P necesario para hacer la prueba es P = %s.', P)) \n",
    "    return(P_est[(1 : P), ])\n",
    "}\n",
    "\n",
    "MCE(Data = Data, alpha = 0.05, Spam = 1)"
   ]
  }
 ],
 "metadata": {
  "kernelspec": {
   "display_name": "R",
   "language": "R",
   "name": "ir"
  },
  "language_info": {
   "codemirror_mode": "r",
   "file_extension": ".r",
   "mimetype": "text/x-r-source",
   "name": "R",
   "pygments_lexer": "r",
   "version": "4.2.1"
  },
  "orig_nbformat": 4,
  "vscode": {
   "interpreter": {
    "hash": "42322db88e3c2f02255451d64a951c0a78537fc6172e7daad3a10b518b5be8f3"
   }
  }
 },
 "nbformat": 4,
 "nbformat_minor": 2
}
